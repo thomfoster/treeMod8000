{
 "cells": [
  {
   "cell_type": "code",
   "execution_count": 1,
   "metadata": {},
   "outputs": [],
   "source": [
    "import Parser, Deriver, Interpreter, Analyser2, SelfOrg\n",
    "import numpy as np\n",
    "import math"
   ]
  },
  {
   "cell_type": "code",
   "execution_count": 2,
   "metadata": {},
   "outputs": [],
   "source": [
    "modelName = 'Young_Shrub'"
   ]
  },
  {
   "cell_type": "code",
   "execution_count": 3,
   "metadata": {},
   "outputs": [],
   "source": [
    "# Have to generate manually as we want points to be same for render and stats.\n",
    "# We also want to be able to access some inner stuff for plotting"
   ]
  },
  {
   "cell_type": "code",
   "execution_count": 4,
   "metadata": {},
   "outputs": [],
   "source": [
    "Specification   = Parser.parse('Specifications/'+modelName+'.txt', {})"
   ]
  },
  {
   "cell_type": "code",
   "execution_count": 5,
   "metadata": {},
   "outputs": [],
   "source": [
    "n               = Specification['depth']\n",
    "axiom           = Specification['axiom']\n",
    "tree            = [axiom]\n",
    "tree            = Deriver.derive(tree,n)"
   ]
  },
  {
   "cell_type": "code",
   "execution_count": 6,
   "metadata": {},
   "outputs": [],
   "source": [
    "scale = 1"
   ]
  },
  {
   "cell_type": "code",
   "execution_count": 7,
   "metadata": {},
   "outputs": [],
   "source": [
    "points = []\n",
    "\n",
    "if Specification['self_org'] == False:\n",
    "\n",
    "    # DERIVE\n",
    "    n               = Specification['depth']\n",
    "    axiom           = Specification['axiom']\n",
    "    tree            = [axiom]\n",
    "    tree            = Deriver.derive(tree,n)\n",
    "\n",
    "    # INTERPRET\n",
    "    points, scale   = Interpreter.interpret(tree, True, return_scale=True)\n",
    "\n",
    "else:\n",
    "\n",
    "    # DERIVE AND INTERPRET TOGETHER\n",
    "    n               = Specification['depth']\n",
    "    axiom           = Specification['axiom']\n",
    "    tree            = [axiom]\n",
    "    num_voxels      = Specification['num_voxels']\n",
    "    shadow_height   = Specification['shadow_height']\n",
    "    shadow_width    = Specification['shadow_width']\n",
    "    decrement_close = Specification['dec_close']\n",
    "    decrement_far   = Specification['dec_far']\n",
    "\n",
    "    for i in range(0,n):\n",
    "        tree = Deriver.derive(tree,1)\n",
    "        points, scale = Interpreter.interpret(tree, True, return_scale = True)\n",
    "        voxels          = SelfOrg.calc_light(points,\n",
    "                                             num_voxels,\n",
    "                                             shadow_height,\n",
    "                                             shadow_width,\n",
    "                                             decrement_close,\n",
    "                                             decrement_far)\n",
    "        SelfOrg.update_cells(tree, voxels, scale)\n",
    "        print(\"Interpreted for the \"+str(i+1)+\"th time.\")"
   ]
  },
  {
   "cell_type": "code",
   "execution_count": null,
   "metadata": {},
   "outputs": [],
   "source": []
  },
  {
   "cell_type": "code",
   "execution_count": 8,
   "metadata": {},
   "outputs": [
    {
     "name": "stdout",
     "output_type": "stream",
     "text": [
      "writing to file...\n"
     ]
    },
    {
     "ename": "NameError",
     "evalue": "name 'full_points' is not defined",
     "output_type": "error",
     "traceback": [
      "\u001b[0;31m---------------------------------------------------------------------------\u001b[0m",
      "\u001b[0;31mNameError\u001b[0m                                 Traceback (most recent call last)",
      "\u001b[0;32m<ipython-input-8-fd70ce2cfd0e>\u001b[0m in \u001b[0;36m<module>\u001b[0;34m()\u001b[0m\n\u001b[1;32m      2\u001b[0m \u001b[0mprint\u001b[0m\u001b[0;34m(\u001b[0m\u001b[0;34m\"writing to file...\"\u001b[0m\u001b[0;34m)\u001b[0m\u001b[0;34m\u001b[0m\u001b[0m\n\u001b[1;32m      3\u001b[0m \u001b[0;32mwith\u001b[0m \u001b[0mopen\u001b[0m\u001b[0;34m(\u001b[0m\u001b[0;34m\"data.dat\"\u001b[0m\u001b[0;34m,\u001b[0m \u001b[0mmode\u001b[0m\u001b[0;34m=\u001b[0m\u001b[0;34m\"w\"\u001b[0m\u001b[0;34m)\u001b[0m \u001b[0;32mas\u001b[0m \u001b[0mf\u001b[0m\u001b[0;34m:\u001b[0m\u001b[0;34m\u001b[0m\u001b[0m\n\u001b[0;32m----> 4\u001b[0;31m     \u001b[0mf\u001b[0m\u001b[0;34m.\u001b[0m\u001b[0mwrite\u001b[0m\u001b[0;34m(\u001b[0m\u001b[0mstr\u001b[0m\u001b[0;34m(\u001b[0m\u001b[0mlen\u001b[0m\u001b[0;34m(\u001b[0m\u001b[0mfull_points\u001b[0m\u001b[0;34m)\u001b[0m\u001b[0;34m)\u001b[0m\u001b[0;34m+\u001b[0m\u001b[0;34m\"\\n\"\u001b[0m\u001b[0;34m)\u001b[0m\u001b[0;34m\u001b[0m\u001b[0m\n\u001b[0m\u001b[1;32m      5\u001b[0m     \u001b[0;32mfor\u001b[0m \u001b[0mp\u001b[0m \u001b[0;32min\u001b[0m \u001b[0mfull_points\u001b[0m\u001b[0;34m:\u001b[0m\u001b[0;34m\u001b[0m\u001b[0m\n\u001b[1;32m      6\u001b[0m         \u001b[0mx\u001b[0m\u001b[0;34m,\u001b[0m\u001b[0my\u001b[0m\u001b[0;34m,\u001b[0m\u001b[0mz\u001b[0m\u001b[0;34m,\u001b[0m\u001b[0mr\u001b[0m\u001b[0;34m,\u001b[0m\u001b[0ma\u001b[0m\u001b[0;34m,\u001b[0m\u001b[0mb\u001b[0m\u001b[0;34m,\u001b[0m\u001b[0mc\u001b[0m\u001b[0;34m,\u001b[0m\u001b[0md\u001b[0m\u001b[0;34m,\u001b[0m\u001b[0ml\u001b[0m \u001b[0;34m=\u001b[0m \u001b[0mp\u001b[0m\u001b[0;34m\u001b[0m\u001b[0m\n",
      "\u001b[0;31mNameError\u001b[0m: name 'full_points' is not defined"
     ]
    }
   ],
   "source": [
    "# So we can view what we visualised\n",
    "print(\"writing to file...\")\n",
    "with open(\"data.dat\", mode=\"w\") as f:\n",
    "    f.write(str(len(full_points))+\"\\n\")\n",
    "    for p in full_points:\n",
    "        x,y,z,r,a,b,c,d,l = p\n",
    "        x /= scale\n",
    "        y /= scale\n",
    "        y -= 0.5\n",
    "        z /= scale\n",
    "        r /= scale\n",
    "        line = [x,y,z,r,l]\n",
    "        for feature in line:\n",
    "            f.write(str(feature)+\"\\t\")\n",
    "        f.write(\"\\n\")\n",
    "print(\"done writing.\")"
   ]
  },
  {
   "cell_type": "code",
   "execution_count": 9,
   "metadata": {},
   "outputs": [
    {
     "data": {
      "text/plain": [
       "(0, 0, 0, 2.0, 0.0, 270.0, 0.0, 12.379514773402393, 0.0)"
      ]
     },
     "execution_count": 9,
     "metadata": {},
     "output_type": "execute_result"
    }
   ],
   "source": [
    "points[0]"
   ]
  },
  {
   "cell_type": "code",
   "execution_count": 10,
   "metadata": {},
   "outputs": [
    {
     "data": {
      "text/plain": [
       "(4.641574596504307e-32,\n",
       " 12.379514773402393,\n",
       " -7.580266571122306e-16,\n",
       " 1.0,\n",
       " 0.0,\n",
       " 270.0,\n",
       " 0.0,\n",
       " 12.379514773402393,\n",
       " 0.0)"
      ]
     },
     "execution_count": 10,
     "metadata": {},
     "output_type": "execute_result"
    }
   ],
   "source": [
    "points[1]"
   ]
  },
  {
   "cell_type": "code",
   "execution_count": 11,
   "metadata": {},
   "outputs": [],
   "source": [
    "points[2]\n",
    "full_points = points\n",
    "full_points = np.array(points)"
   ]
  },
  {
   "cell_type": "code",
   "execution_count": 12,
   "metadata": {},
   "outputs": [],
   "source": [
    "points = points[2:]"
   ]
  },
  {
   "cell_type": "code",
   "execution_count": 13,
   "metadata": {},
   "outputs": [
    {
     "name": "stdout",
     "output_type": "stream",
     "text": [
      "34.33990817286705\n",
      "62.04815942978367\n",
      "31.640936030023955\n",
      "15.527919201292454\n",
      "16.194500237055536\n",
      "16.879595559548306\n",
      "29.91316837414316\n",
      "discarded 0.0\n",
      "discarded 0.0\n",
      "69.26535635284101\n",
      "38.20091474766206\n",
      "66.87516956377006\n",
      "23.78363072544974\n",
      "discarded 0.0\n",
      "discarded 0.0\n",
      "65.99305721126294\n",
      "67.51537139376141\n",
      "16.921791422924898\n",
      "70.51546130463707\n",
      "44.64429483748475\n",
      "22.529177343547286\n",
      "45.64271416763996\n",
      "50.000340938015924\n",
      "64.39572882742347\n",
      "61.606848795906366\n",
      "63.93365416108957\n",
      "70.29544292182746\n",
      "67.7605625776619\n",
      "69.18574000396875\n",
      "39.014344365571226\n",
      "26.825788916271968\n",
      "16.451584980717733\n",
      "discarded 0.0\n",
      "discarded 0.0\n",
      "discarded 0.0\n",
      "discarded 0.0\n",
      "62.17106537745473\n",
      "28.528333734109758\n",
      "27.053392032966944\n",
      "46.298737623396256\n",
      "36.100710564761094\n",
      "42.83884743441292\n",
      "40.89048566937213\n",
      "41.54855597693334\n",
      "72.34692853857956\n",
      "44.044525758922504\n",
      "29.304540513492828\n",
      "64.15466514191957\n",
      "discarded 0.0\n",
      "discarded 0.0\n",
      "16.43815409587485\n",
      "32.784812715943794\n",
      "58.1927182629292\n",
      "25.38115118073192\n",
      "31.344190232137866\n",
      "16.901257026859525\n",
      "23.61927925365876\n",
      "40.25067333990251\n",
      "26.727611974576188\n",
      "24.32041972124284\n",
      "28.82348604631415\n",
      "73.23170390738997\n",
      "38.49768150057134\n",
      "34.685886656230146\n",
      "discarded 0.0\n",
      "discarded 0.0\n",
      "48.17611231883635\n",
      "30.34668129271816\n",
      "34.12286682832031\n",
      "16.376819367385306\n",
      "discarded 0.0\n",
      "discarded 0.0\n",
      "74.8438047428964\n",
      "55.19467323219021\n",
      "41.88705928866901\n",
      "34.41795713708898\n",
      "20.76542915695223\n",
      "53.590125871100014\n",
      "72.54578792061069\n",
      "35.779951307724595\n",
      "71.06767089067034\n",
      "discarded 0.0\n",
      "discarded 0.0\n",
      "69.58654179369756\n",
      "60.53970626766502\n",
      "48.17194226046598\n",
      "21.734192741654546\n",
      "discarded 0.0\n",
      "discarded 0.0\n",
      "discarded 0.0\n",
      "discarded 0.0\n",
      "43.01286138096236\n",
      "32.29308814047124\n",
      "70.7960099430328\n",
      "30.559017493247286\n",
      "44.18642518424598\n",
      "51.15770721778288\n",
      "54.506552544778835\n",
      "49.485620410898385\n",
      "20.920726773569182\n",
      "55.52619832722591\n",
      "64.83184855096626\n",
      "71.29372670225617\n",
      "40.82986485246835\n",
      "33.18128181041315\n",
      "23.476098735385794\n",
      "48.302824358491975\n",
      "discarded 0.0\n",
      "discarded 0.0\n",
      "52.32062162756468\n",
      "69.3321694012749\n",
      "26.535060560964993\n",
      "46.43503882792231\n",
      "discarded 0.0\n",
      "discarded 0.0\n",
      "20.598113026761315\n",
      "37.15525354205327\n",
      "15.769621770456556\n",
      "35.594085870901765\n",
      "48.83059811369493\n",
      "26.598949956506686\n",
      "57.408755956346475\n",
      "60.85177374557763\n",
      "discarded 0.0\n",
      "discarded 0.0\n",
      "50.541970999595826\n",
      "61.14713145799993\n",
      "62.824539683478484\n",
      "47.76679262175015\n",
      "31.99209099951807\n",
      "20.58745114256506\n",
      "discarded 0.0\n",
      "discarded 0.0\n",
      "32.62574430260876\n",
      "55.77132752632149\n",
      "72.5502540631141\n",
      "69.96249894548362\n",
      "28.419607722034648\n",
      "55.7220315609536\n",
      "66.45835946187333\n",
      "61.4488402101779\n",
      "24.87764496518091\n",
      "56.49666694287325\n",
      "60.92104450158456\n",
      "28.250491524905833\n",
      "21.328243599672852\n",
      "discarded 0.0\n",
      "discarded 0.0\n",
      "37.8603322935955\n",
      "34.09364045459693\n",
      "31.13113116187898\n",
      "26.726219714788396\n",
      "discarded 0.0\n",
      "discarded 0.0\n",
      "54.568853314415385\n",
      "55.06743712488433\n",
      "70.44937673183689\n",
      "66.3670555854911\n",
      "discarded 0.0\n",
      "discarded 0.0\n",
      "discarded 8.537736462515939e-07\n",
      "discarded 0.0\n",
      "68.02180531560505\n",
      "69.74690917091027\n",
      "68.18053111336947\n",
      "28.553151228469265\n",
      "45.28035436154948\n",
      "27.812241807032805\n",
      "discarded 0.0\n",
      "47.68608343619989\n",
      "61.91558844614088\n",
      "17.454367986842026\n",
      "46.17396805678668\n",
      "discarded 0.0\n",
      "discarded 0.0\n",
      "discarded 0.0\n",
      "discarded 0.0\n",
      "discarded 0.0\n",
      "48.01148439336309\n",
      "52.68653515157242\n",
      "17.03489189318981\n",
      "66.6564207503477\n",
      "27.63274733918206\n",
      "32.6327917941641\n",
      "57.69594810114747\n",
      "21.49916716838163\n",
      "55.997704801289636\n",
      "65.1367238706489\n",
      "70.66813725126771\n",
      "discarded 0.0\n",
      "discarded 0.0\n",
      "57.55114746753972\n",
      "44.644627628200986\n",
      "22.583160880191137\n",
      "45.23925633295498\n",
      "69.58740649946328\n",
      "23.566354444080666\n",
      "22.75990148432638\n",
      "16.679679018493616\n",
      "discarded 0.0\n",
      "discarded 0.0\n",
      "discarded 0.0\n",
      "discarded 0.0\n",
      "21.324530735418634\n",
      "73.64564506054278\n",
      "62.821235299851125\n",
      "36.68840467327375\n",
      "61.2127966062727\n",
      "56.68673853209558\n",
      "59.21043059971094\n",
      "68.95133987532174\n",
      "discarded 0.0\n",
      "discarded 0.0\n",
      "63.70106501033493\n",
      "45.79178416018661\n",
      "50.093113747144294\n",
      "59.50375285052022\n",
      "discarded 0.0\n",
      "discarded 0.0\n",
      "22.58847714318357\n",
      "50.95373739541862\n",
      "23.99277199890055\n",
      "72.51689303999098\n",
      "35.9942267052635\n",
      "65.19132345030447\n",
      "56.64970079549535\n",
      "31.793291621189937\n",
      "16.224205056413517\n",
      "28.352062043534854\n",
      "discarded 0.0\n",
      "discarded 0.0\n",
      "47.79041014737466\n",
      "74.01606736533039\n",
      "39.43464890985762\n",
      "15.477944438267144\n",
      "52.510526800607515\n",
      "46.259219039695516\n",
      "71.17821290329405\n",
      "32.6020407108659\n",
      "35.98062812289403\n",
      "62.931247470190414\n",
      "16.419680390183775\n",
      "42.12951969732259\n",
      "38.97346329316683\n",
      "52.965473237883764\n",
      "19.76430665488013\n",
      "53.98332194262989\n",
      "54.98615710233953\n",
      "42.780034555632476\n",
      "41.46935207727581\n",
      "20.578900948728624\n",
      "56.94130995311368\n",
      "discarded 0.0\n",
      "discarded 0.0\n",
      "discarded 0.0\n",
      "discarded 0.0\n",
      "56.56838751587345\n",
      "52.6528857477317\n",
      "34.94411052875431\n",
      "42.75989906501268\n",
      "31.49517184839063\n",
      "36.92831635706651\n",
      "27.2035050872151\n",
      "60.754385308114095\n",
      "18.395898340055037\n",
      "55.94989643623389\n",
      "33.79970739886129\n",
      "54.58189951594264\n",
      "50.06075966856717\n",
      "47.969034020679906\n",
      "74.47532802703226\n",
      "41.47734171014803\n",
      "38.45269873256342\n",
      "34.191909490330396\n",
      "18.642138776665732\n",
      "discarded 0.0\n",
      "discarded 0.0\n",
      "35.41741907909967\n",
      "25.188636218140818\n",
      "41.60684768410033\n",
      "24.179358694397287\n",
      "discarded 0.0\n",
      "discarded 0.0\n",
      "67.0289645747899\n",
      "27.181258444395336\n",
      "16.006485965881502\n",
      "26.552812519133937\n",
      "discarded 0.0\n",
      "discarded 8.537736462515939e-07\n",
      "discarded 0.0\n",
      "discarded 0.0\n",
      "30.83254315041551\n",
      "71.18179855072142\n",
      "31.490552645248396\n",
      "26.449212641979738\n",
      "34.15425289671365\n",
      "49.52439170030422\n",
      "31.208087780293678\n",
      "45.38412409542021\n",
      "discarded 0.0\n",
      "discarded 0.0\n",
      "31.355965483014863\n",
      "43.02783824845776\n",
      "28.64423916288396\n",
      "35.006438641972295\n",
      "54.42639423704809\n",
      "48.117253360078536\n",
      "36.507915247653344\n",
      "23.327430771755665\n",
      "discarded 0.0\n",
      "discarded 0.0\n",
      "44.30372325303565\n",
      "53.07879356017204\n",
      "44.50481298089708\n",
      "22.957360925338193\n",
      "68.9537536295484\n",
      "46.40038738374964\n",
      "70.07264791920633\n",
      "55.76893139800697\n",
      "38.23657912042474\n",
      "discarded 0.0\n",
      "discarded 1.2074182697257333e-06\n",
      "49.4397174532603\n",
      "51.48064897574404\n",
      "25.456353856670205\n",
      "20.569090675578558\n",
      "discarded 0.0\n",
      "discarded 0.0\n",
      "discarded 0.0\n",
      "discarded 0.0\n",
      "71.56978216981413\n",
      "45.430989591221255\n",
      "22.15112710301519\n",
      "discarded 0.0\n",
      "discarded 0.0\n",
      "discarded 0.0\n",
      "discarded 0.0\n",
      "discarded 0.0\n",
      "50.91978399133857\n",
      "71.5363862392177\n",
      "71.95354440028451\n",
      "16.670156597812998\n",
      "21.424258551586913\n",
      "71.9565996845617\n",
      "39.051059476858256\n",
      "47.153084694116565\n",
      "34.95518044051064\n",
      "22.787575987120253\n",
      "58.73643998955768\n",
      "30.0449695328093\n",
      "discarded 0.0\n",
      "discarded 0.0\n",
      "53.40722622176799\n",
      "47.83181924744919\n",
      "discarded 0.0\n",
      "discarded 0.0\n",
      "44.71327790691248\n",
      "43.41311333337997\n",
      "21.672101390543478\n",
      "discarded 0.0\n",
      "discarded 0.0\n",
      "16.20425201454983\n",
      "33.34722356933702\n",
      "24.300797223006487\n",
      "47.149200428128175\n",
      "20.222062931020556\n",
      "45.44138935247722\n",
      "discarded 0.0\n",
      "discarded 0.0\n",
      "41.48377064380374\n",
      "64.6820133089663\n",
      "39.67215472929153\n",
      "50.55662541041117\n",
      "discarded 0.0\n",
      "discarded 0.0\n",
      "39.4411316169807\n",
      "36.38622202206177\n",
      "62.09285560436921\n",
      "49.815972360471214\n",
      "discarded 0.0\n",
      "discarded 0.0\n",
      "discarded 0.0\n",
      "67.96149986283389\n",
      "discarded 0.0\n",
      "58.84071369574626\n",
      "50.163994535954686\n",
      "54.13843029070662\n",
      "discarded 0.0\n",
      "discarded 0.0\n",
      "69.76356814273971\n",
      "17.59777171839121\n",
      "64.02705884869029\n",
      "36.35899179343028\n",
      "37.00949284312463\n",
      "72.6984998240153\n",
      "64.91444261873568\n",
      "41.694628118228714\n",
      "63.52646780565103\n",
      "discarded 0.0\n",
      "discarded 0.0\n",
      "20.711644030873188\n",
      "51.68480338096428\n",
      "47.47444311358357\n",
      "61.384176640121794\n",
      "discarded 0.0\n",
      "discarded 1.2074182697257333e-06\n",
      "64.17910448785702\n",
      "16.440663337297757\n",
      "19.96350844729094\n",
      "discarded 1.2074182697257333e-06\n",
      "discarded 1.2074182697257333e-06\n",
      "60.11924898465524\n",
      "discarded 0.0\n",
      "52.39959401592891\n",
      "74.51446150069307\n",
      "35.08119823374937\n",
      "17.35176773567616\n",
      "discarded 0.0\n",
      "discarded 0.0\n",
      "54.46145714498032\n",
      "65.29979869441745\n",
      "73.77415897821997\n",
      "41.912566965505775\n",
      "discarded 0.0\n",
      "discarded 0.0\n",
      "51.61962509675782\n",
      "35.95333959260899\n",
      "25.41325554507812\n",
      "72.98793351942263\n"
     ]
    }
   ],
   "source": [
    "metrics         = Analyser2.analyse(points)"
   ]
  },
  {
   "cell_type": "code",
   "execution_count": 14,
   "metadata": {},
   "outputs": [],
   "source": [
    "vertices        = np.array(points)"
   ]
  },
  {
   "cell_type": "code",
   "execution_count": 15,
   "metadata": {},
   "outputs": [
    {
     "name": "stdout",
     "output_type": "stream",
     "text": [
      "parentAngle_mean : 44.39048849179736\n",
      "parentAngle_variance : 17.281164337958426\n",
      "length_mean : 2.1953333850741608\n",
      "length_variance : 0.9931312262284256\n",
      "verticalOrientation_mean : 66.78040237934655\n",
      "verticalOrientation_variance : 34.19850464431352\n",
      "horizontalOrientation_mean : 190.34379004675984\n",
      "horizontalOrientation_variance : 112.68222826463659\n",
      "q1_xyz : (5.017958389321567, 3.2814496835002434, 3.897054207587507)\n",
      "q2_xyz : (27.287135601144172, 12.672908917975915, 37.640904794331895)\n",
      "q3_xyz : (26.484774986349926, 13.232767812762237, 36.208853057800226)\n",
      "xyz : (30.416824709161787, 28.710977292713366, 38.99823571629543)\n",
      "trunk_length : 12.379514773402393\n",
      "totalBiomass : 88.39721901656995\n"
     ]
    }
   ],
   "source": [
    "for (k,v) in metrics.items():\n",
    "    print(k, ':', v)"
   ]
  },
  {
   "cell_type": "code",
   "execution_count": 16,
   "metadata": {},
   "outputs": [
    {
     "data": {
      "text/plain": [
       "2543.38764110404"
      ]
     },
     "execution_count": 16,
     "metadata": {},
     "output_type": "execute_result"
    }
   ],
   "source": [
    "math.degrees(metrics['parentAngle_mean'])"
   ]
  },
  {
   "cell_type": "code",
   "execution_count": 17,
   "metadata": {},
   "outputs": [
    {
     "data": {
      "text/plain": [
       "190.09150497756752"
      ]
     },
     "execution_count": 17,
     "metadata": {},
     "output_type": "execute_result"
    }
   ],
   "source": [
    "vertices[:,5].mean()"
   ]
  },
  {
   "cell_type": "code",
   "execution_count": 18,
   "metadata": {},
   "outputs": [],
   "source": [
    "import matplotlib.pyplot as plt"
   ]
  },
  {
   "cell_type": "code",
   "execution_count": 19,
   "metadata": {},
   "outputs": [],
   "source": [
    "#Fed up of accessing via numerical values\n",
    "# Format of points is:\n",
    "# 0--1--2--3--4--5--6--7--8\n",
    "# x  y  z  r  vA hA pA l--leaf\n",
    "keys = {\n",
    "    'x': 0,\n",
    "    'y': 1,\n",
    "    'z': 2,\n",
    "    'radius': 3,\n",
    "    'vertical orientation': 4,\n",
    "    'horizontal orientation': 5,\n",
    "    'parent angle': 6,\n",
    "    'length': 7,\n",
    "    'leaf': 8\n",
    "}"
   ]
  },
  {
   "cell_type": "code",
   "execution_count": 20,
   "metadata": {},
   "outputs": [
    {
     "data": {
      "text/plain": [
       "(array([216.,   0.,   0.,  50.,  62.,  50.,  60.,  54.,  50.,  60.,  58.,\n",
       "         42.,  54.,  48.,  54.,   0.,   0.,   0.,   0.,   0.,   0.,   0.,\n",
       "          0.,   0.,   0.,   0.,   0.,   0.,   0.,   0.,   0.,   0.,   0.,\n",
       "          0.,   0.,   0.]),\n",
       " array([  0.,   5.,  10.,  15.,  20.,  25.,  30.,  35.,  40.,  45.,  50.,\n",
       "         55.,  60.,  65.,  70.,  75.,  80.,  85.,  90.,  95., 100., 105.,\n",
       "        110., 115., 120., 125., 130., 135., 140., 145., 150., 155., 160.,\n",
       "        165., 170., 175., 180.]),\n",
       " <a list of 36 Patch objects>)"
      ]
     },
     "execution_count": 20,
     "metadata": {},
     "output_type": "execute_result"
    },
    {
     "data": {
      "image/png": "[encoded data removed]",
      "text/plain": [
       "<Figure size 432x288 with 1 Axes>"
      ]
     },
     "metadata": {
      "needs_background": "light"
     },
     "output_type": "display_data"
    }
   ],
   "source": [
    "plt.hist(vertices[:,keys['parent angle']], color='blue', edgecolor='black', range=[0,180], bins=36)"
   ]
  },
  {
   "cell_type": "code",
   "execution_count": null,
   "metadata": {},
   "outputs": [],
   "source": [
    "idx = np.argpartition(vertices[:,6], 30)\n",
    "print(vertices[:,6][idx])"
   ]
  },
  {
   "cell_type": "code",
   "execution_count": null,
   "metadata": {},
   "outputs": [],
   "source": [
    "max_height = np.max(vertices[:,keys['y']])"
   ]
  },
  {
   "cell_type": "code",
   "execution_count": null,
   "metadata": {},
   "outputs": [],
   "source": [
    "lower_third  = full_points[full_points[:,keys['y']] < max_height/3]\n",
    "middle_third = full_points[full_points[:,keys['y']] < 2*max_height/3]\n",
    "middle_third = middle_third[middle_third[:,keys['y']] > max_height/3]\n",
    "upper_third = full_points[full_points[:,keys['y']] > 2*max_height/3]"
   ]
  },
  {
   "cell_type": "code",
   "execution_count": null,
   "metadata": {},
   "outputs": [],
   "source": [
    "points[0]"
   ]
  },
  {
   "cell_type": "code",
   "execution_count": null,
   "metadata": {},
   "outputs": [],
   "source": [
    "plt.hist(lower_third[:,keys['y']], color='blue', edgecolor='black', bins=36)"
   ]
  },
  {
   "cell_type": "code",
   "execution_count": null,
   "metadata": {},
   "outputs": [],
   "source": [
    "plt.hist(middle_third[:,keys['x']], color='blue', edgecolor='black', bins=36)"
   ]
  },
  {
   "cell_type": "code",
   "execution_count": null,
   "metadata": {},
   "outputs": [],
   "source": [
    "plt.hist(upper_third[:,keys['x']], color='blue', edgecolor='black', bins=36)"
   ]
  },
  {
   "cell_type": "code",
   "execution_count": null,
   "metadata": {},
   "outputs": [],
   "source": [
    "# Problem with these graphs is that they weight all nodes equally, regardless of size and mass\n",
    "# Create metric that calculates biomass for each thing, then adds that many of itself to distribution.\n",
    "\n",
    "weighted_ps = []"
   ]
  },
  {
   "cell_type": "code",
   "execution_count": null,
   "metadata": {},
   "outputs": [],
   "source": [
    "vertices.shape[0]/2"
   ]
  },
  {
   "cell_type": "code",
   "execution_count": null,
   "metadata": {},
   "outputs": [],
   "source": [
    "ps = zip(points[::2], points[1::2])"
   ]
  },
  {
   "cell_type": "code",
   "execution_count": null,
   "metadata": {},
   "outputs": [],
   "source": [
    "points[30]"
   ]
  },
  {
   "cell_type": "code",
   "execution_count": null,
   "metadata": {},
   "outputs": [],
   "source": [
    "weights = np.array([Analyser.volumeOfConic(r1,r2,l) for ((x,y,z,r1,va,ha,pa,l,leaf),(x2,y2,z2,r2,va2,ha2,pa2,l2,leaf)) in ps])"
   ]
  },
  {
   "cell_type": "code",
   "execution_count": null,
   "metadata": {},
   "outputs": [],
   "source": [
    "weights.sum()"
   ]
  },
  {
   "cell_type": "code",
   "execution_count": null,
   "metadata": {},
   "outputs": [],
   "source": [
    "log_weights = [(Analyser.volumeOfConic(r1,r2,l)) for ((x,y,z,r1,va,ha,pa,l,leaf),(x2,y2,z2,r2,va2,ha2,pa2,l2,leaf)) in ps]"
   ]
  },
  {
   "cell_type": "code",
   "execution_count": null,
   "metadata": {},
   "outputs": [],
   "source": [
    "plt.hist(log_weights, color='black', edgecolor='black', bins=36)"
   ]
  },
  {
   "cell_type": "code",
   "execution_count": null,
   "metadata": {},
   "outputs": [],
   "source": [
    "n = weights.shape[0]\n",
    "n"
   ]
  },
  {
   "cell_type": "code",
   "execution_count": null,
   "metadata": {},
   "outputs": [],
   "source": [
    "import math"
   ]
  },
  {
   "cell_type": "code",
   "execution_count": null,
   "metadata": {},
   "outputs": [],
   "source": [
    "points[34]"
   ]
  },
  {
   "cell_type": "code",
   "execution_count": null,
   "metadata": {},
   "outputs": [],
   "source": [
    "for i in range(n):\n",
    "    for j in range(math.floor(math.log(weights[i]))):\n",
    "        weighted_ps.append(points[2*i])"
   ]
  },
  {
   "cell_type": "code",
   "execution_count": null,
   "metadata": {},
   "outputs": [],
   "source": [
    "weighted_ps = np.array(weighted_ps)\n",
    "weighted_ps.shape\n",
    "weighted_ps[3]"
   ]
  },
  {
   "cell_type": "code",
   "execution_count": null,
   "metadata": {},
   "outputs": [],
   "source": [
    "plt.hist(weighted_ps[:, keys['x']], bins=36)"
   ]
  },
  {
   "cell_type": "code",
   "execution_count": null,
   "metadata": {},
   "outputs": [],
   "source": [
    "degrees = vertices[:,keys['horizontal orientation']]\n",
    "radians = np.deg2rad(degrees)\n",
    "\n",
    "bin_size = 5\n",
    "a , b=np.histogram(degrees, bins=np.arange(0, 360+bin_size, bin_size))\n",
    "centers = np.deg2rad(np.ediff1d(b)//2 + b[:-1])\n",
    "\n",
    "fig = plt.figure(figsize=(10,8))\n",
    "ax = fig.add_subplot(111, projection='polar')\n",
    "ax.bar(centers, a, width=np.deg2rad(bin_size), bottom=0.0, color='.8', edgecolor='k')\n",
    "ax.set_theta_zero_location(\"N\")\n",
    "ax.set_theta_direction(-1)\n",
    "plt.show()\n",
    "plt.savefig(\"metrics_vo.png\")"
   ]
  },
  {
   "cell_type": "code",
   "execution_count": null,
   "metadata": {},
   "outputs": [],
   "source": [
    "leaves = vertices[vertices[:, 8] == 1]"
   ]
  },
  {
   "cell_type": "code",
   "execution_count": null,
   "metadata": {},
   "outputs": [],
   "source": [
    "vertices.shape"
   ]
  },
  {
   "cell_type": "code",
   "execution_count": null,
   "metadata": {},
   "outputs": [],
   "source": [
    "leaves.shape"
   ]
  },
  {
   "cell_type": "code",
   "execution_count": null,
   "metadata": {},
   "outputs": [],
   "source": [
    "plt.gca().set_aspect('equal', adjustable='box')\n",
    "plt.scatter(middle_third[:,2], middle_third[:,1], color='blue', alpha=1)\n",
    "plt.scatter(upper_third[:,2], upper_third[:,1], color='green', alpha=1)\n",
    "plt.scatter(lower_third[:,2], lower_third[:,1], color='red')\n",
    "plt.show()\n",
    "plt.savefig('z.png')"
   ]
  },
  {
   "cell_type": "code",
   "execution_count": null,
   "metadata": {},
   "outputs": [],
   "source": [
    "from matplotlib import pyplot\n",
    "from mpl_toolkits.mplot3d import Axes3D\n",
    "import random\n",
    "\n",
    "\n",
    "fig = pyplot.figure()\n",
    "ax = Axes3D(fig)\n",
    "\n",
    "sequence_containing_x_vals = middle_third[:,0]\n",
    "sequence_containing_y_vals = middle_third[:,2]\n",
    "sequence_containing_z_vals = middle_third[:,1]\n",
    "\n",
    "ax.scatter(sequence_containing_x_vals, sequence_containing_y_vals, sequence_containing_z_vals, color='blue', alpha=0.1)\n",
    "\n",
    "sequence_containing_x_vals = upper_third[:,0]\n",
    "sequence_containing_y_vals = upper_third[:,2]\n",
    "sequence_containing_z_vals = upper_third[:,1]\n",
    "\n",
    "ax.scatter(sequence_containing_x_vals, sequence_containing_y_vals, sequence_containing_z_vals, color='green', alpha=0.1)\n",
    "\n",
    "sequence_containing_x_vals = lower_third[:,0]\n",
    "sequence_containing_y_vals = lower_third[:,2]\n",
    "sequence_containing_z_vals = lower_third[:,1]\n",
    "\n",
    "ax.scatter(sequence_containing_x_vals, sequence_containing_y_vals, sequence_containing_z_vals, color='red', alpha=1)\n",
    "\n",
    "pyplot.show()"
   ]
  },
  {
   "cell_type": "code",
   "execution_count": null,
   "metadata": {},
   "outputs": [],
   "source": []
  },
  {
   "cell_type": "code",
   "execution_count": null,
   "metadata": {},
   "outputs": [],
   "source": []
  },
  {
   "cell_type": "code",
   "execution_count": null,
   "metadata": {},
   "outputs": [],
   "source": []
  }
 ],
 "metadata": {
  "kernelspec": {
   "display_name": "Python 3",
   "language": "python",
   "name": "python3"
  },
  "language_info": {
   "codemirror_mode": {
    "name": "ipython",
    "version": 3
   },
   "file_extension": ".py",
   "mimetype": "text/x-python",
   "name": "python",
   "nbconvert_exporter": "python",
   "pygments_lexer": "ipython3",
   "version": "3.7.0"
  }
 },
 "nbformat": 4,
 "nbformat_minor": 2
}
