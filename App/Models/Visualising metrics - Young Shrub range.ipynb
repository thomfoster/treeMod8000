{
 "cells": [
  {
   "cell_type": "code",
   "execution_count": 1,
   "metadata": {},
   "outputs": [],
   "source": [
    "import Parser, Deriver, Interpreter, Analyser, SelfOrg\n",
    "import numpy as np\n",
    "import math"
   ]
  },
  {
   "cell_type": "code",
   "execution_count": 2,
   "metadata": {},
   "outputs": [],
   "source": [
    "modelName = 'Young_Shrub_Infered'"
   ]
  },
  {
   "cell_type": "code",
   "execution_count": 3,
   "metadata": {},
   "outputs": [],
   "source": [
    "# Have to generate manually as we want points to be same for render and stats.\n",
    "# We also want to be able to access some inner stuff for plotting"
   ]
  },
  {
   "cell_type": "code",
   "execution_count": null,
   "metadata": {},
   "outputs": [],
   "source": []
  },
  {
   "cell_type": "code",
   "execution_count": 4,
   "metadata": {},
   "outputs": [],
   "source": [
    "Specification   = Parser.parse('Specifications/'+modelName+'.txt', {})"
   ]
  },
  {
   "cell_type": "code",
   "execution_count": 5,
   "metadata": {},
   "outputs": [],
   "source": [
    "n               = Specification['depth']\n",
    "axiom           = Specification['axiom']\n",
    "tree            = [axiom]\n",
    "tree            = Deriver.derive(tree,n)"
   ]
  },
  {
   "cell_type": "code",
   "execution_count": 6,
   "metadata": {},
   "outputs": [],
   "source": [
    "scale = 1"
   ]
  },
  {
   "cell_type": "code",
   "execution_count": 7,
   "metadata": {},
   "outputs": [],
   "source": [
    "points = []\n",
    "\n",
    "if Specification['self_org'] == False:\n",
    "\n",
    "    # DERIVE\n",
    "    n               = Specification['depth']\n",
    "    axiom           = Specification['axiom']\n",
    "    tree            = [axiom]\n",
    "    tree            = Deriver.derive(tree,n)\n",
    "\n",
    "    # INTERPRET\n",
    "    points, scale   = Interpreter.interpret(tree, True, return_scale=True)\n",
    "\n",
    "else:\n",
    "\n",
    "    # DERIVE AND INTERPRET TOGETHER\n",
    "    n               = Specification['depth']\n",
    "    axiom           = Specification['axiom']\n",
    "    tree            = [axiom]\n",
    "    num_voxels      = Specification['num_voxels']\n",
    "    shadow_height   = Specification['shadow_height']\n",
    "    shadow_width    = Specification['shadow_width']\n",
    "    decrement_close = Specification['dec_close']\n",
    "    decrement_far   = Specification['dec_far']\n",
    "\n",
    "    for i in range(0,n):\n",
    "        tree = Deriver.derive(tree,1)\n",
    "        points, scale = Interpreter.interpret(tree, True, return_scale = True)\n",
    "        voxels          = SelfOrg.calc_light(points,\n",
    "                                             num_voxels,\n",
    "                                             shadow_height,\n",
    "                                             shadow_width,\n",
    "                                             decrement_close,\n",
    "                                             decrement_far)\n",
    "        SelfOrg.update_cells(tree, voxels, scale)\n",
    "        print(\"Interpreted for the \"+str(i+1)+\"th time.\")"
   ]
  },
  {
   "cell_type": "code",
   "execution_count": null,
   "metadata": {},
   "outputs": [],
   "source": []
  },
  {
   "cell_type": "code",
   "execution_count": 8,
   "metadata": {},
   "outputs": [
    {
     "name": "stdout",
     "output_type": "stream",
     "text": [
      "writing to file...\n"
     ]
    },
    {
     "ename": "NameError",
     "evalue": "name 'full_points' is not defined",
     "output_type": "error",
     "traceback": [
      "\u001b[0;31m---------------------------------------------------------------------------\u001b[0m",
      "\u001b[0;31mNameError\u001b[0m                                 Traceback (most recent call last)",
      "\u001b[0;32m<ipython-input-8-fd70ce2cfd0e>\u001b[0m in \u001b[0;36m<module>\u001b[0;34m()\u001b[0m\n\u001b[1;32m      2\u001b[0m \u001b[0mprint\u001b[0m\u001b[0;34m(\u001b[0m\u001b[0;34m\"writing to file...\"\u001b[0m\u001b[0;34m)\u001b[0m\u001b[0;34m\u001b[0m\u001b[0m\n\u001b[1;32m      3\u001b[0m \u001b[0;32mwith\u001b[0m \u001b[0mopen\u001b[0m\u001b[0;34m(\u001b[0m\u001b[0;34m\"data.dat\"\u001b[0m\u001b[0;34m,\u001b[0m \u001b[0mmode\u001b[0m\u001b[0;34m=\u001b[0m\u001b[0;34m\"w\"\u001b[0m\u001b[0;34m)\u001b[0m \u001b[0;32mas\u001b[0m \u001b[0mf\u001b[0m\u001b[0;34m:\u001b[0m\u001b[0;34m\u001b[0m\u001b[0m\n\u001b[0;32m----> 4\u001b[0;31m     \u001b[0mf\u001b[0m\u001b[0;34m.\u001b[0m\u001b[0mwrite\u001b[0m\u001b[0;34m(\u001b[0m\u001b[0mstr\u001b[0m\u001b[0;34m(\u001b[0m\u001b[0mlen\u001b[0m\u001b[0;34m(\u001b[0m\u001b[0mfull_points\u001b[0m\u001b[0;34m)\u001b[0m\u001b[0;34m)\u001b[0m\u001b[0;34m+\u001b[0m\u001b[0;34m\"\\n\"\u001b[0m\u001b[0;34m)\u001b[0m\u001b[0;34m\u001b[0m\u001b[0m\n\u001b[0m\u001b[1;32m      5\u001b[0m     \u001b[0;32mfor\u001b[0m \u001b[0mp\u001b[0m \u001b[0;32min\u001b[0m \u001b[0mfull_points\u001b[0m\u001b[0;34m:\u001b[0m\u001b[0;34m\u001b[0m\u001b[0m\n\u001b[1;32m      6\u001b[0m         \u001b[0mx\u001b[0m\u001b[0;34m,\u001b[0m\u001b[0my\u001b[0m\u001b[0;34m,\u001b[0m\u001b[0mz\u001b[0m\u001b[0;34m,\u001b[0m\u001b[0mr\u001b[0m\u001b[0;34m,\u001b[0m\u001b[0ma\u001b[0m\u001b[0;34m,\u001b[0m\u001b[0mb\u001b[0m\u001b[0;34m,\u001b[0m\u001b[0mc\u001b[0m\u001b[0;34m,\u001b[0m\u001b[0md\u001b[0m\u001b[0;34m,\u001b[0m\u001b[0ml\u001b[0m \u001b[0;34m=\u001b[0m \u001b[0mp\u001b[0m\u001b[0;34m\u001b[0m\u001b[0m\n",
      "\u001b[0;31mNameError\u001b[0m: name 'full_points' is not defined"
     ]
    }
   ],
   "source": [
    "# So we can view what we visualised\n",
    "print(\"writing to file...\")\n",
    "with open(\"data.dat\", mode=\"w\") as f:\n",
    "    f.write(str(len(full_points))+\"\\n\")\n",
    "    for p in full_points:\n",
    "        x,y,z,r,a,b,c,d,l = p\n",
    "        x /= scale\n",
    "        y /= scale\n",
    "        y -= 0.5\n",
    "        z /= scale\n",
    "        r /= scale\n",
    "        line = [x,y,z,r,l]\n",
    "        for feature in line:\n",
    "            f.write(str(feature)+\"\\t\")\n",
    "        f.write(\"\\n\")\n",
    "print(\"done writing.\")"
   ]
  },
  {
   "cell_type": "code",
   "execution_count": 9,
   "metadata": {},
   "outputs": [
    {
     "data": {
      "text/plain": [
       "(0, 0, 0, 2.0, 0.0, 270.0, 0.0, 11.377481444615679, 0.0)"
      ]
     },
     "execution_count": 9,
     "metadata": {},
     "output_type": "execute_result"
    }
   ],
   "source": [
    "points[0]"
   ]
  },
  {
   "cell_type": "code",
   "execution_count": 10,
   "metadata": {},
   "outputs": [
    {
     "data": {
      "text/plain": [
       "(4.265872274654032e-32,\n",
       " 11.377481444615679,\n",
       " -6.966698116753497e-16,\n",
       " 1.04,\n",
       " 0.0,\n",
       " 270.0,\n",
       " 0.0,\n",
       " 11.377481444615679,\n",
       " 0.0)"
      ]
     },
     "execution_count": 10,
     "metadata": {},
     "output_type": "execute_result"
    }
   ],
   "source": [
    "points[1]"
   ]
  },
  {
   "cell_type": "code",
   "execution_count": 11,
   "metadata": {},
   "outputs": [],
   "source": [
    "points[2]\n",
    "full_points = points\n",
    "full_points = np.array(points)"
   ]
  },
  {
   "cell_type": "code",
   "execution_count": 12,
   "metadata": {},
   "outputs": [],
   "source": [
    "points = points[2:]"
   ]
  },
  {
   "cell_type": "code",
   "execution_count": 13,
   "metadata": {},
   "outputs": [],
   "source": [
    "metrics         = Analyser.analyse(points)"
   ]
  },
  {
   "cell_type": "code",
   "execution_count": 14,
   "metadata": {},
   "outputs": [],
   "source": [
    "vertices        = np.array(points)"
   ]
  },
  {
   "cell_type": "code",
   "execution_count": 15,
   "metadata": {},
   "outputs": [
    {
     "name": "stdout",
     "output_type": "stream",
     "text": [
      "parentAngle_mean : 41.78580816552369\n",
      "parentAngle_variance : 45.74838945730184\n",
      "length_mean : 3.680792549888799\n",
      "length_variance : 0.7740251052096663\n",
      "verticalOrientation_mean : 90.75356540373167\n",
      "verticalOrientation_variance : 39.88237522777683\n",
      "horizontalOrientation_mean : 184.67697876066492\n",
      "horizontalOrientation_variance : 103.41968993744302\n",
      "q1_xyz : (79.2065645342162, 69.37766535886784, 68.65029349435382)\n",
      "q2_xyz : (71.73961044373527, 28.918217964967937, 53.83436974043446)\n",
      "q3_xyz : (40.8452810562973, 29.82235228799049, 30.594394447836763)\n",
      "xyz : (82.81371189351701, 128.19836009143683, 69.8363830227616)\n",
      "trunk_length : 11.377481444615679\n",
      "totalBiomass : 223.24992641228997\n"
     ]
    }
   ],
   "source": [
    "for (k,v) in metrics.items():\n",
    "    print(k, ':', v)"
   ]
  },
  {
   "cell_type": "code",
   "execution_count": 16,
   "metadata": {},
   "outputs": [
    {
     "data": {
      "text/plain": [
       "2394.1504514278004"
      ]
     },
     "execution_count": 16,
     "metadata": {},
     "output_type": "execute_result"
    }
   ],
   "source": [
    "math.degrees(metrics['parentAngle_mean'])"
   ]
  },
  {
   "cell_type": "code",
   "execution_count": 17,
   "metadata": {},
   "outputs": [
    {
     "data": {
      "text/plain": [
       "184.6769787606643"
      ]
     },
     "execution_count": 17,
     "metadata": {},
     "output_type": "execute_result"
    }
   ],
   "source": [
    "vertices[:,5].mean()"
   ]
  },
  {
   "cell_type": "code",
   "execution_count": 18,
   "metadata": {},
   "outputs": [],
   "source": [
    "import matplotlib.pyplot as plt"
   ]
  },
  {
   "cell_type": "code",
   "execution_count": 19,
   "metadata": {},
   "outputs": [],
   "source": [
    "#Fed up of accessing via numerical values\n",
    "# Format of points is:\n",
    "# 0--1--2--3--4--5--6--7--8\n",
    "# x  y  z  r  vA hA pA l--leaf\n",
    "keys = {\n",
    "    'x': 0,\n",
    "    'y': 1,\n",
    "    'z': 2,\n",
    "    'radius': 3,\n",
    "    'vertical orientation': 4,\n",
    "    'horizontal orientation': 5,\n",
    "    'parent angle': 6,\n",
    "    'length': 7,\n",
    "    'leaf': 8\n",
    "}"
   ]
  },
  {
   "cell_type": "code",
   "execution_count": 20,
   "metadata": {},
   "outputs": [
    {
     "data": {
      "text/plain": [
       "(array([3024.,  220.,  212.,  194.,  256.,  238.,  222.,  190.,  216.,\n",
       "         252.,  230.,  224.,  190.,  230.,  192.,  184.,  186.,  162.,\n",
       "         102.,  102.,  100.,  124.,  104.,   92.,  106.,  112.,  124.,\n",
       "          86.,  124.,  130.,   68.,    0.,    0.,    0.,    0.,    0.]),\n",
       " array([  0.,   5.,  10.,  15.,  20.,  25.,  30.,  35.,  40.,  45.,  50.,\n",
       "         55.,  60.,  65.,  70.,  75.,  80.,  85.,  90.,  95., 100., 105.,\n",
       "        110., 115., 120., 125., 130., 135., 140., 145., 150., 155., 160.,\n",
       "        165., 170., 175., 180.]),\n",
       " <a list of 36 Patch objects>)"
      ]
     },
     "execution_count": 20,
     "metadata": {},
     "output_type": "execute_result"
    },
    {
     "data": {
      "image/png": "[encoded data removed]",
      "text/plain": [
       "<Figure size 432x288 with 1 Axes>"
      ]
     },
     "metadata": {
      "needs_background": "light"
     },
     "output_type": "display_data"
    }
   ],
   "source": [
    "plt.hist(vertices[:,keys['parent angle']], color='blue', edgecolor='black', range=[0,180], bins=36)"
   ]
  },
  {
   "cell_type": "code",
   "execution_count": null,
   "metadata": {},
   "outputs": [],
   "source": [
    "max_height = np.max(vertices[:,keys['y']])"
   ]
  },
  {
   "cell_type": "code",
   "execution_count": null,
   "metadata": {},
   "outputs": [],
   "source": [
    "lower_third  = full_points[full_points[:,keys['y']] < max_height/3]\n",
    "middle_third = full_points[full_points[:,keys['y']] < 2*max_height/3]\n",
    "middle_third = middle_third[middle_third[:,keys['y']] > max_height/3]\n",
    "upper_third = full_points[full_points[:,keys['y']] > 2*max_height/3]"
   ]
  },
  {
   "cell_type": "code",
   "execution_count": null,
   "metadata": {},
   "outputs": [],
   "source": [
    "points[0]"
   ]
  },
  {
   "cell_type": "code",
   "execution_count": null,
   "metadata": {},
   "outputs": [],
   "source": [
    "plt.hist(lower_third[:,keys['y']], color='blue', edgecolor='black', bins=36)"
   ]
  },
  {
   "cell_type": "code",
   "execution_count": null,
   "metadata": {},
   "outputs": [],
   "source": [
    "plt.hist(middle_third[:,keys['x']], color='blue', edgecolor='black', bins=36)"
   ]
  },
  {
   "cell_type": "code",
   "execution_count": null,
   "metadata": {},
   "outputs": [],
   "source": [
    "plt.hist(upper_third[:,keys['x']], color='blue', edgecolor='black', bins=36)"
   ]
  },
  {
   "cell_type": "code",
   "execution_count": null,
   "metadata": {},
   "outputs": [],
   "source": [
    "# Problem with these graphs is that they weight all nodes equally, regardless of size and mass\n",
    "# Create metric that calculates biomass for each thing, then adds that many of itself to distribution.\n",
    "\n",
    "weighted_ps = []"
   ]
  },
  {
   "cell_type": "code",
   "execution_count": null,
   "metadata": {},
   "outputs": [],
   "source": [
    "vertices.shape[0]/2"
   ]
  },
  {
   "cell_type": "code",
   "execution_count": null,
   "metadata": {},
   "outputs": [],
   "source": [
    "ps = zip(points[::2], points[1::2])"
   ]
  },
  {
   "cell_type": "code",
   "execution_count": null,
   "metadata": {},
   "outputs": [],
   "source": [
    "points[30]"
   ]
  },
  {
   "cell_type": "code",
   "execution_count": null,
   "metadata": {},
   "outputs": [],
   "source": [
    "weights = np.array([Analyser.volumeOfConic(r1,r2,l) for ((x,y,z,r1,va,ha,pa,l,leaf),(x2,y2,z2,r2,va2,ha2,pa2,l2,leaf)) in ps])"
   ]
  },
  {
   "cell_type": "code",
   "execution_count": null,
   "metadata": {},
   "outputs": [],
   "source": [
    "weights.sum()"
   ]
  },
  {
   "cell_type": "code",
   "execution_count": null,
   "metadata": {},
   "outputs": [],
   "source": [
    "log_weights = [(Analyser.volumeOfConic(r1,r2,l)) for ((x,y,z,r1,va,ha,pa,l,leaf),(x2,y2,z2,r2,va2,ha2,pa2,l2,leaf)) in ps]"
   ]
  },
  {
   "cell_type": "code",
   "execution_count": null,
   "metadata": {},
   "outputs": [],
   "source": [
    "plt.hist(log_weights, color='black', edgecolor='black', bins=36)"
   ]
  },
  {
   "cell_type": "code",
   "execution_count": null,
   "metadata": {},
   "outputs": [],
   "source": [
    "n = weights.shape[0]\n",
    "n"
   ]
  },
  {
   "cell_type": "code",
   "execution_count": null,
   "metadata": {},
   "outputs": [],
   "source": [
    "import math"
   ]
  },
  {
   "cell_type": "code",
   "execution_count": null,
   "metadata": {},
   "outputs": [],
   "source": [
    "points[34]"
   ]
  },
  {
   "cell_type": "code",
   "execution_count": null,
   "metadata": {},
   "outputs": [],
   "source": [
    "for i in range(n):\n",
    "    for j in range(math.floor(math.log(weights[i]))):\n",
    "        weighted_ps.append(points[2*i])"
   ]
  },
  {
   "cell_type": "code",
   "execution_count": null,
   "metadata": {},
   "outputs": [],
   "source": [
    "weighted_ps = np.array(weighted_ps)\n",
    "weighted_ps.shape\n",
    "weighted_ps[3]"
   ]
  },
  {
   "cell_type": "code",
   "execution_count": null,
   "metadata": {},
   "outputs": [],
   "source": [
    "plt.hist(weighted_ps[:, keys['x']], bins=36)"
   ]
  },
  {
   "cell_type": "code",
   "execution_count": null,
   "metadata": {},
   "outputs": [],
   "source": [
    "degrees = vertices[:,keys['horizontal orientation']]\n",
    "radians = np.deg2rad(degrees)\n",
    "\n",
    "bin_size = 5\n",
    "a , b=np.histogram(degrees, bins=np.arange(0, 360+bin_size, bin_size))\n",
    "centers = np.deg2rad(np.ediff1d(b)//2 + b[:-1])\n",
    "\n",
    "fig = plt.figure(figsize=(10,8))\n",
    "ax = fig.add_subplot(111, projection='polar')\n",
    "ax.bar(centers, a, width=np.deg2rad(bin_size), bottom=0.0, color='.8', edgecolor='k')\n",
    "ax.set_theta_zero_location(\"N\")\n",
    "ax.set_theta_direction(-1)\n",
    "plt.show()\n",
    "plt.savefig(\"metrics_vo.png\")"
   ]
  },
  {
   "cell_type": "code",
   "execution_count": null,
   "metadata": {},
   "outputs": [],
   "source": [
    "leaves = vertices[vertices[:, 8] == 1]"
   ]
  },
  {
   "cell_type": "code",
   "execution_count": null,
   "metadata": {},
   "outputs": [],
   "source": [
    "vertices.shape"
   ]
  },
  {
   "cell_type": "code",
   "execution_count": null,
   "metadata": {},
   "outputs": [],
   "source": [
    "leaves.shape"
   ]
  },
  {
   "cell_type": "code",
   "execution_count": null,
   "metadata": {},
   "outputs": [],
   "source": [
    "plt.gca().set_aspect('equal', adjustable='box')\n",
    "plt.scatter(middle_third[:,2], middle_third[:,1], color='blue', alpha=1)\n",
    "plt.scatter(upper_third[:,2], upper_third[:,1], color='green', alpha=1)\n",
    "plt.scatter(lower_third[:,2], lower_third[:,1], color='red')\n",
    "plt.show()\n",
    "plt.savefig('z.png')"
   ]
  },
  {
   "cell_type": "code",
   "execution_count": null,
   "metadata": {},
   "outputs": [],
   "source": [
    "from matplotlib import pyplot\n",
    "from mpl_toolkits.mplot3d import Axes3D\n",
    "import random\n",
    "\n",
    "\n",
    "fig = pyplot.figure()\n",
    "ax = Axes3D(fig)\n",
    "\n",
    "sequence_containing_x_vals = middle_third[:,0]\n",
    "sequence_containing_y_vals = middle_third[:,2]\n",
    "sequence_containing_z_vals = middle_third[:,1]\n",
    "\n",
    "ax.scatter(sequence_containing_x_vals, sequence_containing_y_vals, sequence_containing_z_vals, color='blue', alpha=0.1)\n",
    "\n",
    "sequence_containing_x_vals = upper_third[:,0]\n",
    "sequence_containing_y_vals = upper_third[:,2]\n",
    "sequence_containing_z_vals = upper_third[:,1]\n",
    "\n",
    "ax.scatter(sequence_containing_x_vals, sequence_containing_y_vals, sequence_containing_z_vals, color='green', alpha=0.1)\n",
    "\n",
    "sequence_containing_x_vals = lower_third[:,0]\n",
    "sequence_containing_y_vals = lower_third[:,2]\n",
    "sequence_containing_z_vals = lower_third[:,1]\n",
    "\n",
    "ax.scatter(sequence_containing_x_vals, sequence_containing_y_vals, sequence_containing_z_vals, color='red', alpha=1)\n",
    "\n",
    "pyplot.show()"
   ]
  },
  {
   "cell_type": "code",
   "execution_count": null,
   "metadata": {},
   "outputs": [],
   "source": []
  },
  {
   "cell_type": "code",
   "execution_count": null,
   "metadata": {},
   "outputs": [],
   "source": []
  },
  {
   "cell_type": "code",
   "execution_count": null,
   "metadata": {},
   "outputs": [],
   "source": []
  }
 ],
 "metadata": {
  "kernelspec": {
   "display_name": "Python 3",
   "language": "python",
   "name": "python3"
  },
  "language_info": {
   "codemirror_mode": {
    "name": "ipython",
    "version": 3
   },
   "file_extension": ".py",
   "mimetype": "text/x-python",
   "name": "python",
   "nbconvert_exporter": "python",
   "pygments_lexer": "ipython3",
   "version": "3.7.0"
  }
 },
 "nbformat": 4,
 "nbformat_minor": 2
}
