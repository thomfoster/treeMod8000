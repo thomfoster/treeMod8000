{
 "cells": [
  {
   "cell_type": "code",
   "execution_count": 1,
   "metadata": {},
   "outputs": [],
   "source": [
    "import Main\n",
    "from Analyser2 import *"
   ]
  },
  {
   "cell_type": "code",
   "execution_count": 2,
   "metadata": {},
   "outputs": [],
   "source": [
    "modelName = 'Young_Shrub'"
   ]
  },
  {
   "cell_type": "code",
   "execution_count": 3,
   "metadata": {},
   "outputs": [],
   "source": [
    "# Some PyABC magic to get our set of parameters\n",
    "from pyabc import (ABCSMC, Distribution, RV, MultivariateNormalTransition)\n",
    "import scipy as sp\n",
    "import scipy.stats as st\n",
    "import tempfile\n",
    "import os\n",
    "import pandas as pd\n",
    "import matplotlib.pyplot as plt"
   ]
  },
  {
   "cell_type": "code",
   "execution_count": 4,
   "metadata": {},
   "outputs": [],
   "source": [
    "def model(params):\n",
    "    return Main.generate_and_analyse(modelName, params)"
   ]
  },
  {
   "cell_type": "code",
   "execution_count": 5,
   "metadata": {},
   "outputs": [],
   "source": [
    "metrics = {  'section_1_slash':(10, 100),\n",
    "             'section_1_slashr':(10, 100),\n",
    "             'section_1_plus':(0, 180),\n",
    "             'section_1_plusr':(0, 180),\n",
    "             'section_1_decay':(0, 1),\n",
    "             'section_1_d':(0, 1),\n",
    "             'section_1_h':(1, 20),\n",
    "             'section_1_w':(0.1, 2),\n",
    "             'general_thickness':(0, 5),\n",
    "             'rule_1_0':(0,1),\n",
    "             'rule_1_1':(0,1)\n",
    "          }"
   ]
  },
  {
   "cell_type": "code",
   "execution_count": 6,
   "metadata": {},
   "outputs": [],
   "source": [
    "prior = Distribution(section_1_slash     =RV(\"uniform\", 10, 100),\n",
    "                     section_1_slashr    =RV(\"uniform\", 10, 100),\n",
    "                     section_1_plus      =RV(\"uniform\", 0, 180),\n",
    "                     section_1_plusr      =RV(\"uniform\", 0, 180),\n",
    "                     section_1_decay     =RV(\"uniform\", 0, 1),\n",
    "                     section_1_d         =RV(\"uniform\", 0, 1),\n",
    "                     section_1_h         =RV(\"uniform\", 1, 20),\n",
    "                     section_1_w         =RV(\"uniform\", 0.1, 2),\n",
    "                     general_thickness   =RV(\"uniform\", 0, 5),\n",
    "                     rule_1_0            =RV(\"uniform\", 0.5,1),\n",
    "                     rule_1_1            =RV(\"uniform\", 0.5,1)\n",
    "                    )"
   ]
  },
  {
   "cell_type": "code",
   "execution_count": 7,
   "metadata": {},
   "outputs": [],
   "source": [
    "abc = ABCSMC(model, prior, distance)"
   ]
  },
  {
   "cell_type": "code",
   "execution_count": 8,
   "metadata": {},
   "outputs": [],
   "source": [
    "db_path = (\"sqlite:///\" + os.path.join(tempfile.gettempdir(), \"test.db\"))"
   ]
  },
  {
   "cell_type": "code",
   "execution_count": 9,
   "metadata": {},
   "outputs": [],
   "source": [
    "target = model({})"
   ]
  },
  {
   "cell_type": "code",
   "execution_count": 10,
   "metadata": {},
   "outputs": [
    {
     "data": {
      "text/plain": [
       "{'parentAngle_mean': 45.53593966954051,\n",
       " 'parentAngle_variance': 17.213705480186803,\n",
       " 'length_mean': 2.0870861410497863,\n",
       " 'length_variance': 0.9119290944268224,\n",
       " 'verticalOrientation_mean': 67.47373965475595,\n",
       " 'verticalOrientation_variance': 35.50705183940328,\n",
       " 'horizontalOrientation_mean': 167.60063534649254,\n",
       " 'horizontalOrientation_variance': 107.58746695954817,\n",
       " 'q1_xyz': (12.610781669247677, 5.395933353863337, 18.386307565313054),\n",
       " 'q2_xyz': (32.09933882454789, 12.795931002211844, 38.324378493861595),\n",
       " 'q3_xyz': (31.667636847069843, 14.372381860030512, 28.929127572522535),\n",
       " 'xyz': (32.36923571476762, 33.00703863888156, 40.7961133583584),\n",
       " 'trunk_length': 10.0,\n",
       " 'totalBiomass': 84.13922705830942}"
      ]
     },
     "execution_count": 10,
     "metadata": {},
     "output_type": "execute_result"
    }
   ],
   "source": [
    "target"
   ]
  },
  {
   "cell_type": "code",
   "execution_count": 11,
   "metadata": {},
   "outputs": [
    {
     "name": "stderr",
     "output_type": "stream",
     "text": [
      "INFO:History:Start <ABCSMC(id=96, start_time=2019-04-17 23:29:30.313362, end_time=None)>\n",
      "INFO:Epsilon:initial epsilon is 22.553862395279978\n"
     ]
    },
    {
     "data": {
      "text/plain": [
       "96"
      ]
     },
     "execution_count": 11,
     "metadata": {},
     "output_type": "execute_result"
    }
   ],
   "source": [
    "abc.new(db_path, target)"
   ]
  },
  {
   "cell_type": "code",
   "execution_count": 12,
   "metadata": {},
   "outputs": [
    {
     "name": "stderr",
     "output_type": "stream",
     "text": [
      "INFO:ABC:t:0 eps:22.553862395279978\n",
      "INFO:ABC:t:1 eps:16.364323098501675\n",
      "Process Process-18:\n",
      "Process Process-19:\n",
      "Process Process-21:\n",
      "Process Process-24:\n",
      "Process Process-20:\n",
      "Process Process-22:\n",
      "Process Process-23:\n",
      "Traceback (most recent call last):\n",
      "Traceback (most recent call last):\n",
      "Traceback (most recent call last):\n",
      "  File \"/home/t/anaconda3/lib/python3.7/multiprocessing/process.py\", line 297, in _bootstrap\n",
      "    self.run()\n",
      "Traceback (most recent call last):\n",
      "Traceback (most recent call last):\n",
      "  File \"/home/t/anaconda3/lib/python3.7/multiprocessing/process.py\", line 99, in run\n",
      "    self._target(*self._args, **self._kwargs)\n",
      "Traceback (most recent call last):\n",
      "  File \"/home/t/anaconda3/lib/python3.7/multiprocessing/process.py\", line 297, in _bootstrap\n",
      "    self.run()\n",
      "  File \"/home/t/anaconda3/lib/python3.7/multiprocessing/process.py\", line 297, in _bootstrap\n",
      "    self.run()\n",
      "  File \"/home/t/anaconda3/lib/python3.7/multiprocessing/process.py\", line 297, in _bootstrap\n",
      "    self.run()\n",
      "Traceback (most recent call last):\n",
      "  File \"/home/t/anaconda3/lib/python3.7/site-packages/pyabc/sampler/multicore_evaluation_parallel.py\", line 24, in work\n",
      "    new_sim = simulate_one()\n",
      "  File \"/home/t/anaconda3/lib/python3.7/site-packages/pyabc/smc.py\", line 553, in simulate_one\n",
      "    transitions)\n",
      "Process Process-17:\n",
      "  File \"/home/t/anaconda3/lib/python3.7/multiprocessing/process.py\", line 297, in _bootstrap\n",
      "    self.run()\n",
      "  File \"/home/t/anaconda3/lib/python3.7/multiprocessing/process.py\", line 297, in _bootstrap\n",
      "    self.run()\n",
      "  File \"/home/t/anaconda3/lib/python3.7/multiprocessing/process.py\", line 99, in run\n",
      "    self._target(*self._args, **self._kwargs)\n",
      "  File \"/home/t/anaconda3/lib/python3.7/multiprocessing/process.py\", line 99, in run\n",
      "    self._target(*self._args, **self._kwargs)\n",
      "  File \"/home/t/anaconda3/lib/python3.7/multiprocessing/process.py\", line 297, in _bootstrap\n",
      "    self.run()\n",
      "  File \"/home/t/anaconda3/lib/python3.7/multiprocessing/process.py\", line 99, in run\n",
      "    self._target(*self._args, **self._kwargs)\n",
      "  File \"/home/t/anaconda3/lib/python3.7/multiprocessing/process.py\", line 99, in run\n",
      "    self._target(*self._args, **self._kwargs)\n",
      "  File \"/home/t/anaconda3/lib/python3.7/site-packages/pyabc/smc.py\", line 644, in _evaluate_proposal\n",
      "    x_0)\n",
      "  File \"/home/t/anaconda3/lib/python3.7/multiprocessing/process.py\", line 99, in run\n",
      "    self._target(*self._args, **self._kwargs)\n",
      "  File \"/home/t/anaconda3/lib/python3.7/site-packages/pyabc/sampler/multicore_evaluation_parallel.py\", line 24, in work\n",
      "    new_sim = simulate_one()\n",
      "  File \"/home/t/anaconda3/lib/python3.7/site-packages/pyabc/sampler/multicore_evaluation_parallel.py\", line 24, in work\n",
      "    new_sim = simulate_one()\n",
      "  File \"/home/t/anaconda3/lib/python3.7/site-packages/pyabc/model.py\", line 222, in accept\n",
      "    sum_stats_calculator)\n",
      "  File \"/home/t/anaconda3/lib/python3.7/site-packages/pyabc/sampler/multicore_evaluation_parallel.py\", line 24, in work\n",
      "    new_sim = simulate_one()\n",
      "  File \"/home/t/anaconda3/lib/python3.7/site-packages/pyabc/smc.py\", line 553, in simulate_one\n",
      "    transitions)\n",
      "  File \"/home/t/anaconda3/lib/python3.7/site-packages/pyabc/sampler/multicore_evaluation_parallel.py\", line 24, in work\n",
      "    new_sim = simulate_one()\n",
      "Traceback (most recent call last):\n",
      "  File \"/home/t/anaconda3/lib/python3.7/site-packages/pyabc/smc.py\", line 644, in _evaluate_proposal\n",
      "    x_0)\n",
      "  File \"/home/t/anaconda3/lib/python3.7/multiprocessing/process.py\", line 99, in run\n",
      "    self._target(*self._args, **self._kwargs)\n",
      "  File \"/home/t/anaconda3/lib/python3.7/site-packages/pyabc/model.py\", line 116, in summary_statistics\n",
      "    raw_data = self.sample(pars)\n",
      "  File \"/home/t/anaconda3/lib/python3.7/site-packages/pyabc/smc.py\", line 553, in simulate_one\n",
      "    transitions)\n",
      "  File \"/home/t/anaconda3/lib/python3.7/site-packages/pyabc/smc.py\", line 553, in simulate_one\n",
      "    transitions)\n",
      "  File \"/home/t/anaconda3/lib/python3.7/site-packages/pyabc/smc.py\", line 644, in _evaluate_proposal\n",
      "    x_0)\n",
      "  File \"/home/t/anaconda3/lib/python3.7/site-packages/pyabc/smc.py\", line 644, in _evaluate_proposal\n",
      "    x_0)\n",
      "  File \"/home/t/anaconda3/lib/python3.7/site-packages/pyabc/sampler/multicore_evaluation_parallel.py\", line 24, in work\n",
      "    new_sim = simulate_one()\n",
      "  File \"/home/t/anaconda3/lib/python3.7/site-packages/pyabc/sampler/multicore_evaluation_parallel.py\", line 24, in work\n",
      "    new_sim = simulate_one()\n",
      "  File \"/home/t/anaconda3/lib/python3.7/site-packages/pyabc/model.py\", line 222, in accept\n",
      "    sum_stats_calculator)\n",
      "  File \"/home/t/anaconda3/lib/python3.7/site-packages/pyabc/smc.py\", line 553, in simulate_one\n",
      "    transitions)\n",
      "  File \"/home/t/anaconda3/lib/python3.7/multiprocessing/process.py\", line 297, in _bootstrap\n",
      "    self.run()\n",
      "  File \"/home/t/anaconda3/lib/python3.7/site-packages/pyabc/model.py\", line 261, in sample\n",
      "    return self.sample_function(pars)\n",
      "  File \"/home/t/anaconda3/lib/python3.7/site-packages/pyabc/smc.py\", line 553, in simulate_one\n",
      "    transitions)\n",
      "  File \"/home/t/anaconda3/lib/python3.7/site-packages/pyabc/model.py\", line 222, in accept\n",
      "    sum_stats_calculator)\n",
      "  File \"/home/t/anaconda3/lib/python3.7/site-packages/pyabc/model.py\", line 116, in summary_statistics\n",
      "    raw_data = self.sample(pars)\n",
      "  File \"/home/t/anaconda3/lib/python3.7/site-packages/pyabc/smc.py\", line 553, in simulate_one\n",
      "    transitions)\n",
      "  File \"/home/t/anaconda3/lib/python3.7/site-packages/pyabc/model.py\", line 222, in accept\n",
      "    sum_stats_calculator)\n",
      "  File \"/home/t/anaconda3/lib/python3.7/site-packages/pyabc/smc.py\", line 644, in _evaluate_proposal\n",
      "    x_0)\n",
      "  File \"/home/t/anaconda3/lib/python3.7/multiprocessing/process.py\", line 99, in run\n",
      "    self._target(*self._args, **self._kwargs)\n",
      "  File \"/home/t/anaconda3/lib/python3.7/site-packages/pyabc/model.py\", line 116, in summary_statistics\n",
      "    raw_data = self.sample(pars)\n",
      "  File \"/home/t/anaconda3/lib/python3.7/site-packages/pyabc/sampler/multicore_evaluation_parallel.py\", line 24, in work\n",
      "    new_sim = simulate_one()\n",
      "  File \"/home/t/anaconda3/lib/python3.7/site-packages/pyabc/smc.py\", line 644, in _evaluate_proposal\n",
      "    x_0)\n",
      "  File \"<ipython-input-4-fe8d3e4dfdf6>\", line 2, in model\n",
      "    return Main.generate_and_analyse(modelName, params)\n",
      "  File \"/home/t/anaconda3/lib/python3.7/site-packages/pyabc/model.py\", line 116, in summary_statistics\n",
      "    raw_data = self.sample(pars)\n",
      "  File \"/home/t/anaconda3/lib/python3.7/site-packages/pyabc/model.py\", line 222, in accept\n",
      "    sum_stats_calculator)\n",
      "  File \"/home/t/anaconda3/lib/python3.7/site-packages/pyabc/model.py\", line 261, in sample\n",
      "    return self.sample_function(pars)\n",
      "  File \"/home/t/anaconda3/lib/python3.7/site-packages/pyabc/model.py\", line 261, in sample\n",
      "    return self.sample_function(pars)\n",
      "  File \"/home/t/Documents/diss/CompiledApproach/treeMod8000/App/Models/Main.py\", line 111, in generate_and_analyse\n",
      "    tree_data = generate_model(filename, overrideParams, return_analysis=True)\n",
      "  File \"/home/t/anaconda3/lib/python3.7/site-packages/pyabc/smc.py\", line 553, in simulate_one\n",
      "    transitions)\n",
      "  File \"/home/t/anaconda3/lib/python3.7/site-packages/pyabc/smc.py\", line 644, in _evaluate_proposal\n",
      "    x_0)\n",
      "  File \"/home/t/Documents/diss/CompiledApproach/treeMod8000/App/Models/Main.py\", line 22, in generate_model\n",
      "    vertices        = Interpreter.interpret(tree, return_analysis)\n",
      "  File \"/home/t/anaconda3/lib/python3.7/site-packages/pyabc/model.py\", line 222, in accept\n",
      "    sum_stats_calculator)\n",
      "  File \"/home/t/anaconda3/lib/python3.7/site-packages/pyabc/smc.py\", line 644, in _evaluate_proposal\n",
      "    x_0)\n",
      "  File \"/home/t/anaconda3/lib/python3.7/site-packages/pyabc/model.py\", line 222, in accept\n",
      "    sum_stats_calculator)\n",
      "  File \"/home/t/anaconda3/lib/python3.7/site-packages/pyabc/model.py\", line 116, in summary_statistics\n",
      "    raw_data = self.sample(pars)\n",
      "  File \"/home/t/anaconda3/lib/python3.7/site-packages/pyabc/model.py\", line 222, in accept\n",
      "    sum_stats_calculator)\n",
      "  File \"/home/t/anaconda3/lib/python3.7/site-packages/pyabc/model.py\", line 261, in sample\n",
      "    return self.sample_function(pars)\n",
      "  File \"/home/t/anaconda3/lib/python3.7/site-packages/pyabc/model.py\", line 261, in sample\n",
      "    return self.sample_function(pars)\n",
      "  File \"<ipython-input-4-fe8d3e4dfdf6>\", line 2, in model\n",
      "    return Main.generate_and_analyse(modelName, params)\n"
     ]
    },
    {
     "name": "stderr",
     "output_type": "stream",
     "text": [
      "  File \"<ipython-input-4-fe8d3e4dfdf6>\", line 2, in model\n",
      "    return Main.generate_and_analyse(modelName, params)\n",
      "  File \"/home/t/anaconda3/lib/python3.7/site-packages/pyabc/model.py\", line 116, in summary_statistics\n",
      "    raw_data = self.sample(pars)\n",
      "  File \"/home/t/anaconda3/lib/python3.7/site-packages/pyabc/model.py\", line 116, in summary_statistics\n",
      "    raw_data = self.sample(pars)\n",
      "  File \"/home/t/Documents/diss/CompiledApproach/treeMod8000/App/Models/Interpreter.py\", line 96, in interpret\n",
      "    turtle.Interpret(element)\n",
      "  File \"/home/t/anaconda3/lib/python3.7/site-packages/pyabc/model.py\", line 261, in sample\n",
      "    return self.sample_function(pars)\n",
      "  File \"<ipython-input-4-fe8d3e4dfdf6>\", line 2, in model\n",
      "    return Main.generate_and_analyse(modelName, params)\n",
      "  File \"/home/t/anaconda3/lib/python3.7/site-packages/pyabc/model.py\", line 261, in sample\n",
      "    return self.sample_function(pars)\n",
      "  File \"<ipython-input-4-fe8d3e4dfdf6>\", line 2, in model\n",
      "    return Main.generate_and_analyse(modelName, params)\n",
      "  File \"/home/t/Documents/diss/CompiledApproach/treeMod8000/App/Models/Main.py\", line 111, in generate_and_analyse\n",
      "    tree_data = generate_model(filename, overrideParams, return_analysis=True)\n",
      "  File \"/home/t/anaconda3/lib/python3.7/site-packages/pyabc/model.py\", line 116, in summary_statistics\n",
      "    raw_data = self.sample(pars)\n",
      "  File \"/home/t/Documents/diss/CompiledApproach/treeMod8000/App/Models/Main.py\", line 22, in generate_model\n",
      "    vertices        = Interpreter.interpret(tree, return_analysis)\n",
      "  File \"/home/t/Documents/diss/CompiledApproach/treeMod8000/App/Models/Turtle.py\", line 57, in Interpret\n",
      "    self.Roll(2, theta)\n",
      "  File \"/home/t/Documents/diss/CompiledApproach/treeMod8000/App/Models/Main.py\", line 111, in generate_and_analyse\n",
      "    tree_data = generate_model(filename, overrideParams, return_analysis=True)\n",
      "  File \"<ipython-input-4-fe8d3e4dfdf6>\", line 2, in model\n",
      "    return Main.generate_and_analyse(modelName, params)\n",
      "  File \"/home/t/Documents/diss/CompiledApproach/treeMod8000/App/Models/Main.py\", line 111, in generate_and_analyse\n",
      "    tree_data = generate_model(filename, overrideParams, return_analysis=True)\n",
      "  File \"/home/t/Documents/diss/CompiledApproach/treeMod8000/App/Models/Main.py\", line 22, in generate_model\n",
      "    vertices        = Interpreter.interpret(tree, return_analysis)\n",
      "  File \"<ipython-input-4-fe8d3e4dfdf6>\", line 2, in model\n",
      "    return Main.generate_and_analyse(modelName, params)\n",
      "  File \"/home/t/Documents/diss/CompiledApproach/treeMod8000/App/Models/Interpreter.py\", line 85, in interpret\n",
      "    turtle.parentHeading = turtle.heading[:,0]\n",
      "  File \"/home/t/Documents/diss/CompiledApproach/treeMod8000/App/Models/Main.py\", line 111, in generate_and_analyse\n",
      "    tree_data = generate_model(filename, overrideParams, return_analysis=True)\n",
      "  File \"/home/t/Documents/diss/CompiledApproach/treeMod8000/App/Models/Main.py\", line 111, in generate_and_analyse\n",
      "    tree_data = generate_model(filename, overrideParams, return_analysis=True)\n",
      "  File \"/home/t/Documents/diss/CompiledApproach/treeMod8000/App/Models/Interpreter.py\", line 66, in interpret\n",
      "    xyzr = turtle.View(return_analysis)\n",
      "  File \"/home/t/Documents/diss/CompiledApproach/treeMod8000/App/Models/Main.py\", line 22, in generate_model\n",
      "    vertices        = Interpreter.interpret(tree, return_analysis)\n",
      "  File \"/home/t/anaconda3/lib/python3.7/site-packages/pyabc/model.py\", line 261, in sample\n",
      "    return self.sample_function(pars)\n",
      "  File \"/home/t/Documents/diss/CompiledApproach/treeMod8000/App/Models/Main.py\", line 111, in generate_and_analyse\n",
      "    tree_data = generate_model(filename, overrideParams, return_analysis=True)\n",
      "  File \"/home/t/Documents/diss/CompiledApproach/treeMod8000/App/Models/Turtle.py\", line 20, in Roll\n",
      "    self.heading = rotations.do_rot(self.heading, axis_label, theta)\n",
      "  File \"/home/t/Documents/diss/CompiledApproach/treeMod8000/App/Models/Main.py\", line 22, in generate_model\n",
      "    vertices        = Interpreter.interpret(tree, return_analysis)\n",
      "  File \"/home/t/Documents/diss/CompiledApproach/treeMod8000/App/Models/Main.py\", line 22, in generate_model\n",
      "    vertices        = Interpreter.interpret(tree, return_analysis)\n",
      "  File \"/home/t/Documents/diss/CompiledApproach/treeMod8000/App/Models/Interpreter.py\", line 78, in interpret\n",
      "    xyzr = turtle.View(return_analysis)\n",
      "  File \"/home/t/Documents/diss/CompiledApproach/treeMod8000/App/Models/Main.py\", line 22, in generate_model\n",
      "    vertices        = Interpreter.interpret(tree, return_analysis)\n",
      "  File \"/home/t/Documents/diss/CompiledApproach/treeMod8000/App/Models/Interpreter.py\", line 66, in interpret\n",
      "    xyzr = turtle.View(return_analysis)\n",
      "  File \"/home/t/Documents/diss/CompiledApproach/treeMod8000/App/Models/Main.py\", line 22, in generate_model\n",
      "    vertices        = Interpreter.interpret(tree, return_analysis)\n",
      "  File \"<ipython-input-4-fe8d3e4dfdf6>\", line 2, in model\n",
      "    return Main.generate_and_analyse(modelName, params)\n",
      "  File \"/home/t/Documents/diss/CompiledApproach/treeMod8000/App/Models/Turtle.py\", line 26, in View\n",
      "    verticalAngle = rotations.angleBetween([0,1,0], self.heading[:,0])\n",
      "  File \"/home/t/Documents/diss/CompiledApproach/treeMod8000/App/Models/Turtle.py\", line 26, in View\n",
      "    verticalAngle = rotations.angleBetween([0,1,0], self.heading[:,0])\n",
      "  File \"/home/t/Documents/diss/CompiledApproach/treeMod8000/App/Models/Main.py\", line 111, in generate_and_analyse\n",
      "    tree_data = generate_model(filename, overrideParams, return_analysis=True)\n",
      "  File \"/home/t/Documents/diss/CompiledApproach/treeMod8000/App/Models/rotations.py\", line 25, in angleBetween\n",
      "    if np.array_equal([1,0,0], vec1):\n",
      "  File \"/home/t/Documents/diss/CompiledApproach/treeMod8000/App/Models/Interpreter.py\", line 78, in interpret\n",
      "    xyzr = turtle.View(return_analysis)\n",
      "  File \"/home/t/Documents/diss/CompiledApproach/treeMod8000/App/Models/Interpreter.py\", line 68, in interpret\n",
      "    xyzr += (element.Length(),)\n",
      "  File \"/home/t/Documents/diss/CompiledApproach/treeMod8000/App/Models/rotations.py\", line 75, in do_rot\n",
      "    A = t_xz(axis)\n",
      "  File \"/home/t/Documents/diss/CompiledApproach/treeMod8000/App/Models/rotations.py\", line 29, in angleBetween\n",
      "    ang = dot(vec1, vec2) / (mag(vec1)*mag(vec2))\n",
      "KeyboardInterrupt\n",
      "  File \"/home/t/Documents/diss/CompiledApproach/treeMod8000/App/Models/Cell.py\", line 159, in Length\n",
      "    return self.h*2/(1+(2**(-self.w*(self.age-max_age))))\n",
      "  File \"/home/t/anaconda3/lib/python3.7/site-packages/numpy/core/numeric.py\", line 2423, in array_equal\n",
      "    a1, a2 = asarray(a1), asarray(a2)\n",
      "KeyboardInterrupt\n",
      "  File \"/home/t/Documents/diss/CompiledApproach/treeMod8000/App/Models/Turtle.py\", line 25, in View\n",
      "    parentAngle = rotations.angleBetween(self.parentHeading, self.heading[:,0])\n",
      "  File \"/home/t/Documents/diss/CompiledApproach/treeMod8000/App/Models/Interpreter.py\", line 78, in interpret\n",
      "    xyzr = turtle.View(return_analysis)\n",
      "  File \"/home/t/anaconda3/lib/python3.7/site-packages/numpy/core/numeric.py\", line 501, in asarray\n",
      "    return array(a, dtype, copy=False, order=order)\n",
      "  File \"/home/t/Documents/diss/CompiledApproach/treeMod8000/App/Models/rotations.py\", line 47, in t_xz\n",
      "    0, 0, 1,\n",
      "  File \"/home/t/Documents/diss/CompiledApproach/treeMod8000/App/Models/Turtle.py\", line 25, in View\n",
      "    parentAngle = rotations.angleBetween(self.parentHeading, self.heading[:,0])\n",
      "  File \"/home/t/Documents/diss/CompiledApproach/treeMod8000/App/Models/rotations.py\", line 25, in angleBetween\n",
      "    if np.array_equal([1,0,0], vec1):\n",
      "KeyboardInterrupt\n",
      "KeyboardInterrupt\n",
      "  File \"/home/t/anaconda3/lib/python3.7/site-packages/numpy/core/numeric.py\", line 2428, in array_equal\n",
      "    return bool(asarray(a1 == a2).all())\n",
      "KeyboardInterrupt\n",
      "KeyboardInterrupt\n",
      "  File \"/home/t/Documents/diss/CompiledApproach/treeMod8000/App/Models/rotations.py\", line 33, in angleBetween\n",
      "    if vec1 == [1,0]:\n",
      "KeyboardInterrupt\n",
      "  File \"/home/t/Documents/diss/CompiledApproach/treeMod8000/App/Models/Turtle.py\", line 27, in View\n",
      "    horizontalAngle = rotations.angleBetween([1,0,0], self.heading[:,0])\n",
      "KeyboardInterrupt\n",
      "  File \"/home/t/Documents/diss/CompiledApproach/treeMod8000/App/Models/rotations.py\", line 25, in angleBetween\n",
      "    if np.array_equal([1,0,0], vec1):\n",
      "  File \"/home/t/anaconda3/lib/python3.7/site-packages/numpy/core/numeric.py\", line 2428, in array_equal\n",
      "    return bool(asarray(a1 == a2).all())\n"
     ]
    },
    {
     "name": "stderr",
     "output_type": "stream",
     "text": [
      "  File \"/home/t/anaconda3/lib/python3.7/site-packages/numpy/core/_methods.py\", line 46, in _all\n",
      "    return umr_all(a, axis, dtype, out, keepdims)\n"
     ]
    },
    {
     "ename": "KeyboardInterrupt",
     "evalue": "",
     "output_type": "error",
     "traceback": [
      "\u001b[0;31m---------------------------------------------------------------------------\u001b[0m",
      "\u001b[0;31mKeyboardInterrupt\u001b[0m                         Traceback (most recent call last)",
      "\u001b[0;32m<ipython-input-12-1bcc8c9138e9>\u001b[0m in \u001b[0;36m<module>\u001b[0;34m()\u001b[0m\n\u001b[0;32m----> 1\u001b[0;31m \u001b[0mhistory\u001b[0m \u001b[0;34m=\u001b[0m \u001b[0mabc\u001b[0m\u001b[0;34m.\u001b[0m\u001b[0mrun\u001b[0m\u001b[0;34m(\u001b[0m\u001b[0mminimum_epsilon\u001b[0m\u001b[0;34m=\u001b[0m\u001b[0;36m0.5\u001b[0m\u001b[0;34m,\u001b[0m \u001b[0mmax_nr_populations\u001b[0m\u001b[0;34m=\u001b[0m\u001b[0;36m13\u001b[0m\u001b[0;34m)\u001b[0m\u001b[0;34m\u001b[0m\u001b[0m\n\u001b[0m",
      "\u001b[0;32m~/anaconda3/lib/python3.7/site-packages/pyabc/smc.py\u001b[0m in \u001b[0;36mrun\u001b[0;34m(self, minimum_epsilon, max_nr_populations, min_acceptance_rate, **kwargs)\u001b[0m\n\u001b[1;32m    792\u001b[0m             \u001b[0;31m# perform the sampling\u001b[0m\u001b[0;34m\u001b[0m\u001b[0;34m\u001b[0m\u001b[0m\n\u001b[1;32m    793\u001b[0m             sample = self.sampler.sample_until_n_accepted(\n\u001b[0;32m--> 794\u001b[0;31m                 self.population_strategy.nr_particles, simulate_one)\n\u001b[0m\u001b[1;32m    795\u001b[0m \u001b[0;34m\u001b[0m\u001b[0m\n\u001b[1;32m    796\u001b[0m             \u001b[0;31m# retrieve accepted population\u001b[0m\u001b[0;34m\u001b[0m\u001b[0;34m\u001b[0m\u001b[0m\n",
      "\u001b[0;32m~/anaconda3/lib/python3.7/site-packages/pyabc/sampler/multicore_evaluation_parallel.py\u001b[0m in \u001b[0;36msample_until_n_accepted\u001b[0;34m(self, n, simulate_one)\u001b[0m\n\u001b[1;32m    109\u001b[0m         \u001b[0mn_done\u001b[0m \u001b[0;34m=\u001b[0m \u001b[0;36m0\u001b[0m\u001b[0;34m\u001b[0m\u001b[0m\n\u001b[1;32m    110\u001b[0m         \u001b[0;32mwhile\u001b[0m \u001b[0mn_done\u001b[0m \u001b[0;34m<\u001b[0m \u001b[0mlen\u001b[0m\u001b[0;34m(\u001b[0m\u001b[0mprocesses\u001b[0m\u001b[0;34m)\u001b[0m\u001b[0;34m:\u001b[0m\u001b[0;34m\u001b[0m\u001b[0m\n\u001b[0;32m--> 111\u001b[0;31m             \u001b[0mval\u001b[0m \u001b[0;34m=\u001b[0m \u001b[0mget_if_worker_healthy\u001b[0m\u001b[0;34m(\u001b[0m\u001b[0mprocesses\u001b[0m\u001b[0;34m,\u001b[0m \u001b[0mqueue\u001b[0m\u001b[0;34m)\u001b[0m\u001b[0;34m\u001b[0m\u001b[0m\n\u001b[0m\u001b[1;32m    112\u001b[0m             \u001b[0;32mif\u001b[0m \u001b[0mval\u001b[0m \u001b[0;34m==\u001b[0m \u001b[0mDONE\u001b[0m\u001b[0;34m:\u001b[0m\u001b[0;34m\u001b[0m\u001b[0m\n\u001b[1;32m    113\u001b[0m                 \u001b[0mn_done\u001b[0m \u001b[0;34m+=\u001b[0m \u001b[0;36m1\u001b[0m\u001b[0;34m\u001b[0m\u001b[0m\n",
      "\u001b[0;32m~/anaconda3/lib/python3.7/site-packages/pyabc/sampler/multicorebase.py\u001b[0m in \u001b[0;36mget_if_worker_healthy\u001b[0;34m(workers, queue)\u001b[0m\n\u001b[1;32m     51\u001b[0m     \u001b[0;32mwhile\u001b[0m \u001b[0;32mTrue\u001b[0m\u001b[0;34m:\u001b[0m\u001b[0;34m\u001b[0m\u001b[0m\n\u001b[1;32m     52\u001b[0m         \u001b[0;32mtry\u001b[0m\u001b[0;34m:\u001b[0m\u001b[0;34m\u001b[0m\u001b[0m\n\u001b[0;32m---> 53\u001b[0;31m             \u001b[0mitem\u001b[0m \u001b[0;34m=\u001b[0m \u001b[0mqueue\u001b[0m\u001b[0;34m.\u001b[0m\u001b[0mget\u001b[0m\u001b[0;34m(\u001b[0m\u001b[0;32mTrue\u001b[0m\u001b[0;34m,\u001b[0m \u001b[0;36m5\u001b[0m\u001b[0;34m)\u001b[0m\u001b[0;34m\u001b[0m\u001b[0m\n\u001b[0m\u001b[1;32m     54\u001b[0m             \u001b[0;32mreturn\u001b[0m \u001b[0mitem\u001b[0m\u001b[0;34m\u001b[0m\u001b[0m\n\u001b[1;32m     55\u001b[0m         \u001b[0;32mexcept\u001b[0m \u001b[0mEmpty\u001b[0m\u001b[0;34m:\u001b[0m\u001b[0;34m\u001b[0m\u001b[0m\n",
      "\u001b[0;32m~/anaconda3/lib/python3.7/multiprocessing/queues.py\u001b[0m in \u001b[0;36mget\u001b[0;34m(self, block, timeout)\u001b[0m\n\u001b[1;32m    102\u001b[0m                 \u001b[0;32mif\u001b[0m \u001b[0mblock\u001b[0m\u001b[0;34m:\u001b[0m\u001b[0;34m\u001b[0m\u001b[0m\n\u001b[1;32m    103\u001b[0m                     \u001b[0mtimeout\u001b[0m \u001b[0;34m=\u001b[0m \u001b[0mdeadline\u001b[0m \u001b[0;34m-\u001b[0m \u001b[0mtime\u001b[0m\u001b[0;34m.\u001b[0m\u001b[0mtime\u001b[0m\u001b[0;34m(\u001b[0m\u001b[0;34m)\u001b[0m\u001b[0;34m\u001b[0m\u001b[0m\n\u001b[0;32m--> 104\u001b[0;31m                     \u001b[0;32mif\u001b[0m \u001b[0;32mnot\u001b[0m \u001b[0mself\u001b[0m\u001b[0;34m.\u001b[0m\u001b[0m_poll\u001b[0m\u001b[0;34m(\u001b[0m\u001b[0mtimeout\u001b[0m\u001b[0;34m)\u001b[0m\u001b[0;34m:\u001b[0m\u001b[0;34m\u001b[0m\u001b[0m\n\u001b[0m\u001b[1;32m    105\u001b[0m                         \u001b[0;32mraise\u001b[0m \u001b[0mEmpty\u001b[0m\u001b[0;34m\u001b[0m\u001b[0m\n\u001b[1;32m    106\u001b[0m                 \u001b[0;32melif\u001b[0m \u001b[0;32mnot\u001b[0m \u001b[0mself\u001b[0m\u001b[0;34m.\u001b[0m\u001b[0m_poll\u001b[0m\u001b[0;34m(\u001b[0m\u001b[0;34m)\u001b[0m\u001b[0;34m:\u001b[0m\u001b[0;34m\u001b[0m\u001b[0m\n",
      "\u001b[0;32m~/anaconda3/lib/python3.7/multiprocessing/connection.py\u001b[0m in \u001b[0;36mpoll\u001b[0;34m(self, timeout)\u001b[0m\n\u001b[1;32m    255\u001b[0m         \u001b[0mself\u001b[0m\u001b[0;34m.\u001b[0m\u001b[0m_check_closed\u001b[0m\u001b[0;34m(\u001b[0m\u001b[0;34m)\u001b[0m\u001b[0;34m\u001b[0m\u001b[0m\n\u001b[1;32m    256\u001b[0m         \u001b[0mself\u001b[0m\u001b[0;34m.\u001b[0m\u001b[0m_check_readable\u001b[0m\u001b[0;34m(\u001b[0m\u001b[0;34m)\u001b[0m\u001b[0;34m\u001b[0m\u001b[0m\n\u001b[0;32m--> 257\u001b[0;31m         \u001b[0;32mreturn\u001b[0m \u001b[0mself\u001b[0m\u001b[0;34m.\u001b[0m\u001b[0m_poll\u001b[0m\u001b[0;34m(\u001b[0m\u001b[0mtimeout\u001b[0m\u001b[0;34m)\u001b[0m\u001b[0;34m\u001b[0m\u001b[0m\n\u001b[0m\u001b[1;32m    258\u001b[0m \u001b[0;34m\u001b[0m\u001b[0m\n\u001b[1;32m    259\u001b[0m     \u001b[0;32mdef\u001b[0m \u001b[0m__enter__\u001b[0m\u001b[0;34m(\u001b[0m\u001b[0mself\u001b[0m\u001b[0;34m)\u001b[0m\u001b[0;34m:\u001b[0m\u001b[0;34m\u001b[0m\u001b[0m\n",
      "\u001b[0;32m~/anaconda3/lib/python3.7/multiprocessing/connection.py\u001b[0m in \u001b[0;36m_poll\u001b[0;34m(self, timeout)\u001b[0m\n\u001b[1;32m    412\u001b[0m \u001b[0;34m\u001b[0m\u001b[0m\n\u001b[1;32m    413\u001b[0m     \u001b[0;32mdef\u001b[0m \u001b[0m_poll\u001b[0m\u001b[0;34m(\u001b[0m\u001b[0mself\u001b[0m\u001b[0;34m,\u001b[0m \u001b[0mtimeout\u001b[0m\u001b[0;34m)\u001b[0m\u001b[0;34m:\u001b[0m\u001b[0;34m\u001b[0m\u001b[0m\n\u001b[0;32m--> 414\u001b[0;31m         \u001b[0mr\u001b[0m \u001b[0;34m=\u001b[0m \u001b[0mwait\u001b[0m\u001b[0;34m(\u001b[0m\u001b[0;34m[\u001b[0m\u001b[0mself\u001b[0m\u001b[0;34m]\u001b[0m\u001b[0;34m,\u001b[0m \u001b[0mtimeout\u001b[0m\u001b[0;34m)\u001b[0m\u001b[0;34m\u001b[0m\u001b[0m\n\u001b[0m\u001b[1;32m    415\u001b[0m         \u001b[0;32mreturn\u001b[0m \u001b[0mbool\u001b[0m\u001b[0;34m(\u001b[0m\u001b[0mr\u001b[0m\u001b[0;34m)\u001b[0m\u001b[0;34m\u001b[0m\u001b[0m\n\u001b[1;32m    416\u001b[0m \u001b[0;34m\u001b[0m\u001b[0m\n",
      "\u001b[0;32m~/anaconda3/lib/python3.7/multiprocessing/connection.py\u001b[0m in \u001b[0;36mwait\u001b[0;34m(object_list, timeout)\u001b[0m\n\u001b[1;32m    918\u001b[0m \u001b[0;34m\u001b[0m\u001b[0m\n\u001b[1;32m    919\u001b[0m             \u001b[0;32mwhile\u001b[0m \u001b[0;32mTrue\u001b[0m\u001b[0;34m:\u001b[0m\u001b[0;34m\u001b[0m\u001b[0m\n\u001b[0;32m--> 920\u001b[0;31m                 \u001b[0mready\u001b[0m \u001b[0;34m=\u001b[0m \u001b[0mselector\u001b[0m\u001b[0;34m.\u001b[0m\u001b[0mselect\u001b[0m\u001b[0;34m(\u001b[0m\u001b[0mtimeout\u001b[0m\u001b[0;34m)\u001b[0m\u001b[0;34m\u001b[0m\u001b[0m\n\u001b[0m\u001b[1;32m    921\u001b[0m                 \u001b[0;32mif\u001b[0m \u001b[0mready\u001b[0m\u001b[0;34m:\u001b[0m\u001b[0;34m\u001b[0m\u001b[0m\n\u001b[1;32m    922\u001b[0m                     \u001b[0;32mreturn\u001b[0m \u001b[0;34m[\u001b[0m\u001b[0mkey\u001b[0m\u001b[0;34m.\u001b[0m\u001b[0mfileobj\u001b[0m \u001b[0;32mfor\u001b[0m \u001b[0;34m(\u001b[0m\u001b[0mkey\u001b[0m\u001b[0;34m,\u001b[0m \u001b[0mevents\u001b[0m\u001b[0;34m)\u001b[0m \u001b[0;32min\u001b[0m \u001b[0mready\u001b[0m\u001b[0;34m]\u001b[0m\u001b[0;34m\u001b[0m\u001b[0m\n",
      "\u001b[0;32m~/anaconda3/lib/python3.7/selectors.py\u001b[0m in \u001b[0;36mselect\u001b[0;34m(self, timeout)\u001b[0m\n\u001b[1;32m    413\u001b[0m         \u001b[0mready\u001b[0m \u001b[0;34m=\u001b[0m \u001b[0;34m[\u001b[0m\u001b[0;34m]\u001b[0m\u001b[0;34m\u001b[0m\u001b[0m\n\u001b[1;32m    414\u001b[0m         \u001b[0;32mtry\u001b[0m\u001b[0;34m:\u001b[0m\u001b[0;34m\u001b[0m\u001b[0m\n\u001b[0;32m--> 415\u001b[0;31m             \u001b[0mfd_event_list\u001b[0m \u001b[0;34m=\u001b[0m \u001b[0mself\u001b[0m\u001b[0;34m.\u001b[0m\u001b[0m_selector\u001b[0m\u001b[0;34m.\u001b[0m\u001b[0mpoll\u001b[0m\u001b[0;34m(\u001b[0m\u001b[0mtimeout\u001b[0m\u001b[0;34m)\u001b[0m\u001b[0;34m\u001b[0m\u001b[0m\n\u001b[0m\u001b[1;32m    416\u001b[0m         \u001b[0;32mexcept\u001b[0m \u001b[0mInterruptedError\u001b[0m\u001b[0;34m:\u001b[0m\u001b[0;34m\u001b[0m\u001b[0m\n\u001b[1;32m    417\u001b[0m             \u001b[0;32mreturn\u001b[0m \u001b[0mready\u001b[0m\u001b[0;34m\u001b[0m\u001b[0m\n",
      "\u001b[0;31mKeyboardInterrupt\u001b[0m: "
     ]
    }
   ],
   "source": [
    "history = abc.run(minimum_epsilon=0.5, max_nr_populations=13)"
   ]
  },
  {
   "cell_type": "code",
   "execution_count": null,
   "metadata": {},
   "outputs": [],
   "source": [
    "# Visualise results\n",
    "from pyabc.visualization import plot_kde_1d\n",
    "for (k,v) in metrics.items():\n",
    "    fig, ax = plt.subplots()\n",
    "    for t in range(history.max_t, history.max_t+1):\n",
    "        df, w = history.get_distribution(m=0, t=t)\n",
    "        plot_kde_1d(df, w,\n",
    "                    xmin=v[0], xmax=v[1],\n",
    "                    x=k, ax=ax,\n",
    "                    label=\"PDF t={}\".format(t))\n",
    "    ax.legend();"
   ]
  },
  {
   "cell_type": "code",
   "execution_count": null,
   "metadata": {},
   "outputs": [],
   "source": []
  }
 ],
 "metadata": {
  "kernelspec": {
   "display_name": "Python 3",
   "language": "python",
   "name": "python3"
  },
  "language_info": {
   "codemirror_mode": {
    "name": "ipython",
    "version": 3
   },
   "file_extension": ".py",
   "mimetype": "text/x-python",
   "name": "python",
   "nbconvert_exporter": "python",
   "pygments_lexer": "ipython3",
   "version": "3.7.0"
  }
 },
 "nbformat": 4,
 "nbformat_minor": 2
}
