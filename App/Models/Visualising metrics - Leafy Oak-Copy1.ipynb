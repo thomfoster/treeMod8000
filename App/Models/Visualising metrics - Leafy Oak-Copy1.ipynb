{
 "cells": [
  {
   "cell_type": "code",
   "execution_count": 1,
   "metadata": {},
   "outputs": [],
   "source": [
    "import Parser, Deriver, Interpreter, Analyser, SelfOrg\n",
    "import numpy as np\n",
    "import math"
   ]
  },
  {
   "cell_type": "code",
   "execution_count": 2,
   "metadata": {},
   "outputs": [],
   "source": [
    "modelName = 'lentest'"
   ]
  },
  {
   "cell_type": "code",
   "execution_count": 3,
   "metadata": {},
   "outputs": [],
   "source": [
    "# Have to generate manually as we want points to be same for render and stats.\n",
    "# We also want to be able to access some inner stuff for plotting"
   ]
  },
  {
   "cell_type": "code",
   "execution_count": 4,
   "metadata": {},
   "outputs": [],
   "source": [
    "Specification   = Parser.parse('Specifications/'+modelName+'.txt', {})"
   ]
  },
  {
   "cell_type": "code",
   "execution_count": 5,
   "metadata": {},
   "outputs": [],
   "source": [
    "scale = 1"
   ]
  },
  {
   "cell_type": "code",
   "execution_count": 6,
   "metadata": {},
   "outputs": [
    {
     "data": {
      "text/plain": [
       "{'age_limit': 1000,\n",
       " 'gen_limit': 1000,\n",
       " 'self_org': False,\n",
       " 'defaults': {},\n",
       " 'sections': {'1': {'constructer': Cell.Sig2,\n",
       "   'slash': 9.0,\n",
       "   'slashr': 0.0,\n",
       "   'plus': 120.0,\n",
       "   'plusr': 40.0,\n",
       "   'decay': 0.7,\n",
       "   'd': 0.5,\n",
       "   'h': 30.0,\n",
       "   'w': 0.15,\n",
       "   'rules': [['GEOM', [1.0], '0>1']],\n",
       "   'id': '1',\n",
       "   'width': 10.0}},\n",
       " 'axiom': <Cell.Sig2 at 0x7f92e32cab70>,\n",
       " 'depth': 10,\n",
       " 'thickness': 10.0,\n",
       " 'num_voxels': 50,\n",
       " 'shadow_width': 4,\n",
       " 'shadow_height': 10,\n",
       " 'dec_close': 0.98,\n",
       " 'dec_far': 1.0}"
      ]
     },
     "execution_count": 6,
     "metadata": {},
     "output_type": "execute_result"
    }
   ],
   "source": [
    "Specification"
   ]
  },
  {
   "cell_type": "code",
   "execution_count": 7,
   "metadata": {},
   "outputs": [],
   "source": [
    "points = []\n",
    "\n",
    "if Specification['self_org'] == False:\n",
    "\n",
    "    # DERIVE\n",
    "    n               = Specification['depth']\n",
    "    axiom           = Specification['axiom']\n",
    "    tree            = [axiom]\n",
    "    tree            = Deriver.derive(tree,n)\n",
    "\n",
    "    # INTERPRET\n",
    "    points, scale   = Interpreter.interpret(tree, True, return_scale=True)\n",
    "\n",
    "else:\n",
    "\n",
    "    # DERIVE AND INTERPRET TOGETHER\n",
    "    n               = Specification['depth']\n",
    "    axiom           = Specification['axiom']\n",
    "    tree            = [axiom]\n",
    "    num_voxels      = Specification['num_voxels']\n",
    "    shadow_height   = Specification['shadow_height']\n",
    "    shadow_width    = Specification['shadow_width']\n",
    "    decrement_close = Specification['dec_close']\n",
    "    decrement_far   = Specification['dec_far']\n",
    "\n",
    "    for i in range(0,n):\n",
    "        tree = Deriver.derive(tree,1)\n",
    "        points, scale = Interpreter.interpret(tree, True, return_scale = True)\n",
    "        voxels          = SelfOrg.calc_light(points,\n",
    "                                             num_voxels,\n",
    "                                             shadow_height,\n",
    "                                             shadow_width,\n",
    "                                             decrement_close,\n",
    "                                             decrement_far)\n",
    "        SelfOrg.update_cells(tree, voxels, scale)\n",
    "        print(\"Interpreted for the \"+str(i+1)+\"th time.\")"
   ]
  },
  {
   "cell_type": "code",
   "execution_count": 8,
   "metadata": {},
   "outputs": [
    {
     "name": "stdout",
     "output_type": "stream",
     "text": [
      "writing to file...\n",
      "done writing.\n"
     ]
    }
   ],
   "source": [
    "# So we can view what we visualised\n",
    "print(\"writing to file...\")\n",
    "with open(\"data.dat\", mode=\"w\") as f:\n",
    "    f.write(str(len(points))+\"\\n\")\n",
    "    for p in points:\n",
    "        x,y,z,r,a,b,c,d,l = p\n",
    "        x /= scale\n",
    "        y /= scale\n",
    "        y -= 0.5\n",
    "        z /= scale\n",
    "        r /= scale\n",
    "        line = [x,y,z,r,l]\n",
    "        for feature in line:\n",
    "            f.write(str(feature)+\"\\t\")\n",
    "        f.write(\"\\n\")\n",
    "print(\"done writing.\")"
   ]
  },
  {
   "cell_type": "code",
   "execution_count": 9,
   "metadata": {},
   "outputs": [
    {
     "data": {
      "text/plain": [
       "(0, 0, 0, 10.0, 0.0, 270.0, 0.0, 9.527234285809307, 0.0)"
      ]
     },
     "execution_count": 9,
     "metadata": {},
     "output_type": "execute_result"
    }
   ],
   "source": [
    "points[0]"
   ]
  },
  {
   "cell_type": "code",
   "execution_count": 10,
   "metadata": {},
   "outputs": [
    {
     "data": {
      "text/plain": [
       "(3.5721407054634913e-32,\n",
       " 9.527234285809307,\n",
       " -5.833748486421644e-16,\n",
       " 7.0,\n",
       " 0.0,\n",
       " 270.0,\n",
       " 0.0,\n",
       " 9.527234285809307,\n",
       " 0.0)"
      ]
     },
     "execution_count": 10,
     "metadata": {},
     "output_type": "execute_result"
    }
   ],
   "source": [
    "points[1]"
   ]
  },
  {
   "cell_type": "code",
   "execution_count": 11,
   "metadata": {},
   "outputs": [],
   "source": [
    "points[2]\n",
    "full_points = points\n",
    "full_points = np.array(points)"
   ]
  },
  {
   "cell_type": "code",
   "execution_count": 12,
   "metadata": {},
   "outputs": [],
   "source": [
    "points = points[2:]"
   ]
  },
  {
   "cell_type": "code",
   "execution_count": 13,
   "metadata": {},
   "outputs": [
    {
     "ename": "ValueError",
     "evalue": "math domain error",
     "output_type": "error",
     "traceback": [
      "\u001b[0;31m---------------------------------------------------------------------------\u001b[0m",
      "\u001b[0;31mValueError\u001b[0m                                Traceback (most recent call last)",
      "\u001b[0;32m<ipython-input-13-0655e07258f3>\u001b[0m in \u001b[0;36m<module>\u001b[0;34m()\u001b[0m\n\u001b[0;32m----> 1\u001b[0;31m \u001b[0mmetrics\u001b[0m         \u001b[0;34m=\u001b[0m \u001b[0mAnalyser\u001b[0m\u001b[0;34m.\u001b[0m\u001b[0manalyse\u001b[0m\u001b[0;34m(\u001b[0m\u001b[0mpoints\u001b[0m\u001b[0;34m)\u001b[0m\u001b[0;34m\u001b[0m\u001b[0m\n\u001b[0m",
      "\u001b[0;32m~/Documents/diss/CompiledApproach/treeMod8000/App/Models/Analyser.py\u001b[0m in \u001b[0;36manalyse\u001b[0;34m(treeData)\u001b[0m\n\u001b[1;32m     95\u001b[0m     stats = {\n\u001b[1;32m     96\u001b[0m         \u001b[0;34m'parentAngle_mean'\u001b[0m\u001b[0;34m:\u001b[0m \u001b[0mpAng\u001b[0m\u001b[0;34m.\u001b[0m\u001b[0mmean\u001b[0m\u001b[0;34m(\u001b[0m\u001b[0;34m)\u001b[0m\u001b[0;34m,\u001b[0m\u001b[0;34m\u001b[0m\u001b[0m\n\u001b[0;32m---> 97\u001b[0;31m         \u001b[0;34m'parentAngle_variance'\u001b[0m\u001b[0;34m:\u001b[0m \u001b[0mpAng\u001b[0m\u001b[0;34m.\u001b[0m\u001b[0msd\u001b[0m\u001b[0;34m(\u001b[0m\u001b[0;34m)\u001b[0m\u001b[0;34m,\u001b[0m\u001b[0;34m\u001b[0m\u001b[0m\n\u001b[0m\u001b[1;32m     98\u001b[0m         \u001b[0;34m'length_mean'\u001b[0m\u001b[0;34m:\u001b[0m \u001b[0mlength\u001b[0m\u001b[0;34m.\u001b[0m\u001b[0mmean\u001b[0m\u001b[0;34m(\u001b[0m\u001b[0;34m)\u001b[0m\u001b[0;34m,\u001b[0m\u001b[0;34m\u001b[0m\u001b[0m\n\u001b[1;32m     99\u001b[0m         \u001b[0;34m'length_variance'\u001b[0m\u001b[0;34m:\u001b[0m \u001b[0mlength\u001b[0m\u001b[0;34m.\u001b[0m\u001b[0msd\u001b[0m\u001b[0;34m(\u001b[0m\u001b[0;34m)\u001b[0m\u001b[0;34m,\u001b[0m\u001b[0;34m\u001b[0m\u001b[0m\n",
      "\u001b[0;32m~/Documents/diss/CompiledApproach/treeMod8000/App/Models/Analyser.py\u001b[0m in \u001b[0;36msd\u001b[0;34m(self)\u001b[0m\n\u001b[1;32m     17\u001b[0m \u001b[0;34m\u001b[0m\u001b[0m\n\u001b[1;32m     18\u001b[0m     \u001b[0;32mdef\u001b[0m \u001b[0msd\u001b[0m\u001b[0;34m(\u001b[0m\u001b[0mself\u001b[0m\u001b[0;34m)\u001b[0m\u001b[0;34m:\u001b[0m\u001b[0;34m\u001b[0m\u001b[0m\n\u001b[0;32m---> 19\u001b[0;31m         \u001b[0;32mreturn\u001b[0m \u001b[0mmath\u001b[0m\u001b[0;34m.\u001b[0m\u001b[0msqrt\u001b[0m\u001b[0;34m(\u001b[0m\u001b[0;34m(\u001b[0m\u001b[0mself\u001b[0m\u001b[0;34m.\u001b[0m\u001b[0msquares\u001b[0m\u001b[0;34m/\u001b[0m\u001b[0mself\u001b[0m\u001b[0;34m.\u001b[0m\u001b[0mn\u001b[0m\u001b[0;34m)\u001b[0m \u001b[0;34m-\u001b[0m \u001b[0mself\u001b[0m\u001b[0;34m.\u001b[0m\u001b[0mmean\u001b[0m\u001b[0;34m(\u001b[0m\u001b[0;34m)\u001b[0m\u001b[0;34m**\u001b[0m\u001b[0;36m2\u001b[0m\u001b[0;34m)\u001b[0m\u001b[0;34m\u001b[0m\u001b[0m\n\u001b[0m\u001b[1;32m     20\u001b[0m \u001b[0;34m\u001b[0m\u001b[0m\n\u001b[1;32m     21\u001b[0m \u001b[0;32mclass\u001b[0m \u001b[0mboundingBox\u001b[0m\u001b[0;34m:\u001b[0m\u001b[0;34m\u001b[0m\u001b[0m\n",
      "\u001b[0;31mValueError\u001b[0m: math domain error"
     ]
    }
   ],
   "source": [
    "metrics         = Analyser.analyse(points)"
   ]
  },
  {
   "cell_type": "code",
   "execution_count": null,
   "metadata": {},
   "outputs": [],
   "source": [
    "vertices        = np.array(points)"
   ]
  },
  {
   "cell_type": "code",
   "execution_count": null,
   "metadata": {},
   "outputs": [],
   "source": [
    "for (k,v) in metrics.items():\n",
    "    print(k, ':', v)"
   ]
  },
  {
   "cell_type": "code",
   "execution_count": null,
   "metadata": {},
   "outputs": [],
   "source": [
    "math.degrees(metrics['parentAngle_mean'])"
   ]
  },
  {
   "cell_type": "code",
   "execution_count": null,
   "metadata": {},
   "outputs": [],
   "source": [
    "vertices[:,5].mean()"
   ]
  },
  {
   "cell_type": "code",
   "execution_count": null,
   "metadata": {},
   "outputs": [],
   "source": [
    "import matplotlib.pyplot as plt"
   ]
  },
  {
   "cell_type": "code",
   "execution_count": null,
   "metadata": {},
   "outputs": [],
   "source": [
    "#Fed up of accessing via numerical values\n",
    "# Format of points is:\n",
    "# 0--1--2--3--4--5--6--7--8\n",
    "# x  y  z  r  vA hA pA l--leaf\n",
    "keys = {\n",
    "    'x': 0,\n",
    "    'y': 1,\n",
    "    'z': 2,\n",
    "    'radius': 3,\n",
    "    'vertical orientation': 4,\n",
    "    'horizontal orientation': 5,\n",
    "    'parent angle': 6,\n",
    "    'length': 7,\n",
    "    'leaf': 8\n",
    "}"
   ]
  },
  {
   "cell_type": "code",
   "execution_count": null,
   "metadata": {},
   "outputs": [],
   "source": [
    "lens = vertices[:,keys['length']][::-2]\n",
    "inds = np.asarray(range(0,10))\n",
    "len(inds)"
   ]
  },
  {
   "cell_type": "code",
   "execution_count": null,
   "metadata": {},
   "outputs": [],
   "source": [
    "plt.scatter(inds, lens, color='blue', edgecolor='black')"
   ]
  },
  {
   "cell_type": "code",
   "execution_count": null,
   "metadata": {},
   "outputs": [],
   "source": [
    "plt.hist(vertices[:,keys['length']], color='blue', edgecolor='black', bins=36, log=False)"
   ]
  },
  {
   "cell_type": "code",
   "execution_count": null,
   "metadata": {},
   "outputs": [],
   "source": [
    "max_height = np.max(vertices[:,keys['y']])"
   ]
  },
  {
   "cell_type": "code",
   "execution_count": null,
   "metadata": {},
   "outputs": [],
   "source": [
    "lower_third  = full_points[full_points[:,keys['y']] < max_height/3]\n",
    "middle_third = full_points[full_points[:,keys['y']] < 2*max_height/3]\n",
    "middle_third = middle_third[middle_third[:,keys['y']] > max_height/3]\n",
    "upper_third = full_points[full_points[:,keys['y']] > 2*max_height/3]"
   ]
  },
  {
   "cell_type": "code",
   "execution_count": null,
   "metadata": {},
   "outputs": [],
   "source": [
    "points[0]"
   ]
  },
  {
   "cell_type": "code",
   "execution_count": null,
   "metadata": {},
   "outputs": [],
   "source": [
    "plt.hist(lower_third[:,keys['y']], color='blue', edgecolor='black', bins=36)"
   ]
  },
  {
   "cell_type": "code",
   "execution_count": null,
   "metadata": {},
   "outputs": [],
   "source": [
    "plt.hist(middle_third[:,keys['x']], color='blue', edgecolor='black', bins=36)"
   ]
  },
  {
   "cell_type": "code",
   "execution_count": null,
   "metadata": {},
   "outputs": [],
   "source": [
    "plt.hist(upper_third[:,keys['x']], color='blue', edgecolor='black', bins=36)"
   ]
  },
  {
   "cell_type": "code",
   "execution_count": null,
   "metadata": {},
   "outputs": [],
   "source": [
    "# Problem with these graphs is that they weight all nodes equally, regardless of size and mass\n",
    "# Create metric that calculates biomass for each thing, then adds that many of itself to distribution.\n",
    "\n",
    "weighted_ps = []"
   ]
  },
  {
   "cell_type": "code",
   "execution_count": null,
   "metadata": {},
   "outputs": [],
   "source": [
    "vertices.shape[0]/2"
   ]
  },
  {
   "cell_type": "code",
   "execution_count": null,
   "metadata": {},
   "outputs": [],
   "source": [
    "ps = zip(points[::2], points[1::2])"
   ]
  },
  {
   "cell_type": "code",
   "execution_count": null,
   "metadata": {},
   "outputs": [],
   "source": [
    "points[5]"
   ]
  },
  {
   "cell_type": "code",
   "execution_count": null,
   "metadata": {},
   "outputs": [],
   "source": [
    "weights = np.array([Analyser.volumeOfConic(r1,r2,l) for ((x,y,z,r1,va,ha,pa,l,leaf),(x2,y2,z2,r2,va2,ha2,pa2,l2,leaf)) in ps])"
   ]
  },
  {
   "cell_type": "code",
   "execution_count": null,
   "metadata": {},
   "outputs": [],
   "source": [
    "weights.sum()"
   ]
  },
  {
   "cell_type": "code",
   "execution_count": null,
   "metadata": {},
   "outputs": [],
   "source": [
    "log_weights = [(Analyser.volumeOfConic(r1,r2,l)) for ((x,y,z,r1,va,ha,pa,l,leaf),(x2,y2,z2,r2,va2,ha2,pa2,l2,leaf)) in ps]"
   ]
  },
  {
   "cell_type": "code",
   "execution_count": null,
   "metadata": {},
   "outputs": [],
   "source": [
    "plt.hist(log_weights, color='black', edgecolor='black', bins=36)"
   ]
  },
  {
   "cell_type": "code",
   "execution_count": null,
   "metadata": {},
   "outputs": [],
   "source": [
    "n = weights.shape[0]\n",
    "n"
   ]
  },
  {
   "cell_type": "code",
   "execution_count": null,
   "metadata": {},
   "outputs": [],
   "source": [
    "import math"
   ]
  },
  {
   "cell_type": "code",
   "execution_count": null,
   "metadata": {},
   "outputs": [],
   "source": [
    "points[2]"
   ]
  },
  {
   "cell_type": "code",
   "execution_count": null,
   "metadata": {},
   "outputs": [],
   "source": [
    "for i in range(n):\n",
    "    for j in range(math.floor(math.log(weights[i]))):\n",
    "        weighted_ps.append(points[2*i])"
   ]
  },
  {
   "cell_type": "code",
   "execution_count": null,
   "metadata": {},
   "outputs": [],
   "source": [
    "weighted_ps = np.array(weighted_ps)\n",
    "weighted_ps.shape\n",
    "weighted_ps[3]"
   ]
  },
  {
   "cell_type": "code",
   "execution_count": null,
   "metadata": {},
   "outputs": [],
   "source": []
  },
  {
   "cell_type": "code",
   "execution_count": null,
   "metadata": {},
   "outputs": [],
   "source": [
    "plt.hist(weighted_ps[:, keys['parent angle']], bins=36)"
   ]
  },
  {
   "cell_type": "code",
   "execution_count": null,
   "metadata": {},
   "outputs": [],
   "source": [
    "degrees = weighted_ps[:,keys['parent angle']]\n",
    "radians = np.deg2rad(degrees)\n",
    "\n",
    "bin_size = 5\n",
    "a , b=np.histogram(degrees, bins=np.arange(0, 360+bin_size, bin_size))\n",
    "centers = np.deg2rad(np.ediff1d(b)//2 + b[:-1])\n",
    "\n",
    "fig = plt.figure(figsize=(10,8))\n",
    "ax = fig.add_subplot(111, projection='polar')\n",
    "ax.bar(centers, a, width=np.deg2rad(bin_size), bottom=0.0, color='.8', edgecolor='k')\n",
    "ax.set_theta_zero_location(\"N\")\n",
    "ax.set_theta_direction(-1)\n",
    "plt.show()\n",
    "plt.savefig(\"metrics_vo.png\")"
   ]
  },
  {
   "cell_type": "code",
   "execution_count": null,
   "metadata": {},
   "outputs": [],
   "source": [
    "leaves = vertices[vertices[:, 8] == 1]"
   ]
  },
  {
   "cell_type": "code",
   "execution_count": null,
   "metadata": {},
   "outputs": [],
   "source": [
    "vertices.shape"
   ]
  },
  {
   "cell_type": "code",
   "execution_count": null,
   "metadata": {},
   "outputs": [],
   "source": [
    "leaves.shape"
   ]
  },
  {
   "cell_type": "code",
   "execution_count": null,
   "metadata": {},
   "outputs": [],
   "source": [
    "plt.gca().set_aspect('equal', adjustable='box')\n",
    "plt.scatter(upper_third[:,2], upper_third[:,1], color='green')\n",
    "plt.scatter(middle_third[:,2], middle_third[:,1], color='blue')\n",
    "plt.scatter(lower_third[:,2], lower_third[:,1], color='red')\n",
    "plt.show()\n",
    "plt.savefig('z.png')"
   ]
  },
  {
   "cell_type": "code",
   "execution_count": null,
   "metadata": {},
   "outputs": [],
   "source": [
    "from matplotlib import pyplot\n",
    "from mpl_toolkits.mplot3d import Axes3D\n",
    "import random\n",
    "\n",
    "\n",
    "fig = pyplot.figure()\n",
    "ax = Axes3D(fig)\n",
    "\n",
    "sequence_containing_x_vals = middle_third[:,0]\n",
    "sequence_containing_y_vals = middle_third[:,2]\n",
    "sequence_containing_z_vals = middle_third[:,1]\n",
    "\n",
    "ax.scatter(sequence_containing_x_vals, sequence_containing_y_vals, sequence_containing_z_vals, color='blue', alpha=0.05)\n",
    "\n",
    "sequence_containing_x_vals = upper_third[:,0]\n",
    "sequence_containing_y_vals = upper_third[:,2]\n",
    "sequence_containing_z_vals = upper_third[:,1]\n",
    "\n",
    "ax.scatter(sequence_containing_x_vals, sequence_containing_y_vals, sequence_containing_z_vals, color='green', alpha=0.1)\n",
    "\n",
    "sequence_containing_x_vals = lower_third[:,0]\n",
    "sequence_containing_y_vals = lower_third[:,2]\n",
    "sequence_containing_z_vals = lower_third[:,1]\n",
    "\n",
    "ax.scatter(sequence_containing_x_vals, sequence_containing_y_vals, sequence_containing_z_vals, color='red', alpha=1)\n",
    "\n",
    "pyplot.show()"
   ]
  },
  {
   "cell_type": "code",
   "execution_count": null,
   "metadata": {},
   "outputs": [],
   "source": []
  },
  {
   "cell_type": "code",
   "execution_count": null,
   "metadata": {},
   "outputs": [],
   "source": []
  },
  {
   "cell_type": "code",
   "execution_count": null,
   "metadata": {},
   "outputs": [],
   "source": []
  },
  {
   "cell_type": "code",
   "execution_count": null,
   "metadata": {},
   "outputs": [],
   "source": []
  },
  {
   "cell_type": "code",
   "execution_count": null,
   "metadata": {},
   "outputs": [],
   "source": []
  },
  {
   "cell_type": "code",
   "execution_count": null,
   "metadata": {},
   "outputs": [],
   "source": []
  }
 ],
 "metadata": {
  "kernelspec": {
   "display_name": "Python 3",
   "language": "python",
   "name": "python3"
  },
  "language_info": {
   "codemirror_mode": {
    "name": "ipython",
    "version": 3
   },
   "file_extension": ".py",
   "mimetype": "text/x-python",
   "name": "python",
   "nbconvert_exporter": "python",
   "pygments_lexer": "ipython3",
   "version": "3.7.0"
  }
 },
 "nbformat": 4,
 "nbformat_minor": 2
}
