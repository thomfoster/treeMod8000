{
 "cells": [
  {
   "cell_type": "code",
   "execution_count": 1,
   "metadata": {},
   "outputs": [],
   "source": [
    "import Main\n",
    "import Parser\n",
    "from Analyser import *"
   ]
  },
  {
   "cell_type": "code",
   "execution_count": 2,
   "metadata": {},
   "outputs": [],
   "source": [
    "modelName = 'dereffye'"
   ]
  },
  {
   "cell_type": "code",
   "execution_count": 3,
   "metadata": {},
   "outputs": [],
   "source": [
    "# Some PyABC magic to get our set of parameters\n",
    "from pyabc import (ABCSMC, Distribution, RV, MultivariateNormalTransition)\n",
    "import scipy as sp\n",
    "import scipy.stats as st\n",
    "import tempfile\n",
    "import os\n",
    "import pandas as pd\n",
    "import matplotlib.pyplot as plt"
   ]
  },
  {
   "cell_type": "code",
   "execution_count": 4,
   "metadata": {},
   "outputs": [],
   "source": [
    "def model(params):\n",
    "    return Main.generate_and_analyse(modelName, params)"
   ]
  },
  {
   "cell_type": "code",
   "execution_count": 5,
   "metadata": {},
   "outputs": [
    {
     "data": {
      "text/plain": [
       "{'parentAngle_mean': 17.699175030385526,\n",
       " 'parentAngle_variance': 21.63794032878498,\n",
       " 'length_mean': 1.4055027827336024,\n",
       " 'length_variance': 0.9057108250017012,\n",
       " 'verticalOrientation_mean': 52.34535954385513,\n",
       " 'verticalOrientation_variance': 28.606027771964857,\n",
       " 'horizontalOrientation_mean': 170.775781851045,\n",
       " 'horizontalOrientation_variance': 96.99397281210354,\n",
       " 'q1_xyz': (4.8931391318170725, 27.44963686772176, 10.910246326216436),\n",
       " 'q2_xyz': (51.634732127126014, 25.029195913598265, 50.331208023955185),\n",
       " 'q3_xyz': (51.07175846300456, 27.822816617962992, 45.22054969894489),\n",
       " 'xyz': (52.72120641920593, 79.74730372746824, 53.003617918787754),\n",
       " 'trunk_length': 10.0,\n",
       " 'totalBiomass': 397.23712082645477}"
      ]
     },
     "execution_count": 5,
     "metadata": {},
     "output_type": "execute_result"
    }
   ],
   "source": [
    "t1 = Main.generate_and_analyse(modelName, {})\n",
    "t1"
   ]
  },
  {
   "cell_type": "code",
   "execution_count": null,
   "metadata": {},
   "outputs": [],
   "source": []
  },
  {
   "cell_type": "code",
   "execution_count": 6,
   "metadata": {},
   "outputs": [],
   "source": [
    "metrics = {  'slash':(10, 100),\n",
    "             'slashr':(10, 100),\n",
    "             'plus':(0, 180),\n",
    "             'plusr':(0, 180),\n",
    "             'decay':(0, 1),\n",
    "             'd': (0, 1),\n",
    "             'h':(1, 20),\n",
    "             'w':(0.1, 2),\n",
    "             'thickness':(0, 4),\n",
    "             'depth':(1,7)\n",
    "          }"
   ]
  },
  {
   "cell_type": "code",
   "execution_count": 7,
   "metadata": {},
   "outputs": [],
   "source": [
    "# prior = Distribution(section_1_slash     =RV(\"uniform\", 10, 100),\n",
    "#                      section_1_slashr    =RV(\"uniform\", 10, 100),\n",
    "#                      section_1_plus      =RV(\"uniform\", 0, 180),\n",
    "#                      section_1_plusr      =RV(\"uniform\", 0, 180),\n",
    "#                      section_1_decay     =RV(\"uniform\", 0, 1),\n",
    "#                      section_1_d         =RV(\"uniform\", 0,1),\n",
    "#                      section_1_h         =RV(\"uniform\", 1, 20),\n",
    "#                      section_1_w         =RV(\"uniform\", 0.1, 2),\n",
    "#                      general_thickness   =RV(\"uniform\", 0, 5)\n",
    "#                     )"
   ]
  },
  {
   "cell_type": "code",
   "execution_count": 8,
   "metadata": {},
   "outputs": [],
   "source": [
    "slash = Distribution(section_1_slash     =RV(\"uniform\", 10, 100))\n",
    "slashr = Distribution(section_1_slashr    =RV(\"uniform\", 10, 100))\n",
    "plus = Distribution(section_1_plus      =RV(\"uniform\", 0, 180))\n",
    "plusr = Distribution(section_1_plusr      =RV(\"uniform\", 0, 180))\n",
    "decay = Distribution(section_1_decay     =RV(\"uniform\", 0, 1))\n",
    "d = Distribution(section_1_d     =RV(\"uniform\", 0, 1))\n",
    "h = Distribution(section_1_h         =RV(\"uniform\", 1, 20))\n",
    "w = Distribution(section_1_w         =RV(\"uniform\", 0.1, 2))\n",
    "thickness = Distribution(general_thickness   =RV(\"uniform\", 0, 5))\n",
    "depth = Distribution(general_depth           =RV(\"uniform\",1,7))"
   ]
  },
  {
   "cell_type": "code",
   "execution_count": 9,
   "metadata": {},
   "outputs": [],
   "source": [
    "db_path = (\"sqlite:///\" + os.path.join(tempfile.gettempdir(), \"test.db\"))"
   ]
  },
  {
   "cell_type": "code",
   "execution_count": 10,
   "metadata": {},
   "outputs": [],
   "source": [
    "def gen_av_target(n):\n",
    "    target = model({})\n",
    "    for i in range(n):\n",
    "        print(i)\n",
    "        new_metrics = model({})\n",
    "        for (k,v) in new_metrics.items():\n",
    "            if k[-3:] == 'xyz':\n",
    "                x,y,z = target[k]\n",
    "                x += new_metrics[k][0]\n",
    "                y += new_metrics[k][1]\n",
    "                z += new_metrics[k][2]\n",
    "                target[k] = (x,y,z)\n",
    "            else:\n",
    "                target[k] += new_metrics[k]\n",
    "\n",
    "    for (k,v) in target.items():\n",
    "        if k[-3:] == 'xyz':\n",
    "            x,y,z = target[k]\n",
    "            target[k] = (x/n, y/n, z/n)\n",
    "        else:\n",
    "            target[k] /= n\n",
    "            \n",
    "    return target"
   ]
  },
  {
   "cell_type": "code",
   "execution_count": 11,
   "metadata": {},
   "outputs": [
    {
     "name": "stdout",
     "output_type": "stream",
     "text": [
      "0\n",
      "1\n",
      "2\n",
      "3\n",
      "4\n",
      "5\n",
      "6\n",
      "7\n",
      "8\n",
      "9\n",
      "10\n",
      "11\n",
      "12\n",
      "13\n",
      "14\n",
      "15\n",
      "16\n",
      "17\n",
      "18\n",
      "19\n"
     ]
    }
   ],
   "source": [
    "target = gen_av_target(20)"
   ]
  },
  {
   "cell_type": "code",
   "execution_count": 12,
   "metadata": {},
   "outputs": [
    {
     "data": {
      "text/plain": [
       "{'parentAngle_mean': 18.35232150118623,\n",
       " 'parentAngle_variance': 22.42427236586422,\n",
       " 'length_mean': 1.4757779218702827,\n",
       " 'length_variance': 0.9509963662517865,\n",
       " 'verticalOrientation_mean': 58.58261736151267,\n",
       " 'verticalOrientation_variance': 31.437050536908753,\n",
       " 'horizontalOrientation_mean': 177.77525344071296,\n",
       " 'horizontalOrientation_variance': 108.22474314321762,\n",
       " 'q1_xyz': (21.12223563442419, 28.45541662019491, 29.228414091148778),\n",
       " 'q2_xyz': (52.81401117415142, 26.473555815752178, 58.70481678704196),\n",
       " 'q3_xyz': (47.08066094974712, 29.179083350224158, 47.9304868688608),\n",
       " 'xyz': (55.673950447377294, 83.73466891384166, 63.07518124075746),\n",
       " 'trunk_length': 10.5,\n",
       " 'totalBiomass': 417.0989768677776}"
      ]
     },
     "execution_count": 12,
     "metadata": {},
     "output_type": "execute_result"
    }
   ],
   "source": [
    "target"
   ]
  },
  {
   "cell_type": "code",
   "execution_count": 13,
   "metadata": {},
   "outputs": [],
   "source": [
    "mp = 7\n",
    "me = 0.5"
   ]
  },
  {
   "cell_type": "code",
   "execution_count": 14,
   "metadata": {},
   "outputs": [
    {
     "name": "stderr",
     "output_type": "stream",
     "text": [
      "INFO:History:Start <ABCSMC(id=54, start_time=2019-04-17 11:33:55.796206, end_time=None)>\n",
      "INFO:Epsilon:initial epsilon is 6.246676412890714\n",
      "INFO:ABC:t:0 eps:6.246676412890714\n",
      "INFO:ABC:t:1 eps:4.270630871017434\n",
      "Process Process-21:\n",
      "Process Process-19:\n",
      "Process Process-18:\n",
      "Process Process-17:\n",
      "Process Process-24:\n",
      "Process Process-23:\n",
      "Process Process-20:\n",
      "Traceback (most recent call last):\n",
      "Traceback (most recent call last):\n",
      "Traceback (most recent call last):\n",
      "Traceback (most recent call last):\n",
      "  File \"/home/t/anaconda3/lib/python3.7/multiprocessing/process.py\", line 297, in _bootstrap\n",
      "    self.run()\n",
      "  File \"/home/t/anaconda3/lib/python3.7/multiprocessing/process.py\", line 297, in _bootstrap\n",
      "    self.run()\n",
      "  File \"/home/t/anaconda3/lib/python3.7/multiprocessing/process.py\", line 297, in _bootstrap\n",
      "    self.run()\n",
      "Traceback (most recent call last):\n",
      "  File \"/home/t/anaconda3/lib/python3.7/multiprocessing/process.py\", line 99, in run\n",
      "    self._target(*self._args, **self._kwargs)\n",
      "  File \"/home/t/anaconda3/lib/python3.7/multiprocessing/process.py\", line 99, in run\n",
      "    self._target(*self._args, **self._kwargs)\n",
      "  File \"/home/t/anaconda3/lib/python3.7/multiprocessing/process.py\", line 297, in _bootstrap\n",
      "    self.run()\n",
      "Process Process-22:\n",
      "Traceback (most recent call last):\n",
      "  File \"/home/t/anaconda3/lib/python3.7/multiprocessing/process.py\", line 297, in _bootstrap\n",
      "    self.run()\n",
      "  File \"/home/t/anaconda3/lib/python3.7/multiprocessing/process.py\", line 99, in run\n",
      "    self._target(*self._args, **self._kwargs)\n",
      "Traceback (most recent call last):\n",
      "Traceback (most recent call last):\n",
      "  File \"/home/t/anaconda3/lib/python3.7/site-packages/pyabc/sampler/multicore_evaluation_parallel.py\", line 24, in work\n",
      "    new_sim = simulate_one()\n",
      "  File \"/home/t/anaconda3/lib/python3.7/multiprocessing/process.py\", line 297, in _bootstrap\n",
      "    self.run()\n",
      "  File \"/home/t/anaconda3/lib/python3.7/multiprocessing/process.py\", line 297, in _bootstrap\n",
      "    self.run()\n",
      "  File \"/home/t/anaconda3/lib/python3.7/site-packages/pyabc/sampler/multicore_evaluation_parallel.py\", line 24, in work\n",
      "    new_sim = simulate_one()\n",
      "  File \"/home/t/anaconda3/lib/python3.7/site-packages/pyabc/smc.py\", line 553, in simulate_one\n",
      "    transitions)\n",
      "  File \"/home/t/anaconda3/lib/python3.7/multiprocessing/process.py\", line 99, in run\n",
      "    self._target(*self._args, **self._kwargs)\n",
      "  File \"/home/t/anaconda3/lib/python3.7/multiprocessing/process.py\", line 99, in run\n",
      "    self._target(*self._args, **self._kwargs)\n",
      "  File \"/home/t/anaconda3/lib/python3.7/site-packages/pyabc/sampler/multicore_evaluation_parallel.py\", line 24, in work\n",
      "    new_sim = simulate_one()\n",
      "  File \"/home/t/anaconda3/lib/python3.7/multiprocessing/process.py\", line 99, in run\n",
      "    self._target(*self._args, **self._kwargs)\n",
      "  File \"/home/t/anaconda3/lib/python3.7/site-packages/pyabc/smc.py\", line 644, in _evaluate_proposal\n",
      "    x_0)\n",
      "  File \"/home/t/anaconda3/lib/python3.7/multiprocessing/process.py\", line 297, in _bootstrap\n",
      "    self.run()\n",
      "  File \"/home/t/anaconda3/lib/python3.7/site-packages/pyabc/smc.py\", line 553, in simulate_one\n",
      "    transitions)\n",
      "  File \"/home/t/anaconda3/lib/python3.7/site-packages/pyabc/smc.py\", line 553, in simulate_one\n",
      "    transitions)\n",
      "  File \"/home/t/anaconda3/lib/python3.7/site-packages/pyabc/smc.py\", line 644, in _evaluate_proposal\n",
      "    x_0)\n",
      "  File \"/home/t/anaconda3/lib/python3.7/site-packages/pyabc/sampler/multicore_evaluation_parallel.py\", line 24, in work\n",
      "    new_sim = simulate_one()\n",
      "  File \"/home/t/anaconda3/lib/python3.7/site-packages/pyabc/model.py\", line 222, in accept\n",
      "    sum_stats_calculator)\n",
      "  File \"/home/t/anaconda3/lib/python3.7/site-packages/pyabc/sampler/multicore_evaluation_parallel.py\", line 24, in work\n",
      "    new_sim = simulate_one()\n",
      "  File \"/home/t/anaconda3/lib/python3.7/site-packages/pyabc/smc.py\", line 644, in _evaluate_proposal\n",
      "    x_0)\n",
      "  File \"/home/t/anaconda3/lib/python3.7/multiprocessing/process.py\", line 99, in run\n",
      "    self._target(*self._args, **self._kwargs)\n",
      "  File \"/home/t/anaconda3/lib/python3.7/site-packages/pyabc/model.py\", line 222, in accept\n",
      "    sum_stats_calculator)\n",
      "  File \"/home/t/anaconda3/lib/python3.7/site-packages/pyabc/model.py\", line 116, in summary_statistics\n",
      "    raw_data = self.sample(pars)\n",
      "  File \"/home/t/anaconda3/lib/python3.7/site-packages/pyabc/smc.py\", line 553, in simulate_one\n",
      "    transitions)\n",
      "  File \"/home/t/anaconda3/lib/python3.7/site-packages/pyabc/smc.py\", line 553, in simulate_one\n",
      "    transitions)\n",
      "  File \"/home/t/anaconda3/lib/python3.7/site-packages/pyabc/model.py\", line 261, in sample\n",
      "    return self.sample_function(pars)\n",
      "  File \"/home/t/anaconda3/lib/python3.7/site-packages/pyabc/smc.py\", line 644, in _evaluate_proposal\n",
      "    x_0)\n",
      "  File \"/home/t/anaconda3/lib/python3.7/site-packages/pyabc/model.py\", line 222, in accept\n",
      "    sum_stats_calculator)\n",
      "  File \"/home/t/anaconda3/lib/python3.7/site-packages/pyabc/model.py\", line 222, in accept\n",
      "    sum_stats_calculator)\n",
      "  File \"<ipython-input-4-fe8d3e4dfdf6>\", line 2, in model\n",
      "    return Main.generate_and_analyse(modelName, params)\n",
      "  File \"/home/t/anaconda3/lib/python3.7/site-packages/pyabc/smc.py\", line 644, in _evaluate_proposal\n",
      "    x_0)\n",
      "  File \"/home/t/anaconda3/lib/python3.7/site-packages/pyabc/model.py\", line 116, in summary_statistics\n",
      "    raw_data = self.sample(pars)\n",
      "  File \"/home/t/anaconda3/lib/python3.7/multiprocessing/process.py\", line 99, in run\n",
      "    self._target(*self._args, **self._kwargs)\n",
      "  File \"/home/t/Documents/diss/CompiledApproach/treeMod8000/App/Models/Main.py\", line 110, in generate_and_analyse\n",
      "    tree_data = generate_model(filename, overrideParams, return_analysis=True)\n",
      "  File \"/home/t/anaconda3/lib/python3.7/site-packages/pyabc/model.py\", line 116, in summary_statistics\n",
      "    raw_data = self.sample(pars)\n",
      "  File \"/home/t/anaconda3/lib/python3.7/site-packages/pyabc/model.py\", line 116, in summary_statistics\n",
      "    raw_data = self.sample(pars)\n",
      "  File \"/home/t/anaconda3/lib/python3.7/site-packages/pyabc/sampler/multicore_evaluation_parallel.py\", line 24, in work\n",
      "    new_sim = simulate_one()\n",
      "  File \"/home/t/anaconda3/lib/python3.7/site-packages/pyabc/sampler/multicore_evaluation_parallel.py\", line 24, in work\n",
      "    new_sim = simulate_one()\n",
      "  File \"/home/t/anaconda3/lib/python3.7/site-packages/pyabc/sampler/multicore_evaluation_parallel.py\", line 24, in work\n",
      "    new_sim = simulate_one()\n",
      "  File \"/home/t/anaconda3/lib/python3.7/site-packages/pyabc/model.py\", line 261, in sample\n",
      "    return self.sample_function(pars)\n",
      "  File \"/home/t/anaconda3/lib/python3.7/site-packages/pyabc/model.py\", line 222, in accept\n",
      "    sum_stats_calculator)\n",
      "  File \"/home/t/anaconda3/lib/python3.7/site-packages/pyabc/model.py\", line 261, in sample\n",
      "    return self.sample_function(pars)\n",
      "  File \"/home/t/anaconda3/lib/python3.7/site-packages/pyabc/model.py\", line 116, in summary_statistics\n",
      "    raw_data = self.sample(pars)\n",
      "  File \"/home/t/Documents/diss/CompiledApproach/treeMod8000/App/Models/Main.py\", line 21, in generate_model\n",
      "    vertices        = Interpreter.interpret(tree, return_analysis)\n",
      "  File \"/home/t/anaconda3/lib/python3.7/site-packages/pyabc/smc.py\", line 553, in simulate_one\n",
      "    transitions)\n",
      "  File \"/home/t/anaconda3/lib/python3.7/site-packages/pyabc/smc.py\", line 553, in simulate_one\n",
      "    transitions)\n",
      "  File \"<ipython-input-4-fe8d3e4dfdf6>\", line 2, in model\n",
      "    return Main.generate_and_analyse(modelName, params)\n",
      "  File \"/home/t/anaconda3/lib/python3.7/site-packages/pyabc/model.py\", line 261, in sample\n",
      "    return self.sample_function(pars)\n",
      "  File \"/home/t/anaconda3/lib/python3.7/site-packages/pyabc/smc.py\", line 644, in _evaluate_proposal\n",
      "    x_0)\n",
      "  File \"/home/t/Documents/diss/CompiledApproach/treeMod8000/App/Models/Interpreter.py\", line 78, in interpret\n",
      "    xyzr = turtle.View(return_analysis)\n",
      "  File \"/home/t/Documents/diss/CompiledApproach/treeMod8000/App/Models/Main.py\", line 110, in generate_and_analyse\n",
      "    tree_data = generate_model(filename, overrideParams, return_analysis=True)\n",
      "  File \"/home/t/anaconda3/lib/python3.7/site-packages/pyabc/model.py\", line 222, in accept\n",
      "    sum_stats_calculator)\n",
      "  File \"<ipython-input-4-fe8d3e4dfdf6>\", line 2, in model\n",
      "    return Main.generate_and_analyse(modelName, params)\n",
      "  File \"/home/t/Documents/diss/CompiledApproach/treeMod8000/App/Models/Main.py\", line 18, in generate_model\n",
      "    tree            = Deriver.derive(tree,n)\n"
     ]
    },
    {
     "name": "stderr",
     "output_type": "stream",
     "text": [
      "  File \"/home/t/anaconda3/lib/python3.7/site-packages/pyabc/smc.py\", line 644, in _evaluate_proposal\n",
      "    x_0)\n",
      "  File \"/home/t/Documents/diss/CompiledApproach/treeMod8000/App/Models/Turtle.py\", line 27, in View\n",
      "    horizontalAngle = rotations.angleBetween([1,0,0], self.heading[:,0])\n",
      "  File \"/home/t/anaconda3/lib/python3.7/site-packages/pyabc/smc.py\", line 553, in simulate_one\n",
      "    transitions)\n",
      "  File \"/home/t/Documents/diss/CompiledApproach/treeMod8000/App/Models/Main.py\", line 110, in generate_and_analyse\n",
      "    tree_data = generate_model(filename, overrideParams, return_analysis=True)\n",
      "  File \"/home/t/Documents/diss/CompiledApproach/treeMod8000/App/Models/Deriver.py\", line 16, in derive\n",
      "    new_tree += element.Grow()\n",
      "  File \"/home/t/anaconda3/lib/python3.7/site-packages/pyabc/model.py\", line 116, in summary_statistics\n",
      "    raw_data = self.sample(pars)\n",
      "  File \"/home/t/anaconda3/lib/python3.7/site-packages/pyabc/smc.py\", line 644, in _evaluate_proposal\n",
      "    x_0)\n",
      "  File \"/home/t/anaconda3/lib/python3.7/site-packages/pyabc/model.py\", line 222, in accept\n",
      "    sum_stats_calculator)\n",
      "  File \"/home/t/anaconda3/lib/python3.7/site-packages/pyabc/model.py\", line 222, in accept\n",
      "    sum_stats_calculator)\n",
      "  File \"/home/t/Documents/diss/CompiledApproach/treeMod8000/App/Models/Cell.py\", line 75, in Grow\n",
      "    ret += self.iterateRule(r)\n",
      "  File \"/home/t/anaconda3/lib/python3.7/site-packages/pyabc/model.py\", line 116, in summary_statistics\n",
      "    raw_data = self.sample(pars)\n",
      "  File \"/home/t/anaconda3/lib/python3.7/site-packages/pyabc/model.py\", line 116, in summary_statistics\n",
      "    raw_data = self.sample(pars)\n",
      "  File \"/home/t/anaconda3/lib/python3.7/site-packages/pyabc/model.py\", line 261, in sample\n",
      "    return self.sample_function(pars)\n",
      "  File \"/home/t/anaconda3/lib/python3.7/site-packages/pyabc/model.py\", line 261, in sample\n",
      "    return self.sample_function(pars)\n",
      "  File \"/home/t/anaconda3/lib/python3.7/site-packages/pyabc/model.py\", line 261, in sample\n",
      "    return self.sample_function(pars)\n",
      "  File \"<ipython-input-4-fe8d3e4dfdf6>\", line 2, in model\n",
      "    return Main.generate_and_analyse(modelName, params)\n",
      "  File \"/home/t/Documents/diss/CompiledApproach/treeMod8000/App/Models/Cell.py\", line 91, in iterateRule\n",
      "    x = self.Clone()\n",
      "  File \"/home/t/anaconda3/lib/python3.7/site-packages/pyabc/model.py\", line 261, in sample\n",
      "    return self.sample_function(pars)\n",
      "  File \"/home/t/Documents/diss/CompiledApproach/treeMod8000/App/Models/Main.py\", line 21, in generate_model\n",
      "    vertices        = Interpreter.interpret(tree, return_analysis)\n",
      "  File \"<ipython-input-4-fe8d3e4dfdf6>\", line 2, in model\n",
      "    return Main.generate_and_analyse(modelName, params)\n",
      "  File \"/home/t/Documents/diss/CompiledApproach/treeMod8000/App/Models/Cell.py\", line 134, in Clone\n",
      "    return self.constructer(**Specification['sections'][self.id], generation=self.generation, age=self.age)\n",
      "  File \"<ipython-input-4-fe8d3e4dfdf6>\", line 2, in model\n",
      "    return Main.generate_and_analyse(modelName, params)\n",
      "  File \"/home/t/Documents/diss/CompiledApproach/treeMod8000/App/Models/Main.py\", line 110, in generate_and_analyse\n",
      "    tree_data = generate_model(filename, overrideParams, return_analysis=True)\n",
      "  File \"<ipython-input-4-fe8d3e4dfdf6>\", line 2, in model\n",
      "    return Main.generate_and_analyse(modelName, params)\n",
      "  File \"/home/t/Documents/diss/CompiledApproach/treeMod8000/App/Models/Interpreter.py\", line 66, in interpret\n",
      "    xyzr = turtle.View(return_analysis)\n",
      "  File \"/home/t/Documents/diss/CompiledApproach/treeMod8000/App/Models/Cell.py\", line 22, in __init__\n",
      "    def __init__(\n",
      "  File \"/home/t/Documents/diss/CompiledApproach/treeMod8000/App/Models/Main.py\", line 110, in generate_and_analyse\n",
      "    tree_data = generate_model(filename, overrideParams, return_analysis=True)\n",
      "  File \"/home/t/Documents/diss/CompiledApproach/treeMod8000/App/Models/Main.py\", line 110, in generate_and_analyse\n",
      "    tree_data = generate_model(filename, overrideParams, return_analysis=True)\n",
      "  File \"/home/t/Documents/diss/CompiledApproach/treeMod8000/App/Models/Main.py\", line 21, in generate_model\n",
      "    vertices        = Interpreter.interpret(tree, return_analysis)\n",
      "KeyboardInterrupt\n",
      "  File \"<ipython-input-4-fe8d3e4dfdf6>\", line 2, in model\n",
      "    return Main.generate_and_analyse(modelName, params)\n",
      "  File \"/home/t/Documents/diss/CompiledApproach/treeMod8000/App/Models/Main.py\", line 21, in generate_model\n",
      "    vertices        = Interpreter.interpret(tree, return_analysis)\n",
      "  File \"/home/t/Documents/diss/CompiledApproach/treeMod8000/App/Models/Turtle.py\", line 25, in View\n",
      "    parentAngle = rotations.angleBetween(self.parentHeading, self.heading[:,0])\n",
      "  File \"/home/t/Documents/diss/CompiledApproach/treeMod8000/App/Models/Main.py\", line 21, in generate_model\n",
      "    vertices        = Interpreter.interpret(tree, return_analysis)\n",
      "  File \"/home/t/Documents/diss/CompiledApproach/treeMod8000/App/Models/Main.py\", line 110, in generate_and_analyse\n",
      "    tree_data = generate_model(filename, overrideParams, return_analysis=True)\n",
      "KeyboardInterrupt\n",
      "  File \"/home/t/Documents/diss/CompiledApproach/treeMod8000/App/Models/Interpreter.py\", line 78, in interpret\n",
      "    xyzr = turtle.View(return_analysis)\n",
      "  File \"/home/t/Documents/diss/CompiledApproach/treeMod8000/App/Models/Main.py\", line 110, in generate_and_analyse\n",
      "    tree_data = generate_model(filename, overrideParams, return_analysis=True)\n",
      "  File \"/home/t/Documents/diss/CompiledApproach/treeMod8000/App/Models/Interpreter.py\", line 66, in interpret\n",
      "    xyzr = turtle.View(return_analysis)\n",
      "  File \"/home/t/Documents/diss/CompiledApproach/treeMod8000/App/Models/Interpreter.py\", line 92, in interpret\n",
      "    turtle = turtle.New()\n",
      "  File \"/home/t/Documents/diss/CompiledApproach/treeMod8000/App/Models/Turtle.py\", line 25, in View\n",
      "    parentAngle = rotations.angleBetween(self.parentHeading, self.heading[:,0])\n",
      "  File \"/home/t/Documents/diss/CompiledApproach/treeMod8000/App/Models/rotations.py\", line 33, in angleBetween\n",
      "    if vec1 == [1,0]:\n",
      "  File \"/home/t/Documents/diss/CompiledApproach/treeMod8000/App/Models/rotations.py\", line 33, in angleBetween\n",
      "    if vec1 == [1,0]:\n",
      "  File \"/home/t/Documents/diss/CompiledApproach/treeMod8000/App/Models/Main.py\", line 21, in generate_model\n",
      "    vertices        = Interpreter.interpret(tree, return_analysis)\n",
      "KeyboardInterrupt\n",
      "  File \"/home/t/Documents/diss/CompiledApproach/treeMod8000/App/Models/Interpreter.py\", line 78, in interpret\n",
      "    xyzr = turtle.View(return_analysis)\n",
      "  File \"/home/t/Documents/diss/CompiledApproach/treeMod8000/App/Models/Turtle.py\", line 27, in View\n",
      "    horizontalAngle = rotations.angleBetween([1,0,0], self.heading[:,0])\n",
      "  File \"/home/t/Documents/diss/CompiledApproach/treeMod8000/App/Models/Turtle.py\", line 32, in New\n",
      "    new = Turtle(self.crntCell)\n",
      "  File \"/home/t/Documents/diss/CompiledApproach/treeMod8000/App/Models/Main.py\", line 21, in generate_model\n",
      "    vertices        = Interpreter.interpret(tree, return_analysis)\n",
      "  File \"/home/t/Documents/diss/CompiledApproach/treeMod8000/App/Models/Turtle.py\", line 26, in View\n",
      "    verticalAngle = rotations.angleBetween([0,1,0], self.heading[:,0])\n",
      "KeyboardInterrupt\n",
      "  File \"/home/t/Documents/diss/CompiledApproach/treeMod8000/App/Models/Turtle.py\", line 12, in __init__\n",
      "    self.heading = rotations.do_rot(self.heading, 2, 90)\n",
      "  File \"/home/t/Documents/diss/CompiledApproach/treeMod8000/App/Models/Interpreter.py\", line 78, in interpret\n",
      "    xyzr = turtle.View(return_analysis)\n",
      "  File \"/home/t/Documents/diss/CompiledApproach/treeMod8000/App/Models/rotations.py\", line 29, in angleBetween\n",
      "    ang = dot(vec1, vec2) / (mag(vec1)*mag(vec2))\n",
      "  File \"/home/t/Documents/diss/CompiledApproach/treeMod8000/App/Models/rotations.py\", line 25, in angleBetween\n",
      "    if np.array_equal([1,0,0], vec1):\n",
      "KeyboardInterrupt\n",
      "  File \"/home/t/Documents/diss/CompiledApproach/treeMod8000/App/Models/rotations.py\", line 84, in do_rot\n",
      "    ret = dot(B,ret)\n",
      "  File \"/home/t/Documents/diss/CompiledApproach/treeMod8000/App/Models/Turtle.py\", line 26, in View\n",
      "    verticalAngle = rotations.angleBetween([0,1,0], self.heading[:,0])\n",
      "KeyboardInterrupt\n",
      "  File \"/home/t/Documents/diss/CompiledApproach/treeMod8000/App/Models/rotations.py\", line 31, in angleBetween\n",
      "    ang = max(ang, -1)\n",
      "  File \"/home/t/anaconda3/lib/python3.7/site-packages/numpy/core/_methods.py\", line 46, in _all\n",
      "    return umr_all(a, axis, dtype, out, keepdims)\n"
     ]
    },
    {
     "name": "stderr",
     "output_type": "stream",
     "text": [
      "  File \"/home/t/anaconda3/lib/python3.7/site-packages/numpy/core/numeric.py\", line 2428, in array_equal\n",
      "    return bool(asarray(a1 == a2).all())\n",
      "KeyboardInterrupt\n",
      "KeyboardInterrupt\n",
      "ERROR:root:Internal Python error in the inspect module.\n",
      "Below is the traceback from this internal error.\n",
      "\n",
      "INFO:root:\n",
      "Unfortunately, your original traceback can not be constructed.\n",
      "\n"
     ]
    },
    {
     "name": "stdout",
     "output_type": "stream",
     "text": [
      "Traceback (most recent call last):\n",
      "  File \"/home/t/anaconda3/lib/python3.7/site-packages/IPython/core/interactiveshell.py\", line 2961, in run_code\n",
      "    exec(code_obj, self.user_global_ns, self.user_ns)\n",
      "  File \"<ipython-input-14-fe89220206f1>\", line 3, in <module>\n",
      "    history = abc.run(minimum_epsilon=me, max_nr_populations=mp)\n",
      "  File \"/home/t/anaconda3/lib/python3.7/site-packages/pyabc/smc.py\", line 794, in run\n",
      "    self.population_strategy.nr_particles, simulate_one)\n",
      "  File \"/home/t/anaconda3/lib/python3.7/site-packages/pyabc/sampler/multicore_evaluation_parallel.py\", line 111, in sample_until_n_accepted\n",
      "    val = get_if_worker_healthy(processes, queue)\n",
      "  File \"/home/t/anaconda3/lib/python3.7/site-packages/pyabc/sampler/multicorebase.py\", line 53, in get_if_worker_healthy\n",
      "    item = queue.get(True, 5)\n",
      "  File \"/home/t/anaconda3/lib/python3.7/multiprocessing/queues.py\", line 113, in get\n",
      "    return _ForkingPickler.loads(res)\n",
      "  File \"/home/t/anaconda3/lib/python3.7/site-packages/pandas/core/indexes/base.py\", line 171, in _new_Index\n",
      "    def _new_Index(cls, d):\n",
      "KeyboardInterrupt\n",
      "\n",
      "During handling of the above exception, another exception occurred:\n",
      "\n",
      "Traceback (most recent call last):\n",
      "  File \"/home/t/anaconda3/lib/python3.7/site-packages/IPython/core/interactiveshell.py\", line 1863, in showtraceback\n",
      "    stb = value._render_traceback_()\n",
      "AttributeError: 'KeyboardInterrupt' object has no attribute '_render_traceback_'\n",
      "\n",
      "During handling of the above exception, another exception occurred:\n",
      "\n",
      "Traceback (most recent call last):\n",
      "  File \"/home/t/anaconda3/lib/python3.7/site-packages/IPython/core/ultratb.py\", line 1095, in get_records\n",
      "    return _fixed_getinnerframes(etb, number_of_lines_of_context, tb_offset)\n",
      "  File \"/home/t/anaconda3/lib/python3.7/site-packages/IPython/core/ultratb.py\", line 311, in wrapped\n",
      "    return f(*args, **kwargs)\n",
      "  File \"/home/t/anaconda3/lib/python3.7/site-packages/IPython/core/ultratb.py\", line 345, in _fixed_getinnerframes\n",
      "    records = fix_frame_records_filenames(inspect.getinnerframes(etb, context))\n",
      "  File \"/home/t/anaconda3/lib/python3.7/inspect.py\", line 1495, in getinnerframes\n",
      "    frameinfo = (tb.tb_frame,) + getframeinfo(tb, context)\n",
      "  File \"/home/t/anaconda3/lib/python3.7/inspect.py\", line 1453, in getframeinfo\n",
      "    filename = getsourcefile(frame) or getfile(frame)\n",
      "  File \"/home/t/anaconda3/lib/python3.7/inspect.py\", line 696, in getsourcefile\n",
      "    if getattr(getmodule(object, filename), '__loader__', None) is not None:\n",
      "  File \"/home/t/anaconda3/lib/python3.7/inspect.py\", line 742, in getmodule\n",
      "    os.path.realpath(f)] = module.__name__\n",
      "  File \"/home/t/anaconda3/lib/python3.7/posixpath.py\", line 388, in realpath\n",
      "    path, ok = _joinrealpath(filename[:0], filename, {})\n",
      "  File \"/home/t/anaconda3/lib/python3.7/posixpath.py\", line 422, in _joinrealpath\n",
      "    if not islink(newpath):\n",
      "  File \"/home/t/anaconda3/lib/python3.7/posixpath.py\", line 171, in islink\n",
      "    st = os.lstat(path)\n",
      "KeyboardInterrupt\n"
     ]
    },
    {
     "ename": "KeyboardInterrupt",
     "evalue": "",
     "output_type": "error",
     "traceback": [
      "\u001b[0;31m---------------------------------------------------------------------------\u001b[0m"
     ]
    }
   ],
   "source": [
    "abc = ABCSMC(model, slash, distance)\n",
    "abc.new(db_path, target)\n",
    "history = abc.run(minimum_epsilon=me, max_nr_populations=mp)"
   ]
  },
  {
   "cell_type": "code",
   "execution_count": null,
   "metadata": {},
   "outputs": [],
   "source": [
    "from pyabc.visualization import plot_kde_1d"
   ]
  },
  {
   "cell_type": "code",
   "execution_count": null,
   "metadata": {},
   "outputs": [],
   "source": [
    "# Visualise results\n",
    "k = 'slash'\n",
    "v = metrics[k]\n",
    "fig, ax = plt.subplots()\n",
    "for t in range(history.max_t, history.max_t+1):\n",
    "    df, w = history.get_distribution(m=0, t=t)\n",
    "    plot_kde_1d(df, w,\n",
    "                xmin=v[0], xmax=1.5*v[1],\n",
    "                x='section_1_slash', ax=ax,\n",
    "                label=\"PDF t={}\".format(t))\n",
    "ax.legend();"
   ]
  },
  {
   "cell_type": "code",
   "execution_count": null,
   "metadata": {},
   "outputs": [],
   "source": [
    "abc = ABCSMC(model, slashr, distance)\n",
    "abc.new(db_path, target)\n",
    "history = abc.run(minimum_epsilon=me, max_nr_populations=mp)"
   ]
  },
  {
   "cell_type": "code",
   "execution_count": null,
   "metadata": {},
   "outputs": [],
   "source": [
    "# Visualise results\n",
    "k = 'slashr'\n",
    "v = metrics[k]\n",
    "fig, ax = plt.subplots()\n",
    "for t in range(history.max_t, history.max_t+1):\n",
    "    df, w = history.get_distribution(m=0, t=t)\n",
    "    plot_kde_1d(df, w,\n",
    "                xmin=v[0]-1, xmax=1.5*v[1],\n",
    "                x='section_1_slashr', ax=ax,\n",
    "                label=\"PDF t={}\".format(t))\n",
    "ax.legend();"
   ]
  },
  {
   "cell_type": "code",
   "execution_count": null,
   "metadata": {},
   "outputs": [],
   "source": [
    "abc = ABCSMC(model, plus, distance)\n",
    "abc.new(db_path, target)\n",
    "history = abc.run(minimum_epsilon=me, max_nr_populations=mp)"
   ]
  },
  {
   "cell_type": "code",
   "execution_count": null,
   "metadata": {},
   "outputs": [],
   "source": [
    "# Visualise results\n",
    "k = 'plus'\n",
    "v = metrics[k]\n",
    "fig, ax = plt.subplots()\n",
    "for t in range(history.max_t, history.max_t+1):\n",
    "    df, w = history.get_distribution(m=0, t=t)\n",
    "    plot_kde_1d(df, w,\n",
    "                xmin=v[0], xmax=1.5*v[1],\n",
    "                x='section_1_plus', ax=ax,\n",
    "                label=\"PDF t={}\".format(t))\n",
    "ax.legend();"
   ]
  },
  {
   "cell_type": "code",
   "execution_count": null,
   "metadata": {},
   "outputs": [],
   "source": [
    "abc = ABCSMC(model, plusr, distance)\n",
    "abc.new(db_path, target)\n",
    "history = abc.run(minimum_epsilon=me, max_nr_populations=mp)"
   ]
  },
  {
   "cell_type": "code",
   "execution_count": null,
   "metadata": {},
   "outputs": [],
   "source": [
    "# Visualise results\n",
    "k = 'plusr'\n",
    "v = metrics[k]\n",
    "fig, ax = plt.subplots()\n",
    "for t in range(history.max_t, history.max_t+1):\n",
    "    df, w = history.get_distribution(m=0, t=t)\n",
    "    plot_kde_1d(df, w,\n",
    "                xmin=v[0], xmax=1.5*v[1],\n",
    "                x='section_1_plusr', ax=ax,\n",
    "                label=\"PDF t={}\".format(t))\n",
    "ax.legend();"
   ]
  },
  {
   "cell_type": "code",
   "execution_count": null,
   "metadata": {},
   "outputs": [],
   "source": [
    "abc = ABCSMC(model, decay, distance)\n",
    "abc.new(db_path, target)\n",
    "history = abc.run(minimum_epsilon=me, max_nr_populations=mp)"
   ]
  },
  {
   "cell_type": "code",
   "execution_count": null,
   "metadata": {},
   "outputs": [],
   "source": [
    "# Visualise results\n",
    "k = 'decay'\n",
    "v = metrics[k]\n",
    "fig, ax = plt.subplots()\n",
    "for t in range(history.max_t, history.max_t+1):\n",
    "    df, w = history.get_distribution(m=0, t=t)\n",
    "    plot_kde_1d(df, w,\n",
    "                xmin=v[0], xmax=1.5*v[1],\n",
    "                x='section_1_decay', ax=ax,\n",
    "                label=\"PDF t={}\".format(t))\n",
    "ax.legend();"
   ]
  },
  {
   "cell_type": "code",
   "execution_count": null,
   "metadata": {},
   "outputs": [],
   "source": [
    "abc = ABCSMC(model, d, distance)\n",
    "abc.new(db_path, target)\n",
    "history = abc.run(minimum_epsilon=me, max_nr_populations=mp)"
   ]
  },
  {
   "cell_type": "code",
   "execution_count": null,
   "metadata": {},
   "outputs": [],
   "source": [
    "# Visualise results\n",
    "k = 'd'\n",
    "v = metrics[k]\n",
    "fig, ax = plt.subplots()\n",
    "for t in range(history.max_t, history.max_t+1):\n",
    "    df, w = history.get_distribution(m=0, t=t)\n",
    "    plot_kde_1d(df, w,\n",
    "                xmin=v[0], xmax=1.5*v[1],\n",
    "                x='section_1_d', ax=ax,\n",
    "                label=\"PDF t={}\".format(t))\n",
    "ax.legend();"
   ]
  },
  {
   "cell_type": "code",
   "execution_count": null,
   "metadata": {},
   "outputs": [],
   "source": [
    "abc = ABCSMC(model, h, distance)\n",
    "abc.new(db_path, target)\n",
    "history = abc.run(minimum_epsilon=me, max_nr_populations=mp)"
   ]
  },
  {
   "cell_type": "code",
   "execution_count": null,
   "metadata": {},
   "outputs": [],
   "source": [
    "# Visualise results\n",
    "k = 'h'\n",
    "v = metrics[k]\n",
    "fig, ax = plt.subplots()\n",
    "for t in range(history.max_t, history.max_t+1):\n",
    "    df, w = history.get_distribution(m=0, t=t)\n",
    "    plot_kde_1d(df, w,\n",
    "                xmin=v[0], xmax=1.5*v[1],\n",
    "                x='section_1_h', ax=ax,\n",
    "                label=\"PDF t={}\".format(t))\n",
    "ax.legend();"
   ]
  },
  {
   "cell_type": "code",
   "execution_count": null,
   "metadata": {},
   "outputs": [],
   "source": [
    "abc = ABCSMC(model, w, distance)\n",
    "abc.new(db_path, target)\n",
    "history = abc.run(minimum_epsilon=me, max_nr_populations=mp)"
   ]
  },
  {
   "cell_type": "code",
   "execution_count": null,
   "metadata": {},
   "outputs": [],
   "source": [
    "# Visualise results\n",
    "k = 'w'\n",
    "v = metrics[k]\n",
    "fig, ax = plt.subplots()\n",
    "for t in range(history.max_t, history.max_t+1):\n",
    "    df, w = history.get_distribution(m=0, t=t)\n",
    "    plot_kde_1d(df, w,\n",
    "                xmin=0, xmax=0.6,\n",
    "                x='section_1_w', ax=ax,\n",
    "                label=\"PDF t={}\".format(t))\n",
    "ax.legend();"
   ]
  },
  {
   "cell_type": "code",
   "execution_count": null,
   "metadata": {},
   "outputs": [],
   "source": [
    "abc = ABCSMC(model, thickness, distance)\n",
    "abc.new(db_path, target)\n",
    "history = abc.run(minimum_epsilon=me, max_nr_populations=mp)"
   ]
  },
  {
   "cell_type": "code",
   "execution_count": null,
   "metadata": {},
   "outputs": [],
   "source": [
    "# Visualise results\n",
    "k = 'thickness'\n",
    "v = metrics[k]\n",
    "fig, ax = plt.subplots()\n",
    "for t in range(history.max_t, history.max_t+1):\n",
    "    df, w = history.get_distribution(m=0, t=t)\n",
    "    plot_kde_1d(df, w,\n",
    "                xmin=v[0], xmax=1.5*v[1],\n",
    "                x='general_thickness', ax=ax,\n",
    "                label=\"PDF t={}\".format(t))\n",
    "ax.legend();"
   ]
  },
  {
   "cell_type": "code",
   "execution_count": null,
   "metadata": {},
   "outputs": [],
   "source": [
    "abc = ABCSMC(model, depth, distance)\n",
    "abc.new(db_path, target)\n",
    "history = abc.run(minimum_epsilon=me, max_nr_populations=mp)"
   ]
  },
  {
   "cell_type": "code",
   "execution_count": null,
   "metadata": {},
   "outputs": [],
   "source": [
    "# Visualise results\n",
    "k = 'depth'\n",
    "v = metrics[k]\n",
    "fig, ax = plt.subplots()\n",
    "for t in range(history.max_t, history.max_t+1):\n",
    "    df, w = history.get_distribution(m=0, t=t)\n",
    "    plot_kde_1d(df, w,\n",
    "                xmin=v[0], xmax=1.5*v[1],\n",
    "                x='general_depth', ax=ax,\n",
    "                label=\"PDF t={}\".format(t))\n",
    "ax.legend();"
   ]
  }
 ],
 "metadata": {
  "kernelspec": {
   "display_name": "Python 3",
   "language": "python",
   "name": "python3"
  },
  "language_info": {
   "codemirror_mode": {
    "name": "ipython",
    "version": 3
   },
   "file_extension": ".py",
   "mimetype": "text/x-python",
   "name": "python",
   "nbconvert_exporter": "python",
   "pygments_lexer": "ipython3",
   "version": "3.7.0"
  }
 },
 "nbformat": 4,
 "nbformat_minor": 2
}
