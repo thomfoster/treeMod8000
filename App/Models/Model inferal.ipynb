{
 "cells": [
  {
   "cell_type": "code",
   "execution_count": 1,
   "metadata": {},
   "outputs": [],
   "source": [
    "import Main\n",
    "import Parser\n",
    "from Analyser2 import *"
   ]
  },
  {
   "cell_type": "code",
   "execution_count": 2,
   "metadata": {},
   "outputs": [],
   "source": [
    "modelName = 'Composite'"
   ]
  },
  {
   "cell_type": "code",
   "execution_count": 3,
   "metadata": {},
   "outputs": [],
   "source": [
    "# Some PyABC magic to get our set of parameters\n",
    "from pyabc import (ABCSMC, Distribution, RV, MultivariateNormalTransition)\n",
    "import scipy as sp\n",
    "import scipy.stats as st\n",
    "import tempfile\n",
    "import os\n",
    "import pandas as pd\n",
    "import matplotlib.pyplot as plt"
   ]
  },
  {
   "cell_type": "code",
   "execution_count": 4,
   "metadata": {},
   "outputs": [],
   "source": [
    "def model(params):\n",
    "    return Main.generate_and_analyse(modelName, params)"
   ]
  },
  {
   "cell_type": "code",
   "execution_count": 5,
   "metadata": {},
   "outputs": [
    {
     "data": {
      "text/plain": [
       "{'parentAngle_mean': 29.765372103282797,\n",
       " 'parentAngle_variance': 2.9769824036553096,\n",
       " 'length_mean': 1.4146434402113341,\n",
       " 'length_variance': 1.4012143800188874,\n",
       " 'verticalOrientation_mean': 20.314620029537686,\n",
       " 'verticalOrientation_variance': 12.84508118244077,\n",
       " 'horizontalOrientation_mean': 55.98862932160713,\n",
       " 'horizontalOrientation_variance': 31.436859827655876,\n",
       " 'q1_xyz': (1.0, 17.278542494923805, 1.0),\n",
       " 'q2_xyz': (6.450216935758681, 18.28352985903149, 15.76952200617904),\n",
       " 'q3_xyz': (6.117304326402441, 22.78779466738721, 16.145278936524697),\n",
       " 'xyz': (6.668594932668501, 67.30956489717411, 16.599918936524695),\n",
       " 'trunk_length': 16.568542494923804,\n",
       " 'totalBiomass': 11.148010051009985}"
      ]
     },
     "execution_count": 5,
     "metadata": {},
     "output_type": "execute_result"
    }
   ],
   "source": [
    "t1 = Main.generate_and_analyse(modelName, {})\n",
    "t1"
   ]
  },
  {
   "cell_type": "code",
   "execution_count": null,
   "metadata": {},
   "outputs": [],
   "source": []
  },
  {
   "cell_type": "code",
   "execution_count": 6,
   "metadata": {},
   "outputs": [],
   "source": [
    "metrics = {  \n",
    "    'rule_1_0' : (0,1),\n",
    "    'rule_1_1' : (0,1),\n",
    "    'rule_1_2' : (0,1),\n",
    "    'rule_1_3' : (0,1),\n",
    "    'general_depth':(2,16),\n",
    "          }"
   ]
  },
  {
   "cell_type": "code",
   "execution_count": 7,
   "metadata": {},
   "outputs": [],
   "source": [
    "prior = Distribution(rule_1_0     =RV(\"uniform\", 0, 1),\n",
    "                     rule_1_1     =RV(\"uniform\", 0, 1),\n",
    "                     rule_1_2     =RV(\"uniform\", 0, 1),\n",
    "                     rule_1_3     =RV(\"uniform\", 0, 1),\n",
    "                     general_depth=RV(\"uniform\", 2, 16)\n",
    "                    )"
   ]
  },
  {
   "cell_type": "code",
   "execution_count": 8,
   "metadata": {},
   "outputs": [],
   "source": [
    "db_path = (\"sqlite:///\" + os.path.join(tempfile.gettempdir(), \"test.db\"))"
   ]
  },
  {
   "cell_type": "code",
   "execution_count": 9,
   "metadata": {},
   "outputs": [],
   "source": [
    "def gen_av_target(targetName, n):\n",
    "    target = Main.generate_and_analyse(targetName, {})\n",
    "    for i in range(n):\n",
    "        print(i)\n",
    "        new_metrics = Main.generate_and_analyse(targetName, {})\n",
    "        for (k,v) in new_metrics.items():\n",
    "            if k[-3:] == 'xyz':\n",
    "                x,y,z = target[k]\n",
    "                x += new_metrics[k][0]\n",
    "                y += new_metrics[k][1]\n",
    "                z += new_metrics[k][2]\n",
    "                target[k] = (x,y,z)\n",
    "            else:\n",
    "                target[k] += new_metrics[k]\n",
    "\n",
    "    for (k,v) in target.items():\n",
    "        if k[-3:] == 'xyz':\n",
    "            x,y,z = target[k]\n",
    "            target[k] = (x/n, y/n, z/n)\n",
    "        else:\n",
    "            target[k] /= n\n",
    "            \n",
    "    return target"
   ]
  },
  {
   "cell_type": "code",
   "execution_count": 10,
   "metadata": {},
   "outputs": [
    {
     "name": "stdout",
     "output_type": "stream",
     "text": [
      "0\n",
      "1\n",
      "2\n",
      "3\n",
      "4\n",
      "5\n",
      "6\n",
      "7\n",
      "8\n",
      "9\n",
      "10\n",
      "11\n",
      "12\n",
      "13\n",
      "14\n",
      "15\n",
      "16\n",
      "17\n",
      "18\n",
      "19\n"
     ]
    }
   ],
   "source": [
    "target = gen_av_target('SymTree',20)"
   ]
  },
  {
   "cell_type": "code",
   "execution_count": 11,
   "metadata": {},
   "outputs": [
    {
     "data": {
      "text/plain": [
       "{'parentAngle_mean': 31.5,\n",
       " 'parentAngle_variance': 3.15,\n",
       " 'length_mean': 9.717323165850349,\n",
       " 'length_variance': 2.321780833113075,\n",
       " 'verticalOrientation_mean': 51.01271608619291,\n",
       " 'verticalOrientation_variance': 25.929841375397178,\n",
       " 'horizontalOrientation_mean': 200.60526315789485,\n",
       " 'horizontalOrientation_variance': 108.03782424255105,\n",
       " 'q1_xyz': (4.2, 24.359999999999992, 4.2),\n",
       " 'q2_xyz': (67.99438170748519, 8.209600000000005, 58.92861690462539),\n",
       " 'q3_xyz': (71.63168840337988, 21.856184422207406, 65.06391166784991),\n",
       " 'xyz': (71.63168840337988, 68.95910606170769, 65.06391166784991),\n",
       " 'trunk_length': 21.0,\n",
       " 'totalBiomass': 668.018714051312}"
      ]
     },
     "execution_count": 11,
     "metadata": {},
     "output_type": "execute_result"
    }
   ],
   "source": [
    "target"
   ]
  },
  {
   "cell_type": "code",
   "execution_count": 12,
   "metadata": {},
   "outputs": [],
   "source": [
    "mp = 13\n",
    "me = 0.5"
   ]
  },
  {
   "cell_type": "code",
   "execution_count": null,
   "metadata": {},
   "outputs": [
    {
     "name": "stderr",
     "output_type": "stream",
     "text": [
      "INFO:History:Start <ABCSMC(id=106, start_time=2019-04-18 17:17:15.912918, end_time=None)>\n",
      "INFO:Epsilon:initial epsilon is 70.17365254604792\n",
      "INFO:ABC:t:0 eps:70.17365254604792\n",
      "INFO:ABC:t:1 eps:43.779368451601194\n",
      "INFO:ABC:t:2 eps:36.60239974520942\n",
      "INFO:ABC:t:3 eps:33.35433699335538\n",
      "INFO:ABC:t:4 eps:30.701075151286528\n",
      "INFO:ABC:t:5 eps:28.544212945450635\n",
      "INFO:ABC:t:6 eps:25.939178422814358\n",
      "INFO:ABC:t:7 eps:24.867351992292956\n",
      "INFO:ABC:t:8 eps:24.130833514415425\n",
      "INFO:ABC:t:9 eps:23.449892852968624\n",
      "INFO:ABC:t:10 eps:22.902085581545965\n"
     ]
    }
   ],
   "source": [
    "abc = ABCSMC(model, prior, distance)\n",
    "abc.new(db_path, target)\n",
    "history = abc.run(minimum_epsilon=me, max_nr_populations=mp)"
   ]
  },
  {
   "cell_type": "code",
   "execution_count": null,
   "metadata": {},
   "outputs": [],
   "source": [
    "from pyabc.visualization import plot_kde_1d"
   ]
  },
  {
   "cell_type": "code",
   "execution_count": null,
   "metadata": {},
   "outputs": [],
   "source": [
    "# Visualise results\n",
    "for k,v in metrics.items():\n",
    "    fig, ax = plt.subplots()\n",
    "    for t in range(history.max_t, history.max_t+1):\n",
    "        df, w = history.get_distribution(m=0, t=t)\n",
    "        plot_kde_1d(df, w,\n",
    "                    xmin=v[0], xmax=1.5*v[1],\n",
    "                    x=k, ax=ax,\n",
    "                    label=\"PDF t={}\".format(t))\n",
    "    ax.legend();\n",
    "    fig.savefig('../../../../Report/images/general/'+k+'_kde')"
   ]
  },
  {
   "cell_type": "code",
   "execution_count": null,
   "metadata": {},
   "outputs": [],
   "source": []
  }
 ],
 "metadata": {
  "kernelspec": {
   "display_name": "Python 3",
   "language": "python",
   "name": "python3"
  },
  "language_info": {
   "codemirror_mode": {
    "name": "ipython",
    "version": 3
   },
   "file_extension": ".py",
   "mimetype": "text/x-python",
   "name": "python",
   "nbconvert_exporter": "python",
   "pygments_lexer": "ipython3",
   "version": "3.7.0"
  }
 },
 "nbformat": 4,
 "nbformat_minor": 2
}
