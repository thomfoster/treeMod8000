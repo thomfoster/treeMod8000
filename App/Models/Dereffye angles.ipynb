{
 "cells": [
  {
   "cell_type": "code",
   "execution_count": 1,
   "metadata": {},
   "outputs": [],
   "source": [
    "import Main\n",
    "import Parser\n",
    "from Analyser import *"
   ]
  },
  {
   "cell_type": "code",
   "execution_count": 2,
   "metadata": {},
   "outputs": [],
   "source": [
    "modelName = 'dereffye'"
   ]
  },
  {
   "cell_type": "code",
   "execution_count": 3,
   "metadata": {},
   "outputs": [],
   "source": [
    "# Some PyABC magic to get our set of parameters\n",
    "from pyabc import (ABCSMC, Distribution, RV, MultivariateNormalTransition)\n",
    "import scipy as sp\n",
    "import scipy.stats as st\n",
    "import tempfile\n",
    "import os\n",
    "import pandas as pd\n",
    "import matplotlib.pyplot as plt"
   ]
  },
  {
   "cell_type": "code",
   "execution_count": 4,
   "metadata": {},
   "outputs": [],
   "source": [
    "def model(params):\n",
    "    return Main.generate_and_analyse(modelName, params)"
   ]
  },
  {
   "cell_type": "code",
   "execution_count": 5,
   "metadata": {},
   "outputs": [
    {
     "data": {
      "text/plain": [
       "{'parentAngle_mean': 17.562185524273115,\n",
       " 'parentAngle_variance': 21.25184088858158,\n",
       " 'length_mean': 1.4055027827336024,\n",
       " 'length_variance': 0.9057108250017012,\n",
       " 'verticalOrientation_mean': 55.460042610218736,\n",
       " 'verticalOrientation_variance': 30.113353402380824,\n",
       " 'horizontalOrientation_mean': 169.35119919457196,\n",
       " 'horizontalOrientation_variance': 103.32736916627918,\n",
       " 'q1_xyz': (21.926212753080296, 26.971163924556418, 27.22893222233252),\n",
       " 'q2_xyz': (59.96238994148834, 25.185660767349074, 50.063207188097536),\n",
       " 'q3_xyz': (63.150919419421164, 27.85496629777827, 51.347914271009884),\n",
       " 'xyz': (63.51511915457697, 79.74730372746824, 57.19259310431773),\n",
       " 'trunk_length': 10.0,\n",
       " 'totalBiomass': 397.23712082645477}"
      ]
     },
     "execution_count": 5,
     "metadata": {},
     "output_type": "execute_result"
    }
   ],
   "source": [
    "t1 = Main.generate_and_analyse(modelName, {})\n",
    "t1"
   ]
  },
  {
   "cell_type": "code",
   "execution_count": null,
   "metadata": {},
   "outputs": [],
   "source": []
  },
  {
   "cell_type": "code",
   "execution_count": 6,
   "metadata": {},
   "outputs": [],
   "source": [
    "metrics = {  'section_1_slash':(10, 100),\n",
    "             'section_1_slashr':(10, 100),\n",
    "          }"
   ]
  },
  {
   "cell_type": "code",
   "execution_count": 7,
   "metadata": {},
   "outputs": [],
   "source": [
    "# prior = Distribution(section_1_slash     =RV(\"uniform\", 10, 100),\n",
    "#                      section_1_slashr    =RV(\"uniform\", 10, 100),\n",
    "#                      section_1_plus      =RV(\"uniform\", 0, 180),\n",
    "#                      section_1_plusr      =RV(\"uniform\", 0, 180),\n",
    "#                      section_1_decay     =RV(\"uniform\", 0, 1),\n",
    "#                      section_1_d         =RV(\"uniform\", 0,1),\n",
    "#                      section_1_h         =RV(\"uniform\", 1, 20),\n",
    "#                      section_1_w         =RV(\"uniform\", 0.1, 2),\n",
    "#                      general_thickness   =RV(\"uniform\", 0, 5)\n",
    "#                     )"
   ]
  },
  {
   "cell_type": "code",
   "execution_count": 8,
   "metadata": {},
   "outputs": [],
   "source": [
    "angles = Distribution(section_1_slash     =RV(\"uniform\", 10, 100),\n",
    "                     section_1_slashr    =RV(\"uniform\", 10, 100))"
   ]
  },
  {
   "cell_type": "code",
   "execution_count": 9,
   "metadata": {},
   "outputs": [],
   "source": [
    "db_path = (\"sqlite:///\" + os.path.join(tempfile.gettempdir(), \"test.db\"))"
   ]
  },
  {
   "cell_type": "code",
   "execution_count": 10,
   "metadata": {},
   "outputs": [],
   "source": [
    "def gen_av_target(n):\n",
    "    target = model({})\n",
    "    for i in range(n):\n",
    "        print(i)\n",
    "        new_metrics = model({})\n",
    "        for (k,v) in new_metrics.items():\n",
    "            if k[-3:] == 'xyz':\n",
    "                x,y,z = target[k]\n",
    "                x += new_metrics[k][0]\n",
    "                y += new_metrics[k][1]\n",
    "                z += new_metrics[k][2]\n",
    "                target[k] = (x,y,z)\n",
    "            else:\n",
    "                target[k] += new_metrics[k]\n",
    "\n",
    "    for (k,v) in target.items():\n",
    "        if k[-3:] == 'xyz':\n",
    "            x,y,z = target[k]\n",
    "            target[k] = (x/n, y/n, z/n)\n",
    "        else:\n",
    "            target[k] /= n\n",
    "            \n",
    "    return target"
   ]
  },
  {
   "cell_type": "code",
   "execution_count": 11,
   "metadata": {},
   "outputs": [
    {
     "name": "stdout",
     "output_type": "stream",
     "text": [
      "0\n",
      "1\n",
      "2\n",
      "3\n",
      "4\n",
      "5\n",
      "6\n",
      "7\n",
      "8\n",
      "9\n",
      "10\n",
      "11\n",
      "12\n",
      "13\n",
      "14\n",
      "15\n",
      "16\n",
      "17\n",
      "18\n",
      "19\n"
     ]
    }
   ],
   "source": [
    "target = gen_av_target(20)"
   ]
  },
  {
   "cell_type": "code",
   "execution_count": 12,
   "metadata": {},
   "outputs": [
    {
     "data": {
      "text/plain": [
       "{'parentAngle_mean': 18.286867366588137,\n",
       " 'parentAngle_variance': 22.384705022119558,\n",
       " 'length_mean': 1.4757779218702827,\n",
       " 'length_variance': 0.9509963662517865,\n",
       " 'verticalOrientation_mean': 59.54872920129592,\n",
       " 'verticalOrientation_variance': 31.599519604462586,\n",
       " 'horizontalOrientation_mean': 184.33256396687602,\n",
       " 'horizontalOrientation_variance': 110.46421956976755,\n",
       " 'q1_xyz': (21.54447927612688, 28.504720219783632, 32.33380226464395),\n",
       " 'q2_xyz': (51.630697504359794, 26.471029316473494, 66.34028092857899),\n",
       " 'q3_xyz': (46.556163361501284, 29.183171290926737, 51.3727099234301),\n",
       " 'xyz': (55.412776737504046, 83.73466891384166, 69.10908845081214),\n",
       " 'trunk_length': 10.5,\n",
       " 'totalBiomass': 417.0989768677776}"
      ]
     },
     "execution_count": 12,
     "metadata": {},
     "output_type": "execute_result"
    }
   ],
   "source": [
    "target"
   ]
  },
  {
   "cell_type": "code",
   "execution_count": 13,
   "metadata": {},
   "outputs": [],
   "source": [
    "mp = 7\n",
    "me = 0.5"
   ]
  },
  {
   "cell_type": "code",
   "execution_count": 14,
   "metadata": {},
   "outputs": [
    {
     "name": "stderr",
     "output_type": "stream",
     "text": [
      "INFO:History:Start <ABCSMC(id=55, start_time=2019-04-17 11:34:40.259397, end_time=None)>\n",
      "INFO:Epsilon:initial epsilon is 6.537157820457902\n",
      "INFO:ABC:t:0 eps:6.537157820457902\n",
      "INFO:ABC:t:1 eps:5.241010061546622\n",
      "INFO:ABC:t:2 eps:4.435573497807048\n",
      "INFO:ABC:t:3 eps:3.7006765126912935\n",
      "INFO:ABC:t:4 eps:3.2321920700781313\n",
      "INFO:ABC:t:5 eps:2.696418303339832\n",
      "INFO:ABC:t:6 eps:2.241465914961023\n",
      "INFO:History:Done <ABCSMC(id=55, start_time=2019-04-17 11:34:40.259397, end_time=2019-04-17 11:38:21.759235)>\n"
     ]
    }
   ],
   "source": [
    "abc = ABCSMC(model, angles, distance)\n",
    "abc.new(db_path, target)\n",
    "history = abc.run(minimum_epsilon=me, max_nr_populations=mp)"
   ]
  },
  {
   "cell_type": "code",
   "execution_count": 15,
   "metadata": {},
   "outputs": [],
   "source": [
    "from pyabc.visualization import plot_kde_1d"
   ]
  },
  {
   "cell_type": "code",
   "execution_count": 20,
   "metadata": {},
   "outputs": [
    {
     "data": {
      "image/png": "[encoded data removed]",
      "text/plain": [
       "<Figure size 432x288 with 1 Axes>"
      ]
     },
     "metadata": {
      "needs_background": "light"
     },
     "output_type": "display_data"
    },
    {
     "data": {
      "image/png": "[encoded data removed]",
      "text/plain": [
       "<Figure size 432x288 with 1 Axes>"
      ]
     },
     "metadata": {
      "needs_background": "light"
     },
     "output_type": "display_data"
    }
   ],
   "source": [
    "# Visualise results\n",
    "for k,v in metrics.items():\n",
    "    fig, ax = plt.subplots()\n",
    "    for t in range(history.max_t, history.max_t+1):\n",
    "        df, w = history.get_distribution(m=0, t=t)\n",
    "        plot_kde_1d(df, w,\n",
    "                    xmin=v[0], xmax=1.5*v[1],\n",
    "                    x=k, ax=ax,\n",
    "                    label=\"PDF t={}\".format(t))\n",
    "    ax.legend();\n",
    "    fig.savefig('../../../../Report/images/dereffye_angles/'+k+'_kde')"
   ]
  },
  {
   "cell_type": "code",
   "execution_count": null,
   "metadata": {},
   "outputs": [],
   "source": []
  }
 ],
 "metadata": {
  "kernelspec": {
   "display_name": "Python 3",
   "language": "python",
   "name": "python3"
  },
  "language_info": {
   "codemirror_mode": {
    "name": "ipython",
    "version": 3
   },
   "file_extension": ".py",
   "mimetype": "text/x-python",
   "name": "python",
   "nbconvert_exporter": "python",
   "pygments_lexer": "ipython3",
   "version": "3.7.0"
  }
 },
 "nbformat": 4,
 "nbformat_minor": 2
}
