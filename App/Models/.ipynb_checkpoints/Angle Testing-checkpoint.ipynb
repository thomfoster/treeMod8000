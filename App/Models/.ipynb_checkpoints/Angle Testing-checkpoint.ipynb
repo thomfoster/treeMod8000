{
 "cells": [
  {
   "cell_type": "code",
   "execution_count": 1,
   "metadata": {},
   "outputs": [],
   "source": [
    "import Main"
   ]
  },
  {
   "cell_type": "code",
   "execution_count": 2,
   "metadata": {},
   "outputs": [],
   "source": [
    "import Parser, Analyser, Deriver, Interpreter"
   ]
  },
  {
   "cell_type": "code",
   "execution_count": 3,
   "metadata": {},
   "outputs": [],
   "source": [
    "Spec = Parser.parse(\"Specifications/dereffye.txt\", {})"
   ]
  },
  {
   "cell_type": "code",
   "execution_count": 4,
   "metadata": {},
   "outputs": [],
   "source": [
    "t1 = Main.generate_and_analyse('dereffye', {})"
   ]
  },
  {
   "cell_type": "code",
   "execution_count": 5,
   "metadata": {},
   "outputs": [
    {
     "data": {
      "text/plain": [
       "{'parentAngle_mean': 17.565694800306233,\n",
       " 'parentAngle_variance': 21.412753410779704,\n",
       " 'length_mean': 0.4395566796065684,\n",
       " 'length_variance': 0.3713879544290659,\n",
       " 'verticalOrientation_mean': 63.86142258019699,\n",
       " 'verticalOrientation_variance': 33.381122188120614,\n",
       " 'horizontalOrientation_mean': 175.27124679705793,\n",
       " 'horizontalOrientation_variance': 96.13115261431122,\n",
       " 'q1_xyz': (19.986112375711887, 29.646426725718847, 20.12269670864157),\n",
       " 'q2_xyz': (64.76084706772825, 27.2161104978159, 58.85396684534621),\n",
       " 'q3_xyz': (60.69472503566307, 27.100793035272126, 51.92001314065804),\n",
       " 'xyz': (64.76084706772825, 83.27322316931492, 58.85396684534621),\n",
       " 'trunk_length': 10.0,\n",
       " 'totalBiomass': 495.7769470782926}"
      ]
     },
     "execution_count": 5,
     "metadata": {},
     "output_type": "execute_result"
    }
   ],
   "source": [
    "t1"
   ]
  },
  {
   "cell_type": "code",
   "execution_count": 6,
   "metadata": {},
   "outputs": [],
   "source": [
    "ax = Spec['axiom']"
   ]
  },
  {
   "cell_type": "code",
   "execution_count": null,
   "metadata": {},
   "outputs": [],
   "source": [
    "n = 5"
   ]
  }
 ],
 "metadata": {
  "kernelspec": {
   "display_name": "Python 3",
   "language": "python",
   "name": "python3"
  },
  "language_info": {
   "codemirror_mode": {
    "name": "ipython",
    "version": 3
   },
   "file_extension": ".py",
   "mimetype": "text/x-python",
   "name": "python",
   "nbconvert_exporter": "python",
   "pygments_lexer": "ipython3",
   "version": "3.7.0"
  }
 },
 "nbformat": 4,
 "nbformat_minor": 2
}
