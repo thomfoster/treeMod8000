{
 "cells": [
  {
   "cell_type": "code",
   "execution_count": 13,
   "metadata": {},
   "outputs": [],
   "source": [
    "import Main\n",
    "from Analyser import *"
   ]
  },
  {
   "cell_type": "code",
   "execution_count": 14,
   "metadata": {},
   "outputs": [],
   "source": [
    "modelName = 'Ruler2'"
   ]
  },
  {
   "cell_type": "code",
   "execution_count": 15,
   "metadata": {},
   "outputs": [],
   "source": [
    "# Some PyABC magic to get our set of parameters\n",
    "from pyabc import (ABCSMC, Distribution, RV, MultivariateNormalTransition)\n",
    "import scipy as sp\n",
    "import scipy.stats as st\n",
    "import tempfile\n",
    "import os\n",
    "import pandas as pd\n",
    "import matplotlib.pyplot as plt"
   ]
  },
  {
   "cell_type": "code",
   "execution_count": 45,
   "metadata": {},
   "outputs": [],
   "source": [
    "def model(params):\n",
    "    return Main.generate_and_analyse(modelName, params)"
   ]
  },
  {
   "cell_type": "code",
   "execution_count": null,
   "metadata": {},
   "outputs": [],
   "source": [
    "def sigfigs(n):\n",
    "    print('%.3f' %(n(4.2,8*10**4,1*10**-3,8.31,300)))"
   ]
  },
  {
   "cell_type": "code",
   "execution_count": 41,
   "metadata": {},
   "outputs": [],
   "source": [
    "deref = {\n",
    "    'rule_1_0' : 1,\n",
    "    'rule_1_1' : 0\n",
    "}\n",
    "deref_metrics = Main.generate_and_analyse(\"Ruler2\",deref)"
   ]
  },
  {
   "cell_type": "code",
   "execution_count": 42,
   "metadata": {},
   "outputs": [],
   "source": [
    "three_prong = {\n",
    "    'rule_1_0' : 0,\n",
    "    'rule_1_1' : 1\n",
    "}\n",
    "three_prong_metrics = Main.generate_and_analyse(\"Ruler2\",three_prong)"
   ]
  },
  {
   "cell_type": "code",
   "execution_count": 43,
   "metadata": {},
   "outputs": [
    {
     "name": "stdout",
     "output_type": "stream",
     "text": [
      "parentAngle_mean 19.94505494505494\n",
      "parentAngle_variance 1.0468438946844851\n",
      "length_mean 3.5438941638993104\n",
      "length_variance 0.9953912831894125\n",
      "verticalOrientation_mean 35.44516499161869\n",
      "verticalOrientation_variance 17.15883123460697\n",
      "horizontalOrientation_mean 190.18388072509973\n",
      "horizontalOrientation_variance 105.46740663810891\n",
      "q1_xyz (1.0, 10.975, 1.0)\n",
      "q2_xyz (11.379311473684407, 6.764574713286283, 12.639685526893)\n",
      "q3_xyz (30.859383546898727, 12.673657140851656, 32.51135572462256)\n",
      "xyz (30.859383546898727, 37.1705365886883, 32.51135572462256)\n",
      "trunk_length 10.0\n",
      "totalBiomass 625.0987243611232\n"
     ]
    }
   ],
   "source": [
    "for k,v in three_prong_metrics.items():\n",
    "    print(k,v)"
   ]
  },
  {
   "cell_type": "code",
   "execution_count": 44,
   "metadata": {},
   "outputs": [
    {
     "name": "stdout",
     "output_type": "stream",
     "text": [
      "parentAngle_mean\t23.960396051558597\t19.94505494505494\t4.015341106503655\n",
      "parentAngle_variance\t19.603960381428383\t1.0468438946844851\t18.557116486743897\n",
      "length_mean\t3.9765400793811376\t3.5438941638993104\t0.4326459154818272\n",
      "length_variance\t1.1682576620856053\t0.9953912831894125\t0.17286637889619283\n",
      "verticalOrientation_mean\t66.9151019573012\t35.44516499161869\t31.469936965682514\n",
      "verticalOrientation_variance\t33.71412473334315\t17.15883123460697\t16.555293498736177\n",
      "horizontalOrientation_mean\t176.0940130876802\t190.18388072509973\t-14.08986763741953\n",
      "horizontalOrientation_variance\t102.72032320350047\t105.46740663810891\t-2.7470834346084416\n",
      "q1_xyz\t(38.10695545036911, 26.755196286626145, 55.22684490012533)\t(1.0, 10.975, 1.0)\t(37.10695545036911, 15.780196286626145, 54.22684490012533)\n",
      "q2_xyz\t(102.8071910024662, 26.53480861121165, 105.62689298440543)\t(11.379311473684407, 6.764574713286283, 12.639685526893)\t(91.42787952878179, 19.770233897925365, 92.98720745751243)\n",
      "q3_xyz\t(95.4178229143997, 27.662881050331265, 81.04475295184307)\t(30.859383546898727, 12.673657140851656, 32.51135572462256)\t(64.55843936750097, 14.989223909479609, 48.533397227220505)\n",
      "xyz\t(102.8071910024662, 80.12868056057744, 105.62689298440543)\t(30.859383546898727, 37.1705365886883, 32.51135572462256)\t(71.94780745556747, 42.958143971889136, 73.11553725978287)\n",
      "trunk_length\t10.0\t10.0\t0.0\n",
      "totalBiomass\t791.4512466863708\t625.0987243611232\t166.3525223252476\n"
     ]
    }
   ],
   "source": [
    "for (k,v) in deref_metrics.items():\n",
    "    v2 = three_prong_metrics[k]\n",
    "    diff = 0\n",
    "    if k[-3:] != 'xyz':\n",
    "        diff = v - v2\n",
    "    else:\n",
    "        diff = (v[0]-v2[0],v[1]-v2[1],v[2]-v2[2])\n",
    "    print(k + '\\t' + str(v) + '\\t' + str(v2) + '\\t' + str(diff))"
   ]
  },
  {
   "cell_type": "code",
   "execution_count": 7,
   "metadata": {},
   "outputs": [],
   "source": [
    "metrics = {\n",
    "    'section_1_w': (0.2, 1.4),\n",
    "    'section_1_decay' : (0.4,1.0),\n",
    "    'rule_1_0': (0,1),\n",
    "    'rule_1_1': (0,1),\n",
    "    'rule_1_2': (0,1),\n",
    "    'rule_1_3': (0,1),\n",
    "    'rule_1_4': (0,1),\n",
    "}"
   ]
  },
  {
   "cell_type": "code",
   "execution_count": 8,
   "metadata": {},
   "outputs": [],
   "source": [
    "prior = Distribution(section_1_w         =RV(\"uniform\", 0.2, 1.4),  \n",
    "                     section_1_decay     =RV(\"uniform\", 0.4, 1.0),\n",
    "                     rule_1_0            =RV(\"uniform\", 0, 1),\n",
    "                     rule_1_1            =RV(\"uniform\", 0, 1),\n",
    "                     rule_1_2            =RV(\"uniform\", 0, 1),\n",
    "                     rule_1_3            =RV(\"uniform\", 0, 1),\n",
    "                     rule_1_4            =RV(\"uniform\", 0, 1),\n",
    "                    )"
   ]
  },
  {
   "cell_type": "code",
   "execution_count": 9,
   "metadata": {},
   "outputs": [],
   "source": [
    "abc = ABCSMC(model, prior, distance)"
   ]
  },
  {
   "cell_type": "code",
   "execution_count": 10,
   "metadata": {},
   "outputs": [],
   "source": [
    "db_path = (\"sqlite:///\" + os.path.join(tempfile.gettempdir(), \"test.db\"))"
   ]
  },
  {
   "cell_type": "code",
   "execution_count": 11,
   "metadata": {},
   "outputs": [],
   "source": [
    "target = Main.generate_and_analyse(\"Young_Shrub\",{})"
   ]
  },
  {
   "cell_type": "code",
   "execution_count": 12,
   "metadata": {},
   "outputs": [
    {
     "name": "stderr",
     "output_type": "stream",
     "text": [
      "INFO:History:Start <ABCSMC(id=6, start_time=2019-04-16 10:32:56.912896, end_time=None)>\n",
      "Process Process-1:\n",
      "Process Process-2:\n",
      "Traceback (most recent call last):\n",
      "  File \"/home/t/anaconda3/lib/python3.7/multiprocessing/process.py\", line 297, in _bootstrap\n",
      "    self.run()\n",
      "  File \"/home/t/anaconda3/lib/python3.7/multiprocessing/process.py\", line 99, in run\n",
      "    self._target(*self._args, **self._kwargs)\n",
      "Traceback (most recent call last):\n",
      "Process Process-3:\n",
      "  File \"/home/t/anaconda3/lib/python3.7/site-packages/pyabc/sampler/multicore_evaluation_parallel.py\", line 24, in work\n",
      "    new_sim = simulate_one()\n",
      "  File \"/home/t/anaconda3/lib/python3.7/multiprocessing/process.py\", line 297, in _bootstrap\n",
      "    self.run()\n",
      "  File \"/home/t/anaconda3/lib/python3.7/site-packages/pyabc/smc.py\", line 453, in simulate_one\n",
      "    t, theta, summary_statistics)\n",
      "Traceback (most recent call last):\n",
      "Process Process-4:\n",
      "  File \"/home/t/anaconda3/lib/python3.7/site-packages/pyabc/model.py\", line 116, in summary_statistics\n",
      "    raw_data = self.sample(pars)\n",
      "  File \"/home/t/anaconda3/lib/python3.7/multiprocessing/process.py\", line 99, in run\n",
      "    self._target(*self._args, **self._kwargs)\n",
      "  File \"/home/t/anaconda3/lib/python3.7/multiprocessing/process.py\", line 297, in _bootstrap\n",
      "    self.run()\n",
      "Traceback (most recent call last):\n",
      "  File \"/home/t/anaconda3/lib/python3.7/multiprocessing/process.py\", line 297, in _bootstrap\n",
      "    self.run()\n",
      "  File \"/home/t/anaconda3/lib/python3.7/site-packages/pyabc/model.py\", line 261, in sample\n",
      "    return self.sample_function(pars)\n",
      "  File \"/home/t/anaconda3/lib/python3.7/multiprocessing/process.py\", line 99, in run\n",
      "    self._target(*self._args, **self._kwargs)\n",
      "  File \"/home/t/anaconda3/lib/python3.7/site-packages/pyabc/sampler/multicore_evaluation_parallel.py\", line 24, in work\n",
      "    new_sim = simulate_one()\n",
      "  File \"<ipython-input-4-fe8d3e4dfdf6>\", line 2, in model\n",
      "    return Main.generate_and_analyse(modelName, params)\n",
      "Process Process-5:\n",
      "  File \"/home/t/anaconda3/lib/python3.7/multiprocessing/process.py\", line 99, in run\n",
      "    self._target(*self._args, **self._kwargs)\n",
      "  File \"/home/t/anaconda3/lib/python3.7/site-packages/pyabc/sampler/multicore_evaluation_parallel.py\", line 24, in work\n",
      "    new_sim = simulate_one()\n",
      "  File \"/home/t/anaconda3/lib/python3.7/site-packages/pyabc/smc.py\", line 453, in simulate_one\n",
      "    t, theta, summary_statistics)\n",
      "  File \"/home/t/anaconda3/lib/python3.7/site-packages/pyabc/sampler/multicore_evaluation_parallel.py\", line 24, in work\n",
      "    new_sim = simulate_one()\n",
      "  File \"/home/t/anaconda3/lib/python3.7/site-packages/pyabc/model.py\", line 116, in summary_statistics\n",
      "    raw_data = self.sample(pars)\n",
      "  File \"/home/t/anaconda3/lib/python3.7/site-packages/pyabc/smc.py\", line 453, in simulate_one\n",
      "    t, theta, summary_statistics)\n",
      "  File \"/home/t/anaconda3/lib/python3.7/site-packages/pyabc/smc.py\", line 453, in simulate_one\n",
      "    t, theta, summary_statistics)\n",
      "  File \"/home/t/anaconda3/lib/python3.7/site-packages/pyabc/model.py\", line 261, in sample\n",
      "    return self.sample_function(pars)\n",
      "  File \"/home/t/anaconda3/lib/python3.7/site-packages/pyabc/model.py\", line 116, in summary_statistics\n",
      "    raw_data = self.sample(pars)\n",
      "  File \"/home/t/Documents/diss/CompiledApproach/treeMod8000/App/Models/Main.py\", line 107, in generate_and_analyse\n",
      "    tree_data = generate_model(filename, overrideParams, return_analysis=True)\n",
      "Traceback (most recent call last):\n",
      "  File \"/home/t/anaconda3/lib/python3.7/site-packages/pyabc/model.py\", line 116, in summary_statistics\n",
      "    raw_data = self.sample(pars)\n",
      "  File \"/home/t/anaconda3/lib/python3.7/site-packages/pyabc/model.py\", line 261, in sample\n",
      "    return self.sample_function(pars)\n",
      "  File \"<ipython-input-4-fe8d3e4dfdf6>\", line 2, in model\n",
      "    return Main.generate_and_analyse(modelName, params)\n",
      "  File \"/home/t/Documents/diss/CompiledApproach/treeMod8000/App/Models/Main.py\", line 107, in generate_and_analyse\n",
      "    tree_data = generate_model(filename, overrideParams, return_analysis=True)\n",
      "  File \"<ipython-input-4-fe8d3e4dfdf6>\", line 2, in model\n",
      "    return Main.generate_and_analyse(modelName, params)\n",
      "  File \"/home/t/anaconda3/lib/python3.7/site-packages/pyabc/model.py\", line 261, in sample\n",
      "    return self.sample_function(pars)\n",
      "Process Process-6:\n",
      "  File \"/home/t/Documents/diss/CompiledApproach/treeMod8000/App/Models/Main.py\", line 6, in generate_model\n",
      "    Specification   = Parser.parse('Specifications/'+filename+'.txt', overrideParams)\n",
      "  File \"/home/t/anaconda3/lib/python3.7/multiprocessing/process.py\", line 297, in _bootstrap\n",
      "    self.run()\n",
      "  File \"<ipython-input-4-fe8d3e4dfdf6>\", line 2, in model\n",
      "    return Main.generate_and_analyse(modelName, params)\n",
      "  File \"/home/t/Documents/diss/CompiledApproach/treeMod8000/App/Models/Main.py\", line 6, in generate_model\n",
      "    Specification   = Parser.parse('Specifications/'+filename+'.txt', overrideParams)\n",
      "  File \"/home/t/Documents/diss/CompiledApproach/treeMod8000/App/Models/Parser.py\", line 208, in parse\n",
      "    Specification['sections'][agent]['rules'][int(id)][1] = [v]\n",
      "Traceback (most recent call last):\n",
      "  File \"/home/t/Documents/diss/CompiledApproach/treeMod8000/App/Models/Main.py\", line 107, in generate_and_analyse\n",
      "    tree_data = generate_model(filename, overrideParams, return_analysis=True)\n",
      "  File \"/home/t/anaconda3/lib/python3.7/multiprocessing/process.py\", line 99, in run\n",
      "    self._target(*self._args, **self._kwargs)\n",
      "  File \"/home/t/Documents/diss/CompiledApproach/treeMod8000/App/Models/Main.py\", line 107, in generate_and_analyse\n",
      "    tree_data = generate_model(filename, overrideParams, return_analysis=True)\n",
      "IndexError: list index out of range\n",
      "  File \"/home/t/Documents/diss/CompiledApproach/treeMod8000/App/Models/Main.py\", line 6, in generate_model\n",
      "    Specification   = Parser.parse('Specifications/'+filename+'.txt', overrideParams)\n",
      "  File \"/home/t/Documents/diss/CompiledApproach/treeMod8000/App/Models/Main.py\", line 6, in generate_model\n",
      "    Specification   = Parser.parse('Specifications/'+filename+'.txt', overrideParams)\n",
      "  File \"/home/t/Documents/diss/CompiledApproach/treeMod8000/App/Models/Parser.py\", line 208, in parse\n",
      "    Specification['sections'][agent]['rules'][int(id)][1] = [v]\n",
      "  File \"/home/t/anaconda3/lib/python3.7/site-packages/pyabc/sampler/multicore_evaluation_parallel.py\", line 24, in work\n",
      "    new_sim = simulate_one()\n",
      "  File \"/home/t/Documents/diss/CompiledApproach/treeMod8000/App/Models/Parser.py\", line 208, in parse\n",
      "    Specification['sections'][agent]['rules'][int(id)][1] = [v]\n",
      "  File \"/home/t/anaconda3/lib/python3.7/multiprocessing/process.py\", line 297, in _bootstrap\n",
      "    self.run()\n",
      "  File \"/home/t/Documents/diss/CompiledApproach/treeMod8000/App/Models/Parser.py\", line 208, in parse\n",
      "    Specification['sections'][agent]['rules'][int(id)][1] = [v]\n",
      "  File \"/home/t/anaconda3/lib/python3.7/multiprocessing/process.py\", line 99, in run\n",
      "    self._target(*self._args, **self._kwargs)\n",
      "  File \"/home/t/anaconda3/lib/python3.7/site-packages/pyabc/smc.py\", line 453, in simulate_one\n",
      "    t, theta, summary_statistics)\n",
      "IndexError: list index out of range\n",
      "IndexError: list index out of range\n",
      "  File \"/home/t/anaconda3/lib/python3.7/site-packages/pyabc/sampler/multicore_evaluation_parallel.py\", line 24, in work\n",
      "    new_sim = simulate_one()\n",
      "IndexError: list index out of range\n",
      "  File \"/home/t/anaconda3/lib/python3.7/site-packages/pyabc/model.py\", line 116, in summary_statistics\n",
      "    raw_data = self.sample(pars)\n",
      "  File \"/home/t/anaconda3/lib/python3.7/site-packages/pyabc/model.py\", line 261, in sample\n",
      "    return self.sample_function(pars)\n",
      "  File \"<ipython-input-4-fe8d3e4dfdf6>\", line 2, in model\n",
      "    return Main.generate_and_analyse(modelName, params)\n",
      "  File \"/home/t/Documents/diss/CompiledApproach/treeMod8000/App/Models/Main.py\", line 107, in generate_and_analyse\n",
      "    tree_data = generate_model(filename, overrideParams, return_analysis=True)\n",
      "  File \"/home/t/Documents/diss/CompiledApproach/treeMod8000/App/Models/Main.py\", line 6, in generate_model\n",
      "    Specification   = Parser.parse('Specifications/'+filename+'.txt', overrideParams)\n",
      "  File \"/home/t/Documents/diss/CompiledApproach/treeMod8000/App/Models/Parser.py\", line 208, in parse\n",
      "    Specification['sections'][agent]['rules'][int(id)][1] = [v]\n",
      "  File \"/home/t/anaconda3/lib/python3.7/site-packages/pyabc/smc.py\", line 453, in simulate_one\n",
      "    t, theta, summary_statistics)\n"
     ]
    },
    {
     "name": "stderr",
     "output_type": "stream",
     "text": [
      "  File \"/home/t/anaconda3/lib/python3.7/site-packages/pyabc/model.py\", line 116, in summary_statistics\n",
      "    raw_data = self.sample(pars)\n",
      "IndexError: list index out of range\n",
      "  File \"/home/t/anaconda3/lib/python3.7/site-packages/pyabc/model.py\", line 261, in sample\n",
      "    return self.sample_function(pars)\n",
      "  File \"<ipython-input-4-fe8d3e4dfdf6>\", line 2, in model\n",
      "    return Main.generate_and_analyse(modelName, params)\n",
      "  File \"/home/t/Documents/diss/CompiledApproach/treeMod8000/App/Models/Main.py\", line 107, in generate_and_analyse\n",
      "    tree_data = generate_model(filename, overrideParams, return_analysis=True)\n",
      "  File \"/home/t/Documents/diss/CompiledApproach/treeMod8000/App/Models/Main.py\", line 6, in generate_model\n",
      "    Specification   = Parser.parse('Specifications/'+filename+'.txt', overrideParams)\n",
      "  File \"/home/t/Documents/diss/CompiledApproach/treeMod8000/App/Models/Parser.py\", line 208, in parse\n",
      "    Specification['sections'][agent]['rules'][int(id)][1] = [v]\n",
      "IndexError: list index out of range\n",
      "Process Process-7:\n",
      "Traceback (most recent call last):\n",
      "  File \"/home/t/anaconda3/lib/python3.7/multiprocessing/process.py\", line 297, in _bootstrap\n",
      "    self.run()\n",
      "  File \"/home/t/anaconda3/lib/python3.7/multiprocessing/process.py\", line 99, in run\n",
      "    self._target(*self._args, **self._kwargs)\n",
      "  File \"/home/t/anaconda3/lib/python3.7/site-packages/pyabc/sampler/multicore_evaluation_parallel.py\", line 24, in work\n",
      "    new_sim = simulate_one()\n",
      "  File \"/home/t/anaconda3/lib/python3.7/site-packages/pyabc/smc.py\", line 453, in simulate_one\n",
      "    t, theta, summary_statistics)\n",
      "Process Process-8:\n",
      "  File \"/home/t/anaconda3/lib/python3.7/site-packages/pyabc/model.py\", line 116, in summary_statistics\n",
      "    raw_data = self.sample(pars)\n",
      "Traceback (most recent call last):\n",
      "  File \"/home/t/anaconda3/lib/python3.7/site-packages/pyabc/model.py\", line 261, in sample\n",
      "    return self.sample_function(pars)\n",
      "  File \"/home/t/anaconda3/lib/python3.7/multiprocessing/process.py\", line 297, in _bootstrap\n",
      "    self.run()\n",
      "  File \"<ipython-input-4-fe8d3e4dfdf6>\", line 2, in model\n",
      "    return Main.generate_and_analyse(modelName, params)\n",
      "  File \"/home/t/anaconda3/lib/python3.7/multiprocessing/process.py\", line 99, in run\n",
      "    self._target(*self._args, **self._kwargs)\n",
      "  File \"/home/t/Documents/diss/CompiledApproach/treeMod8000/App/Models/Main.py\", line 107, in generate_and_analyse\n",
      "    tree_data = generate_model(filename, overrideParams, return_analysis=True)\n",
      "  File \"/home/t/anaconda3/lib/python3.7/site-packages/pyabc/sampler/multicore_evaluation_parallel.py\", line 24, in work\n",
      "    new_sim = simulate_one()\n",
      "  File \"/home/t/Documents/diss/CompiledApproach/treeMod8000/App/Models/Main.py\", line 6, in generate_model\n",
      "    Specification   = Parser.parse('Specifications/'+filename+'.txt', overrideParams)\n",
      "  File \"/home/t/anaconda3/lib/python3.7/site-packages/pyabc/smc.py\", line 453, in simulate_one\n",
      "    t, theta, summary_statistics)\n",
      "  File \"/home/t/Documents/diss/CompiledApproach/treeMod8000/App/Models/Parser.py\", line 208, in parse\n",
      "    Specification['sections'][agent]['rules'][int(id)][1] = [v]\n",
      "IndexError: list index out of range\n",
      "  File \"/home/t/anaconda3/lib/python3.7/site-packages/pyabc/model.py\", line 116, in summary_statistics\n",
      "    raw_data = self.sample(pars)\n",
      "  File \"/home/t/anaconda3/lib/python3.7/site-packages/pyabc/model.py\", line 261, in sample\n",
      "    return self.sample_function(pars)\n",
      "  File \"<ipython-input-4-fe8d3e4dfdf6>\", line 2, in model\n",
      "    return Main.generate_and_analyse(modelName, params)\n",
      "  File \"/home/t/Documents/diss/CompiledApproach/treeMod8000/App/Models/Main.py\", line 107, in generate_and_analyse\n",
      "    tree_data = generate_model(filename, overrideParams, return_analysis=True)\n",
      "  File \"/home/t/Documents/diss/CompiledApproach/treeMod8000/App/Models/Main.py\", line 6, in generate_model\n",
      "    Specification   = Parser.parse('Specifications/'+filename+'.txt', overrideParams)\n",
      "  File \"/home/t/Documents/diss/CompiledApproach/treeMod8000/App/Models/Parser.py\", line 208, in parse\n",
      "    Specification['sections'][agent]['rules'][int(id)][1] = [v]\n",
      "IndexError: list index out of range\n"
     ]
    },
    {
     "ename": "KeyboardInterrupt",
     "evalue": "",
     "output_type": "error",
     "traceback": [
      "\u001b[0;31m---------------------------------------------------------------------------\u001b[0m",
      "\u001b[0;31mKeyboardInterrupt\u001b[0m                         Traceback (most recent call last)",
      "\u001b[0;32m<ipython-input-12-e9a1e6c95e87>\u001b[0m in \u001b[0;36m<module>\u001b[0;34m()\u001b[0m\n\u001b[0;32m----> 1\u001b[0;31m \u001b[0mabc\u001b[0m\u001b[0;34m.\u001b[0m\u001b[0mnew\u001b[0m\u001b[0;34m(\u001b[0m\u001b[0mdb_path\u001b[0m\u001b[0;34m,\u001b[0m \u001b[0mtarget\u001b[0m\u001b[0;34m)\u001b[0m\u001b[0;34m\u001b[0m\u001b[0m\n\u001b[0m",
      "\u001b[0;32m~/anaconda3/lib/python3.7/site-packages/pyabc/smc.py\u001b[0m in \u001b[0;36mnew\u001b[0;34m(self, db, observed_sum_stat, gt_model, gt_par, meta_info)\u001b[0m\n\u001b[1;32m    362\u001b[0m \u001b[0;34m\u001b[0m\u001b[0m\n\u001b[1;32m    363\u001b[0m         \u001b[0;31m# sample from prior to calibrate distance function and epsilon\u001b[0m\u001b[0;34m\u001b[0m\u001b[0;34m\u001b[0m\u001b[0m\n\u001b[0;32m--> 364\u001b[0;31m         \u001b[0mself\u001b[0m\u001b[0;34m.\u001b[0m\u001b[0m_initialize_dist_and_eps\u001b[0m\u001b[0;34m(\u001b[0m\u001b[0mself\u001b[0m\u001b[0;34m.\u001b[0m\u001b[0mhistory\u001b[0m\u001b[0;34m.\u001b[0m\u001b[0mmax_t\u001b[0m \u001b[0;34m+\u001b[0m \u001b[0;36m1\u001b[0m\u001b[0;34m)\u001b[0m\u001b[0;34m\u001b[0m\u001b[0m\n\u001b[0m\u001b[1;32m    365\u001b[0m \u001b[0;34m\u001b[0m\u001b[0m\n\u001b[1;32m    366\u001b[0m         \u001b[0;31m# return id generated in store_initial_data\u001b[0m\u001b[0;34m\u001b[0m\u001b[0;34m\u001b[0m\u001b[0m\n",
      "\u001b[0;32m~/anaconda3/lib/python3.7/site-packages/pyabc/smc.py\u001b[0m in \u001b[0;36m_initialize_dist_and_eps\u001b[0;34m(self, t)\u001b[0m\n\u001b[1;32m    397\u001b[0m \u001b[0;34m\u001b[0m\u001b[0m\n\u001b[1;32m    398\u001b[0m             \u001b[0;31m# create dataframe from weights and new distances\u001b[0m\u001b[0;34m\u001b[0m\u001b[0;34m\u001b[0m\u001b[0m\n\u001b[0;32m--> 399\u001b[0;31m             \u001b[0mweights\u001b[0m\u001b[0;34m,\u001b[0m \u001b[0msum_stats\u001b[0m \u001b[0;34m=\u001b[0m \u001b[0mself\u001b[0m\u001b[0;34m.\u001b[0m\u001b[0m_get_initial_samples\u001b[0m\u001b[0;34m(\u001b[0m\u001b[0mt\u001b[0m\u001b[0;34m)\u001b[0m\u001b[0;34m\u001b[0m\u001b[0m\n\u001b[0m\u001b[1;32m    400\u001b[0m             \u001b[0mrows\u001b[0m \u001b[0;34m=\u001b[0m \u001b[0;34m[\u001b[0m\u001b[0;34m]\u001b[0m\u001b[0;34m\u001b[0m\u001b[0m\n\u001b[1;32m    401\u001b[0m             \u001b[0;32mfor\u001b[0m \u001b[0mi\u001b[0m \u001b[0;32min\u001b[0m \u001b[0mrange\u001b[0m\u001b[0;34m(\u001b[0m\u001b[0mlen\u001b[0m\u001b[0;34m(\u001b[0m\u001b[0mweights\u001b[0m\u001b[0;34m)\u001b[0m\u001b[0;34m)\u001b[0m\u001b[0;34m:\u001b[0m\u001b[0;34m\u001b[0m\u001b[0m\n",
      "\u001b[0;32m~/anaconda3/lib/python3.7/site-packages/pyabc/smc.py\u001b[0m in \u001b[0;36m_get_initial_samples\u001b[0;34m(self, t)\u001b[0m\n\u001b[1;32m    428\u001b[0m                 \u001b[0mself\u001b[0m\u001b[0;34m.\u001b[0m\u001b[0m_initial_sum_stats\u001b[0m \u001b[0;34m=\u001b[0m \u001b[0msum_stats\u001b[0m\u001b[0;34m\u001b[0m\u001b[0m\n\u001b[1;32m    429\u001b[0m             \u001b[0;32melse\u001b[0m\u001b[0;34m:\u001b[0m\u001b[0;34m\u001b[0m\u001b[0m\n\u001b[0;32m--> 430\u001b[0;31m                 \u001b[0mself\u001b[0m\u001b[0;34m.\u001b[0m\u001b[0m_initial_sum_stats\u001b[0m \u001b[0;34m=\u001b[0m \u001b[0mself\u001b[0m\u001b[0;34m.\u001b[0m\u001b[0m_sample_from_prior\u001b[0m\u001b[0;34m(\u001b[0m\u001b[0mt\u001b[0m\u001b[0;34m)\u001b[0m\u001b[0;34m\u001b[0m\u001b[0m\n\u001b[0m\u001b[1;32m    431\u001b[0m                 self._initial_weights = [1.0 / len(self._initial_sum_stats)\n\u001b[1;32m    432\u001b[0m                                          for _ in self._initial_sum_stats]\n",
      "\u001b[0;32m~/anaconda3/lib/python3.7/site-packages/pyabc/smc.py\u001b[0m in \u001b[0;36m_sample_from_prior\u001b[0;34m(self, t)\u001b[0m\n\u001b[1;32m    480\u001b[0m         \u001b[0;31m# call sampler\u001b[0m\u001b[0;34m\u001b[0m\u001b[0;34m\u001b[0m\u001b[0m\n\u001b[1;32m    481\u001b[0m         sample = self.sampler.sample_until_n_accepted(\n\u001b[0;32m--> 482\u001b[0;31m             self.population_strategy.nr_particles, simulate_one)\n\u001b[0m\u001b[1;32m    483\u001b[0m \u001b[0;34m\u001b[0m\u001b[0m\n\u001b[1;32m    484\u001b[0m         \u001b[0;31m# return all generated summary statistics\u001b[0m\u001b[0;34m\u001b[0m\u001b[0;34m\u001b[0m\u001b[0m\n",
      "\u001b[0;32m~/anaconda3/lib/python3.7/site-packages/pyabc/sampler/multicore_evaluation_parallel.py\u001b[0m in \u001b[0;36msample_until_n_accepted\u001b[0;34m(self, n, simulate_one)\u001b[0m\n\u001b[1;32m    109\u001b[0m         \u001b[0mn_done\u001b[0m \u001b[0;34m=\u001b[0m \u001b[0;36m0\u001b[0m\u001b[0;34m\u001b[0m\u001b[0m\n\u001b[1;32m    110\u001b[0m         \u001b[0;32mwhile\u001b[0m \u001b[0mn_done\u001b[0m \u001b[0;34m<\u001b[0m \u001b[0mlen\u001b[0m\u001b[0;34m(\u001b[0m\u001b[0mprocesses\u001b[0m\u001b[0;34m)\u001b[0m\u001b[0;34m:\u001b[0m\u001b[0;34m\u001b[0m\u001b[0m\n\u001b[0;32m--> 111\u001b[0;31m             \u001b[0mval\u001b[0m \u001b[0;34m=\u001b[0m \u001b[0mget_if_worker_healthy\u001b[0m\u001b[0;34m(\u001b[0m\u001b[0mprocesses\u001b[0m\u001b[0;34m,\u001b[0m \u001b[0mqueue\u001b[0m\u001b[0;34m)\u001b[0m\u001b[0;34m\u001b[0m\u001b[0m\n\u001b[0m\u001b[1;32m    112\u001b[0m             \u001b[0;32mif\u001b[0m \u001b[0mval\u001b[0m \u001b[0;34m==\u001b[0m \u001b[0mDONE\u001b[0m\u001b[0;34m:\u001b[0m\u001b[0;34m\u001b[0m\u001b[0m\n\u001b[1;32m    113\u001b[0m                 \u001b[0mn_done\u001b[0m \u001b[0;34m+=\u001b[0m \u001b[0;36m1\u001b[0m\u001b[0;34m\u001b[0m\u001b[0m\n",
      "\u001b[0;32m~/anaconda3/lib/python3.7/site-packages/pyabc/sampler/multicorebase.py\u001b[0m in \u001b[0;36mget_if_worker_healthy\u001b[0;34m(workers, queue)\u001b[0m\n\u001b[1;32m     51\u001b[0m     \u001b[0;32mwhile\u001b[0m \u001b[0;32mTrue\u001b[0m\u001b[0;34m:\u001b[0m\u001b[0;34m\u001b[0m\u001b[0m\n\u001b[1;32m     52\u001b[0m         \u001b[0;32mtry\u001b[0m\u001b[0;34m:\u001b[0m\u001b[0;34m\u001b[0m\u001b[0m\n\u001b[0;32m---> 53\u001b[0;31m             \u001b[0mitem\u001b[0m \u001b[0;34m=\u001b[0m \u001b[0mqueue\u001b[0m\u001b[0;34m.\u001b[0m\u001b[0mget\u001b[0m\u001b[0;34m(\u001b[0m\u001b[0;32mTrue\u001b[0m\u001b[0;34m,\u001b[0m \u001b[0;36m5\u001b[0m\u001b[0;34m)\u001b[0m\u001b[0;34m\u001b[0m\u001b[0m\n\u001b[0m\u001b[1;32m     54\u001b[0m             \u001b[0;32mreturn\u001b[0m \u001b[0mitem\u001b[0m\u001b[0;34m\u001b[0m\u001b[0m\n\u001b[1;32m     55\u001b[0m         \u001b[0;32mexcept\u001b[0m \u001b[0mEmpty\u001b[0m\u001b[0;34m:\u001b[0m\u001b[0;34m\u001b[0m\u001b[0m\n",
      "\u001b[0;32m~/anaconda3/lib/python3.7/multiprocessing/queues.py\u001b[0m in \u001b[0;36mget\u001b[0;34m(self, block, timeout)\u001b[0m\n\u001b[1;32m    102\u001b[0m                 \u001b[0;32mif\u001b[0m \u001b[0mblock\u001b[0m\u001b[0;34m:\u001b[0m\u001b[0;34m\u001b[0m\u001b[0m\n\u001b[1;32m    103\u001b[0m                     \u001b[0mtimeout\u001b[0m \u001b[0;34m=\u001b[0m \u001b[0mdeadline\u001b[0m \u001b[0;34m-\u001b[0m \u001b[0mtime\u001b[0m\u001b[0;34m.\u001b[0m\u001b[0mtime\u001b[0m\u001b[0;34m(\u001b[0m\u001b[0;34m)\u001b[0m\u001b[0;34m\u001b[0m\u001b[0m\n\u001b[0;32m--> 104\u001b[0;31m                     \u001b[0;32mif\u001b[0m \u001b[0;32mnot\u001b[0m \u001b[0mself\u001b[0m\u001b[0;34m.\u001b[0m\u001b[0m_poll\u001b[0m\u001b[0;34m(\u001b[0m\u001b[0mtimeout\u001b[0m\u001b[0;34m)\u001b[0m\u001b[0;34m:\u001b[0m\u001b[0;34m\u001b[0m\u001b[0m\n\u001b[0m\u001b[1;32m    105\u001b[0m                         \u001b[0;32mraise\u001b[0m \u001b[0mEmpty\u001b[0m\u001b[0;34m\u001b[0m\u001b[0m\n\u001b[1;32m    106\u001b[0m                 \u001b[0;32melif\u001b[0m \u001b[0;32mnot\u001b[0m \u001b[0mself\u001b[0m\u001b[0;34m.\u001b[0m\u001b[0m_poll\u001b[0m\u001b[0;34m(\u001b[0m\u001b[0;34m)\u001b[0m\u001b[0;34m:\u001b[0m\u001b[0;34m\u001b[0m\u001b[0m\n",
      "\u001b[0;32m~/anaconda3/lib/python3.7/multiprocessing/connection.py\u001b[0m in \u001b[0;36mpoll\u001b[0;34m(self, timeout)\u001b[0m\n\u001b[1;32m    255\u001b[0m         \u001b[0mself\u001b[0m\u001b[0;34m.\u001b[0m\u001b[0m_check_closed\u001b[0m\u001b[0;34m(\u001b[0m\u001b[0;34m)\u001b[0m\u001b[0;34m\u001b[0m\u001b[0m\n\u001b[1;32m    256\u001b[0m         \u001b[0mself\u001b[0m\u001b[0;34m.\u001b[0m\u001b[0m_check_readable\u001b[0m\u001b[0;34m(\u001b[0m\u001b[0;34m)\u001b[0m\u001b[0;34m\u001b[0m\u001b[0m\n\u001b[0;32m--> 257\u001b[0;31m         \u001b[0;32mreturn\u001b[0m \u001b[0mself\u001b[0m\u001b[0;34m.\u001b[0m\u001b[0m_poll\u001b[0m\u001b[0;34m(\u001b[0m\u001b[0mtimeout\u001b[0m\u001b[0;34m)\u001b[0m\u001b[0;34m\u001b[0m\u001b[0m\n\u001b[0m\u001b[1;32m    258\u001b[0m \u001b[0;34m\u001b[0m\u001b[0m\n\u001b[1;32m    259\u001b[0m     \u001b[0;32mdef\u001b[0m \u001b[0m__enter__\u001b[0m\u001b[0;34m(\u001b[0m\u001b[0mself\u001b[0m\u001b[0;34m)\u001b[0m\u001b[0;34m:\u001b[0m\u001b[0;34m\u001b[0m\u001b[0m\n",
      "\u001b[0;32m~/anaconda3/lib/python3.7/multiprocessing/connection.py\u001b[0m in \u001b[0;36m_poll\u001b[0;34m(self, timeout)\u001b[0m\n\u001b[1;32m    412\u001b[0m \u001b[0;34m\u001b[0m\u001b[0m\n\u001b[1;32m    413\u001b[0m     \u001b[0;32mdef\u001b[0m \u001b[0m_poll\u001b[0m\u001b[0;34m(\u001b[0m\u001b[0mself\u001b[0m\u001b[0;34m,\u001b[0m \u001b[0mtimeout\u001b[0m\u001b[0;34m)\u001b[0m\u001b[0;34m:\u001b[0m\u001b[0;34m\u001b[0m\u001b[0m\n\u001b[0;32m--> 414\u001b[0;31m         \u001b[0mr\u001b[0m \u001b[0;34m=\u001b[0m \u001b[0mwait\u001b[0m\u001b[0;34m(\u001b[0m\u001b[0;34m[\u001b[0m\u001b[0mself\u001b[0m\u001b[0;34m]\u001b[0m\u001b[0;34m,\u001b[0m \u001b[0mtimeout\u001b[0m\u001b[0;34m)\u001b[0m\u001b[0;34m\u001b[0m\u001b[0m\n\u001b[0m\u001b[1;32m    415\u001b[0m         \u001b[0;32mreturn\u001b[0m \u001b[0mbool\u001b[0m\u001b[0;34m(\u001b[0m\u001b[0mr\u001b[0m\u001b[0;34m)\u001b[0m\u001b[0;34m\u001b[0m\u001b[0m\n\u001b[1;32m    416\u001b[0m \u001b[0;34m\u001b[0m\u001b[0m\n",
      "\u001b[0;32m~/anaconda3/lib/python3.7/multiprocessing/connection.py\u001b[0m in \u001b[0;36mwait\u001b[0;34m(object_list, timeout)\u001b[0m\n\u001b[1;32m    918\u001b[0m \u001b[0;34m\u001b[0m\u001b[0m\n\u001b[1;32m    919\u001b[0m             \u001b[0;32mwhile\u001b[0m \u001b[0;32mTrue\u001b[0m\u001b[0;34m:\u001b[0m\u001b[0;34m\u001b[0m\u001b[0m\n\u001b[0;32m--> 920\u001b[0;31m                 \u001b[0mready\u001b[0m \u001b[0;34m=\u001b[0m \u001b[0mselector\u001b[0m\u001b[0;34m.\u001b[0m\u001b[0mselect\u001b[0m\u001b[0;34m(\u001b[0m\u001b[0mtimeout\u001b[0m\u001b[0;34m)\u001b[0m\u001b[0;34m\u001b[0m\u001b[0m\n\u001b[0m\u001b[1;32m    921\u001b[0m                 \u001b[0;32mif\u001b[0m \u001b[0mready\u001b[0m\u001b[0;34m:\u001b[0m\u001b[0;34m\u001b[0m\u001b[0m\n\u001b[1;32m    922\u001b[0m                     \u001b[0;32mreturn\u001b[0m \u001b[0;34m[\u001b[0m\u001b[0mkey\u001b[0m\u001b[0;34m.\u001b[0m\u001b[0mfileobj\u001b[0m \u001b[0;32mfor\u001b[0m \u001b[0;34m(\u001b[0m\u001b[0mkey\u001b[0m\u001b[0;34m,\u001b[0m \u001b[0mevents\u001b[0m\u001b[0;34m)\u001b[0m \u001b[0;32min\u001b[0m \u001b[0mready\u001b[0m\u001b[0;34m]\u001b[0m\u001b[0;34m\u001b[0m\u001b[0m\n",
      "\u001b[0;32m~/anaconda3/lib/python3.7/selectors.py\u001b[0m in \u001b[0;36mselect\u001b[0;34m(self, timeout)\u001b[0m\n\u001b[1;32m    413\u001b[0m         \u001b[0mready\u001b[0m \u001b[0;34m=\u001b[0m \u001b[0;34m[\u001b[0m\u001b[0;34m]\u001b[0m\u001b[0;34m\u001b[0m\u001b[0m\n\u001b[1;32m    414\u001b[0m         \u001b[0;32mtry\u001b[0m\u001b[0;34m:\u001b[0m\u001b[0;34m\u001b[0m\u001b[0m\n\u001b[0;32m--> 415\u001b[0;31m             \u001b[0mfd_event_list\u001b[0m \u001b[0;34m=\u001b[0m \u001b[0mself\u001b[0m\u001b[0;34m.\u001b[0m\u001b[0m_selector\u001b[0m\u001b[0;34m.\u001b[0m\u001b[0mpoll\u001b[0m\u001b[0;34m(\u001b[0m\u001b[0mtimeout\u001b[0m\u001b[0;34m)\u001b[0m\u001b[0;34m\u001b[0m\u001b[0m\n\u001b[0m\u001b[1;32m    416\u001b[0m         \u001b[0;32mexcept\u001b[0m \u001b[0mInterruptedError\u001b[0m\u001b[0;34m:\u001b[0m\u001b[0;34m\u001b[0m\u001b[0m\n\u001b[1;32m    417\u001b[0m             \u001b[0;32mreturn\u001b[0m \u001b[0mready\u001b[0m\u001b[0;34m\u001b[0m\u001b[0m\n",
      "\u001b[0;31mKeyboardInterrupt\u001b[0m: "
     ]
    }
   ],
   "source": [
    "abc.new(db_path, target)"
   ]
  },
  {
   "cell_type": "code",
   "execution_count": null,
   "metadata": {},
   "outputs": [],
   "source": [
    "history = abc.run(minimum_epsilon=0.1, max_nr_populations=10)"
   ]
  },
  {
   "cell_type": "code",
   "execution_count": null,
   "metadata": {},
   "outputs": [],
   "source": [
    "# Visualise results\n",
    "from pyabc.visualization import plot_kde_1d\n",
    "for (k,v) in metrics.items():\n",
    "    fig, ax = plt.subplots()\n",
    "    for t in range(history.max_t, history.max_t+1):\n",
    "        df, w = history.get_distribution(m=0, t=t)\n",
    "        plot_kde_1d(df, w,\n",
    "                    xmin=v[0], xmax=v[1],\n",
    "                    x=k, ax=ax,\n",
    "                    label=\"PDF t={}\".format(t))\n",
    "    ax.legend();"
   ]
  },
  {
   "cell_type": "code",
   "execution_count": null,
   "metadata": {},
   "outputs": [],
   "source": []
  }
 ],
 "metadata": {
  "kernelspec": {
   "display_name": "Python 3",
   "language": "python",
   "name": "python3"
  },
  "language_info": {
   "codemirror_mode": {
    "name": "ipython",
    "version": 3
   },
   "file_extension": ".py",
   "mimetype": "text/x-python",
   "name": "python",
   "nbconvert_exporter": "python",
   "pygments_lexer": "ipython3",
   "version": "3.7.0"
  }
 },
 "nbformat": 4,
 "nbformat_minor": 2
}
