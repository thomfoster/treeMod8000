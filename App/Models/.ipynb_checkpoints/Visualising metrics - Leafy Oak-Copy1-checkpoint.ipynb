{
 "cells": [
  {
   "cell_type": "code",
   "execution_count": 31,
   "metadata": {},
   "outputs": [],
   "source": [
    "import Parser, Deriver, Interpreter, Analyser, SelfOrg\n",
    "import numpy as np\n",
    "import math"
   ]
  },
  {
   "cell_type": "code",
   "execution_count": 32,
   "metadata": {},
   "outputs": [],
   "source": [
    "modelName = 'lentest'"
   ]
  },
  {
   "cell_type": "code",
   "execution_count": 33,
   "metadata": {},
   "outputs": [],
   "source": [
    "# Have to generate manually as we want points to be same for render and stats.\n",
    "# We also want to be able to access some inner stuff for plotting"
   ]
  },
  {
   "cell_type": "code",
   "execution_count": 34,
   "metadata": {},
   "outputs": [],
   "source": [
    "Specification   = Parser.parse('Specifications/'+modelName+'.txt', {})"
   ]
  },
  {
   "cell_type": "code",
   "execution_count": 35,
   "metadata": {},
   "outputs": [],
   "source": [
    "scale = 1"
   ]
  },
  {
   "cell_type": "code",
   "execution_count": 36,
   "metadata": {},
   "outputs": [
    {
     "data": {
      "text/plain": [
       "{'age_limit': 1000,\n",
       " 'gen_limit': 1000,\n",
       " 'self_org': False,\n",
       " 'defaults': {},\n",
       " 'sections': {'1': {'constructer': Cell.Sig2,\n",
       "   'slash': 45.0,\n",
       "   'slashr': 15.0,\n",
       "   'plus': 120.0,\n",
       "   'plusr': 40.0,\n",
       "   'decay': 0.7,\n",
       "   'd': 0.5,\n",
       "   'h': 30.0,\n",
       "   'w': 0.9,\n",
       "   'rules': [['GEOM', [1.0], '01']],\n",
       "   'id': '1',\n",
       "   'width': 10.0}},\n",
       " 'axiom': <Cell.Sig2 at 0x7f3eabd676d8>,\n",
       " 'depth': 10,\n",
       " 'thickness': 10.0,\n",
       " 'num_voxels': 50,\n",
       " 'shadow_width': 4,\n",
       " 'shadow_height': 10,\n",
       " 'dec_close': 0.98,\n",
       " 'dec_far': 1.0}"
      ]
     },
     "execution_count": 36,
     "metadata": {},
     "output_type": "execute_result"
    }
   ],
   "source": [
    "Specification"
   ]
  },
  {
   "cell_type": "code",
   "execution_count": 37,
   "metadata": {},
   "outputs": [],
   "source": [
    "points = []\n",
    "\n",
    "if Specification['self_org'] == False:\n",
    "\n",
    "    # DERIVE\n",
    "    n               = Specification['depth']\n",
    "    axiom           = Specification['axiom']\n",
    "    tree            = [axiom]\n",
    "    tree            = Deriver.derive(tree,n)\n",
    "\n",
    "    # INTERPRET\n",
    "    points, scale   = Interpreter.interpret(tree, True, return_scale=True)\n",
    "\n",
    "else:\n",
    "\n",
    "    # DERIVE AND INTERPRET TOGETHER\n",
    "    n               = Specification['depth']\n",
    "    axiom           = Specification['axiom']\n",
    "    tree            = [axiom]\n",
    "    num_voxels      = Specification['num_voxels']\n",
    "    shadow_height   = Specification['shadow_height']\n",
    "    shadow_width    = Specification['shadow_width']\n",
    "    decrement_close = Specification['dec_close']\n",
    "    decrement_far   = Specification['dec_far']\n",
    "\n",
    "    for i in range(0,n):\n",
    "        tree = Deriver.derive(tree,1)\n",
    "        points, scale = Interpreter.interpret(tree, True, return_scale = True)\n",
    "        voxels          = SelfOrg.calc_light(points,\n",
    "                                             num_voxels,\n",
    "                                             shadow_height,\n",
    "                                             shadow_width,\n",
    "                                             decrement_close,\n",
    "                                             decrement_far)\n",
    "        SelfOrg.update_cells(tree, voxels, scale)\n",
    "        print(\"Interpreted for the \"+str(i+1)+\"th time.\")"
   ]
  },
  {
   "cell_type": "code",
   "execution_count": 38,
   "metadata": {},
   "outputs": [
    {
     "name": "stdout",
     "output_type": "stream",
     "text": [
      "writing to file...\n",
      "done writing.\n"
     ]
    }
   ],
   "source": [
    "# So we can view what we visualised\n",
    "print(\"writing to file...\")\n",
    "with open(\"data.dat\", mode=\"w\") as f:\n",
    "    f.write(str(len(points))+\"\\n\")\n",
    "    for p in points:\n",
    "        x,y,z,r,a,b,c,d,l = p\n",
    "        x /= scale\n",
    "        y /= scale\n",
    "        y -= 0.5\n",
    "        z /= scale\n",
    "        r /= scale\n",
    "        line = [x,y,z,r,l]\n",
    "        for feature in line:\n",
    "            f.write(str(feature)+\"\\t\")\n",
    "        f.write(\"\\n\")\n",
    "print(\"done writing.\")"
   ]
  },
  {
   "cell_type": "code",
   "execution_count": 39,
   "metadata": {},
   "outputs": [
    {
     "data": {
      "text/plain": [
       "(0, 0, 0, 10.0, 0.0, 270.0, 0.0, 14.99629816272041, 0.0)"
      ]
     },
     "execution_count": 39,
     "metadata": {},
     "output_type": "execute_result"
    }
   ],
   "source": [
    "points[0]"
   ]
  },
  {
   "cell_type": "code",
   "execution_count": 40,
   "metadata": {},
   "outputs": [
    {
     "data": {
      "text/plain": [
       "(5.622711218313494e-32,\n",
       " 14.99629816272041,\n",
       " -9.182584272017443e-16,\n",
       " 7.0,\n",
       " 0.0,\n",
       " 270.0,\n",
       " 0.0,\n",
       " 14.99629816272041,\n",
       " 0.0)"
      ]
     },
     "execution_count": 40,
     "metadata": {},
     "output_type": "execute_result"
    }
   ],
   "source": [
    "points[1]"
   ]
  },
  {
   "cell_type": "code",
   "execution_count": 41,
   "metadata": {},
   "outputs": [],
   "source": [
    "points[2]\n",
    "full_points = points\n",
    "full_points = np.array(points)"
   ]
  },
  {
   "cell_type": "code",
   "execution_count": 42,
   "metadata": {},
   "outputs": [],
   "source": [
    "points = points[2:]"
   ]
  },
  {
   "cell_type": "code",
   "execution_count": 43,
   "metadata": {},
   "outputs": [],
   "source": [
    "metrics         = Analyser.analyse(points)"
   ]
  },
  {
   "cell_type": "code",
   "execution_count": 44,
   "metadata": {},
   "outputs": [],
   "source": [
    "vertices        = np.array(points)"
   ]
  },
  {
   "cell_type": "code",
   "execution_count": 45,
   "metadata": {},
   "outputs": [
    {
     "name": "stdout",
     "output_type": "stream",
     "text": [
      "parentAngle_mean : 0.0\n",
      "parentAngle_variance : 0.0\n",
      "length_mean : 11.883487372478282\n",
      "length_variance : 4.748835613067284\n",
      "verticalOrientation_mean : 0.0\n",
      "verticalOrientation_variance : 0.0\n",
      "horizontalOrientation_mean : 270.0\n",
      "horizontalOrientation_variance : 0.0\n",
      "q1_xyz : (14.0, 26.890896589099132, 14.0)\n",
      "q2_xyz : (6.8599999999999985, 34.920823636896976, 6.8599999999999985)\n",
      "q3_xyz : (2.352979999999999, 45.8448078917196, 2.352979999999999)\n",
      "xyz : (14.0, 126.11734897378282, 14.0)\n",
      "trunk_length : 133.83117188750325\n",
      "totalBiomass : 3280.1474633500916\n"
     ]
    }
   ],
   "source": [
    "for (k,v) in metrics.items():\n",
    "    print(k, ':', v)"
   ]
  },
  {
   "cell_type": "code",
   "execution_count": 46,
   "metadata": {},
   "outputs": [
    {
     "data": {
      "text/plain": [
       "0.0"
      ]
     },
     "execution_count": 46,
     "metadata": {},
     "output_type": "execute_result"
    }
   ],
   "source": [
    "math.degrees(metrics['parentAngle_mean'])"
   ]
  },
  {
   "cell_type": "code",
   "execution_count": 47,
   "metadata": {},
   "outputs": [
    {
     "data": {
      "text/plain": [
       "270.0"
      ]
     },
     "execution_count": 47,
     "metadata": {},
     "output_type": "execute_result"
    }
   ],
   "source": [
    "vertices[:,5].mean()"
   ]
  },
  {
   "cell_type": "code",
   "execution_count": 48,
   "metadata": {},
   "outputs": [],
   "source": [
    "import matplotlib.pyplot as plt"
   ]
  },
  {
   "cell_type": "code",
   "execution_count": 49,
   "metadata": {},
   "outputs": [],
   "source": [
    "#Fed up of accessing via numerical values\n",
    "# Format of points is:\n",
    "# 0--1--2--3--4--5--6--7--8\n",
    "# x  y  z  r  vA hA pA l--leaf\n",
    "keys = {\n",
    "    'x': 0,\n",
    "    'y': 1,\n",
    "    'z': 2,\n",
    "    'radius': 3,\n",
    "    'vertical orientation': 4,\n",
    "    'horizontal orientation': 5,\n",
    "    'parent angle': 6,\n",
    "    'length': 7,\n",
    "    'leaf': 8\n",
    "}"
   ]
  },
  {
   "cell_type": "code",
   "execution_count": 50,
   "metadata": {},
   "outputs": [
    {
     "data": {
      "text/plain": [
       "(array([ 2.,  0.,  0.,  0.,  0.,  0.,  0.,  0.,  0.,  0.,  0.,  0.,  0.,\n",
       "         0.,  0.,  2.,  0.,  0.,  0.,  0.,  0.,  0.,  0.,  0.,  0.,  2.,\n",
       "         0.,  0.,  0.,  0.,  0.,  2.,  0.,  0.,  2., 10.]),\n",
       " array([ 0.        ,  0.41641379,  0.83282759,  1.24924138,  1.66565518,\n",
       "         2.08206897,  2.49848276,  2.91489656,  3.33131035,  3.74772415,\n",
       "         4.16413794,  4.58055174,  4.99696553,  5.41337932,  5.82979312,\n",
       "         6.24620691,  6.66262071,  7.0790345 ,  7.49544829,  7.91186209,\n",
       "         8.32827588,  8.74468968,  9.16110347,  9.57751727,  9.99393106,\n",
       "        10.41034485, 10.82675865, 11.24317244, 11.65958624, 12.07600003,\n",
       "        12.49241382, 12.90882762, 13.32524141, 13.74165521, 14.158069  ,\n",
       "        14.57448279, 14.99089659]),\n",
       " <a list of 36 Patch objects>)"
      ]
     },
     "execution_count": 50,
     "metadata": {},
     "output_type": "execute_result"
    },
    {
     "data": {
      "image/png": "[encoded data removed]",
      "text/plain": [
       "<Figure size 432x288 with 1 Axes>"
      ]
     },
     "metadata": {
      "needs_background": "light"
     },
     "output_type": "display_data"
    }
   ],
   "source": [
    "plt.hist(vertices[:,keys['length']], color='blue', edgecolor='black', bins=36, log=True)"
   ]
  },
  {
   "cell_type": "code",
   "execution_count": 51,
   "metadata": {},
   "outputs": [],
   "source": [
    "max_height = np.max(vertices[:,keys['y']])"
   ]
  },
  {
   "cell_type": "code",
   "execution_count": 52,
   "metadata": {},
   "outputs": [],
   "source": [
    "lower_third  = full_points[full_points[:,keys['y']] < max_height/3]\n",
    "middle_third = full_points[full_points[:,keys['y']] < 2*max_height/3]\n",
    "middle_third = middle_third[middle_third[:,keys['y']] > max_height/3]\n",
    "upper_third = full_points[full_points[:,keys['y']] > 2*max_height/3]"
   ]
  },
  {
   "cell_type": "code",
   "execution_count": 53,
   "metadata": {},
   "outputs": [
    {
     "data": {
      "text/plain": [
       "(5.622711218313494e-32,\n",
       " 14.99629816272041,\n",
       " -9.182584272017443e-16,\n",
       " 7.0,\n",
       " 0.0,\n",
       " 270.0,\n",
       " 0.0,\n",
       " 14.990896589099133,\n",
       " 0.0)"
      ]
     },
     "execution_count": 53,
     "metadata": {},
     "output_type": "execute_result"
    }
   ],
   "source": [
    "points[0]"
   ]
  },
  {
   "cell_type": "code",
   "execution_count": 54,
   "metadata": {},
   "outputs": [
    {
     "data": {
      "text/plain": [
       "(array([1., 0., 0., 0., 0., 0., 0., 0., 0., 0., 0., 0., 0., 0., 0., 0., 0.,\n",
       "        0., 2., 0., 0., 0., 0., 0., 0., 0., 0., 0., 0., 0., 0., 0., 0., 0.,\n",
       "        0., 2.]),\n",
       " array([ 0.        ,  0.83297763,  1.66595526,  2.4989329 ,  3.33191053,\n",
       "         4.16488816,  4.99786579,  5.83084342,  6.66382106,  7.49679869,\n",
       "         8.32977632,  9.16275395,  9.99573158, 10.82870922, 11.66168685,\n",
       "        12.49466448, 13.32764211, 14.16061974, 14.99359738, 15.82657501,\n",
       "        16.65955264, 17.49253027, 18.3255079 , 19.15848554, 19.99146317,\n",
       "        20.8244408 , 21.65741843, 22.49039606, 23.3233737 , 24.15635133,\n",
       "        24.98932896, 25.82230659, 26.65528422, 27.48826186, 28.32123949,\n",
       "        29.15421712, 29.98719475]),\n",
       " <a list of 36 Patch objects>)"
      ]
     },
     "execution_count": 54,
     "metadata": {},
     "output_type": "execute_result"
    },
    {
     "data": {
      "image/png": "[encoded data removed]",
      "text/plain": [
       "<Figure size 432x288 with 1 Axes>"
      ]
     },
     "metadata": {
      "needs_background": "light"
     },
     "output_type": "display_data"
    }
   ],
   "source": [
    "plt.hist(lower_third[:,keys['y']], color='blue', edgecolor='black', bins=36)"
   ]
  },
  {
   "cell_type": "code",
   "execution_count": 55,
   "metadata": {},
   "outputs": [
    {
     "data": {
      "text/plain": [
       "(array([2., 0., 0., 0., 0., 0., 0., 0., 0., 0., 0., 0., 0., 0., 0., 0., 0.,\n",
       "        0., 2., 0., 0., 0., 0., 0., 0., 0., 0., 0., 0., 0., 0., 0., 0., 0.,\n",
       "        0., 2.]),\n",
       " array([1.68591049e-31, 1.71695773e-31, 1.74800497e-31, 1.77905221e-31,\n",
       "        1.81009944e-31, 1.84114668e-31, 1.87219392e-31, 1.90324116e-31,\n",
       "        1.93428840e-31, 1.96533564e-31, 1.99638288e-31, 2.02743012e-31,\n",
       "        2.05847736e-31, 2.08952460e-31, 2.12057184e-31, 2.15161908e-31,\n",
       "        2.18266632e-31, 2.21371356e-31, 2.24476079e-31, 2.27580803e-31,\n",
       "        2.30685527e-31, 2.33790251e-31, 2.36894975e-31, 2.39999699e-31,\n",
       "        2.43104423e-31, 2.46209147e-31, 2.49313871e-31, 2.52418595e-31,\n",
       "        2.55523319e-31, 2.58628043e-31, 2.61732767e-31, 2.64837490e-31,\n",
       "        2.67942214e-31, 2.71046938e-31, 2.74151662e-31, 2.77256386e-31,\n",
       "        2.80361110e-31]),\n",
       " <a list of 36 Patch objects>)"
      ]
     },
     "execution_count": 55,
     "metadata": {},
     "output_type": "execute_result"
    },
    {
     "data": {
      "image/png": "[encoded data removed]",
      "text/plain": [
       "<Figure size 432x288 with 1 Axes>"
      ]
     },
     "metadata": {
      "needs_background": "light"
     },
     "output_type": "display_data"
    }
   ],
   "source": [
    "plt.hist(middle_third[:,keys['x']], color='blue', edgecolor='black', bins=36)"
   ]
  },
  {
   "cell_type": "code",
   "execution_count": 56,
   "metadata": {},
   "outputs": [
    {
     "data": {
      "text/plain": [
       "(array([2., 0., 0., 0., 0., 0., 0., 0., 0., 0., 0., 2., 0., 0., 0., 0., 0.,\n",
       "        0., 0., 0., 0., 0., 2., 0., 0., 0., 0., 0., 0., 0., 2., 0., 0., 0.,\n",
       "        0., 3.]),\n",
       " array([3.35366269e-31, 3.39989054e-31, 3.44611839e-31, 3.49234623e-31,\n",
       "        3.53857408e-31, 3.58480193e-31, 3.63102978e-31, 3.67725763e-31,\n",
       "        3.72348548e-31, 3.76971332e-31, 3.81594117e-31, 3.86216902e-31,\n",
       "        3.90839687e-31, 3.95462472e-31, 4.00085257e-31, 4.04708041e-31,\n",
       "        4.09330826e-31, 4.13953611e-31, 4.18576396e-31, 4.23199181e-31,\n",
       "        4.27821966e-31, 4.32444751e-31, 4.37067535e-31, 4.41690320e-31,\n",
       "        4.46313105e-31, 4.50935890e-31, 4.55558675e-31, 4.60181460e-31,\n",
       "        4.64804244e-31, 4.69427029e-31, 4.74049814e-31, 4.78672599e-31,\n",
       "        4.83295384e-31, 4.87918169e-31, 4.92540953e-31, 4.97163738e-31,\n",
       "        5.01786523e-31]),\n",
       " <a list of 36 Patch objects>)"
      ]
     },
     "execution_count": 56,
     "metadata": {},
     "output_type": "execute_result"
    },
    {
     "data": {
      "image/png": "[encoded data removed]",
      "text/plain": [
       "<Figure size 432x288 with 1 Axes>"
      ]
     },
     "metadata": {
      "needs_background": "light"
     },
     "output_type": "display_data"
    }
   ],
   "source": [
    "plt.hist(upper_third[:,keys['x']], color='blue', edgecolor='black', bins=36)"
   ]
  },
  {
   "cell_type": "code",
   "execution_count": 57,
   "metadata": {},
   "outputs": [],
   "source": [
    "# Problem with these graphs is that they weight all nodes equally, regardless of size and mass\n",
    "# Create metric that calculates biomass for each thing, then adds that many of itself to distribution.\n",
    "\n",
    "weighted_ps = []"
   ]
  },
  {
   "cell_type": "code",
   "execution_count": 58,
   "metadata": {},
   "outputs": [
    {
     "data": {
      "text/plain": [
       "10.0"
      ]
     },
     "execution_count": 58,
     "metadata": {},
     "output_type": "execute_result"
    }
   ],
   "source": [
    "vertices.shape[0]/2"
   ]
  },
  {
   "cell_type": "code",
   "execution_count": 59,
   "metadata": {},
   "outputs": [],
   "source": [
    "ps = zip(points[::2], points[1::2])"
   ]
  },
  {
   "cell_type": "code",
   "execution_count": 60,
   "metadata": {},
   "outputs": [
    {
     "data": {
      "text/plain": [
       "(2.2462586799732956e-31,\n",
       " 59.90982571852967,\n",
       " -3.668418815183656e-15,\n",
       " 2.4009999999999994,\n",
       " 0.0,\n",
       " 270.0,\n",
       " 0.0,\n",
       " 14.945011831725218,\n",
       " 0.0)"
      ]
     },
     "execution_count": 60,
     "metadata": {},
     "output_type": "execute_result"
    }
   ],
   "source": [
    "points[5]"
   ]
  },
  {
   "cell_type": "code",
   "execution_count": 61,
   "metadata": {},
   "outputs": [],
   "source": [
    "weights = np.array([Analyser.volumeOfConic(r1,r2,l) for ((x,y,z,r1,va,ha,pa,l,leaf),(x2,y2,z2,r2,va2,ha2,pa2,l2,leaf)) in ps])"
   ]
  },
  {
   "cell_type": "code",
   "execution_count": 62,
   "metadata": {},
   "outputs": [
    {
     "data": {
      "text/plain": [
       "3280.1474633500916"
      ]
     },
     "execution_count": 62,
     "metadata": {},
     "output_type": "execute_result"
    }
   ],
   "source": [
    "weights.sum()"
   ]
  },
  {
   "cell_type": "code",
   "execution_count": 63,
   "metadata": {},
   "outputs": [],
   "source": [
    "log_weights = [(Analyser.volumeOfConic(r1,r2,l)) for ((x,y,z,r1,va,ha,pa,l,leaf),(x2,y2,z2,r2,va2,ha2,pa2,l2,leaf)) in ps]"
   ]
  },
  {
   "cell_type": "code",
   "execution_count": 64,
   "metadata": {},
   "outputs": [
    {
     "data": {
      "text/plain": [
       "(array([0., 0., 0., 0., 0., 0., 0., 0., 0., 0., 0., 0., 0., 0., 0., 0., 0.,\n",
       "        0., 0., 0., 0., 0., 0., 0., 0., 0., 0., 0., 0., 0., 0., 0., 0., 0.,\n",
       "        0., 0.]),\n",
       " array([0.        , 0.02777778, 0.05555556, 0.08333333, 0.11111111,\n",
       "        0.13888889, 0.16666667, 0.19444444, 0.22222222, 0.25      ,\n",
       "        0.27777778, 0.30555556, 0.33333333, 0.36111111, 0.38888889,\n",
       "        0.41666667, 0.44444444, 0.47222222, 0.5       , 0.52777778,\n",
       "        0.55555556, 0.58333333, 0.61111111, 0.63888889, 0.66666667,\n",
       "        0.69444444, 0.72222222, 0.75      , 0.77777778, 0.80555556,\n",
       "        0.83333333, 0.86111111, 0.88888889, 0.91666667, 0.94444444,\n",
       "        0.97222222, 1.        ]),\n",
       " <a list of 36 Patch objects>)"
      ]
     },
     "execution_count": 64,
     "metadata": {},
     "output_type": "execute_result"
    },
    {
     "data": {
      "image/png": "[encoded data removed]",
      "text/plain": [
       "<Figure size 432x288 with 1 Axes>"
      ]
     },
     "metadata": {
      "needs_background": "light"
     },
     "output_type": "display_data"
    }
   ],
   "source": [
    "plt.hist(log_weights, color='black', edgecolor='black', bins=36)"
   ]
  },
  {
   "cell_type": "code",
   "execution_count": 65,
   "metadata": {},
   "outputs": [
    {
     "data": {
      "text/plain": [
       "10"
      ]
     },
     "execution_count": 65,
     "metadata": {},
     "output_type": "execute_result"
    }
   ],
   "source": [
    "n = weights.shape[0]\n",
    "n"
   ]
  },
  {
   "cell_type": "code",
   "execution_count": 66,
   "metadata": {},
   "outputs": [],
   "source": [
    "import math"
   ]
  },
  {
   "cell_type": "code",
   "execution_count": 67,
   "metadata": {},
   "outputs": [
    {
     "ename": "IndexError",
     "evalue": "list index out of range",
     "output_type": "error",
     "traceback": [
      "\u001b[0;31m---------------------------------------------------------------------------\u001b[0m",
      "\u001b[0;31mIndexError\u001b[0m                                Traceback (most recent call last)",
      "\u001b[0;32m<ipython-input-67-fe1446982097>\u001b[0m in \u001b[0;36m<module>\u001b[0;34m()\u001b[0m\n\u001b[0;32m----> 1\u001b[0;31m \u001b[0mpoints\u001b[0m\u001b[0;34m[\u001b[0m\u001b[0;36m34\u001b[0m\u001b[0;34m]\u001b[0m\u001b[0;34m\u001b[0m\u001b[0m\n\u001b[0m",
      "\u001b[0;31mIndexError\u001b[0m: list index out of range"
     ]
    }
   ],
   "source": [
    "points[2]"
   ]
  },
  {
   "cell_type": "code",
   "execution_count": null,
   "metadata": {},
   "outputs": [],
   "source": [
    "for i in range(n):\n",
    "    for j in range(math.floor(math.log(weights[i]))):\n",
    "        weighted_ps.append(points[2*i])"
   ]
  },
  {
   "cell_type": "code",
   "execution_count": null,
   "metadata": {},
   "outputs": [],
   "source": [
    "weighted_ps = np.array(weighted_ps)\n",
    "weighted_ps.shape\n",
    "weighted_ps[3]"
   ]
  },
  {
   "cell_type": "code",
   "execution_count": null,
   "metadata": {},
   "outputs": [],
   "source": []
  },
  {
   "cell_type": "code",
   "execution_count": null,
   "metadata": {},
   "outputs": [],
   "source": [
    "plt.hist(weighted_ps[:, keys['parent angle']], bins=36)"
   ]
  },
  {
   "cell_type": "code",
   "execution_count": null,
   "metadata": {},
   "outputs": [],
   "source": [
    "degrees = weighted_ps[:,keys['parent angle']]\n",
    "radians = np.deg2rad(degrees)\n",
    "\n",
    "bin_size = 5\n",
    "a , b=np.histogram(degrees, bins=np.arange(0, 360+bin_size, bin_size))\n",
    "centers = np.deg2rad(np.ediff1d(b)//2 + b[:-1])\n",
    "\n",
    "fig = plt.figure(figsize=(10,8))\n",
    "ax = fig.add_subplot(111, projection='polar')\n",
    "ax.bar(centers, a, width=np.deg2rad(bin_size), bottom=0.0, color='.8', edgecolor='k')\n",
    "ax.set_theta_zero_location(\"N\")\n",
    "ax.set_theta_direction(-1)\n",
    "plt.show()\n",
    "plt.savefig(\"metrics_vo.png\")"
   ]
  },
  {
   "cell_type": "code",
   "execution_count": null,
   "metadata": {},
   "outputs": [],
   "source": [
    "leaves = vertices[vertices[:, 8] == 1]"
   ]
  },
  {
   "cell_type": "code",
   "execution_count": null,
   "metadata": {},
   "outputs": [],
   "source": [
    "vertices.shape"
   ]
  },
  {
   "cell_type": "code",
   "execution_count": null,
   "metadata": {},
   "outputs": [],
   "source": [
    "leaves.shape"
   ]
  },
  {
   "cell_type": "code",
   "execution_count": null,
   "metadata": {},
   "outputs": [],
   "source": [
    "plt.gca().set_aspect('equal', adjustable='box')\n",
    "plt.scatter(upper_third[:,2], upper_third[:,1], color='green')\n",
    "plt.scatter(middle_third[:,2], middle_third[:,1], color='blue')\n",
    "plt.scatter(lower_third[:,2], lower_third[:,1], color='red')\n",
    "plt.show()\n",
    "plt.savefig('z.png')"
   ]
  },
  {
   "cell_type": "code",
   "execution_count": null,
   "metadata": {},
   "outputs": [],
   "source": [
    "from matplotlib import pyplot\n",
    "from mpl_toolkits.mplot3d import Axes3D\n",
    "import random\n",
    "\n",
    "\n",
    "fig = pyplot.figure()\n",
    "ax = Axes3D(fig)\n",
    "\n",
    "sequence_containing_x_vals = middle_third[:,0]\n",
    "sequence_containing_y_vals = middle_third[:,2]\n",
    "sequence_containing_z_vals = middle_third[:,1]\n",
    "\n",
    "ax.scatter(sequence_containing_x_vals, sequence_containing_y_vals, sequence_containing_z_vals, color='blue', alpha=0.05)\n",
    "\n",
    "sequence_containing_x_vals = upper_third[:,0]\n",
    "sequence_containing_y_vals = upper_third[:,2]\n",
    "sequence_containing_z_vals = upper_third[:,1]\n",
    "\n",
    "ax.scatter(sequence_containing_x_vals, sequence_containing_y_vals, sequence_containing_z_vals, color='green', alpha=0.1)\n",
    "\n",
    "sequence_containing_x_vals = lower_third[:,0]\n",
    "sequence_containing_y_vals = lower_third[:,2]\n",
    "sequence_containing_z_vals = lower_third[:,1]\n",
    "\n",
    "ax.scatter(sequence_containing_x_vals, sequence_containing_y_vals, sequence_containing_z_vals, color='red', alpha=1)\n",
    "\n",
    "pyplot.show()"
   ]
  },
  {
   "cell_type": "code",
   "execution_count": null,
   "metadata": {},
   "outputs": [],
   "source": []
  },
  {
   "cell_type": "code",
   "execution_count": null,
   "metadata": {},
   "outputs": [],
   "source": []
  },
  {
   "cell_type": "code",
   "execution_count": null,
   "metadata": {},
   "outputs": [],
   "source": []
  },
  {
   "cell_type": "code",
   "execution_count": null,
   "metadata": {},
   "outputs": [],
   "source": []
  },
  {
   "cell_type": "code",
   "execution_count": null,
   "metadata": {},
   "outputs": [],
   "source": []
  },
  {
   "cell_type": "code",
   "execution_count": null,
   "metadata": {},
   "outputs": [],
   "source": []
  }
 ],
 "metadata": {
  "kernelspec": {
   "display_name": "Python 3",
   "language": "python",
   "name": "python3"
  },
  "language_info": {
   "codemirror_mode": {
    "name": "ipython",
    "version": 3
   },
   "file_extension": ".py",
   "mimetype": "text/x-python",
   "name": "python",
   "nbconvert_exporter": "python",
   "pygments_lexer": "ipython3",
   "version": "3.7.0"
  }
 },
 "nbformat": 4,
 "nbformat_minor": 2
}
