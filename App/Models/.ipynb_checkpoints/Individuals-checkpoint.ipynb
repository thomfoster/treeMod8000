{
 "cells": [
  {
   "cell_type": "code",
   "execution_count": 1,
   "metadata": {},
   "outputs": [],
   "source": [
    "import Main\n",
    "import Parser\n",
    "from Analyser import *"
   ]
  },
  {
   "cell_type": "code",
   "execution_count": 2,
   "metadata": {},
   "outputs": [],
   "source": [
    "modelName = 'SymTree'"
   ]
  },
  {
   "cell_type": "code",
   "execution_count": 3,
   "metadata": {},
   "outputs": [],
   "source": [
    "# Some PyABC magic to get our set of parameters\n",
    "from pyabc import (ABCSMC, Distribution, RV, MultivariateNormalTransition)\n",
    "import scipy as sp\n",
    "import scipy.stats as st\n",
    "import tempfile\n",
    "import os\n",
    "import pandas as pd\n",
    "import matplotlib.pyplot as plt"
   ]
  },
  {
   "cell_type": "code",
   "execution_count": 4,
   "metadata": {},
   "outputs": [],
   "source": [
    "def model(params):\n",
    "    return Main.generate_and_analyse(modelName, params)"
   ]
  },
  {
   "cell_type": "code",
   "execution_count": 5,
   "metadata": {},
   "outputs": [
    {
     "data": {
      "text/plain": [
       "{'parentAngle_mean': 29.972552607502287,\n",
       " 'parentAngle_variance': 0.9070107031211622,\n",
       " 'length_mean': 5.324752928928331,\n",
       " 'length_variance': 1.6946616465979092,\n",
       " 'verticalOrientation_mean': 58.74019847342893,\n",
       " 'verticalOrientation_variance': 30.950513325864076,\n",
       " 'horizontalOrientation_mean': 182.37836096148266,\n",
       " 'horizontalOrientation_variance': 103.94591803983697,\n",
       " 'q1_xyz': (4.0, 23.2, 4.0),\n",
       " 'q2_xyz': (87.83338233020078, 20.749719101438767, 78.8915290879336),\n",
       " 'q3_xyz': (84.79567162826916, 25.26784837685055, 79.87651798927715),\n",
       " 'xyz': (87.83338233020078, 75.32224617934726, 81.43153915909753),\n",
       " 'trunk_length': 20.0,\n",
       " 'totalBiomass': 766.5978275480641}"
      ]
     },
     "execution_count": 5,
     "metadata": {},
     "output_type": "execute_result"
    }
   ],
   "source": [
    "t1 = Main.generate_and_analyse(modelName, {})\n",
    "t1"
   ]
  },
  {
   "cell_type": "code",
   "execution_count": null,
   "metadata": {},
   "outputs": [],
   "source": []
  },
  {
   "cell_type": "code",
   "execution_count": 6,
   "metadata": {},
   "outputs": [],
   "source": [
    "metrics = {  'slash':(10, 100),\n",
    "             'slashr':(10, 100),\n",
    "             'plus':(0, 180),\n",
    "             'plusr':(0, 180),\n",
    "             'decay':(0, 1),\n",
    "             'd': (0, 1),\n",
    "             'h':(1, 20),\n",
    "             'w':(0.1, 2),\n",
    "             'thickness':(0, 4),\n",
    "             'depth':(1,7)\n",
    "          }"
   ]
  },
  {
   "cell_type": "code",
   "execution_count": 7,
   "metadata": {},
   "outputs": [],
   "source": [
    "# prior = Distribution(section_1_slash     =RV(\"uniform\", 10, 100),\n",
    "#                      section_1_slashr    =RV(\"uniform\", 10, 100),\n",
    "#                      section_1_plus      =RV(\"uniform\", 0, 180),\n",
    "#                      section_1_plusr      =RV(\"uniform\", 0, 180),\n",
    "#                      section_1_decay     =RV(\"uniform\", 0, 1),\n",
    "#                      section_1_d         =RV(\"uniform\", 0,1),\n",
    "#                      section_1_h         =RV(\"uniform\", 1, 20),\n",
    "#                      section_1_w         =RV(\"uniform\", 0.1, 2),\n",
    "#                      general_thickness   =RV(\"uniform\", 0, 5)\n",
    "#                     )"
   ]
  },
  {
   "cell_type": "code",
   "execution_count": 8,
   "metadata": {},
   "outputs": [],
   "source": [
    "slash = Distribution(section_1_slash     =RV(\"uniform\", 10, 100))\n",
    "slashr = Distribution(section_1_slashr    =RV(\"uniform\", 10, 100))\n",
    "plus = Distribution(section_1_plus      =RV(\"uniform\", 0, 180))\n",
    "plusr = Distribution(section_1_plusr      =RV(\"uniform\", 0, 180))\n",
    "decay = Distribution(section_1_decay     =RV(\"uniform\", 0, 1))\n",
    "d = Distribution(section_1_d     =RV(\"uniform\", 0, 1))\n",
    "h = Distribution(section_1_h         =RV(\"uniform\", 1, 20))\n",
    "w = Distribution(section_1_w         =RV(\"uniform\", 0.1, 2))\n",
    "thickness = Distribution(general_thickness   =RV(\"uniform\", 0, 5))\n",
    "depth = Distribution(general_depth           =RV(\"uniform\",1,7))"
   ]
  },
  {
   "cell_type": "code",
   "execution_count": 9,
   "metadata": {},
   "outputs": [],
   "source": [
    "db_path = (\"sqlite:///\" + os.path.join(tempfile.gettempdir(), \"test.db\"))"
   ]
  },
  {
   "cell_type": "code",
   "execution_count": 10,
   "metadata": {},
   "outputs": [],
   "source": [
    "def gen_av_target(n):\n",
    "    target = model({})\n",
    "    for i in range(n):\n",
    "        print(i)\n",
    "        new_metrics = model({})\n",
    "        for (k,v) in new_metrics.items():\n",
    "            if k[-3:] == 'xyz':\n",
    "                x,y,z = target[k]\n",
    "                x += new_metrics[k][0]\n",
    "                y += new_metrics[k][1]\n",
    "                z += new_metrics[k][2]\n",
    "                target[k] = (x,y,z)\n",
    "            else:\n",
    "                target[k] += new_metrics[k]\n",
    "\n",
    "    for (k,v) in target.items():\n",
    "        if k[-3:] == 'xyz':\n",
    "            x,y,z = target[k]\n",
    "            target[k] = (x/n, y/n, z/n)\n",
    "        else:\n",
    "            target[k] /= n\n",
    "            \n",
    "    return target"
   ]
  },
  {
   "cell_type": "code",
   "execution_count": 11,
   "metadata": {},
   "outputs": [
    {
     "name": "stdout",
     "output_type": "stream",
     "text": [
      "0\n",
      "1\n",
      "2\n",
      "3\n",
      "4\n",
      "5\n",
      "6\n",
      "7\n",
      "8\n",
      "9\n",
      "10\n",
      "11\n",
      "12\n",
      "13\n",
      "14\n",
      "15\n",
      "16\n",
      "17\n",
      "18\n",
      "19\n"
     ]
    }
   ],
   "source": [
    "target = gen_av_target(20)"
   ]
  },
  {
   "cell_type": "code",
   "execution_count": 12,
   "metadata": {},
   "outputs": [
    {
     "data": {
      "text/plain": [
       "{'parentAngle_mean': 31.471180237877398,\n",
       " 'parentAngle_variance': 0.9523612382772205,\n",
       " 'length_mean': 5.590990575374748,\n",
       " 'length_variance': 1.7793947289278038,\n",
       " 'verticalOrientation_mean': 61.67720839710038,\n",
       " 'verticalOrientation_variance': 32.49803899215728,\n",
       " 'horizontalOrientation_mean': 191.49727900955673,\n",
       " 'horizontalOrientation_variance': 109.1432139418288,\n",
       " 'q1_xyz': (4.2, 24.359999999999992, 4.2),\n",
       " 'q2_xyz': (92.22505144671078, 21.7872050565107, 82.83610554233027),\n",
       " 'q3_xyz': (89.03545520968264, 26.531240795693087, 83.87034388874096),\n",
       " 'xyz': (92.22505144671078, 79.08835848831464, 85.50311611705243),\n",
       " 'trunk_length': 21.0,\n",
       " 'totalBiomass': 804.9277189254675}"
      ]
     },
     "execution_count": 12,
     "metadata": {},
     "output_type": "execute_result"
    }
   ],
   "source": [
    "target"
   ]
  },
  {
   "cell_type": "code",
   "execution_count": 13,
   "metadata": {},
   "outputs": [],
   "source": [
    "mp = 7\n",
    "me = 0.5"
   ]
  },
  {
   "cell_type": "code",
   "execution_count": 14,
   "metadata": {},
   "outputs": [
    {
     "name": "stderr",
     "output_type": "stream",
     "text": [
      "INFO:History:Start <ABCSMC(id=67, start_time=2019-04-17 13:48:22.050127, end_time=None)>\n",
      "INFO:Epsilon:initial epsilon is 11.929907038452086\n",
      "INFO:ABC:t:0 eps:11.929907038452086\n",
      "INFO:ABC:t:1 eps:10.031333315394319\n",
      "INFO:ABC:t:2 eps:7.471585824416362\n",
      "INFO:ABC:t:3 eps:2.658061923756442\n",
      "INFO:ABC:t:4 eps:1.7701406293463873\n",
      "INFO:ABC:t:5 eps:1.0612038832476733\n",
      "INFO:ABC:t:6 eps:0.9021872876277308\n",
      "INFO:History:Done <ABCSMC(id=67, start_time=2019-04-17 13:48:22.050127, end_time=2019-04-17 13:49:56.811143)>\n"
     ]
    }
   ],
   "source": [
    "abc = ABCSMC(model, slash, distance)\n",
    "abc.new(db_path, target)\n",
    "history = abc.run(minimum_epsilon=me, max_nr_populations=mp)"
   ]
  },
  {
   "cell_type": "code",
   "execution_count": 15,
   "metadata": {},
   "outputs": [],
   "source": [
    "from pyabc.visualization import plot_kde_1d"
   ]
  },
  {
   "cell_type": "code",
   "execution_count": 18,
   "metadata": {},
   "outputs": [
    {
     "data": {
      "image/png": "[encoded data removed]",
      "text/plain": [
       "<Figure size 432x288 with 1 Axes>"
      ]
     },
     "metadata": {
      "needs_background": "light"
     },
     "output_type": "display_data"
    }
   ],
   "source": [
    "# Visualise results\n",
    "k = 'slash'\n",
    "v = metrics[k]\n",
    "fig, ax = plt.subplots()\n",
    "for t in range(history.max_t, history.max_t+1):\n",
    "    df, w = history.get_distribution(m=0, t=t)\n",
    "    plot_kde_1d(df, w,\n",
    "                xmin=v[0], xmax=1.5*v[1],\n",
    "                x='section_1_slash', ax=ax,\n",
    "                label=\"PDF t={}\".format(t))\n",
    "ax.legend();\n",
    "fig.savefig('../../../../Report/images/individuals/'+k+'_kde')"
   ]
  },
  {
   "cell_type": "code",
   "execution_count": null,
   "metadata": {},
   "outputs": [
    {
     "name": "stderr",
     "output_type": "stream",
     "text": [
      "INFO:History:Start <ABCSMC(id=68, start_time=2019-04-17 14:11:28.545778, end_time=None)>\n",
      "INFO:Epsilon:initial epsilon is 18.034712626607487\n",
      "INFO:ABC:t:0 eps:18.034712626607487\n",
      "INFO:ABC:t:1 eps:15.52620858179128\n"
     ]
    }
   ],
   "source": [
    "abc = ABCSMC(model, slashr, distance)\n",
    "abc.new(db_path, target)\n",
    "history = abc.run(minimum_epsilon=me, max_nr_populations=mp)"
   ]
  },
  {
   "cell_type": "code",
   "execution_count": null,
   "metadata": {},
   "outputs": [],
   "source": [
    "# Visualise results\n",
    "k = 'slashr'\n",
    "v = metrics[k]\n",
    "fig, ax = plt.subplots()\n",
    "for t in range(history.max_t, history.max_t+1):\n",
    "    df, w = history.get_distribution(m=0, t=t)\n",
    "    plot_kde_1d(df, w,\n",
    "                xmin=v[0]-1, xmax=1.5*v[1],\n",
    "                x='section_1_slashr', ax=ax,\n",
    "                label=\"PDF t={}\".format(t))\n",
    "ax.legend();\n",
    "fig.savefig('../../../../Report/images/individuals/'+k+'_kde')"
   ]
  },
  {
   "cell_type": "code",
   "execution_count": null,
   "metadata": {},
   "outputs": [],
   "source": [
    "abc = ABCSMC(model, plus, distance)\n",
    "abc.new(db_path, target)\n",
    "history = abc.run(minimum_epsilon=me, max_nr_populations=mp)"
   ]
  },
  {
   "cell_type": "code",
   "execution_count": null,
   "metadata": {},
   "outputs": [],
   "source": [
    "# Visualise results\n",
    "k = 'plus'\n",
    "v = metrics[k]\n",
    "fig, ax = plt.subplots()\n",
    "for t in range(history.max_t, history.max_t+1):\n",
    "    df, w = history.get_distribution(m=0, t=t)\n",
    "    plot_kde_1d(df, w,\n",
    "                xmin=v[0], xmax=1.5*v[1],\n",
    "                x='section_1_plus', ax=ax,\n",
    "                label=\"PDF t={}\".format(t))\n",
    "ax.legend();\n",
    "fig.savefig('../../../../Report/images/individuals/'+k+'_kde')"
   ]
  },
  {
   "cell_type": "code",
   "execution_count": null,
   "metadata": {},
   "outputs": [],
   "source": [
    "abc = ABCSMC(model, plusr, distance)\n",
    "abc.new(db_path, target)\n",
    "history = abc.run(minimum_epsilon=me, max_nr_populations=mp)"
   ]
  },
  {
   "cell_type": "code",
   "execution_count": null,
   "metadata": {},
   "outputs": [],
   "source": [
    "# Visualise results\n",
    "k = 'plusr'\n",
    "v = metrics[k]\n",
    "fig, ax = plt.subplots()\n",
    "for t in range(history.max_t, history.max_t+1):\n",
    "    df, w = history.get_distribution(m=0, t=t)\n",
    "    plot_kde_1d(df, w,\n",
    "                xmin=v[0], xmax=1.5*v[1],\n",
    "                x='../../../../Report/images/Individuals/'+k+'_kde', ax=ax,\n",
    "                label=\"PDF t={}\".format(t))\n",
    "ax.legend();"
   ]
  },
  {
   "cell_type": "code",
   "execution_count": null,
   "metadata": {},
   "outputs": [],
   "source": [
    "abc = ABCSMC(model, decay, distance)\n",
    "abc.new(db_path, target)\n",
    "history = abc.run(minimum_epsilon=me, max_nr_populations=mp)"
   ]
  },
  {
   "cell_type": "code",
   "execution_count": null,
   "metadata": {},
   "outputs": [],
   "source": [
    "# Visualise results\n",
    "k = 'decay'\n",
    "v = metrics[k]\n",
    "fig, ax = plt.subplots()\n",
    "for t in range(history.max_t, history.max_t+1):\n",
    "    df, w = history.get_distribution(m=0, t=t)\n",
    "    plot_kde_1d(df, w,\n",
    "                xmin=v[0], xmax=1.5*v[1],\n",
    "                x='section_1_decay', ax=ax,\n",
    "                label=\"PDF t={}\".format(t))\n",
    "ax.legend();"
   ]
  },
  {
   "cell_type": "code",
   "execution_count": null,
   "metadata": {},
   "outputs": [],
   "source": [
    "abc = ABCSMC(model, d, distance)\n",
    "abc.new(db_path, target)\n",
    "history = abc.run(minimum_epsilon=me, max_nr_populations=mp)"
   ]
  },
  {
   "cell_type": "code",
   "execution_count": null,
   "metadata": {},
   "outputs": [],
   "source": [
    "# Visualise results\n",
    "k = 'd'\n",
    "v = metrics[k]\n",
    "fig, ax = plt.subplots()\n",
    "for t in range(history.max_t, history.max_t+1):\n",
    "    df, w = history.get_distribution(m=0, t=t)\n",
    "    plot_kde_1d(df, w,\n",
    "                xmin=v[0], xmax=1.5*v[1],\n",
    "                x='../../../../Report/images/Individuals/'+k+'_kde', ax=ax,\n",
    "                label=\"PDF t={}\".format(t))\n",
    "ax.legend();"
   ]
  },
  {
   "cell_type": "code",
   "execution_count": null,
   "metadata": {},
   "outputs": [],
   "source": [
    "abc = ABCSMC(model, h, distance)\n",
    "abc.new(db_path, target)\n",
    "history = abc.run(minimum_epsilon=me, max_nr_populations=mp)"
   ]
  },
  {
   "cell_type": "code",
   "execution_count": null,
   "metadata": {},
   "outputs": [],
   "source": [
    "# Visualise results\n",
    "k = 'h'\n",
    "v = metrics[k]\n",
    "fig, ax = plt.subplots()\n",
    "for t in range(history.max_t, history.max_t+1):\n",
    "    df, w = history.get_distribution(m=0, t=t)\n",
    "    plot_kde_1d(df, w,\n",
    "                xmin=v[0], xmax=1.5*v[1],\n",
    "                x='../../../../Report/images/Individuals/'+k+'_kde', ax=ax,\n",
    "                label=\"PDF t={}\".format(t))\n",
    "ax.legend();"
   ]
  },
  {
   "cell_type": "code",
   "execution_count": null,
   "metadata": {},
   "outputs": [],
   "source": [
    "abc = ABCSMC(model, w, distance)\n",
    "abc.new(db_path, target)\n",
    "history = abc.run(minimum_epsilon=me, max_nr_populations=mp)"
   ]
  },
  {
   "cell_type": "code",
   "execution_count": null,
   "metadata": {},
   "outputs": [],
   "source": [
    "# Visualise results\n",
    "k = 'w'\n",
    "v = metrics[k]\n",
    "fig, ax = plt.subplots()\n",
    "for t in range(history.max_t, history.max_t+1):\n",
    "    df, w = history.get_distribution(m=0, t=t)\n",
    "    plot_kde_1d(df, w,\n",
    "                xmin=0, xmax=0.6,\n",
    "                x='../../../../Report/images/Individuals/'+k+'_kde', ax=ax,\n",
    "                label=\"PDF t={}\".format(t))\n",
    "ax.legend();"
   ]
  },
  {
   "cell_type": "code",
   "execution_count": null,
   "metadata": {},
   "outputs": [],
   "source": [
    "abc = ABCSMC(model, thickness, distance)\n",
    "abc.new(db_path, target)\n",
    "history = abc.run(minimum_epsilon=me, max_nr_populations=mp)"
   ]
  },
  {
   "cell_type": "code",
   "execution_count": null,
   "metadata": {},
   "outputs": [],
   "source": [
    "# Visualise results\n",
    "k = 'thickness'\n",
    "v = metrics[k]\n",
    "fig, ax = plt.subplots()\n",
    "for t in range(history.max_t, history.max_t+1):\n",
    "    df, w = history.get_distribution(m=0, t=t)\n",
    "    plot_kde_1d(df, w,\n",
    "                xmin=v[0], xmax=1.5*v[1],\n",
    "                x='../../../../Report/images/Individuals/'+k+'_kde', ax=ax,\n",
    "                label=\"PDF t={}\".format(t))\n",
    "ax.legend();"
   ]
  },
  {
   "cell_type": "code",
   "execution_count": null,
   "metadata": {},
   "outputs": [],
   "source": [
    "abc = ABCSMC(model, depth, distance)\n",
    "abc.new(db_path, target)\n",
    "history = abc.run(minimum_epsilon=me, max_nr_populations=mp)"
   ]
  },
  {
   "cell_type": "code",
   "execution_count": null,
   "metadata": {},
   "outputs": [],
   "source": [
    "# Visualise results\n",
    "k = 'depth'\n",
    "v = metrics[k]\n",
    "fig, ax = plt.subplots()\n",
    "for t in range(history.max_t, history.max_t+1):\n",
    "    df, w = history.get_distribution(m=0, t=t)\n",
    "    plot_kde_1d(df, w,\n",
    "                xmin=v[0], xmax=1.5*v[1],\n",
    "                x='../../../../Report/images/Individuals/'+k+'_kde', ax=ax,\n",
    "                label=\"PDF t={}\".format(t))\n",
    "ax.legend();"
   ]
  }
 ],
 "metadata": {
  "kernelspec": {
   "display_name": "Python 3",
   "language": "python",
   "name": "python3"
  },
  "language_info": {
   "codemirror_mode": {
    "name": "ipython",
    "version": 3
   },
   "file_extension": ".py",
   "mimetype": "text/x-python",
   "name": "python",
   "nbconvert_exporter": "python",
   "pygments_lexer": "ipython3",
   "version": "3.7.0"
  }
 },
 "nbformat": 4,
 "nbformat_minor": 2
}
