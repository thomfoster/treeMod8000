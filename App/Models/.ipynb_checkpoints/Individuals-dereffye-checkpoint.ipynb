{
 "cells": [
  {
   "cell_type": "code",
   "execution_count": 1,
   "metadata": {},
   "outputs": [],
   "source": [
    "import Main\n",
    "import Parser\n",
    "from Analyser import *"
   ]
  },
  {
   "cell_type": "code",
   "execution_count": 2,
   "metadata": {},
   "outputs": [],
   "source": [
    "modelName = 'SymTree'"
   ]
  },
  {
   "cell_type": "code",
   "execution_count": 3,
   "metadata": {},
   "outputs": [],
   "source": [
    "# Some PyABC magic to get our set of parameters\n",
    "from pyabc import (ABCSMC, Distribution, RV, MultivariateNormalTransition)\n",
    "import scipy as sp\n",
    "import scipy.stats as st\n",
    "import tempfile\n",
    "import os\n",
    "import pandas as pd\n",
    "import matplotlib.pyplot as plt"
   ]
  },
  {
   "cell_type": "code",
   "execution_count": 4,
   "metadata": {},
   "outputs": [],
   "source": [
    "def model(params):\n",
    "    return Main.generate_and_analyse(modelName, params)"
   ]
  },
  {
   "cell_type": "code",
   "execution_count": 5,
   "metadata": {},
   "outputs": [
    {
     "data": {
      "text/plain": [
       "{'parentAngle_mean': 29.972552607502287,\n",
       " 'parentAngle_variance': 0.9070107031211622,\n",
       " 'length_mean': 28.856231461574126,\n",
       " 'length_variance': 0.17718277497094795,\n",
       " 'verticalOrientation_mean': 58.74019847342893,\n",
       " 'verticalOrientation_variance': 30.950513325864076,\n",
       " 'horizontalOrientation_mean': 182.37836096148266,\n",
       " 'horizontalOrientation_variance': 103.94591803983697,\n",
       " 'q1_xyz': (275.21024612010007, 57.160680077477885, 248.40667707819142),\n",
       " 'q2_xyz': (286.6393637456879, 59.1660365388918, 270.7777724078753),\n",
       " 'q3_xyz': (258.6571324867261, 65.14303842808248, 240.8980003305324),\n",
       " 'xyz': (286.6393637456879, 192.1262108620815, 270.7777724078753),\n",
       " 'trunk_length': 30.0,\n",
       " 'totalBiomass': 536.8364772924393}"
      ]
     },
     "execution_count": 5,
     "metadata": {},
     "output_type": "execute_result"
    }
   ],
   "source": [
    "t1 = Main.generate_and_analyse(modelName, {})\n",
    "t1"
   ]
  },
  {
   "cell_type": "code",
   "execution_count": null,
   "metadata": {},
   "outputs": [],
   "source": []
  },
  {
   "cell_type": "code",
   "execution_count": 6,
   "metadata": {},
   "outputs": [],
   "source": [
    "metrics = {  'slash':(10, 100),\n",
    "             'slashr':(10, 100),\n",
    "             'plus':(0, 180),\n",
    "             'plusr':(0, 180),\n",
    "             'decay':(0, 1),\n",
    "             'd': (0, 1),\n",
    "             'h':(1, 20),\n",
    "             'w':(0.1, 2),\n",
    "             'thickness':(0, 4),\n",
    "             'depth':(1,7)\n",
    "          }"
   ]
  },
  {
   "cell_type": "code",
   "execution_count": 7,
   "metadata": {},
   "outputs": [],
   "source": [
    "# prior = Distribution(section_1_slash     =RV(\"uniform\", 10, 100),\n",
    "#                      section_1_slashr    =RV(\"uniform\", 10, 100),\n",
    "#                      section_1_plus      =RV(\"uniform\", 0, 180),\n",
    "#                      section_1_plusr      =RV(\"uniform\", 0, 180),\n",
    "#                      section_1_decay     =RV(\"uniform\", 0, 1),\n",
    "#                      section_1_d         =RV(\"uniform\", 0,1),\n",
    "#                      section_1_h         =RV(\"uniform\", 1, 20),\n",
    "#                      section_1_w         =RV(\"uniform\", 0.1, 2),\n",
    "#                      general_thickness   =RV(\"uniform\", 0, 5)\n",
    "#                     )"
   ]
  },
  {
   "cell_type": "code",
   "execution_count": 43,
   "metadata": {},
   "outputs": [],
   "source": [
    "slash = Distribution(section_1_slash     =RV(\"uniform\", 10, 100))\n",
    "slashr = Distribution(section_1_slashr    =RV(\"uniform\", 10, 100))\n",
    "plus = Distribution(section_1_plus      =RV(\"uniform\", 0, 180))\n",
    "plusr = Distribution(section_1_plusr      =RV(\"uniform\", 0, 180))\n",
    "decay = Distribution(section_1_decay     =RV(\"uniform\", 0, 1))\n",
    "d = Distribution(section_1_d     =RV(\"uniform\", 0, 1))\n",
    "h = Distribution(section_1_h         =RV(\"uniform\", 1, 20))\n",
    "w = Distribution(section_1_w         =RV(\"uniform\", 0.1, 2))\n",
    "thickness = Distribution(general_thickness   =RV(\"uniform\", 0, 5))\n",
    "depth = Distribution(general_depth           =RV(\"uniform\",1,7))"
   ]
  },
  {
   "cell_type": "code",
   "execution_count": 9,
   "metadata": {},
   "outputs": [],
   "source": [
    "db_path = (\"sqlite:///\" + os.path.join(tempfile.gettempdir(), \"test.db\"))"
   ]
  },
  {
   "cell_type": "code",
   "execution_count": 10,
   "metadata": {},
   "outputs": [],
   "source": [
    "def gen_av_target(n):\n",
    "    target = model({})\n",
    "    for i in range(n):\n",
    "        print(i)\n",
    "        new_metrics = model({})\n",
    "        for (k,v) in new_metrics.items():\n",
    "            if k[-3:] == 'xyz':\n",
    "                x,y,z = target[k]\n",
    "                x += new_metrics[k][0]\n",
    "                y += new_metrics[k][1]\n",
    "                z += new_metrics[k][2]\n",
    "                target[k] = (x,y,z)\n",
    "            else:\n",
    "                target[k] += new_metrics[k]\n",
    "\n",
    "    for (k,v) in target.items():\n",
    "        if k[-3:] == 'xyz':\n",
    "            x,y,z = target[k]\n",
    "            target[k] = (x/n, y/n, z/n)\n",
    "        else:\n",
    "            target[k] /= n\n",
    "            \n",
    "    return target"
   ]
  },
  {
   "cell_type": "code",
   "execution_count": 11,
   "metadata": {},
   "outputs": [
    {
     "name": "stdout",
     "output_type": "stream",
     "text": [
      "0\n",
      "1\n",
      "2\n",
      "3\n",
      "4\n",
      "5\n",
      "6\n",
      "7\n",
      "8\n",
      "9\n",
      "10\n",
      "11\n",
      "12\n",
      "13\n",
      "14\n",
      "15\n",
      "16\n",
      "17\n",
      "18\n",
      "19\n"
     ]
    }
   ],
   "source": [
    "target = gen_av_target(20)"
   ]
  },
  {
   "cell_type": "code",
   "execution_count": 12,
   "metadata": {},
   "outputs": [
    {
     "data": {
      "text/plain": [
       "{'parentAngle_mean': 31.471180237877398,\n",
       " 'parentAngle_variance': 0.9523612382772205,\n",
       " 'length_mean': 30.299043034652822,\n",
       " 'length_variance': 0.1860419137194954,\n",
       " 'verticalOrientation_mean': 61.67720839710038,\n",
       " 'verticalOrientation_variance': 32.49803899215728,\n",
       " 'horizontalOrientation_mean': 191.49727900955673,\n",
       " 'horizontalOrientation_variance': 109.1432139418288,\n",
       " 'q1_xyz': (288.97075842610514, 60.0187140813518, 260.82701093210096),\n",
       " 'q2_xyz': (300.97133193297213, 62.12433836583641, 284.3166610282689),\n",
       " 'q3_xyz': (271.58998911106244, 68.4001903494866, 252.942900347059),\n",
       " 'xyz': (300.97133193297213, 201.73252140518548, 284.3166610282689),\n",
       " 'trunk_length': 31.5,\n",
       " 'totalBiomass': 563.6783011570615}"
      ]
     },
     "execution_count": 12,
     "metadata": {},
     "output_type": "execute_result"
    }
   ],
   "source": [
    "target"
   ]
  },
  {
   "cell_type": "code",
   "execution_count": 13,
   "metadata": {},
   "outputs": [],
   "source": [
    "mp = 7\n",
    "me = 0.5"
   ]
  },
  {
   "cell_type": "code",
   "execution_count": 14,
   "metadata": {},
   "outputs": [
    {
     "name": "stderr",
     "output_type": "stream",
     "text": [
      "INFO:History:Start <ABCSMC(id=31, start_time=2019-04-17 01:53:54.454494, end_time=None)>\n",
      "INFO:Epsilon:initial epsilon is 6.5047107796777395\n",
      "INFO:ABC:t:0 eps:6.5047107796777395\n",
      "INFO:ABC:t:1 eps:3.3452293112511833\n",
      "INFO:ABC:t:2 eps:2.055868987572139\n",
      "INFO:ABC:t:3 eps:1.3251647787045768\n",
      "INFO:ABC:t:4 eps:1.0356157046988554\n",
      "INFO:ABC:t:5 eps:0.9297924577134699\n",
      "INFO:ABC:t:6 eps:0.905812107583937\n",
      "INFO:History:Done <ABCSMC(id=31, start_time=2019-04-17 01:53:54.454494, end_time=2019-04-17 01:55:20.619563)>\n"
     ]
    }
   ],
   "source": [
    "abc = ABCSMC(model, slash, distance)\n",
    "abc.new(db_path, target)\n",
    "history = abc.run(minimum_epsilon=me, max_nr_populations=mp)"
   ]
  },
  {
   "cell_type": "code",
   "execution_count": 15,
   "metadata": {},
   "outputs": [],
   "source": [
    "from pyabc.visualization import plot_kde_1d"
   ]
  },
  {
   "cell_type": "code",
   "execution_count": 16,
   "metadata": {},
   "outputs": [
    {
     "data": {
      "image/png": "[encoded data removed]",
      "text/plain": [
       "<Figure size 432x288 with 1 Axes>"
      ]
     },
     "metadata": {
      "needs_background": "light"
     },
     "output_type": "display_data"
    }
   ],
   "source": [
    "# Visualise results\n",
    "k = 'slash'\n",
    "v = metrics[k]\n",
    "fig, ax = plt.subplots()\n",
    "for t in range(history.max_t, history.max_t+1):\n",
    "    df, w = history.get_distribution(m=0, t=t)\n",
    "    plot_kde_1d(df, w,\n",
    "                xmin=v[0], xmax=1.5*v[1],\n",
    "                x='section_1_slash', ax=ax,\n",
    "                label=\"PDF t={}\".format(t))\n",
    "ax.legend();"
   ]
  },
  {
   "cell_type": "code",
   "execution_count": 17,
   "metadata": {},
   "outputs": [
    {
     "name": "stderr",
     "output_type": "stream",
     "text": [
      "INFO:History:Start <ABCSMC(id=32, start_time=2019-04-17 01:55:20.772986, end_time=None)>\n",
      "INFO:Epsilon:initial epsilon is 11.422372797509837\n",
      "INFO:ABC:t:0 eps:11.422372797509837\n",
      "INFO:ABC:t:1 eps:9.046219945689183\n",
      "INFO:ABC:t:2 eps:7.151889317253242\n",
      "INFO:ABC:t:3 eps:6.018741811803664\n",
      "INFO:ABC:t:4 eps:5.442986163103498\n",
      "INFO:ABC:t:5 eps:5.030165270673633\n",
      "INFO:ABC:t:6 eps:4.845655538555203\n",
      "INFO:History:Done <ABCSMC(id=32, start_time=2019-04-17 01:55:20.772986, end_time=2019-04-17 01:57:02.281635)>\n"
     ]
    }
   ],
   "source": [
    "abc = ABCSMC(model, slashr, distance)\n",
    "abc.new(db_path, target)\n",
    "history = abc.run(minimum_epsilon=me, max_nr_populations=mp)"
   ]
  },
  {
   "cell_type": "code",
   "execution_count": 20,
   "metadata": {},
   "outputs": [
    {
     "data": {
      "image/png": "[encoded data removed]",
      "text/plain": [
       "<Figure size 432x288 with 1 Axes>"
      ]
     },
     "metadata": {
      "needs_background": "light"
     },
     "output_type": "display_data"
    }
   ],
   "source": [
    "# Visualise results\n",
    "k = 'slashr'\n",
    "v = metrics[k]\n",
    "fig, ax = plt.subplots()\n",
    "for t in range(history.max_t, history.max_t+1):\n",
    "    df, w = history.get_distribution(m=0, t=t)\n",
    "    plot_kde_1d(df, w,\n",
    "                xmin=v[0]-1, xmax=1.5*v[1],\n",
    "                x='section_1_slashr', ax=ax,\n",
    "                label=\"PDF t={}\".format(t))\n",
    "ax.legend();"
   ]
  },
  {
   "cell_type": "code",
   "execution_count": 21,
   "metadata": {},
   "outputs": [
    {
     "name": "stderr",
     "output_type": "stream",
     "text": [
      "INFO:History:Start <ABCSMC(id=34, start_time=2019-04-17 01:57:44.267653, end_time=None)>\n",
      "INFO:Epsilon:initial epsilon is 1.9919866362131589\n",
      "INFO:ABC:t:0 eps:1.9919866362131589\n",
      "INFO:ABC:t:1 eps:1.2727380126182355\n",
      "INFO:ABC:t:2 eps:1.0163127651605433\n",
      "INFO:ABC:t:3 eps:0.9545392803985563\n",
      "INFO:ABC:t:4 eps:0.9278957414499367\n",
      "INFO:ABC:t:5 eps:0.8872654486119618\n",
      "INFO:ABC:t:6 eps:0.8794040011599435\n",
      "INFO:History:Done <ABCSMC(id=34, start_time=2019-04-17 01:57:44.267653, end_time=2019-04-17 01:59:37.845776)>\n"
     ]
    }
   ],
   "source": [
    "abc = ABCSMC(model, plus, distance)\n",
    "abc.new(db_path, target)\n",
    "history = abc.run(minimum_epsilon=me, max_nr_populations=mp)"
   ]
  },
  {
   "cell_type": "code",
   "execution_count": 22,
   "metadata": {},
   "outputs": [
    {
     "data": {
      "image/png": "[encoded data removed]",
      "text/plain": [
       "<Figure size 432x288 with 1 Axes>"
      ]
     },
     "metadata": {
      "needs_background": "light"
     },
     "output_type": "display_data"
    }
   ],
   "source": [
    "# Visualise results\n",
    "k = 'plus'\n",
    "v = metrics[k]\n",
    "fig, ax = plt.subplots()\n",
    "for t in range(history.max_t, history.max_t+1):\n",
    "    df, w = history.get_distribution(m=0, t=t)\n",
    "    plot_kde_1d(df, w,\n",
    "                xmin=v[0], xmax=1.5*v[1],\n",
    "                x='section_1_plus', ax=ax,\n",
    "                label=\"PDF t={}\".format(t))\n",
    "ax.legend();"
   ]
  },
  {
   "cell_type": "code",
   "execution_count": 23,
   "metadata": {},
   "outputs": [
    {
     "name": "stderr",
     "output_type": "stream",
     "text": [
      "INFO:History:Start <ABCSMC(id=35, start_time=2019-04-17 01:59:37.985468, end_time=None)>\n",
      "INFO:Epsilon:initial epsilon is 1.8910771844176528\n",
      "INFO:ABC:t:0 eps:1.8910771844176528\n",
      "INFO:ABC:t:1 eps:1.4149280783849028\n",
      "INFO:ABC:t:2 eps:1.1402616969465302\n",
      "INFO:ABC:t:3 eps:1.0176375105685997\n",
      "INFO:ABC:t:4 eps:0.9545351551539798\n",
      "INFO:ABC:t:5 eps:0.9172833485465323\n",
      "INFO:ABC:t:6 eps:0.8840891476355894\n",
      "INFO:History:Done <ABCSMC(id=35, start_time=2019-04-17 01:59:37.985468, end_time=2019-04-17 02:04:10.575479)>\n"
     ]
    }
   ],
   "source": [
    "abc = ABCSMC(model, plusr, distance)\n",
    "abc.new(db_path, target)\n",
    "history = abc.run(minimum_epsilon=me, max_nr_populations=mp)"
   ]
  },
  {
   "cell_type": "code",
   "execution_count": 24,
   "metadata": {},
   "outputs": [
    {
     "data": {
      "image/png": "[encoded data removed]",
      "text/plain": [
       "<Figure size 432x288 with 1 Axes>"
      ]
     },
     "metadata": {
      "needs_background": "light"
     },
     "output_type": "display_data"
    }
   ],
   "source": [
    "# Visualise results\n",
    "k = 'plusr'\n",
    "v = metrics[k]\n",
    "fig, ax = plt.subplots()\n",
    "for t in range(history.max_t, history.max_t+1):\n",
    "    df, w = history.get_distribution(m=0, t=t)\n",
    "    plot_kde_1d(df, w,\n",
    "                xmin=v[0], xmax=1.5*v[1],\n",
    "                x='section_1_plusr', ax=ax,\n",
    "                label=\"PDF t={}\".format(t))\n",
    "ax.legend();"
   ]
  },
  {
   "cell_type": "code",
   "execution_count": 25,
   "metadata": {},
   "outputs": [
    {
     "name": "stderr",
     "output_type": "stream",
     "text": [
      "INFO:History:Start <ABCSMC(id=36, start_time=2019-04-17 02:04:10.720643, end_time=None)>\n",
      "INFO:Epsilon:initial epsilon is 4.00551011150276\n",
      "INFO:ABC:t:0 eps:4.00551011150276\n",
      "INFO:ABC:t:1 eps:2.6901423997955933\n",
      "INFO:ABC:t:2 eps:1.9599160456584463\n",
      "INFO:ABC:t:3 eps:1.4797893569756047\n",
      "INFO:ABC:t:4 eps:1.266017023767676\n",
      "INFO:ABC:t:5 eps:1.1445141377215569\n",
      "INFO:ABC:t:6 eps:1.087388894669739\n",
      "INFO:History:Done <ABCSMC(id=36, start_time=2019-04-17 02:04:10.720643, end_time=2019-04-17 02:05:35.431155)>\n"
     ]
    }
   ],
   "source": [
    "abc = ABCSMC(model, decay, distance)\n",
    "abc.new(db_path, target)\n",
    "history = abc.run(minimum_epsilon=me, max_nr_populations=mp)"
   ]
  },
  {
   "cell_type": "code",
   "execution_count": 26,
   "metadata": {},
   "outputs": [
    {
     "data": {
      "image/png": "[encoded data removed]",
      "text/plain": [
       "<Figure size 432x288 with 1 Axes>"
      ]
     },
     "metadata": {
      "needs_background": "light"
     },
     "output_type": "display_data"
    }
   ],
   "source": [
    "# Visualise results\n",
    "k = 'decay'\n",
    "v = metrics[k]\n",
    "fig, ax = plt.subplots()\n",
    "for t in range(history.max_t, history.max_t+1):\n",
    "    df, w = history.get_distribution(m=0, t=t)\n",
    "    plot_kde_1d(df, w,\n",
    "                xmin=v[0], xmax=1.5*v[1],\n",
    "                x='section_1_decay', ax=ax,\n",
    "                label=\"PDF t={}\".format(t))\n",
    "ax.legend();"
   ]
  },
  {
   "cell_type": "code",
   "execution_count": 30,
   "metadata": {},
   "outputs": [
    {
     "name": "stderr",
     "output_type": "stream",
     "text": [
      "INFO:History:Start <ABCSMC(id=39, start_time=2019-04-17 07:59:26.180562, end_time=None)>\n",
      "INFO:Epsilon:initial epsilon is 1.0734900802433849\n",
      "INFO:ABC:t:0 eps:1.0734900802433849\n",
      "INFO:ABC:t:1 eps:1.0734900802433849\n",
      "INFO:ABC:t:2 eps:1.0734900802433849\n",
      "INFO:ABC:t:3 eps:1.0734900802433849\n",
      "INFO:ABC:t:4 eps:1.0734900802433849\n",
      "INFO:ABC:t:5 eps:1.0734900802433849\n",
      "INFO:ABC:t:6 eps:1.0734900802433849\n",
      "INFO:History:Done <ABCSMC(id=39, start_time=2019-04-17 07:59:26.180562, end_time=2019-04-17 08:00:18.605410)>\n"
     ]
    }
   ],
   "source": [
    "abc = ABCSMC(model, d, distance)\n",
    "abc.new(db_path, target)\n",
    "history = abc.run(minimum_epsilon=me, max_nr_populations=mp)"
   ]
  },
  {
   "cell_type": "code",
   "execution_count": 31,
   "metadata": {},
   "outputs": [
    {
     "data": {
      "image/png": "[encoded data removed]",
      "text/plain": [
       "<Figure size 432x288 with 1 Axes>"
      ]
     },
     "metadata": {
      "needs_background": "light"
     },
     "output_type": "display_data"
    }
   ],
   "source": [
    "# Visualise results\n",
    "k = 'd'\n",
    "v = metrics[k]\n",
    "fig, ax = plt.subplots()\n",
    "for t in range(history.max_t, history.max_t+1):\n",
    "    df, w = history.get_distribution(m=0, t=t)\n",
    "    plot_kde_1d(df, w,\n",
    "                xmin=v[0], xmax=1.5*v[1],\n",
    "                x='section_1_d', ax=ax,\n",
    "                label=\"PDF t={}\".format(t))\n",
    "ax.legend();"
   ]
  },
  {
   "cell_type": "code",
   "execution_count": 40,
   "metadata": {},
   "outputs": [
    {
     "name": "stderr",
     "output_type": "stream",
     "text": [
      "INFO:History:Start <ABCSMC(id=45, start_time=2019-04-17 08:08:48.810185, end_time=None)>\n",
      "INFO:Epsilon:initial epsilon is 17.97159314266641\n",
      "INFO:ABC:t:0 eps:17.97159314266641\n",
      "INFO:ABC:t:1 eps:10.428677501817468\n",
      "INFO:ABC:t:2 eps:8.477905606575128\n",
      "INFO:ABC:t:3 eps:7.686475983484394\n",
      "INFO:ABC:t:4 eps:7.2451969079868\n",
      "INFO:ABC:t:5 eps:7.034458078164774\n",
      "INFO:ABC:t:6 eps:6.923552713317907\n",
      "INFO:History:Done <ABCSMC(id=45, start_time=2019-04-17 08:08:48.810185, end_time=2019-04-17 08:10:34.389986)>\n"
     ]
    }
   ],
   "source": [
    "abc = ABCSMC(model, h, distance)\n",
    "abc.new(db_path, target)\n",
    "history = abc.run(minimum_epsilon=me, max_nr_populations=mp)"
   ]
  },
  {
   "cell_type": "code",
   "execution_count": 41,
   "metadata": {},
   "outputs": [
    {
     "data": {
      "image/png": "[encoded data removed]",
      "text/plain": [
       "<Figure size 432x288 with 1 Axes>"
      ]
     },
     "metadata": {
      "needs_background": "light"
     },
     "output_type": "display_data"
    }
   ],
   "source": [
    "# Visualise results\n",
    "k = 'h'\n",
    "v = metrics[k]\n",
    "fig, ax = plt.subplots()\n",
    "for t in range(history.max_t, history.max_t+1):\n",
    "    df, w = history.get_distribution(m=0, t=t)\n",
    "    plot_kde_1d(df, w,\n",
    "                xmin=v[0], xmax=1.5*v[1],\n",
    "                x='section_1_h', ax=ax,\n",
    "                label=\"PDF t={}\".format(t))\n",
    "ax.legend();"
   ]
  },
  {
   "cell_type": "code",
   "execution_count": 44,
   "metadata": {},
   "outputs": [
    {
     "name": "stderr",
     "output_type": "stream",
     "text": [
      "INFO:History:Start <ABCSMC(id=47, start_time=2019-04-17 08:20:08.496288, end_time=None)>\n",
      "INFO:Epsilon:initial epsilon is 85.19961601850758\n",
      "INFO:ABC:t:0 eps:85.19961601850758\n",
      "INFO:ABC:t:1 eps:38.715971859086636\n",
      "INFO:ABC:t:2 eps:11.807029405769752\n",
      "INFO:ABC:t:3 eps:8.248769984638509\n",
      "INFO:ABC:t:4 eps:6.017315011693434\n",
      "INFO:ABC:t:5 eps:5.289341165165025\n",
      "INFO:ABC:t:6 eps:4.80416788393003\n",
      "INFO:History:Done <ABCSMC(id=47, start_time=2019-04-17 08:20:08.496288, end_time=2019-04-17 08:21:32.882545)>\n"
     ]
    }
   ],
   "source": [
    "abc = ABCSMC(model, w, distance)\n",
    "abc.new(db_path, target)\n",
    "history = abc.run(minimum_epsilon=me, max_nr_populations=mp)"
   ]
  },
  {
   "cell_type": "code",
   "execution_count": 49,
   "metadata": {},
   "outputs": [
    {
     "data": {
      "image/png": "[encoded data removed]",
      "text/plain": [
       "<Figure size 432x288 with 1 Axes>"
      ]
     },
     "metadata": {
      "needs_background": "light"
     },
     "output_type": "display_data"
    }
   ],
   "source": [
    "# Visualise results\n",
    "k = 'w'\n",
    "v = metrics[k]\n",
    "fig, ax = plt.subplots()\n",
    "for t in range(history.max_t, history.max_t+1):\n",
    "    df, w = history.get_distribution(m=0, t=t)\n",
    "    plot_kde_1d(df, w,\n",
    "                xmin=0, xmax=0.6,\n",
    "                x='section_1_w', ax=ax,\n",
    "                label=\"PDF t={}\".format(t))\n",
    "ax.legend();"
   ]
  },
  {
   "cell_type": "code",
   "execution_count": 36,
   "metadata": {},
   "outputs": [
    {
     "name": "stderr",
     "output_type": "stream",
     "text": [
      "INFO:History:Start <ABCSMC(id=43, start_time=2019-04-17 08:04:25.631419, end_time=None)>\n",
      "INFO:Epsilon:initial epsilon is 3.372451355316743\n",
      "INFO:ABC:t:0 eps:3.372451355316743\n",
      "INFO:ABC:t:1 eps:2.0801400473685527\n",
      "INFO:ABC:t:2 eps:1.590716264621031\n",
      "INFO:ABC:t:3 eps:1.2968265409198596\n",
      "INFO:ABC:t:4 eps:1.1720657025523376\n",
      "INFO:ABC:t:5 eps:1.0964705055355473\n",
      "INFO:ABC:t:6 eps:1.0599878463894725\n",
      "INFO:History:Done <ABCSMC(id=43, start_time=2019-04-17 08:04:25.631419, end_time=2019-04-17 08:06:12.235995)>\n"
     ]
    }
   ],
   "source": [
    "abc = ABCSMC(model, thickness, distance)\n",
    "abc.new(db_path, target)\n",
    "history = abc.run(minimum_epsilon=me, max_nr_populations=mp)"
   ]
  },
  {
   "cell_type": "code",
   "execution_count": 37,
   "metadata": {},
   "outputs": [
    {
     "data": {
      "image/png": "[encoded data removed]",
      "text/plain": [
       "<Figure size 432x288 with 1 Axes>"
      ]
     },
     "metadata": {
      "needs_background": "light"
     },
     "output_type": "display_data"
    }
   ],
   "source": [
    "# Visualise results\n",
    "k = 'thickness'\n",
    "v = metrics[k]\n",
    "fig, ax = plt.subplots()\n",
    "for t in range(history.max_t, history.max_t+1):\n",
    "    df, w = history.get_distribution(m=0, t=t)\n",
    "    plot_kde_1d(df, w,\n",
    "                xmin=v[0], xmax=1.5*v[1],\n",
    "                x='general_thickness', ax=ax,\n",
    "                label=\"PDF t={}\".format(t))\n",
    "ax.legend();"
   ]
  },
  {
   "cell_type": "code",
   "execution_count": 38,
   "metadata": {},
   "outputs": [
    {
     "name": "stderr",
     "output_type": "stream",
     "text": [
      "INFO:History:Start <ABCSMC(id=44, start_time=2019-04-17 08:06:12.402218, end_time=None)>\n",
      "INFO:Epsilon:initial epsilon is 31.053321283021596\n",
      "INFO:ABC:t:0 eps:31.053321283021596\n",
      "INFO:ABC:t:1 eps:2.8659873945307535\n",
      "INFO:ABC:t:2 eps:2.8659873945307535\n",
      "INFO:ABC:t:3 eps:1.3243768385700698\n",
      "INFO:ABC:t:4 eps:1.0734900802433849\n",
      "INFO:ABC:t:5 eps:1.0734900802433849\n",
      "INFO:ABC:t:6 eps:1.0734900802433849\n",
      "INFO:History:Done <ABCSMC(id=44, start_time=2019-04-17 08:06:12.402218, end_time=2019-04-17 08:07:37.197110)>\n"
     ]
    }
   ],
   "source": [
    "abc = ABCSMC(model, depth, distance)\n",
    "abc.new(db_path, target)\n",
    "history = abc.run(minimum_epsilon=me, max_nr_populations=mp)"
   ]
  },
  {
   "cell_type": "code",
   "execution_count": 39,
   "metadata": {},
   "outputs": [
    {
     "data": {
      "image/png": "[encoded data removed]",
      "text/plain": [
       "<Figure size 432x288 with 1 Axes>"
      ]
     },
     "metadata": {
      "needs_background": "light"
     },
     "output_type": "display_data"
    }
   ],
   "source": [
    "# Visualise results\n",
    "k = 'depth'\n",
    "v = metrics[k]\n",
    "fig, ax = plt.subplots()\n",
    "for t in range(history.max_t, history.max_t+1):\n",
    "    df, w = history.get_distribution(m=0, t=t)\n",
    "    plot_kde_1d(df, w,\n",
    "                xmin=v[0], xmax=1.5*v[1],\n",
    "                x='general_depth', ax=ax,\n",
    "                label=\"PDF t={}\".format(t))\n",
    "ax.legend();"
   ]
  }
 ],
 "metadata": {
  "kernelspec": {
   "display_name": "Python 3",
   "language": "python",
   "name": "python3"
  },
  "language_info": {
   "codemirror_mode": {
    "name": "ipython",
    "version": 3
   },
   "file_extension": ".py",
   "mimetype": "text/x-python",
   "name": "python",
   "nbconvert_exporter": "python",
   "pygments_lexer": "ipython3",
   "version": "3.7.0"
  }
 },
 "nbformat": 4,
 "nbformat_minor": 2
}
