{
 "cells": [
  {
   "cell_type": "code",
   "execution_count": 1,
   "metadata": {},
   "outputs": [],
   "source": [
    "import Main\n",
    "import Parser\n",
    "from Analyser import *"
   ]
  },
  {
   "cell_type": "code",
   "execution_count": 2,
   "metadata": {},
   "outputs": [],
   "source": [
    "modelName = 'SymTree'"
   ]
  },
  {
   "cell_type": "code",
   "execution_count": 3,
   "metadata": {},
   "outputs": [],
   "source": [
    "# Some PyABC magic to get our set of parameters\n",
    "from pyabc import (ABCSMC, Distribution, RV, MultivariateNormalTransition)\n",
    "import scipy as sp\n",
    "import scipy.stats as st\n",
    "import tempfile\n",
    "import os\n",
    "import pandas as pd\n",
    "import matplotlib.pyplot as plt"
   ]
  },
  {
   "cell_type": "code",
   "execution_count": 4,
   "metadata": {},
   "outputs": [],
   "source": [
    "def model(params):\n",
    "    return Main.generate_and_analyse(modelName, params)"
   ]
  },
  {
   "cell_type": "code",
   "execution_count": 5,
   "metadata": {},
   "outputs": [
    {
     "data": {
      "text/plain": [
       "{'parentAngle_mean': 29.972552607502287,\n",
       " 'parentAngle_variance': 0.9070107031211622,\n",
       " 'length_mean': 5.324752928928331,\n",
       " 'length_variance': 1.6946616465979092,\n",
       " 'verticalOrientation_mean': 58.74019847342893,\n",
       " 'verticalOrientation_variance': 30.950513325864076,\n",
       " 'horizontalOrientation_mean': 182.37836096148266,\n",
       " 'horizontalOrientation_variance': 103.94591803983697,\n",
       " 'q1_xyz': (4.0, 23.2, 4.0),\n",
       " 'q2_xyz': (87.83338233020078, 20.749719101438767, 78.8915290879336),\n",
       " 'q3_xyz': (84.79567162826916, 25.26784837685055, 79.87651798927715),\n",
       " 'xyz': (87.83338233020078, 75.32224617934726, 81.43153915909753),\n",
       " 'trunk_length': 20.0,\n",
       " 'totalBiomass': 766.5978275480641}"
      ]
     },
     "execution_count": 5,
     "metadata": {},
     "output_type": "execute_result"
    }
   ],
   "source": [
    "t1 = Main.generate_and_analyse(modelName, {})\n",
    "t1"
   ]
  },
  {
   "cell_type": "code",
   "execution_count": null,
   "metadata": {},
   "outputs": [],
   "source": []
  },
  {
   "cell_type": "code",
   "execution_count": 6,
   "metadata": {},
   "outputs": [],
   "source": [
    "metrics = {  'slash':(10, 100),\n",
    "             'slashr':(10, 100),\n",
    "             'plus':(0, 180),\n",
    "             'plusr':(0, 180),\n",
    "             'decay':(0, 1),\n",
    "             'd': (0, 1),\n",
    "             'h':(1, 20),\n",
    "             'w':(0.1, 2),\n",
    "             'thickness':(0, 4),\n",
    "             'depth':(1,7)\n",
    "          }"
   ]
  },
  {
   "cell_type": "code",
   "execution_count": 7,
   "metadata": {},
   "outputs": [],
   "source": [
    "# prior = Distribution(section_1_slash     =RV(\"uniform\", 10, 100),\n",
    "#                      section_1_slashr    =RV(\"uniform\", 10, 100),\n",
    "#                      section_1_plus      =RV(\"uniform\", 0, 180),\n",
    "#                      section_1_plusr      =RV(\"uniform\", 0, 180),\n",
    "#                      section_1_decay     =RV(\"uniform\", 0, 1),\n",
    "#                      section_1_d         =RV(\"uniform\", 0,1),\n",
    "#                      section_1_h         =RV(\"uniform\", 1, 20),\n",
    "#                      section_1_w         =RV(\"uniform\", 0.1, 2),\n",
    "#                      general_thickness   =RV(\"uniform\", 0, 5)\n",
    "#                     )"
   ]
  },
  {
   "cell_type": "code",
   "execution_count": 41,
   "metadata": {},
   "outputs": [],
   "source": [
    "slash = Distribution(section_1_slash     =RV(\"uniform\", 10, 100))\n",
    "slashr = Distribution(section_1_slashr    =RV(\"uniform\", 10, 100))\n",
    "plus = Distribution(section_1_plus      =RV(\"uniform\", 0, 180))\n",
    "plusr = Distribution(section_1_plusr      =RV(\"uniform\", 0, 180))\n",
    "decay = Distribution(section_1_decay     =RV(\"uniform\", 0, 1))\n",
    "d = Distribution(section_1_d     =RV(\"uniform\", 0, 1))\n",
    "h = Distribution(section_1_h         =RV(\"uniform\", 1, 20))\n",
    "w = Distribution(section_1_w         =RV(\"uniform\", 0.2, 1))\n",
    "thickness = Distribution(general_thickness   =RV(\"uniform\", 0, 5))\n",
    "depth = Distribution(general_depth           =RV(\"uniform\",1,7))"
   ]
  },
  {
   "cell_type": "code",
   "execution_count": 9,
   "metadata": {},
   "outputs": [],
   "source": [
    "db_path = (\"sqlite:///\" + os.path.join(tempfile.gettempdir(), \"test.db\"))"
   ]
  },
  {
   "cell_type": "code",
   "execution_count": 10,
   "metadata": {},
   "outputs": [],
   "source": [
    "def gen_av_target(n):\n",
    "    target = model({})\n",
    "    for i in range(n):\n",
    "        print(i)\n",
    "        new_metrics = model({})\n",
    "        for (k,v) in new_metrics.items():\n",
    "            if k[-3:] == 'xyz':\n",
    "                x,y,z = target[k]\n",
    "                x += new_metrics[k][0]\n",
    "                y += new_metrics[k][1]\n",
    "                z += new_metrics[k][2]\n",
    "                target[k] = (x,y,z)\n",
    "            else:\n",
    "                target[k] += new_metrics[k]\n",
    "\n",
    "    for (k,v) in target.items():\n",
    "        if k[-3:] == 'xyz':\n",
    "            x,y,z = target[k]\n",
    "            target[k] = (x/n, y/n, z/n)\n",
    "        else:\n",
    "            target[k] /= n\n",
    "            \n",
    "    return target"
   ]
  },
  {
   "cell_type": "code",
   "execution_count": 11,
   "metadata": {},
   "outputs": [
    {
     "name": "stdout",
     "output_type": "stream",
     "text": [
      "0\n",
      "1\n",
      "2\n",
      "3\n",
      "4\n",
      "5\n",
      "6\n",
      "7\n",
      "8\n",
      "9\n",
      "10\n",
      "11\n",
      "12\n",
      "13\n",
      "14\n",
      "15\n",
      "16\n",
      "17\n",
      "18\n",
      "19\n"
     ]
    }
   ],
   "source": [
    "target = gen_av_target(20)"
   ]
  },
  {
   "cell_type": "code",
   "execution_count": 12,
   "metadata": {},
   "outputs": [
    {
     "data": {
      "text/plain": [
       "{'parentAngle_mean': 31.471180237877398,\n",
       " 'parentAngle_variance': 0.9523612382772205,\n",
       " 'length_mean': 5.590990575374748,\n",
       " 'length_variance': 1.7793947289278038,\n",
       " 'verticalOrientation_mean': 61.67720839710038,\n",
       " 'verticalOrientation_variance': 32.49803899215728,\n",
       " 'horizontalOrientation_mean': 191.49727900955673,\n",
       " 'horizontalOrientation_variance': 109.1432139418288,\n",
       " 'q1_xyz': (4.2, 24.359999999999992, 4.2),\n",
       " 'q2_xyz': (92.22505144671078, 21.7872050565107, 82.83610554233027),\n",
       " 'q3_xyz': (89.03545520968264, 26.531240795693087, 83.87034388874096),\n",
       " 'xyz': (92.22505144671078, 79.08835848831464, 85.50311611705243),\n",
       " 'trunk_length': 21.0,\n",
       " 'totalBiomass': 804.9277189254675}"
      ]
     },
     "execution_count": 12,
     "metadata": {},
     "output_type": "execute_result"
    }
   ],
   "source": [
    "target"
   ]
  },
  {
   "cell_type": "code",
   "execution_count": 13,
   "metadata": {},
   "outputs": [],
   "source": [
    "mp = 7\n",
    "me = 0.5"
   ]
  },
  {
   "cell_type": "code",
   "execution_count": 14,
   "metadata": {},
   "outputs": [
    {
     "name": "stderr",
     "output_type": "stream",
     "text": [
      "INFO:History:Start <ABCSMC(id=67, start_time=2019-04-17 13:48:22.050127, end_time=None)>\n",
      "INFO:Epsilon:initial epsilon is 11.929907038452086\n",
      "INFO:ABC:t:0 eps:11.929907038452086\n",
      "INFO:ABC:t:1 eps:10.031333315394319\n",
      "INFO:ABC:t:2 eps:7.471585824416362\n",
      "INFO:ABC:t:3 eps:2.658061923756442\n",
      "INFO:ABC:t:4 eps:1.7701406293463873\n",
      "INFO:ABC:t:5 eps:1.0612038832476733\n",
      "INFO:ABC:t:6 eps:0.9021872876277308\n",
      "INFO:History:Done <ABCSMC(id=67, start_time=2019-04-17 13:48:22.050127, end_time=2019-04-17 13:49:56.811143)>\n"
     ]
    }
   ],
   "source": [
    "abc = ABCSMC(model, slash, distance)\n",
    "abc.new(db_path, target)\n",
    "history = abc.run(minimum_epsilon=me, max_nr_populations=mp)"
   ]
  },
  {
   "cell_type": "code",
   "execution_count": 15,
   "metadata": {},
   "outputs": [],
   "source": [
    "from pyabc.visualization import plot_kde_1d"
   ]
  },
  {
   "cell_type": "code",
   "execution_count": 18,
   "metadata": {},
   "outputs": [
    {
     "data": {
      "image/png": "[encoded data removed]",
      "text/plain": [
       "<Figure size 432x288 with 1 Axes>"
      ]
     },
     "metadata": {
      "needs_background": "light"
     },
     "output_type": "display_data"
    }
   ],
   "source": [
    "# Visualise results\n",
    "k = 'slash'\n",
    "v = metrics[k]\n",
    "fig, ax = plt.subplots()\n",
    "for t in range(history.max_t, history.max_t+1):\n",
    "    df, w = history.get_distribution(m=0, t=t)\n",
    "    plot_kde_1d(df, w,\n",
    "                xmin=v[0], xmax=1.5*v[1],\n",
    "                x='section_1_slash', ax=ax,\n",
    "                label=\"PDF t={}\".format(t))\n",
    "ax.legend();\n",
    "fig.savefig('../../../../Report/images/individuals/'+k+'_kde')"
   ]
  },
  {
   "cell_type": "code",
   "execution_count": 19,
   "metadata": {},
   "outputs": [
    {
     "name": "stderr",
     "output_type": "stream",
     "text": [
      "INFO:History:Start <ABCSMC(id=68, start_time=2019-04-17 14:11:28.545778, end_time=None)>\n",
      "INFO:Epsilon:initial epsilon is 18.034712626607487\n",
      "INFO:ABC:t:0 eps:18.034712626607487\n",
      "INFO:ABC:t:1 eps:15.52620858179128\n",
      "INFO:ABC:t:2 eps:13.678445737328046\n",
      "INFO:ABC:t:3 eps:11.668726077278347\n",
      "INFO:ABC:t:4 eps:10.051812683014631\n",
      "INFO:ABC:t:5 eps:8.398279379637188\n",
      "INFO:ABC:t:6 eps:5.960160507729393\n",
      "INFO:History:Done <ABCSMC(id=68, start_time=2019-04-17 14:11:28.545778, end_time=2019-04-17 14:14:20.057506)>\n"
     ]
    }
   ],
   "source": [
    "abc = ABCSMC(model, slashr, distance)\n",
    "abc.new(db_path, target)\n",
    "history = abc.run(minimum_epsilon=me, max_nr_populations=mp)"
   ]
  },
  {
   "cell_type": "code",
   "execution_count": 20,
   "metadata": {},
   "outputs": [
    {
     "data": {
      "image/png": "[encoded data removed]",
      "text/plain": [
       "<Figure size 432x288 with 1 Axes>"
      ]
     },
     "metadata": {
      "needs_background": "light"
     },
     "output_type": "display_data"
    }
   ],
   "source": [
    "# Visualise results\n",
    "k = 'slashr'\n",
    "v = metrics[k]\n",
    "fig, ax = plt.subplots()\n",
    "for t in range(history.max_t, history.max_t+1):\n",
    "    df, w = history.get_distribution(m=0, t=t)\n",
    "    plot_kde_1d(df, w,\n",
    "                xmin=v[0]-1, xmax=1.5*v[1],\n",
    "                x='section_1_slashr', ax=ax,\n",
    "                label=\"PDF t={}\".format(t))\n",
    "ax.legend();\n",
    "fig.savefig('../../../../Report/images/individuals/'+k+'_kde')"
   ]
  },
  {
   "cell_type": "code",
   "execution_count": 21,
   "metadata": {},
   "outputs": [
    {
     "name": "stderr",
     "output_type": "stream",
     "text": [
      "INFO:History:Start <ABCSMC(id=69, start_time=2019-04-17 14:14:20.228354, end_time=None)>\n",
      "INFO:Epsilon:initial epsilon is 2.081431660708207\n",
      "INFO:ABC:t:0 eps:2.081431660708207\n",
      "INFO:ABC:t:1 eps:1.2983494340011554\n",
      "INFO:ABC:t:2 eps:1.0198076611611306\n",
      "INFO:ABC:t:3 eps:0.9377627049460983\n",
      "INFO:ABC:t:4 eps:0.9150482093868371\n",
      "INFO:ABC:t:5 eps:0.9080245781223224\n",
      "INFO:ABC:t:6 eps:0.905703766480899\n",
      "INFO:History:Done <ABCSMC(id=69, start_time=2019-04-17 14:14:20.228354, end_time=2019-04-17 14:16:11.801861)>\n"
     ]
    }
   ],
   "source": [
    "abc = ABCSMC(model, plus, distance)\n",
    "abc.new(db_path, target)\n",
    "history = abc.run(minimum_epsilon=me, max_nr_populations=mp)"
   ]
  },
  {
   "cell_type": "code",
   "execution_count": 23,
   "metadata": {},
   "outputs": [
    {
     "data": {
      "image/png": "[encoded data removed]",
      "text/plain": [
       "<Figure size 432x288 with 1 Axes>"
      ]
     },
     "metadata": {
      "needs_background": "light"
     },
     "output_type": "display_data"
    }
   ],
   "source": [
    "# Visualise results\n",
    "k = 'plus'\n",
    "v = metrics[k]\n",
    "fig, ax = plt.subplots()\n",
    "for t in range(history.max_t, history.max_t+1):\n",
    "    df, w = history.get_distribution(m=0, t=t)\n",
    "    plot_kde_1d(df, w,\n",
    "                xmin=v[0], xmax=1.5*v[1],\n",
    "                x='section_1_plus', ax=ax,\n",
    "                label=\"PDF t={}\".format(t))\n",
    "ax.legend();\n",
    "fig.savefig('../../../../Report/images/individuals/'+k+'_kde')"
   ]
  },
  {
   "cell_type": "code",
   "execution_count": 24,
   "metadata": {},
   "outputs": [
    {
     "name": "stderr",
     "output_type": "stream",
     "text": [
      "INFO:History:Start <ABCSMC(id=70, start_time=2019-04-17 14:16:46.829727, end_time=None)>\n",
      "INFO:Epsilon:initial epsilon is 2.001788089012124\n",
      "INFO:ABC:t:0 eps:2.001788089012124\n",
      "INFO:ABC:t:1 eps:1.5025063393046063\n",
      "INFO:ABC:t:2 eps:1.1659126780738749\n",
      "INFO:ABC:t:3 eps:0.9981806819326431\n",
      "INFO:ABC:t:4 eps:0.9194493658562978\n",
      "INFO:ABC:t:5 eps:0.8666876895496337\n",
      "INFO:ABC:t:6 eps:0.8269606606114677\n",
      "INFO:History:Done <ABCSMC(id=70, start_time=2019-04-17 14:16:46.829727, end_time=2019-04-17 14:26:27.748947)>\n"
     ]
    }
   ],
   "source": [
    "abc = ABCSMC(model, plusr, distance)\n",
    "abc.new(db_path, target)\n",
    "history = abc.run(minimum_epsilon=me, max_nr_populations=mp)"
   ]
  },
  {
   "cell_type": "code",
   "execution_count": 25,
   "metadata": {},
   "outputs": [
    {
     "data": {
      "image/png": "[encoded data removed]",
      "text/plain": [
       "<Figure size 432x288 with 1 Axes>"
      ]
     },
     "metadata": {
      "needs_background": "light"
     },
     "output_type": "display_data"
    }
   ],
   "source": [
    "# Visualise results\n",
    "k = 'plusr'\n",
    "v = metrics[k]\n",
    "fig, ax = plt.subplots()\n",
    "for t in range(history.max_t, history.max_t+1):\n",
    "    df, w = history.get_distribution(m=0, t=t)\n",
    "    plot_kde_1d(df, w,\n",
    "                xmin=v[0], xmax=1.5*v[1],\n",
    "                x='section_1_plusr', ax=ax,\n",
    "                label=\"PDF t={}\".format(t))\n",
    "ax.legend();\n",
    "fig.savefig('../../../../Report/images/individuals/'+k+'_kde')"
   ]
  },
  {
   "cell_type": "code",
   "execution_count": 26,
   "metadata": {},
   "outputs": [
    {
     "name": "stderr",
     "output_type": "stream",
     "text": [
      "INFO:History:Start <ABCSMC(id=71, start_time=2019-04-17 14:26:27.946827, end_time=None)>\n",
      "INFO:Epsilon:initial epsilon is 3.283424168773753\n",
      "INFO:ABC:t:0 eps:3.283424168773753\n",
      "INFO:ABC:t:1 eps:2.349257708768707\n",
      "INFO:ABC:t:2 eps:1.6819951835651024\n",
      "INFO:ABC:t:3 eps:1.460671293375098\n",
      "INFO:ABC:t:4 eps:1.2192766567125732\n",
      "INFO:ABC:t:5 eps:1.0939591973110516\n",
      "INFO:ABC:t:6 eps:1.0571411546507201\n",
      "INFO:History:Done <ABCSMC(id=71, start_time=2019-04-17 14:26:27.946827, end_time=2019-04-17 14:30:45.607600)>\n"
     ]
    }
   ],
   "source": [
    "abc = ABCSMC(model, decay, distance)\n",
    "abc.new(db_path, target)\n",
    "history = abc.run(minimum_epsilon=me, max_nr_populations=mp)"
   ]
  },
  {
   "cell_type": "code",
   "execution_count": 27,
   "metadata": {},
   "outputs": [
    {
     "data": {
      "image/png": "[encoded data removed]",
      "text/plain": [
       "<Figure size 432x288 with 1 Axes>"
      ]
     },
     "metadata": {
      "needs_background": "light"
     },
     "output_type": "display_data"
    }
   ],
   "source": [
    "# Visualise results\n",
    "k = 'decay'\n",
    "v = metrics[k]\n",
    "fig, ax = plt.subplots()\n",
    "for t in range(history.max_t, history.max_t+1):\n",
    "    df, w = history.get_distribution(m=0, t=t)\n",
    "    plot_kde_1d(df, w,\n",
    "                xmin=v[0], xmax=1.5*v[1],\n",
    "                x='section_1_decay', ax=ax,\n",
    "                label=\"PDF t={}\".format(t))\n",
    "ax.legend();\n",
    "fig.savefig('../../../../Report/images/individuals/'+k+'_kde')"
   ]
  },
  {
   "cell_type": "code",
   "execution_count": 28,
   "metadata": {},
   "outputs": [
    {
     "name": "stderr",
     "output_type": "stream",
     "text": [
      "INFO:History:Start <ABCSMC(id=72, start_time=2019-04-17 14:30:45.787854, end_time=None)>\n",
      "INFO:Epsilon:initial epsilon is 2.41678491694862\n",
      "INFO:ABC:t:0 eps:2.41678491694862\n",
      "INFO:ABC:t:1 eps:1.856333348921058\n",
      "INFO:ABC:t:2 eps:1.5110627115802069\n",
      "INFO:ABC:t:3 eps:1.2838979336113556\n",
      "INFO:ABC:t:4 eps:1.183444196001384\n",
      "INFO:ABC:t:5 eps:1.1256730288311971\n",
      "INFO:ABC:t:6 eps:1.0994638252423314\n",
      "INFO:History:Done <ABCSMC(id=72, start_time=2019-04-17 14:30:45.787854, end_time=2019-04-17 14:37:00.348859)>\n"
     ]
    }
   ],
   "source": [
    "abc = ABCSMC(model, d, distance)\n",
    "abc.new(db_path, target)\n",
    "history = abc.run(minimum_epsilon=me, max_nr_populations=mp)"
   ]
  },
  {
   "cell_type": "code",
   "execution_count": 29,
   "metadata": {},
   "outputs": [
    {
     "data": {
      "image/png": "[encoded data removed]",
      "text/plain": [
       "<Figure size 432x288 with 1 Axes>"
      ]
     },
     "metadata": {
      "needs_background": "light"
     },
     "output_type": "display_data"
    }
   ],
   "source": [
    "# Visualise results\n",
    "k = 'd'\n",
    "v = metrics[k]\n",
    "fig, ax = plt.subplots()\n",
    "for t in range(history.max_t, history.max_t+1):\n",
    "    df, w = history.get_distribution(m=0, t=t)\n",
    "    plot_kde_1d(df, w,\n",
    "                xmin=v[0], xmax=1.5*v[1],\n",
    "                x='section_1_d', ax=ax,\n",
    "                label=\"PDF t={}\".format(t))\n",
    "ax.legend();\n",
    "fig.savefig('../../../../Report/images/individuals/'+k+'_kde')"
   ]
  },
  {
   "cell_type": "code",
   "execution_count": 31,
   "metadata": {},
   "outputs": [
    {
     "name": "stderr",
     "output_type": "stream",
     "text": [
      "INFO:History:Start <ABCSMC(id=74, start_time=2019-04-17 15:45:29.618818, end_time=None)>\n",
      "INFO:Epsilon:initial epsilon is 17.134535714544228\n",
      "INFO:ABC:t:0 eps:17.134535714544228\n",
      "INFO:ABC:t:1 eps:13.037025857426896\n",
      "INFO:ABC:t:2 eps:10.342176057400101\n",
      "INFO:ABC:t:3 eps:8.808659440258875\n",
      "INFO:ABC:t:4 eps:7.408316355301115\n",
      "INFO:ABC:t:5 eps:5.792292791730927\n",
      "INFO:ABC:t:6 eps:4.8607409373132215\n",
      "INFO:History:Done <ABCSMC(id=74, start_time=2019-04-17 15:45:29.618818, end_time=2019-04-17 15:50:08.652447)>\n"
     ]
    }
   ],
   "source": [
    "abc = ABCSMC(model, h, distance)\n",
    "abc.new(db_path, target)\n",
    "history = abc.run(minimum_epsilon=me, max_nr_populations=mp)"
   ]
  },
  {
   "cell_type": "code",
   "execution_count": 32,
   "metadata": {},
   "outputs": [
    {
     "data": {
      "image/png": "[encoded data removed]",
      "text/plain": [
       "<Figure size 432x288 with 1 Axes>"
      ]
     },
     "metadata": {
      "needs_background": "light"
     },
     "output_type": "display_data"
    }
   ],
   "source": [
    "# Visualise results\n",
    "k = 'h'\n",
    "v = metrics[k]\n",
    "fig, ax = plt.subplots()\n",
    "for t in range(history.max_t, history.max_t+1):\n",
    "    df, w = history.get_distribution(m=0, t=t)\n",
    "    plot_kde_1d(df, w,\n",
    "                xmin=v[0], xmax=1.5*v[1],\n",
    "                x='section_1_h', ax=ax,\n",
    "                label=\"PDF t={}\".format(t))\n",
    "ax.legend();\n",
    "fig.savefig('../../../../Report/images/individuals/'+k+'_kde')"
   ]
  },
  {
   "cell_type": "code",
   "execution_count": 42,
   "metadata": {},
   "outputs": [
    {
     "name": "stderr",
     "output_type": "stream",
     "text": [
      "INFO:History:Start <ABCSMC(id=81, start_time=2019-04-17 16:32:29.467241, end_time=None)>\n",
      "INFO:Epsilon:initial epsilon is 12.528163911926898\n",
      "INFO:ABC:t:0 eps:12.528163911926898\n",
      "INFO:ABC:t:1 eps:9.85250653266354\n",
      "INFO:ABC:t:2 eps:7.967636645668459\n",
      "INFO:ABC:t:3 eps:6.191206696012126\n",
      "INFO:ABC:t:4 eps:5.223978945540769\n",
      "INFO:ABC:t:5 eps:4.6684191531945185\n",
      "INFO:ABC:t:6 eps:4.402315713840879\n",
      "INFO:History:Done <ABCSMC(id=81, start_time=2019-04-17 16:32:29.467241, end_time=2019-04-17 16:38:03.511550)>\n"
     ]
    }
   ],
   "source": [
    "abc = ABCSMC(model, w, distance)\n",
    "abc.new(db_path, target)\n",
    "history = abc.run(minimum_epsilon=me, max_nr_populations=mp)"
   ]
  },
  {
   "cell_type": "code",
   "execution_count": 43,
   "metadata": {},
   "outputs": [
    {
     "data": {
      "image/png": "[encoded data removed]",
      "text/plain": [
       "<Figure size 432x288 with 1 Axes>"
      ]
     },
     "metadata": {
      "needs_background": "light"
     },
     "output_type": "display_data"
    }
   ],
   "source": [
    "# Visualise results\n",
    "k = 'w'\n",
    "v = metrics[k]\n",
    "fig, ax = plt.subplots()\n",
    "for t in range(history.max_t, history.max_t+1):\n",
    "    df, w = history.get_distribution(m=0, t=t)\n",
    "    plot_kde_1d(df, w,\n",
    "                xmin=0, xmax=0.6,\n",
    "                x='section_1_w', ax=ax,\n",
    "                label=\"PDF t={}\".format(t))\n",
    "ax.legend();\n",
    "fig.savefig('../../../../Report/images/individuals/'+k+'_kde')"
   ]
  },
  {
   "cell_type": "code",
   "execution_count": 35,
   "metadata": {},
   "outputs": [
    {
     "name": "stderr",
     "output_type": "stream",
     "text": [
      "INFO:History:Start <ABCSMC(id=77, start_time=2019-04-17 15:53:41.996715, end_time=None)>\n",
      "INFO:Epsilon:initial epsilon is 11.072162188334586\n",
      "INFO:ABC:t:0 eps:11.072162188334586\n",
      "INFO:ABC:t:1 eps:8.808714564015563\n",
      "INFO:ABC:t:2 eps:7.179598664094241\n",
      "INFO:ABC:t:3 eps:5.8837832206394545\n",
      "INFO:ABC:t:4 eps:5.097814966135824\n",
      "INFO:ABC:t:5 eps:4.757284346360755\n",
      "INFO:ABC:t:6 eps:4.533243402637724\n",
      "INFO:History:Done <ABCSMC(id=77, start_time=2019-04-17 15:53:41.996715, end_time=2019-04-17 16:00:12.140265)>\n"
     ]
    }
   ],
   "source": [
    "abc = ABCSMC(model, thickness, distance)\n",
    "abc.new(db_path, target)\n",
    "history = abc.run(minimum_epsilon=me, max_nr_populations=mp)"
   ]
  },
  {
   "cell_type": "code",
   "execution_count": 36,
   "metadata": {},
   "outputs": [
    {
     "data": {
      "image/png": "[encoded data removed]",
      "text/plain": [
       "<Figure size 432x288 with 1 Axes>"
      ]
     },
     "metadata": {
      "needs_background": "light"
     },
     "output_type": "display_data"
    }
   ],
   "source": [
    "# Visualise results\n",
    "k = 'thickness'\n",
    "v = metrics[k]\n",
    "fig, ax = plt.subplots()\n",
    "for t in range(history.max_t, history.max_t+1):\n",
    "    df, w = history.get_distribution(m=0, t=t)\n",
    "    plot_kde_1d(df, w,\n",
    "                xmin=v[0], xmax=1.5*v[1],\n",
    "                x='general_thickness', ax=ax,\n",
    "                label=\"PDF t={}\".format(t))\n",
    "ax.legend();\n",
    "fig.savefig('../../../../Report/images/individuals/'+k+'_kde')"
   ]
  },
  {
   "cell_type": "code",
   "execution_count": 37,
   "metadata": {},
   "outputs": [
    {
     "name": "stderr",
     "output_type": "stream",
     "text": [
      "INFO:History:Start <ABCSMC(id=78, start_time=2019-04-17 16:00:12.307769, end_time=None)>\n",
      "INFO:Epsilon:initial epsilon is 12.054699807051733\n",
      "INFO:ABC:t:0 eps:12.054699807051733\n",
      "INFO:ABC:t:1 eps:9.365022680577034\n",
      "INFO:ABC:t:2 eps:7.034874792504597\n",
      "INFO:ABC:t:3 eps:5.454979972560287\n",
      "INFO:ABC:t:4 eps:4.877867766149941\n",
      "INFO:ABC:t:5 eps:4.527704046545848\n",
      "INFO:ABC:t:6 eps:4.335654047115792\n",
      "INFO:History:Done <ABCSMC(id=78, start_time=2019-04-17 16:00:12.307769, end_time=2019-04-17 16:08:13.421065)>\n"
     ]
    }
   ],
   "source": [
    "abc = ABCSMC(model, depth, distance)\n",
    "abc.new(db_path, target)\n",
    "history = abc.run(minimum_epsilon=me, max_nr_populations=mp)"
   ]
  },
  {
   "cell_type": "code",
   "execution_count": 38,
   "metadata": {},
   "outputs": [
    {
     "data": {
      "image/png": "[encoded data removed]",
      "text/plain": [
       "<Figure size 432x288 with 1 Axes>"
      ]
     },
     "metadata": {
      "needs_background": "light"
     },
     "output_type": "display_data"
    }
   ],
   "source": [
    "# Visualise results\n",
    "k = 'depth'\n",
    "v = metrics[k]\n",
    "fig, ax = plt.subplots()\n",
    "for t in range(history.max_t, history.max_t+1):\n",
    "    df, w = history.get_distribution(m=0, t=t)\n",
    "    plot_kde_1d(df, w,\n",
    "                xmin=v[0], xmax=1.5*v[1],\n",
    "                x='general_depth', ax=ax,\n",
    "                label=\"PDF t={}\".format(t))\n",
    "ax.legend();\n",
    "fig.savefig('../../../../Report/images/individuals/'+k+'_kde')"
   ]
  },
  {
   "cell_type": "code",
   "execution_count": null,
   "metadata": {},
   "outputs": [],
   "source": []
  }
 ],
 "metadata": {
  "kernelspec": {
   "display_name": "Python 3",
   "language": "python",
   "name": "python3"
  },
  "language_info": {
   "codemirror_mode": {
    "name": "ipython",
    "version": 3
   },
   "file_extension": ".py",
   "mimetype": "text/x-python",
   "name": "python",
   "nbconvert_exporter": "python",
   "pygments_lexer": "ipython3",
   "version": "3.7.0"
  }
 },
 "nbformat": 4,
 "nbformat_minor": 2
}
