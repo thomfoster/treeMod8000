{
 "cells": [
  {
   "cell_type": "code",
   "execution_count": 30,
   "metadata": {},
   "outputs": [],
   "source": [
    "import ABCHelpers\n",
    "from ABCHelpers import *"
   ]
  },
  {
   "cell_type": "code",
   "execution_count": 31,
   "metadata": {},
   "outputs": [],
   "source": [
    "modelName = 'Fern'"
   ]
  },
  {
   "cell_type": "code",
   "execution_count": 32,
   "metadata": {},
   "outputs": [],
   "source": [
    "# Some PyABC magic to get our set of parameters\n",
    "from pyabc import (ABCSMC, Distribution, RV, MultivariateNormalTransition)\n",
    "import scipy as sp\n",
    "import scipy.stats as st\n",
    "import tempfile\n",
    "import os\n",
    "import pandas as pd\n",
    "import matplotlib.pyplot as plt"
   ]
  },
  {
   "cell_type": "code",
   "execution_count": 33,
   "metadata": {},
   "outputs": [],
   "source": [
    "metrics = {\n",
    "    'general_thickness': (0, 10),\n",
    "    'default_decay':     (0.5, 1.0),\n",
    "    'default_slash':     (0, 90),\n",
    "    'default_plus':      (0, 180),\n",
    "    'default_d':         (0.5, 1.0)\n",
    "}"
   ]
  },
  {
   "cell_type": "code",
   "execution_count": 34,
   "metadata": {},
   "outputs": [],
   "source": [
    "prior = Distribution(general_thickness   =RV(\"uniform\", 0, 10),  \n",
    "                     default_decay       =RV(\"uniform\", 0.5, 1.0),\n",
    "                     default_slash       =RV(\"uniform\", 0, 90),\n",
    "                     default_plus        =RV(\"uniform\", 0, 180),\n",
    "                     default_d           =RV(\"uniform\", 0.5, 1.0)\n",
    "                    )"
   ]
  },
  {
   "cell_type": "code",
   "execution_count": 35,
   "metadata": {},
   "outputs": [],
   "source": [
    "abc = ABCSMC(model, prior, distance)"
   ]
  },
  {
   "cell_type": "code",
   "execution_count": 36,
   "metadata": {},
   "outputs": [],
   "source": [
    "db_path = (\"sqlite:///\" + os.path.join(tempfile.gettempdir(), \"test.db\"))"
   ]
  },
  {
   "cell_type": "code",
   "execution_count": 37,
   "metadata": {},
   "outputs": [],
   "source": [
    "target = model({})"
   ]
  },
  {
   "cell_type": "code",
   "execution_count": 38,
   "metadata": {},
   "outputs": [
    {
     "name": "stderr",
     "output_type": "stream",
     "text": [
      "INFO:History:Start <ABCSMC(id=41, start_time=2019-02-25 13:45:00.127297, end_time=None)>\n",
      "INFO:Epsilon:initial epsilon is 28.036866546546534\n"
     ]
    },
    {
     "data": {
      "text/plain": [
       "41"
      ]
     },
     "execution_count": 38,
     "metadata": {},
     "output_type": "execute_result"
    }
   ],
   "source": [
    "abc.new(db_path, target)"
   ]
  },
  {
   "cell_type": "code",
   "execution_count": 39,
   "metadata": {},
   "outputs": [
    {
     "name": "stderr",
     "output_type": "stream",
     "text": [
      "INFO:ABC:t:0 eps:28.036866546546534\n",
      "INFO:ABC:t:1 eps:21.051245680602058\n",
      "INFO:ABC:t:2 eps:18.18478831591034\n",
      "INFO:ABC:t:3 eps:15.639700351669608\n",
      "INFO:ABC:t:4 eps:12.153172076060168\n",
      "INFO:ABC:t:5 eps:10.507434117525069\n",
      "INFO:ABC:t:6 eps:9.018963027239163\n",
      "INFO:ABC:t:7 eps:7.450373041003293\n",
      "INFO:ABC:t:8 eps:6.838671337910429\n",
      "INFO:ABC:t:9 eps:5.450831694962212\n",
      "INFO:ABC:t:10 eps:4.814477636035263\n",
      "INFO:ABC:t:11 eps:4.240839778995613\n",
      "INFO:ABC:t:12 eps:3.699623571529043\n",
      "INFO:ABC:t:13 eps:3.27356887346936\n",
      "INFO:ABC:t:14 eps:2.9458214101615963\n",
      "INFO:ABC:t:15 eps:2.7532327585602316\n",
      "INFO:ABC:t:16 eps:2.561330256993597\n",
      "INFO:ABC:t:17 eps:2.391744664711392\n",
      "INFO:ABC:t:18 eps:2.277282864894555\n",
      "Process Process-353:\n",
      "Process Process-359:\n",
      "Process Process-360:\n",
      "Process Process-356:\n",
      "Process Process-354:\n",
      "Process Process-355:\n",
      "Traceback (most recent call last):\n",
      "Process Process-357:\n",
      "Process Process-358:\n",
      "Traceback (most recent call last):\n",
      "Traceback (most recent call last):\n",
      "Traceback (most recent call last):\n",
      "Traceback (most recent call last):\n",
      "  File \"/home/t/anaconda3/lib/python3.7/multiprocessing/process.py\", line 297, in _bootstrap\n",
      "    self.run()\n",
      "Traceback (most recent call last):\n",
      "  File \"/home/t/anaconda3/lib/python3.7/multiprocessing/process.py\", line 297, in _bootstrap\n",
      "    self.run()\n",
      "  File \"/home/t/anaconda3/lib/python3.7/multiprocessing/process.py\", line 297, in _bootstrap\n",
      "    self.run()\n",
      "  File \"/home/t/anaconda3/lib/python3.7/multiprocessing/process.py\", line 297, in _bootstrap\n",
      "    self.run()\n",
      "  File \"/home/t/anaconda3/lib/python3.7/multiprocessing/process.py\", line 297, in _bootstrap\n",
      "    self.run()\n",
      "  File \"/home/t/anaconda3/lib/python3.7/multiprocessing/process.py\", line 99, in run\n",
      "    self._target(*self._args, **self._kwargs)\n",
      "  File \"/home/t/anaconda3/lib/python3.7/multiprocessing/process.py\", line 99, in run\n",
      "    self._target(*self._args, **self._kwargs)\n",
      "Traceback (most recent call last):\n",
      "  File \"/home/t/anaconda3/lib/python3.7/multiprocessing/process.py\", line 99, in run\n",
      "    self._target(*self._args, **self._kwargs)\n",
      "  File \"/home/t/anaconda3/lib/python3.7/multiprocessing/process.py\", line 99, in run\n",
      "    self._target(*self._args, **self._kwargs)\n",
      "  File \"/home/t/anaconda3/lib/python3.7/multiprocessing/process.py\", line 297, in _bootstrap\n",
      "    self.run()\n",
      "  File \"/home/t/anaconda3/lib/python3.7/site-packages/pyabc/sampler/multicore_evaluation_parallel.py\", line 24, in work\n",
      "    new_sim = simulate_one()\n",
      "  File \"/home/t/anaconda3/lib/python3.7/site-packages/pyabc/sampler/multicore_evaluation_parallel.py\", line 24, in work\n",
      "    new_sim = simulate_one()\n",
      "  File \"/home/t/anaconda3/lib/python3.7/multiprocessing/process.py\", line 99, in run\n",
      "    self._target(*self._args, **self._kwargs)\n",
      "  File \"/home/t/anaconda3/lib/python3.7/site-packages/pyabc/sampler/multicore_evaluation_parallel.py\", line 24, in work\n",
      "    new_sim = simulate_one()\n",
      "  File \"/home/t/anaconda3/lib/python3.7/multiprocessing/process.py\", line 297, in _bootstrap\n",
      "    self.run()\n",
      "  File \"/home/t/anaconda3/lib/python3.7/site-packages/pyabc/sampler/multicore_evaluation_parallel.py\", line 24, in work\n",
      "    new_sim = simulate_one()\n",
      "Traceback (most recent call last):\n",
      "  File \"/home/t/anaconda3/lib/python3.7/site-packages/pyabc/smc.py\", line 553, in simulate_one\n",
      "    transitions)\n",
      "  File \"/home/t/anaconda3/lib/python3.7/multiprocessing/process.py\", line 99, in run\n",
      "    self._target(*self._args, **self._kwargs)\n",
      "  File \"/home/t/anaconda3/lib/python3.7/multiprocessing/process.py\", line 99, in run\n",
      "    self._target(*self._args, **self._kwargs)\n",
      "  File \"/home/t/anaconda3/lib/python3.7/site-packages/pyabc/smc.py\", line 553, in simulate_one\n",
      "    transitions)\n",
      "  File \"/home/t/anaconda3/lib/python3.7/site-packages/pyabc/smc.py\", line 644, in _evaluate_proposal\n",
      "    x_0)\n",
      "  File \"/home/t/anaconda3/lib/python3.7/site-packages/pyabc/smc.py\", line 553, in simulate_one\n",
      "    transitions)\n",
      "  File \"/home/t/anaconda3/lib/python3.7/site-packages/pyabc/smc.py\", line 644, in _evaluate_proposal\n",
      "    x_0)\n",
      "  File \"/home/t/anaconda3/lib/python3.7/multiprocessing/process.py\", line 99, in run\n",
      "    self._target(*self._args, **self._kwargs)\n",
      "  File \"/home/t/anaconda3/lib/python3.7/multiprocessing/process.py\", line 297, in _bootstrap\n",
      "    self.run()\n",
      "  File \"/home/t/anaconda3/lib/python3.7/site-packages/pyabc/model.py\", line 222, in accept\n",
      "    sum_stats_calculator)\n",
      "  File \"/home/t/anaconda3/lib/python3.7/site-packages/pyabc/sampler/multicore_evaluation_parallel.py\", line 24, in work\n",
      "    new_sim = simulate_one()\n",
      "  File \"/home/t/anaconda3/lib/python3.7/site-packages/pyabc/sampler/multicore_evaluation_parallel.py\", line 24, in work\n",
      "    new_sim = simulate_one()\n",
      "  File \"/home/t/anaconda3/lib/python3.7/site-packages/pyabc/model.py\", line 116, in summary_statistics\n",
      "    raw_data = self.sample(pars)\n",
      "  File \"/home/t/anaconda3/lib/python3.7/site-packages/pyabc/smc.py\", line 644, in _evaluate_proposal\n",
      "    x_0)\n",
      "  File \"/home/t/anaconda3/lib/python3.7/site-packages/pyabc/sampler/multicore_evaluation_parallel.py\", line 24, in work\n",
      "    new_sim = simulate_one()\n",
      "  File \"/home/t/anaconda3/lib/python3.7/site-packages/pyabc/sampler/multicore_evaluation_parallel.py\", line 24, in work\n",
      "    new_sim = simulate_one()\n",
      "  File \"/home/t/anaconda3/lib/python3.7/site-packages/pyabc/smc.py\", line 538, in simulate_one\n",
      "    transitions)\n",
      "  File \"/home/t/anaconda3/lib/python3.7/site-packages/pyabc/model.py\", line 222, in accept\n",
      "    sum_stats_calculator)\n",
      "  File \"/home/t/anaconda3/lib/python3.7/site-packages/pyabc/smc.py\", line 553, in simulate_one\n",
      "    transitions)\n",
      "  File \"/home/t/anaconda3/lib/python3.7/site-packages/pyabc/smc.py\", line 553, in simulate_one\n",
      "    transitions)\n",
      "  File \"/home/t/anaconda3/lib/python3.7/site-packages/pyabc/model.py\", line 222, in accept\n",
      "    sum_stats_calculator)\n",
      "  File \"/home/t/anaconda3/lib/python3.7/site-packages/pyabc/smc.py\", line 553, in simulate_one\n",
      "    transitions)\n",
      "  File \"/home/t/anaconda3/lib/python3.7/site-packages/pyabc/smc.py\", line 644, in _evaluate_proposal\n",
      "    x_0)\n",
      "  File \"/home/t/anaconda3/lib/python3.7/site-packages/pyabc/smc.py\", line 644, in _evaluate_proposal\n",
      "    x_0)\n",
      "  File \"/home/t/anaconda3/lib/python3.7/site-packages/pyabc/smc.py\", line 644, in _evaluate_proposal\n",
      "    x_0)\n",
      "  File \"/home/t/anaconda3/lib/python3.7/site-packages/pyabc/model.py\", line 116, in summary_statistics\n",
      "    raw_data = self.sample(pars)\n",
      "  File \"/home/t/anaconda3/lib/python3.7/site-packages/pyabc/smc.py\", line 602, in _generate_valid_proposal\n",
      "    if (model_prior.pmf(m_ss)\n",
      "  File \"/home/t/anaconda3/lib/python3.7/site-packages/pyabc/model.py\", line 222, in accept\n",
      "    sum_stats_calculator)\n",
      "  File \"/home/t/anaconda3/lib/python3.7/site-packages/pyabc/model.py\", line 116, in summary_statistics\n",
      "    raw_data = self.sample(pars)\n",
      "  File \"/home/t/anaconda3/lib/python3.7/site-packages/pyabc/random_variables.py\", line 186, in pmf\n",
      "    return self.distribution.pmf(x, *args, **kwargs)\n",
      "  File \"/home/t/anaconda3/lib/python3.7/site-packages/pyabc/model.py\", line 116, in summary_statistics\n",
      "    raw_data = self.sample(pars)\n",
      "  File \"/home/t/anaconda3/lib/python3.7/site-packages/pyabc/model.py\", line 261, in sample\n",
      "    return self.sample_function(pars)\n",
      "  File \"/home/t/anaconda3/lib/python3.7/site-packages/pyabc/model.py\", line 261, in sample\n",
      "    return self.sample_function(pars)\n",
      "  File \"/home/t/anaconda3/lib/python3.7/site-packages/pyabc/model.py\", line 261, in sample\n",
      "    return self.sample_function(pars)\n",
      "  File \"/home/t/Documents/diss/CompiledApproach/Probability_Based_App/App/Models/ABCHelpers.py\", line 114, in model\n",
      "    treeData = Interpret.getPoints(modelName, paramDict, includeAngles=True)\n",
      "  File \"/home/t/anaconda3/lib/python3.7/site-packages/pyabc/model.py\", line 222, in accept\n",
      "    sum_stats_calculator)\n",
      "  File \"/home/t/anaconda3/lib/python3.7/site-packages/pyabc/model.py\", line 116, in summary_statistics\n",
      "    raw_data = self.sample(pars)\n",
      "  File \"/home/t/Documents/diss/CompiledApproach/Probability_Based_App/App/Models/ABCHelpers.py\", line 114, in model\n",
      "    treeData = Interpret.getPoints(modelName, paramDict, includeAngles=True)\n",
      "  File \"/home/t/Documents/diss/CompiledApproach/Probability_Based_App/App/Models/Interpret.py\", line 75, in getPoints\n",
      "    points.append(turtle.View(includeAngles)+(s.Length(),))\n",
      "  File \"/home/t/anaconda3/lib/python3.7/site-packages/pyabc/smc.py\", line 553, in simulate_one\n",
      "    transitions)\n"
     ]
    },
    {
     "name": "stderr",
     "output_type": "stream",
     "text": [
      "  File \"/home/t/anaconda3/lib/python3.7/site-packages/scipy/stats/_distn_infrastructure.py\", line 502, in pmf\n",
      "    return self.dist.pmf(k, *self.args, **self.kwds)\n",
      "  File \"/home/t/Documents/diss/CompiledApproach/Probability_Based_App/App/Models/Interpret.py\", line 92, in getPoints\n",
      "    turtle.Interpret(s)\n",
      "  File \"/home/t/anaconda3/lib/python3.7/site-packages/scipy/stats/_distn_infrastructure.py\", line 2833, in pmf\n",
      "    args = tuple(map(asarray, args))\n",
      "  File \"/home/t/anaconda3/lib/python3.7/site-packages/pyabc/smc.py\", line 644, in _evaluate_proposal\n",
      "    x_0)\n",
      "  File \"/home/t/Documents/diss/CompiledApproach/Probability_Based_App/App/Models/Turtle.py\", line 25, in View\n",
      "    parentAngle = rotations.angleBetween(self.parentHeading, self.heading[:,0])\n",
      "  File \"/home/t/anaconda3/lib/python3.7/site-packages/pyabc/model.py\", line 222, in accept\n",
      "    sum_stats_calculator)\n",
      "  File \"/home/t/anaconda3/lib/python3.7/site-packages/numpy/core/numeric.py\", line 501, in asarray\n",
      "    return array(a, dtype, copy=False, order=order)\n",
      "  File \"/home/t/Documents/diss/CompiledApproach/Probability_Based_App/App/Models/Turtle.py\", line 45, in Interpret\n",
      "    self.Roll(0, theta)\n",
      "  File \"/home/t/anaconda3/lib/python3.7/site-packages/pyabc/model.py\", line 261, in sample\n",
      "    return self.sample_function(pars)\n",
      "  File \"/home/t/anaconda3/lib/python3.7/site-packages/pyabc/model.py\", line 261, in sample\n",
      "    return self.sample_function(pars)\n",
      "  File \"/home/t/anaconda3/lib/python3.7/site-packages/pyabc/model.py\", line 116, in summary_statistics\n",
      "    raw_data = self.sample(pars)\n",
      "  File \"/home/t/Documents/diss/CompiledApproach/Probability_Based_App/App/Models/rotations.py\", line 21, in angleBetween\n",
      "    return math.degrees(math.acos(ang))\n",
      "  File \"/home/t/Documents/diss/CompiledApproach/Probability_Based_App/App/Models/ABCHelpers.py\", line 114, in model\n",
      "    treeData = Interpret.getPoints(modelName, paramDict, includeAngles=True)\n",
      "  File \"/home/t/Documents/diss/CompiledApproach/Probability_Based_App/App/Models/ABCHelpers.py\", line 114, in model\n",
      "    treeData = Interpret.getPoints(modelName, paramDict, includeAngles=True)\n",
      "KeyboardInterrupt\n",
      "  File \"/home/t/Documents/diss/CompiledApproach/Probability_Based_App/App/Models/Interpret.py\", line 92, in getPoints\n",
      "    turtle.Interpret(s)\n",
      "  File \"/home/t/Documents/diss/CompiledApproach/Probability_Based_App/App/Models/Turtle.py\", line 45, in Interpret\n",
      "    self.Roll(0, theta)\n",
      "  File \"/home/t/Documents/diss/CompiledApproach/Probability_Based_App/App/Models/ABCHelpers.py\", line 114, in model\n",
      "    treeData = Interpret.getPoints(modelName, paramDict, includeAngles=True)\n",
      "  File \"/home/t/Documents/diss/CompiledApproach/Probability_Based_App/App/Models/Interpret.py\", line 75, in getPoints\n",
      "    points.append(turtle.View(includeAngles)+(s.Length(),))\n",
      "KeyboardInterrupt\n",
      "  File \"/home/t/Documents/diss/CompiledApproach/Probability_Based_App/App/Models/Turtle.py\", line 27, in View\n",
      "    horizontalAngle = rotations.angleBetween([1,0,0], self.heading[:,0])\n",
      "  File \"/home/t/anaconda3/lib/python3.7/site-packages/pyabc/model.py\", line 222, in accept\n",
      "    sum_stats_calculator)\n",
      "  File \"/home/t/Documents/diss/CompiledApproach/Probability_Based_App/App/Models/Interpret.py\", line 92, in getPoints\n",
      "    turtle.Interpret(s)\n",
      "  File \"/home/t/Documents/diss/CompiledApproach/Probability_Based_App/App/Models/Turtle.py\", line 20, in Roll\n",
      "    self.heading = rotations.do_rot(self.heading, axis_label, theta)\n",
      "  File \"/home/t/Documents/diss/CompiledApproach/Probability_Based_App/App/Models/Turtle.py\", line 57, in Interpret\n",
      "    self.Roll(2, theta)\n",
      "  File \"/home/t/anaconda3/lib/python3.7/site-packages/pyabc/model.py\", line 116, in summary_statistics\n",
      "    raw_data = self.sample(pars)\n",
      "  File \"/home/t/Documents/diss/CompiledApproach/Probability_Based_App/App/Models/rotations.py\", line 18, in angleBetween\n",
      "    ang = dot(vec1, vec2) / (mag(vec1)*mag(vec2))\n",
      "  File \"/home/t/Documents/diss/CompiledApproach/Probability_Based_App/App/Models/rotations.py\", line 68, in do_rot\n",
      "    ret = dot(A,ret)\n",
      "KeyboardInterrupt\n",
      "  File \"/home/t/anaconda3/lib/python3.7/site-packages/pyabc/model.py\", line 261, in sample\n",
      "    return self.sample_function(pars)\n",
      "  File \"/home/t/Documents/diss/CompiledApproach/Probability_Based_App/App/Models/Turtle.py\", line 20, in Roll\n",
      "    self.heading = rotations.do_rot(self.heading, axis_label, theta)\n",
      "  File \"/home/t/Documents/diss/CompiledApproach/Probability_Based_App/App/Models/ABCHelpers.py\", line 114, in model\n",
      "    treeData = Interpret.getPoints(modelName, paramDict, includeAngles=True)\n",
      "  File \"/home/t/Documents/diss/CompiledApproach/Probability_Based_App/App/Models/rotations.py\", line 60, in do_rot\n",
      "    A = t_xz(axis)\n",
      "  File \"/home/t/Documents/diss/CompiledApproach/Probability_Based_App/App/Models/rotations.py\", line 32, in t_xz\n",
      "    0, 0, 1,\n",
      "  File \"/home/t/Documents/diss/CompiledApproach/Probability_Based_App/App/Models/Interpret.py\", line 88, in getPoints\n",
      "    turtle = turtle.New()\n",
      "KeyboardInterrupt\n",
      "  File \"/home/t/Documents/diss/CompiledApproach/Probability_Based_App/App/Models/Turtle.py\", line 32, in New\n",
      "    new = Turtle(self.crntCell)\n",
      "  File \"/home/t/Documents/diss/CompiledApproach/Probability_Based_App/App/Models/Turtle.py\", line 20, in Roll\n",
      "    self.heading = rotations.do_rot(self.heading, axis_label, theta)\n",
      "  File \"/home/t/anaconda3/lib/python3.7/site-packages/pyabc/model.py\", line 261, in sample\n",
      "    return self.sample_function(pars)\n",
      "  File \"/home/t/Documents/diss/CompiledApproach/Probability_Based_App/App/Models/rotations.py\", line 62, in do_rot\n",
      "    R = r_z(theta_rad)\n",
      "KeyboardInterrupt\n",
      "  File \"/home/t/Documents/diss/CompiledApproach/Probability_Based_App/App/Models/ABCHelpers.py\", line 114, in model\n",
      "    treeData = Interpret.getPoints(modelName, paramDict, includeAngles=True)\n",
      "  File \"/home/t/Documents/diss/CompiledApproach/Probability_Based_App/App/Models/rotations.py\", line 52, in r_z\n",
      "    math.cos(theta), -math.sin(theta), 0,\n",
      "  File \"/home/t/Documents/diss/CompiledApproach/Probability_Based_App/App/Models/Turtle.py\", line 12, in __init__\n",
      "    self.heading = rotations.do_rot(self.heading, 2, 90)\n",
      "KeyboardInterrupt\n",
      "  File \"/home/t/Documents/diss/CompiledApproach/Probability_Based_App/App/Models/rotations.py\", line 60, in do_rot\n",
      "    A = t_xz(axis)\n",
      "  File \"/home/t/Documents/diss/CompiledApproach/Probability_Based_App/App/Models/rotations.py\", line 28, in t_xz\n",
      "    sqrt = math.sqrt(math.pow(u,2)+math.pow(v,2))\n",
      "KeyboardInterrupt\n",
      "  File \"/home/t/Documents/diss/CompiledApproach/Probability_Based_App/App/Models/Interpret.py\", line 92, in getPoints\n",
      "    turtle.Interpret(s)\n",
      "  File \"/home/t/Documents/diss/CompiledApproach/Probability_Based_App/App/Models/Turtle.py\", line 45, in Interpret\n",
      "    self.Roll(0, theta)\n"
     ]
    },
    {
     "ename": "KeyboardInterrupt",
     "evalue": "",
     "output_type": "error",
     "traceback": [
      "\u001b[0;31m---------------------------------------------------------------------------\u001b[0m",
      "\u001b[0;31mKeyboardInterrupt\u001b[0m                         Traceback (most recent call last)",
      "\u001b[0;32m<ipython-input-39-a1b93cbd8d10>\u001b[0m in \u001b[0;36m<module>\u001b[0;34m()\u001b[0m\n\u001b[0;32m----> 1\u001b[0;31m \u001b[0mhistory\u001b[0m \u001b[0;34m=\u001b[0m \u001b[0mabc\u001b[0m\u001b[0;34m.\u001b[0m\u001b[0mrun\u001b[0m\u001b[0;34m(\u001b[0m\u001b[0mminimum_epsilon\u001b[0m\u001b[0;34m=\u001b[0m\u001b[0;36m0.1\u001b[0m\u001b[0;34m,\u001b[0m \u001b[0mmax_nr_populations\u001b[0m\u001b[0;34m=\u001b[0m\u001b[0;36m60\u001b[0m\u001b[0;34m)\u001b[0m\u001b[0;34m\u001b[0m\u001b[0m\n\u001b[0m",
      "\u001b[0;32m~/anaconda3/lib/python3.7/site-packages/pyabc/smc.py\u001b[0m in \u001b[0;36mrun\u001b[0;34m(self, minimum_epsilon, max_nr_populations, min_acceptance_rate, **kwargs)\u001b[0m\n\u001b[1;32m    792\u001b[0m             \u001b[0;31m# perform the sampling\u001b[0m\u001b[0;34m\u001b[0m\u001b[0;34m\u001b[0m\u001b[0m\n\u001b[1;32m    793\u001b[0m             sample = self.sampler.sample_until_n_accepted(\n\u001b[0;32m--> 794\u001b[0;31m                 self.population_strategy.nr_particles, simulate_one)\n\u001b[0m\u001b[1;32m    795\u001b[0m \u001b[0;34m\u001b[0m\u001b[0m\n\u001b[1;32m    796\u001b[0m             \u001b[0;31m# retrieve accepted population\u001b[0m\u001b[0;34m\u001b[0m\u001b[0;34m\u001b[0m\u001b[0m\n",
      "\u001b[0;32m~/anaconda3/lib/python3.7/site-packages/pyabc/sampler/multicore_evaluation_parallel.py\u001b[0m in \u001b[0;36msample_until_n_accepted\u001b[0;34m(self, n, simulate_one)\u001b[0m\n\u001b[1;32m    109\u001b[0m         \u001b[0mn_done\u001b[0m \u001b[0;34m=\u001b[0m \u001b[0;36m0\u001b[0m\u001b[0;34m\u001b[0m\u001b[0m\n\u001b[1;32m    110\u001b[0m         \u001b[0;32mwhile\u001b[0m \u001b[0mn_done\u001b[0m \u001b[0;34m<\u001b[0m \u001b[0mlen\u001b[0m\u001b[0;34m(\u001b[0m\u001b[0mprocesses\u001b[0m\u001b[0;34m)\u001b[0m\u001b[0;34m:\u001b[0m\u001b[0;34m\u001b[0m\u001b[0m\n\u001b[0;32m--> 111\u001b[0;31m             \u001b[0mval\u001b[0m \u001b[0;34m=\u001b[0m \u001b[0mget_if_worker_healthy\u001b[0m\u001b[0;34m(\u001b[0m\u001b[0mprocesses\u001b[0m\u001b[0;34m,\u001b[0m \u001b[0mqueue\u001b[0m\u001b[0;34m)\u001b[0m\u001b[0;34m\u001b[0m\u001b[0m\n\u001b[0m\u001b[1;32m    112\u001b[0m             \u001b[0;32mif\u001b[0m \u001b[0mval\u001b[0m \u001b[0;34m==\u001b[0m \u001b[0mDONE\u001b[0m\u001b[0;34m:\u001b[0m\u001b[0;34m\u001b[0m\u001b[0m\n\u001b[1;32m    113\u001b[0m                 \u001b[0mn_done\u001b[0m \u001b[0;34m+=\u001b[0m \u001b[0;36m1\u001b[0m\u001b[0;34m\u001b[0m\u001b[0m\n",
      "\u001b[0;32m~/anaconda3/lib/python3.7/site-packages/pyabc/sampler/multicorebase.py\u001b[0m in \u001b[0;36mget_if_worker_healthy\u001b[0;34m(workers, queue)\u001b[0m\n\u001b[1;32m     51\u001b[0m     \u001b[0;32mwhile\u001b[0m \u001b[0;32mTrue\u001b[0m\u001b[0;34m:\u001b[0m\u001b[0;34m\u001b[0m\u001b[0m\n\u001b[1;32m     52\u001b[0m         \u001b[0;32mtry\u001b[0m\u001b[0;34m:\u001b[0m\u001b[0;34m\u001b[0m\u001b[0m\n\u001b[0;32m---> 53\u001b[0;31m             \u001b[0mitem\u001b[0m \u001b[0;34m=\u001b[0m \u001b[0mqueue\u001b[0m\u001b[0;34m.\u001b[0m\u001b[0mget\u001b[0m\u001b[0;34m(\u001b[0m\u001b[0;32mTrue\u001b[0m\u001b[0;34m,\u001b[0m \u001b[0;36m5\u001b[0m\u001b[0;34m)\u001b[0m\u001b[0;34m\u001b[0m\u001b[0m\n\u001b[0m\u001b[1;32m     54\u001b[0m             \u001b[0;32mreturn\u001b[0m \u001b[0mitem\u001b[0m\u001b[0;34m\u001b[0m\u001b[0m\n\u001b[1;32m     55\u001b[0m         \u001b[0;32mexcept\u001b[0m \u001b[0mEmpty\u001b[0m\u001b[0;34m:\u001b[0m\u001b[0;34m\u001b[0m\u001b[0m\n",
      "\u001b[0;32m~/anaconda3/lib/python3.7/multiprocessing/queues.py\u001b[0m in \u001b[0;36mget\u001b[0;34m(self, block, timeout)\u001b[0m\n\u001b[1;32m    102\u001b[0m                 \u001b[0;32mif\u001b[0m \u001b[0mblock\u001b[0m\u001b[0;34m:\u001b[0m\u001b[0;34m\u001b[0m\u001b[0m\n\u001b[1;32m    103\u001b[0m                     \u001b[0mtimeout\u001b[0m \u001b[0;34m=\u001b[0m \u001b[0mdeadline\u001b[0m \u001b[0;34m-\u001b[0m \u001b[0mtime\u001b[0m\u001b[0;34m.\u001b[0m\u001b[0mtime\u001b[0m\u001b[0;34m(\u001b[0m\u001b[0;34m)\u001b[0m\u001b[0;34m\u001b[0m\u001b[0m\n\u001b[0;32m--> 104\u001b[0;31m                     \u001b[0;32mif\u001b[0m \u001b[0;32mnot\u001b[0m \u001b[0mself\u001b[0m\u001b[0;34m.\u001b[0m\u001b[0m_poll\u001b[0m\u001b[0;34m(\u001b[0m\u001b[0mtimeout\u001b[0m\u001b[0;34m)\u001b[0m\u001b[0;34m:\u001b[0m\u001b[0;34m\u001b[0m\u001b[0m\n\u001b[0m\u001b[1;32m    105\u001b[0m                         \u001b[0;32mraise\u001b[0m \u001b[0mEmpty\u001b[0m\u001b[0;34m\u001b[0m\u001b[0m\n\u001b[1;32m    106\u001b[0m                 \u001b[0;32melif\u001b[0m \u001b[0;32mnot\u001b[0m \u001b[0mself\u001b[0m\u001b[0;34m.\u001b[0m\u001b[0m_poll\u001b[0m\u001b[0;34m(\u001b[0m\u001b[0;34m)\u001b[0m\u001b[0;34m:\u001b[0m\u001b[0;34m\u001b[0m\u001b[0m\n",
      "\u001b[0;32m~/anaconda3/lib/python3.7/multiprocessing/connection.py\u001b[0m in \u001b[0;36mpoll\u001b[0;34m(self, timeout)\u001b[0m\n\u001b[1;32m    255\u001b[0m         \u001b[0mself\u001b[0m\u001b[0;34m.\u001b[0m\u001b[0m_check_closed\u001b[0m\u001b[0;34m(\u001b[0m\u001b[0;34m)\u001b[0m\u001b[0;34m\u001b[0m\u001b[0m\n\u001b[1;32m    256\u001b[0m         \u001b[0mself\u001b[0m\u001b[0;34m.\u001b[0m\u001b[0m_check_readable\u001b[0m\u001b[0;34m(\u001b[0m\u001b[0;34m)\u001b[0m\u001b[0;34m\u001b[0m\u001b[0m\n\u001b[0;32m--> 257\u001b[0;31m         \u001b[0;32mreturn\u001b[0m \u001b[0mself\u001b[0m\u001b[0;34m.\u001b[0m\u001b[0m_poll\u001b[0m\u001b[0;34m(\u001b[0m\u001b[0mtimeout\u001b[0m\u001b[0;34m)\u001b[0m\u001b[0;34m\u001b[0m\u001b[0m\n\u001b[0m\u001b[1;32m    258\u001b[0m \u001b[0;34m\u001b[0m\u001b[0m\n\u001b[1;32m    259\u001b[0m     \u001b[0;32mdef\u001b[0m \u001b[0m__enter__\u001b[0m\u001b[0;34m(\u001b[0m\u001b[0mself\u001b[0m\u001b[0;34m)\u001b[0m\u001b[0;34m:\u001b[0m\u001b[0;34m\u001b[0m\u001b[0m\n",
      "\u001b[0;32m~/anaconda3/lib/python3.7/multiprocessing/connection.py\u001b[0m in \u001b[0;36m_poll\u001b[0;34m(self, timeout)\u001b[0m\n\u001b[1;32m    412\u001b[0m \u001b[0;34m\u001b[0m\u001b[0m\n\u001b[1;32m    413\u001b[0m     \u001b[0;32mdef\u001b[0m \u001b[0m_poll\u001b[0m\u001b[0;34m(\u001b[0m\u001b[0mself\u001b[0m\u001b[0;34m,\u001b[0m \u001b[0mtimeout\u001b[0m\u001b[0;34m)\u001b[0m\u001b[0;34m:\u001b[0m\u001b[0;34m\u001b[0m\u001b[0m\n\u001b[0;32m--> 414\u001b[0;31m         \u001b[0mr\u001b[0m \u001b[0;34m=\u001b[0m \u001b[0mwait\u001b[0m\u001b[0;34m(\u001b[0m\u001b[0;34m[\u001b[0m\u001b[0mself\u001b[0m\u001b[0;34m]\u001b[0m\u001b[0;34m,\u001b[0m \u001b[0mtimeout\u001b[0m\u001b[0;34m)\u001b[0m\u001b[0;34m\u001b[0m\u001b[0m\n\u001b[0m\u001b[1;32m    415\u001b[0m         \u001b[0;32mreturn\u001b[0m \u001b[0mbool\u001b[0m\u001b[0;34m(\u001b[0m\u001b[0mr\u001b[0m\u001b[0;34m)\u001b[0m\u001b[0;34m\u001b[0m\u001b[0m\n\u001b[1;32m    416\u001b[0m \u001b[0;34m\u001b[0m\u001b[0m\n",
      "\u001b[0;32m~/anaconda3/lib/python3.7/multiprocessing/connection.py\u001b[0m in \u001b[0;36mwait\u001b[0;34m(object_list, timeout)\u001b[0m\n\u001b[1;32m    918\u001b[0m \u001b[0;34m\u001b[0m\u001b[0m\n\u001b[1;32m    919\u001b[0m             \u001b[0;32mwhile\u001b[0m \u001b[0;32mTrue\u001b[0m\u001b[0;34m:\u001b[0m\u001b[0;34m\u001b[0m\u001b[0m\n\u001b[0;32m--> 920\u001b[0;31m                 \u001b[0mready\u001b[0m \u001b[0;34m=\u001b[0m \u001b[0mselector\u001b[0m\u001b[0;34m.\u001b[0m\u001b[0mselect\u001b[0m\u001b[0;34m(\u001b[0m\u001b[0mtimeout\u001b[0m\u001b[0;34m)\u001b[0m\u001b[0;34m\u001b[0m\u001b[0m\n\u001b[0m\u001b[1;32m    921\u001b[0m                 \u001b[0;32mif\u001b[0m \u001b[0mready\u001b[0m\u001b[0;34m:\u001b[0m\u001b[0;34m\u001b[0m\u001b[0m\n\u001b[1;32m    922\u001b[0m                     \u001b[0;32mreturn\u001b[0m \u001b[0;34m[\u001b[0m\u001b[0mkey\u001b[0m\u001b[0;34m.\u001b[0m\u001b[0mfileobj\u001b[0m \u001b[0;32mfor\u001b[0m \u001b[0;34m(\u001b[0m\u001b[0mkey\u001b[0m\u001b[0;34m,\u001b[0m \u001b[0mevents\u001b[0m\u001b[0;34m)\u001b[0m \u001b[0;32min\u001b[0m \u001b[0mready\u001b[0m\u001b[0;34m]\u001b[0m\u001b[0;34m\u001b[0m\u001b[0m\n",
      "\u001b[0;32m~/anaconda3/lib/python3.7/selectors.py\u001b[0m in \u001b[0;36mselect\u001b[0;34m(self, timeout)\u001b[0m\n\u001b[1;32m    413\u001b[0m         \u001b[0mready\u001b[0m \u001b[0;34m=\u001b[0m \u001b[0;34m[\u001b[0m\u001b[0;34m]\u001b[0m\u001b[0;34m\u001b[0m\u001b[0m\n\u001b[1;32m    414\u001b[0m         \u001b[0;32mtry\u001b[0m\u001b[0;34m:\u001b[0m\u001b[0;34m\u001b[0m\u001b[0m\n\u001b[0;32m--> 415\u001b[0;31m             \u001b[0mfd_event_list\u001b[0m \u001b[0;34m=\u001b[0m \u001b[0mself\u001b[0m\u001b[0;34m.\u001b[0m\u001b[0m_selector\u001b[0m\u001b[0;34m.\u001b[0m\u001b[0mpoll\u001b[0m\u001b[0;34m(\u001b[0m\u001b[0mtimeout\u001b[0m\u001b[0;34m)\u001b[0m\u001b[0;34m\u001b[0m\u001b[0m\n\u001b[0m\u001b[1;32m    416\u001b[0m         \u001b[0;32mexcept\u001b[0m \u001b[0mInterruptedError\u001b[0m\u001b[0;34m:\u001b[0m\u001b[0;34m\u001b[0m\u001b[0m\n\u001b[1;32m    417\u001b[0m             \u001b[0;32mreturn\u001b[0m \u001b[0mready\u001b[0m\u001b[0;34m\u001b[0m\u001b[0m\n",
      "\u001b[0;31mKeyboardInterrupt\u001b[0m: "
     ]
    },
    {
     "name": "stderr",
     "output_type": "stream",
     "text": [
      "  File \"/home/t/Documents/diss/CompiledApproach/Probability_Based_App/App/Models/Turtle.py\", line 20, in Roll\n",
      "    self.heading = rotations.do_rot(self.heading, axis_label, theta)\n",
      "  File \"/home/t/Documents/diss/CompiledApproach/Probability_Based_App/App/Models/rotations.py\", line 62, in do_rot\n",
      "    R = r_z(theta_rad)\n",
      "  File \"/home/t/Documents/diss/CompiledApproach/Probability_Based_App/App/Models/rotations.py\", line 54, in r_z\n",
      "    0,0,1\n",
      "KeyboardInterrupt\n"
     ]
    }
   ],
   "source": [
    "history = abc.run(minimum_epsilon=0.1, max_nr_populations=60)"
   ]
  },
  {
   "cell_type": "code",
   "execution_count": 1,
   "metadata": {},
   "outputs": [
    {
     "ename": "NameError",
     "evalue": "name 'metrics' is not defined",
     "output_type": "error",
     "traceback": [
      "\u001b[0;31m---------------------------------------------------------------------------\u001b[0m",
      "\u001b[0;31mNameError\u001b[0m                                 Traceback (most recent call last)",
      "\u001b[0;32m<ipython-input-1-8d33fe16e950>\u001b[0m in \u001b[0;36m<module>\u001b[0;34m()\u001b[0m\n\u001b[1;32m      1\u001b[0m \u001b[0;31m# Visualise results\u001b[0m\u001b[0;34m\u001b[0m\u001b[0;34m\u001b[0m\u001b[0m\n\u001b[1;32m      2\u001b[0m \u001b[0;32mfrom\u001b[0m \u001b[0mpyabc\u001b[0m\u001b[0;34m.\u001b[0m\u001b[0mvisualization\u001b[0m \u001b[0;32mimport\u001b[0m \u001b[0mplot_kde_1d\u001b[0m\u001b[0;34m\u001b[0m\u001b[0m\n\u001b[0;32m----> 3\u001b[0;31m \u001b[0;32mfor\u001b[0m \u001b[0;34m(\u001b[0m\u001b[0mk\u001b[0m\u001b[0;34m,\u001b[0m\u001b[0mv\u001b[0m\u001b[0;34m)\u001b[0m \u001b[0;32min\u001b[0m \u001b[0mmetrics\u001b[0m\u001b[0;34m.\u001b[0m\u001b[0mitems\u001b[0m\u001b[0;34m(\u001b[0m\u001b[0;34m)\u001b[0m\u001b[0;34m:\u001b[0m\u001b[0;34m\u001b[0m\u001b[0m\n\u001b[0m\u001b[1;32m      4\u001b[0m     \u001b[0mfig\u001b[0m\u001b[0;34m,\u001b[0m \u001b[0max\u001b[0m \u001b[0;34m=\u001b[0m \u001b[0mplt\u001b[0m\u001b[0;34m.\u001b[0m\u001b[0msubplots\u001b[0m\u001b[0;34m(\u001b[0m\u001b[0;34m)\u001b[0m\u001b[0;34m\u001b[0m\u001b[0m\n\u001b[1;32m      5\u001b[0m     \u001b[0;32mfor\u001b[0m \u001b[0mt\u001b[0m \u001b[0;32min\u001b[0m \u001b[0mrange\u001b[0m\u001b[0;34m(\u001b[0m\u001b[0mhistory\u001b[0m\u001b[0;34m.\u001b[0m\u001b[0mmax_t\u001b[0m\u001b[0;34m,\u001b[0m \u001b[0mhistory\u001b[0m\u001b[0;34m.\u001b[0m\u001b[0mmax_t\u001b[0m\u001b[0;34m+\u001b[0m\u001b[0;36m1\u001b[0m\u001b[0;34m)\u001b[0m\u001b[0;34m:\u001b[0m\u001b[0;34m\u001b[0m\u001b[0m\n",
      "\u001b[0;31mNameError\u001b[0m: name 'metrics' is not defined"
     ]
    }
   ],
   "source": [
    "# Visualise results\n",
    "from pyabc.visualization import plot_kde_1d\n",
    "for (k,v) in metrics.items():\n",
    "    fig, ax = plt.subplots()\n",
    "    for t in range(history.max_t, history.max_t+1):\n",
    "        df, w = history.get_distribution(m=0, t=t)\n",
    "        plot_kde_1d(df, w,\n",
    "                    xmin=v[0], xmax=v[1],\n",
    "                    x=k, ax=ax,\n",
    "                    label=\"PDF t={}\".format(t))\n",
    "    ax.legend();"
   ]
  }
 ],
 "metadata": {
  "kernelspec": {
   "display_name": "Python 3",
   "language": "python",
   "name": "python3"
  },
  "language_info": {
   "codemirror_mode": {
    "name": "ipython",
    "version": 3
   },
   "file_extension": ".py",
   "mimetype": "text/x-python",
   "name": "python",
   "nbconvert_exporter": "python",
   "pygments_lexer": "ipython3",
   "version": "3.7.0"
  }
 },
 "nbformat": 4,
 "nbformat_minor": 2
}
