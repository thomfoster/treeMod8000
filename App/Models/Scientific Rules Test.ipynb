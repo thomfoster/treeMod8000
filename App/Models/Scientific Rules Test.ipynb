{
 "cells": [
  {
   "cell_type": "code",
   "execution_count": 1,
   "metadata": {},
   "outputs": [],
   "source": [
    "import Main\n",
    "from Analyser import *"
   ]
  },
  {
   "cell_type": "code",
   "execution_count": 2,
   "metadata": {},
   "outputs": [],
   "source": [
    "modelName = 'Ruler2'"
   ]
  },
  {
   "cell_type": "code",
   "execution_count": 3,
   "metadata": {},
   "outputs": [],
   "source": [
    "# Some PyABC magic to get our set of parameters\n",
    "from pyabc import (ABCSMC, Distribution, RV, MultivariateNormalTransition)\n",
    "import scipy as sp\n",
    "import scipy.stats as st\n",
    "import tempfile\n",
    "import os\n",
    "import pandas as pd\n",
    "import matplotlib.pyplot as plt"
   ]
  },
  {
   "cell_type": "code",
   "execution_count": 4,
   "metadata": {},
   "outputs": [],
   "source": [
    "def model(params):\n",
    "    return Main.generate_and_analyse(modelName, params)"
   ]
  },
  {
   "cell_type": "code",
   "execution_count": 5,
   "metadata": {},
   "outputs": [],
   "source": [
    "def sigfigs(n):\n",
    "    print('%.2f'%n,end='')"
   ]
  },
  {
   "cell_type": "code",
   "execution_count": 6,
   "metadata": {},
   "outputs": [
    {
     "name": "stdout",
     "output_type": "stream",
     "text": [
      "1.001.00"
     ]
    }
   ],
   "source": [
    "sigfigs(1.005)\n",
    "sigfigs(1.005)"
   ]
  },
  {
   "cell_type": "code",
   "execution_count": 7,
   "metadata": {},
   "outputs": [],
   "source": [
    "deref = {\n",
    "    'rule_1_0' : 1,\n",
    "    'rule_1_1' : 0,\n",
    "}\n",
    "deref_metrics = Main.generate_and_analyse(\"Ruler2\",deref)"
   ]
  },
  {
   "cell_type": "code",
   "execution_count": 40,
   "metadata": {},
   "outputs": [],
   "source": [
    "three_prong = {\n",
    "    'rule_1_0' : 0,\n",
    "    'rule_1_1' : 1,\n",
    "    'general_thickness': 0.39,\n",
    "    'section_1_h' : 21\n",
    "}\n",
    "three_prong_metrics = Main.generate_and_analyse(\"Ruler2\",three_prong)"
   ]
  },
  {
   "cell_type": "code",
   "execution_count": 42,
   "metadata": {},
   "outputs": [
    {
     "name": "stdout",
     "output_type": "stream",
     "text": [
      "parentAngle_mean              \t23.96\t19.95\t4.02\n",
      "parentAngle_variance          \t19.60\t1.05\t18.56\n",
      "length_mean                   \t3.98\t7.44\t-3.47\n",
      "length_variance               \t1.17\t2.09\t-0.92\n",
      "verticalOrientation_mean      \t66.62\t36.33\t30.29\n",
      "verticalOrientation_variance  \t32.99\t18.24\t14.75\n",
      "horizontalOrientation_mean    \t165.18\t183.70\t-18.52\n",
      "horizontalOrientation_variance\t101.90\t109.21\t-7.31\n",
      "q1_xyz                        \t(30.48,25.47,35.73,)\t(0.78,21.76,0.78,)\t(29.70,3.71,34.95,)\n",
      "q2_xyz                        \t(87.92,25.35,105.99,)\t(26.01,12.47,20.45,)\t(61.90,12.88,85.55,)\n",
      "q3_xyz                        \t(89.10,27.17,90.28,)\t(68.10,26.87,60.42,)\t(21.00,0.30,29.86,)\n",
      "xyz                           \t(92.49,77.42,105.99,)\t(68.10,76.98,60.42,)\t(24.38,0.45,45.57,)\n",
      "trunk_length                  \t10.00\t21.00\t-11.00\n",
      "totalBiomass                  \t791.45\t798.65\t-7.20\n"
     ]
    }
   ],
   "source": [
    "for (k,v) in deref_metrics.items():\n",
    "    v2 = three_prong_metrics[k]\n",
    "    if k[-3:] != 'xyz':\n",
    "        diff = v - v2\n",
    "        print(k.ljust(30) + '\\t',end='')\n",
    "        sigfigs(v)\n",
    "        print('\\t',end='')\n",
    "        sigfigs(v2)\n",
    "        print('\\t',end='')\n",
    "        sigfigs(diff)\n",
    "        print()\n",
    "    else:\n",
    "        diff = (v[0]-v2[0],v[1]-v2[1],v[2]-v2[2])\n",
    "        print(k.ljust(30) + '\\t',end='')\n",
    "        \n",
    "        print('(',end='')\n",
    "        for i in range(3):\n",
    "            sigfigs(v[i])\n",
    "            print(',',end='')\n",
    "        print(')',end='')\n",
    "        \n",
    "        print('\\t',end='')\n",
    "        \n",
    "        print('(',end='')\n",
    "        for i in range(3):\n",
    "            sigfigs(v2[i])\n",
    "            print(',',end='')\n",
    "        print(')',end='')\n",
    "        \n",
    "        print('\\t',end='')\n",
    "        \n",
    "        print('(',end='')\n",
    "        for i in range(3):\n",
    "            sigfigs(diff[i])\n",
    "            print(',',end='')\n",
    "        print(')',end='')   \n",
    "        \n",
    "        print()"
   ]
  },
  {
   "cell_type": "code",
   "execution_count": 47,
   "metadata": {},
   "outputs": [],
   "source": [
    "# We have two models that are similar in every regard other than their branching structure\n",
    "# We want to try and infer the rule probabilities\n",
    "# We first normalise the height and biomass produced by changing the thickness and growth height of the two models, since without doing this the optimizer would just pick the rule that produced biomass as opposed to picking the rule that best fit structure"
   ]
  },
  {
   "cell_type": "code",
   "execution_count": 59,
   "metadata": {},
   "outputs": [],
   "source": [
    "metrics = {\n",
    "    'general_thickness': (0.35, 0.55),\n",
    "    'section_1_h' : (5, 30),\n",
    "    'rule_1_0': (0,1),\n",
    "    'rule_1_1': (0,1),\n",
    "}"
   ]
  },
  {
   "cell_type": "code",
   "execution_count": 60,
   "metadata": {},
   "outputs": [],
   "source": [
    "prior = Distribution(rule_1_0            =RV(\"uniform\", 0, 1),\n",
    "                     rule_1_1            =RV(\"uniform\", 0, 1),\n",
    "                     general_thickness   =RV(\"uniform\", 0.35, 0.55),\n",
    "                     section_1_h         =RV(\"uniform\", 5, 30),\n",
    "                    )"
   ]
  },
  {
   "cell_type": "code",
   "execution_count": 61,
   "metadata": {},
   "outputs": [],
   "source": [
    "target_metrics = Main.generate_and_analyse('rules_test_1', {})"
   ]
  },
  {
   "cell_type": "code",
   "execution_count": 9,
   "metadata": {},
   "outputs": [],
   "source": [
    "abc = ABCSMC(model, prior, distance)"
   ]
  },
  {
   "cell_type": "code",
   "execution_count": 10,
   "metadata": {},
   "outputs": [],
   "source": [
    "db_path = (\"sqlite:///\" + os.path.join(tempfile.gettempdir(), \"test.db\"))"
   ]
  },
  {
   "cell_type": "code",
   "execution_count": 11,
   "metadata": {},
   "outputs": [],
   "source": []
  },
  {
   "cell_type": "code",
   "execution_count": 12,
   "metadata": {},
   "outputs": [
    {
     "name": "stderr",
     "output_type": "stream",
     "text": [
      "INFO:History:Start <ABCSMC(id=6, start_time=2019-04-16 10:32:56.912896, end_time=None)>\n",
      "Process Process-1:\n",
      "Process Process-2:\n",
      "Traceback (most recent call last):\n",
      "  File \"/home/t/anaconda3/lib/python3.7/multiprocessing/process.py\", line 297, in _bootstrap\n",
      "    self.run()\n",
      "  File \"/home/t/anaconda3/lib/python3.7/multiprocessing/process.py\", line 99, in run\n",
      "    self._target(*self._args, **self._kwargs)\n",
      "Traceback (most recent call last):\n",
      "Process Process-3:\n",
      "  File \"/home/t/anaconda3/lib/python3.7/site-packages/pyabc/sampler/multicore_evaluation_parallel.py\", line 24, in work\n",
      "    new_sim = simulate_one()\n",
      "  File \"/home/t/anaconda3/lib/python3.7/multiprocessing/process.py\", line 297, in _bootstrap\n",
      "    self.run()\n",
      "  File \"/home/t/anaconda3/lib/python3.7/site-packages/pyabc/smc.py\", line 453, in simulate_one\n",
      "    t, theta, summary_statistics)\n",
      "Traceback (most recent call last):\n",
      "Process Process-4:\n",
      "  File \"/home/t/anaconda3/lib/python3.7/site-packages/pyabc/model.py\", line 116, in summary_statistics\n",
      "    raw_data = self.sample(pars)\n",
      "  File \"/home/t/anaconda3/lib/python3.7/multiprocessing/process.py\", line 99, in run\n",
      "    self._target(*self._args, **self._kwargs)\n",
      "  File \"/home/t/anaconda3/lib/python3.7/multiprocessing/process.py\", line 297, in _bootstrap\n",
      "    self.run()\n",
      "Traceback (most recent call last):\n",
      "  File \"/home/t/anaconda3/lib/python3.7/multiprocessing/process.py\", line 297, in _bootstrap\n",
      "    self.run()\n",
      "  File \"/home/t/anaconda3/lib/python3.7/site-packages/pyabc/model.py\", line 261, in sample\n",
      "    return self.sample_function(pars)\n",
      "  File \"/home/t/anaconda3/lib/python3.7/multiprocessing/process.py\", line 99, in run\n",
      "    self._target(*self._args, **self._kwargs)\n",
      "  File \"/home/t/anaconda3/lib/python3.7/site-packages/pyabc/sampler/multicore_evaluation_parallel.py\", line 24, in work\n",
      "    new_sim = simulate_one()\n",
      "  File \"<ipython-input-4-fe8d3e4dfdf6>\", line 2, in model\n",
      "    return Main.generate_and_analyse(modelName, params)\n",
      "Process Process-5:\n",
      "  File \"/home/t/anaconda3/lib/python3.7/multiprocessing/process.py\", line 99, in run\n",
      "    self._target(*self._args, **self._kwargs)\n",
      "  File \"/home/t/anaconda3/lib/python3.7/site-packages/pyabc/sampler/multicore_evaluation_parallel.py\", line 24, in work\n",
      "    new_sim = simulate_one()\n",
      "  File \"/home/t/anaconda3/lib/python3.7/site-packages/pyabc/smc.py\", line 453, in simulate_one\n",
      "    t, theta, summary_statistics)\n",
      "  File \"/home/t/anaconda3/lib/python3.7/site-packages/pyabc/sampler/multicore_evaluation_parallel.py\", line 24, in work\n",
      "    new_sim = simulate_one()\n",
      "  File \"/home/t/anaconda3/lib/python3.7/site-packages/pyabc/model.py\", line 116, in summary_statistics\n",
      "    raw_data = self.sample(pars)\n",
      "  File \"/home/t/anaconda3/lib/python3.7/site-packages/pyabc/smc.py\", line 453, in simulate_one\n",
      "    t, theta, summary_statistics)\n",
      "  File \"/home/t/anaconda3/lib/python3.7/site-packages/pyabc/smc.py\", line 453, in simulate_one\n",
      "    t, theta, summary_statistics)\n",
      "  File \"/home/t/anaconda3/lib/python3.7/site-packages/pyabc/model.py\", line 261, in sample\n",
      "    return self.sample_function(pars)\n",
      "  File \"/home/t/anaconda3/lib/python3.7/site-packages/pyabc/model.py\", line 116, in summary_statistics\n",
      "    raw_data = self.sample(pars)\n",
      "  File \"/home/t/Documents/diss/CompiledApproach/treeMod8000/App/Models/Main.py\", line 107, in generate_and_analyse\n",
      "    tree_data = generate_model(filename, overrideParams, return_analysis=True)\n",
      "Traceback (most recent call last):\n",
      "  File \"/home/t/anaconda3/lib/python3.7/site-packages/pyabc/model.py\", line 116, in summary_statistics\n",
      "    raw_data = self.sample(pars)\n",
      "  File \"/home/t/anaconda3/lib/python3.7/site-packages/pyabc/model.py\", line 261, in sample\n",
      "    return self.sample_function(pars)\n",
      "  File \"<ipython-input-4-fe8d3e4dfdf6>\", line 2, in model\n",
      "    return Main.generate_and_analyse(modelName, params)\n",
      "  File \"/home/t/Documents/diss/CompiledApproach/treeMod8000/App/Models/Main.py\", line 107, in generate_and_analyse\n",
      "    tree_data = generate_model(filename, overrideParams, return_analysis=True)\n",
      "  File \"<ipython-input-4-fe8d3e4dfdf6>\", line 2, in model\n",
      "    return Main.generate_and_analyse(modelName, params)\n",
      "  File \"/home/t/anaconda3/lib/python3.7/site-packages/pyabc/model.py\", line 261, in sample\n",
      "    return self.sample_function(pars)\n",
      "Process Process-6:\n",
      "  File \"/home/t/Documents/diss/CompiledApproach/treeMod8000/App/Models/Main.py\", line 6, in generate_model\n",
      "    Specification   = Parser.parse('Specifications/'+filename+'.txt', overrideParams)\n",
      "  File \"/home/t/anaconda3/lib/python3.7/multiprocessing/process.py\", line 297, in _bootstrap\n",
      "    self.run()\n",
      "  File \"<ipython-input-4-fe8d3e4dfdf6>\", line 2, in model\n",
      "    return Main.generate_and_analyse(modelName, params)\n",
      "  File \"/home/t/Documents/diss/CompiledApproach/treeMod8000/App/Models/Main.py\", line 6, in generate_model\n",
      "    Specification   = Parser.parse('Specifications/'+filename+'.txt', overrideParams)\n",
      "  File \"/home/t/Documents/diss/CompiledApproach/treeMod8000/App/Models/Parser.py\", line 208, in parse\n",
      "    Specification['sections'][agent]['rules'][int(id)][1] = [v]\n",
      "Traceback (most recent call last):\n",
      "  File \"/home/t/Documents/diss/CompiledApproach/treeMod8000/App/Models/Main.py\", line 107, in generate_and_analyse\n",
      "    tree_data = generate_model(filename, overrideParams, return_analysis=True)\n",
      "  File \"/home/t/anaconda3/lib/python3.7/multiprocessing/process.py\", line 99, in run\n",
      "    self._target(*self._args, **self._kwargs)\n",
      "  File \"/home/t/Documents/diss/CompiledApproach/treeMod8000/App/Models/Main.py\", line 107, in generate_and_analyse\n",
      "    tree_data = generate_model(filename, overrideParams, return_analysis=True)\n",
      "IndexError: list index out of range\n",
      "  File \"/home/t/Documents/diss/CompiledApproach/treeMod8000/App/Models/Main.py\", line 6, in generate_model\n",
      "    Specification   = Parser.parse('Specifications/'+filename+'.txt', overrideParams)\n",
      "  File \"/home/t/Documents/diss/CompiledApproach/treeMod8000/App/Models/Main.py\", line 6, in generate_model\n",
      "    Specification   = Parser.parse('Specifications/'+filename+'.txt', overrideParams)\n",
      "  File \"/home/t/Documents/diss/CompiledApproach/treeMod8000/App/Models/Parser.py\", line 208, in parse\n",
      "    Specification['sections'][agent]['rules'][int(id)][1] = [v]\n",
      "  File \"/home/t/anaconda3/lib/python3.7/site-packages/pyabc/sampler/multicore_evaluation_parallel.py\", line 24, in work\n",
      "    new_sim = simulate_one()\n",
      "  File \"/home/t/Documents/diss/CompiledApproach/treeMod8000/App/Models/Parser.py\", line 208, in parse\n",
      "    Specification['sections'][agent]['rules'][int(id)][1] = [v]\n",
      "  File \"/home/t/anaconda3/lib/python3.7/multiprocessing/process.py\", line 297, in _bootstrap\n",
      "    self.run()\n",
      "  File \"/home/t/Documents/diss/CompiledApproach/treeMod8000/App/Models/Parser.py\", line 208, in parse\n",
      "    Specification['sections'][agent]['rules'][int(id)][1] = [v]\n",
      "  File \"/home/t/anaconda3/lib/python3.7/multiprocessing/process.py\", line 99, in run\n",
      "    self._target(*self._args, **self._kwargs)\n",
      "  File \"/home/t/anaconda3/lib/python3.7/site-packages/pyabc/smc.py\", line 453, in simulate_one\n",
      "    t, theta, summary_statistics)\n",
      "IndexError: list index out of range\n",
      "IndexError: list index out of range\n",
      "  File \"/home/t/anaconda3/lib/python3.7/site-packages/pyabc/sampler/multicore_evaluation_parallel.py\", line 24, in work\n",
      "    new_sim = simulate_one()\n",
      "IndexError: list index out of range\n",
      "  File \"/home/t/anaconda3/lib/python3.7/site-packages/pyabc/model.py\", line 116, in summary_statistics\n",
      "    raw_data = self.sample(pars)\n",
      "  File \"/home/t/anaconda3/lib/python3.7/site-packages/pyabc/model.py\", line 261, in sample\n",
      "    return self.sample_function(pars)\n",
      "  File \"<ipython-input-4-fe8d3e4dfdf6>\", line 2, in model\n",
      "    return Main.generate_and_analyse(modelName, params)\n",
      "  File \"/home/t/Documents/diss/CompiledApproach/treeMod8000/App/Models/Main.py\", line 107, in generate_and_analyse\n",
      "    tree_data = generate_model(filename, overrideParams, return_analysis=True)\n",
      "  File \"/home/t/Documents/diss/CompiledApproach/treeMod8000/App/Models/Main.py\", line 6, in generate_model\n",
      "    Specification   = Parser.parse('Specifications/'+filename+'.txt', overrideParams)\n",
      "  File \"/home/t/Documents/diss/CompiledApproach/treeMod8000/App/Models/Parser.py\", line 208, in parse\n",
      "    Specification['sections'][agent]['rules'][int(id)][1] = [v]\n",
      "  File \"/home/t/anaconda3/lib/python3.7/site-packages/pyabc/smc.py\", line 453, in simulate_one\n",
      "    t, theta, summary_statistics)\n"
     ]
    },
    {
     "name": "stderr",
     "output_type": "stream",
     "text": [
      "  File \"/home/t/anaconda3/lib/python3.7/site-packages/pyabc/model.py\", line 116, in summary_statistics\n",
      "    raw_data = self.sample(pars)\n",
      "IndexError: list index out of range\n",
      "  File \"/home/t/anaconda3/lib/python3.7/site-packages/pyabc/model.py\", line 261, in sample\n",
      "    return self.sample_function(pars)\n",
      "  File \"<ipython-input-4-fe8d3e4dfdf6>\", line 2, in model\n",
      "    return Main.generate_and_analyse(modelName, params)\n",
      "  File \"/home/t/Documents/diss/CompiledApproach/treeMod8000/App/Models/Main.py\", line 107, in generate_and_analyse\n",
      "    tree_data = generate_model(filename, overrideParams, return_analysis=True)\n",
      "  File \"/home/t/Documents/diss/CompiledApproach/treeMod8000/App/Models/Main.py\", line 6, in generate_model\n",
      "    Specification   = Parser.parse('Specifications/'+filename+'.txt', overrideParams)\n",
      "  File \"/home/t/Documents/diss/CompiledApproach/treeMod8000/App/Models/Parser.py\", line 208, in parse\n",
      "    Specification['sections'][agent]['rules'][int(id)][1] = [v]\n",
      "IndexError: list index out of range\n",
      "Process Process-7:\n",
      "Traceback (most recent call last):\n",
      "  File \"/home/t/anaconda3/lib/python3.7/multiprocessing/process.py\", line 297, in _bootstrap\n",
      "    self.run()\n",
      "  File \"/home/t/anaconda3/lib/python3.7/multiprocessing/process.py\", line 99, in run\n",
      "    self._target(*self._args, **self._kwargs)\n",
      "  File \"/home/t/anaconda3/lib/python3.7/site-packages/pyabc/sampler/multicore_evaluation_parallel.py\", line 24, in work\n",
      "    new_sim = simulate_one()\n",
      "  File \"/home/t/anaconda3/lib/python3.7/site-packages/pyabc/smc.py\", line 453, in simulate_one\n",
      "    t, theta, summary_statistics)\n",
      "Process Process-8:\n",
      "  File \"/home/t/anaconda3/lib/python3.7/site-packages/pyabc/model.py\", line 116, in summary_statistics\n",
      "    raw_data = self.sample(pars)\n",
      "Traceback (most recent call last):\n",
      "  File \"/home/t/anaconda3/lib/python3.7/site-packages/pyabc/model.py\", line 261, in sample\n",
      "    return self.sample_function(pars)\n",
      "  File \"/home/t/anaconda3/lib/python3.7/multiprocessing/process.py\", line 297, in _bootstrap\n",
      "    self.run()\n",
      "  File \"<ipython-input-4-fe8d3e4dfdf6>\", line 2, in model\n",
      "    return Main.generate_and_analyse(modelName, params)\n",
      "  File \"/home/t/anaconda3/lib/python3.7/multiprocessing/process.py\", line 99, in run\n",
      "    self._target(*self._args, **self._kwargs)\n",
      "  File \"/home/t/Documents/diss/CompiledApproach/treeMod8000/App/Models/Main.py\", line 107, in generate_and_analyse\n",
      "    tree_data = generate_model(filename, overrideParams, return_analysis=True)\n",
      "  File \"/home/t/anaconda3/lib/python3.7/site-packages/pyabc/sampler/multicore_evaluation_parallel.py\", line 24, in work\n",
      "    new_sim = simulate_one()\n",
      "  File \"/home/t/Documents/diss/CompiledApproach/treeMod8000/App/Models/Main.py\", line 6, in generate_model\n",
      "    Specification   = Parser.parse('Specifications/'+filename+'.txt', overrideParams)\n",
      "  File \"/home/t/anaconda3/lib/python3.7/site-packages/pyabc/smc.py\", line 453, in simulate_one\n",
      "    t, theta, summary_statistics)\n",
      "  File \"/home/t/Documents/diss/CompiledApproach/treeMod8000/App/Models/Parser.py\", line 208, in parse\n",
      "    Specification['sections'][agent]['rules'][int(id)][1] = [v]\n",
      "IndexError: list index out of range\n",
      "  File \"/home/t/anaconda3/lib/python3.7/site-packages/pyabc/model.py\", line 116, in summary_statistics\n",
      "    raw_data = self.sample(pars)\n",
      "  File \"/home/t/anaconda3/lib/python3.7/site-packages/pyabc/model.py\", line 261, in sample\n",
      "    return self.sample_function(pars)\n",
      "  File \"<ipython-input-4-fe8d3e4dfdf6>\", line 2, in model\n",
      "    return Main.generate_and_analyse(modelName, params)\n",
      "  File \"/home/t/Documents/diss/CompiledApproach/treeMod8000/App/Models/Main.py\", line 107, in generate_and_analyse\n",
      "    tree_data = generate_model(filename, overrideParams, return_analysis=True)\n",
      "  File \"/home/t/Documents/diss/CompiledApproach/treeMod8000/App/Models/Main.py\", line 6, in generate_model\n",
      "    Specification   = Parser.parse('Specifications/'+filename+'.txt', overrideParams)\n",
      "  File \"/home/t/Documents/diss/CompiledApproach/treeMod8000/App/Models/Parser.py\", line 208, in parse\n",
      "    Specification['sections'][agent]['rules'][int(id)][1] = [v]\n",
      "IndexError: list index out of range\n"
     ]
    },
    {
     "ename": "KeyboardInterrupt",
     "evalue": "",
     "output_type": "error",
     "traceback": [
      "\u001b[0;31m---------------------------------------------------------------------------\u001b[0m",
      "\u001b[0;31mKeyboardInterrupt\u001b[0m                         Traceback (most recent call last)",
      "\u001b[0;32m<ipython-input-12-e9a1e6c95e87>\u001b[0m in \u001b[0;36m<module>\u001b[0;34m()\u001b[0m\n\u001b[0;32m----> 1\u001b[0;31m \u001b[0mabc\u001b[0m\u001b[0;34m.\u001b[0m\u001b[0mnew\u001b[0m\u001b[0;34m(\u001b[0m\u001b[0mdb_path\u001b[0m\u001b[0;34m,\u001b[0m \u001b[0mtarget\u001b[0m\u001b[0;34m)\u001b[0m\u001b[0;34m\u001b[0m\u001b[0m\n\u001b[0m",
      "\u001b[0;32m~/anaconda3/lib/python3.7/site-packages/pyabc/smc.py\u001b[0m in \u001b[0;36mnew\u001b[0;34m(self, db, observed_sum_stat, gt_model, gt_par, meta_info)\u001b[0m\n\u001b[1;32m    362\u001b[0m \u001b[0;34m\u001b[0m\u001b[0m\n\u001b[1;32m    363\u001b[0m         \u001b[0;31m# sample from prior to calibrate distance function and epsilon\u001b[0m\u001b[0;34m\u001b[0m\u001b[0;34m\u001b[0m\u001b[0m\n\u001b[0;32m--> 364\u001b[0;31m         \u001b[0mself\u001b[0m\u001b[0;34m.\u001b[0m\u001b[0m_initialize_dist_and_eps\u001b[0m\u001b[0;34m(\u001b[0m\u001b[0mself\u001b[0m\u001b[0;34m.\u001b[0m\u001b[0mhistory\u001b[0m\u001b[0;34m.\u001b[0m\u001b[0mmax_t\u001b[0m \u001b[0;34m+\u001b[0m \u001b[0;36m1\u001b[0m\u001b[0;34m)\u001b[0m\u001b[0;34m\u001b[0m\u001b[0m\n\u001b[0m\u001b[1;32m    365\u001b[0m \u001b[0;34m\u001b[0m\u001b[0m\n\u001b[1;32m    366\u001b[0m         \u001b[0;31m# return id generated in store_initial_data\u001b[0m\u001b[0;34m\u001b[0m\u001b[0;34m\u001b[0m\u001b[0m\n",
      "\u001b[0;32m~/anaconda3/lib/python3.7/site-packages/pyabc/smc.py\u001b[0m in \u001b[0;36m_initialize_dist_and_eps\u001b[0;34m(self, t)\u001b[0m\n\u001b[1;32m    397\u001b[0m \u001b[0;34m\u001b[0m\u001b[0m\n\u001b[1;32m    398\u001b[0m             \u001b[0;31m# create dataframe from weights and new distances\u001b[0m\u001b[0;34m\u001b[0m\u001b[0;34m\u001b[0m\u001b[0m\n\u001b[0;32m--> 399\u001b[0;31m             \u001b[0mweights\u001b[0m\u001b[0;34m,\u001b[0m \u001b[0msum_stats\u001b[0m \u001b[0;34m=\u001b[0m \u001b[0mself\u001b[0m\u001b[0;34m.\u001b[0m\u001b[0m_get_initial_samples\u001b[0m\u001b[0;34m(\u001b[0m\u001b[0mt\u001b[0m\u001b[0;34m)\u001b[0m\u001b[0;34m\u001b[0m\u001b[0m\n\u001b[0m\u001b[1;32m    400\u001b[0m             \u001b[0mrows\u001b[0m \u001b[0;34m=\u001b[0m \u001b[0;34m[\u001b[0m\u001b[0;34m]\u001b[0m\u001b[0;34m\u001b[0m\u001b[0m\n\u001b[1;32m    401\u001b[0m             \u001b[0;32mfor\u001b[0m \u001b[0mi\u001b[0m \u001b[0;32min\u001b[0m \u001b[0mrange\u001b[0m\u001b[0;34m(\u001b[0m\u001b[0mlen\u001b[0m\u001b[0;34m(\u001b[0m\u001b[0mweights\u001b[0m\u001b[0;34m)\u001b[0m\u001b[0;34m)\u001b[0m\u001b[0;34m:\u001b[0m\u001b[0;34m\u001b[0m\u001b[0m\n",
      "\u001b[0;32m~/anaconda3/lib/python3.7/site-packages/pyabc/smc.py\u001b[0m in \u001b[0;36m_get_initial_samples\u001b[0;34m(self, t)\u001b[0m\n\u001b[1;32m    428\u001b[0m                 \u001b[0mself\u001b[0m\u001b[0;34m.\u001b[0m\u001b[0m_initial_sum_stats\u001b[0m \u001b[0;34m=\u001b[0m \u001b[0msum_stats\u001b[0m\u001b[0;34m\u001b[0m\u001b[0m\n\u001b[1;32m    429\u001b[0m             \u001b[0;32melse\u001b[0m\u001b[0;34m:\u001b[0m\u001b[0;34m\u001b[0m\u001b[0m\n\u001b[0;32m--> 430\u001b[0;31m                 \u001b[0mself\u001b[0m\u001b[0;34m.\u001b[0m\u001b[0m_initial_sum_stats\u001b[0m \u001b[0;34m=\u001b[0m \u001b[0mself\u001b[0m\u001b[0;34m.\u001b[0m\u001b[0m_sample_from_prior\u001b[0m\u001b[0;34m(\u001b[0m\u001b[0mt\u001b[0m\u001b[0;34m)\u001b[0m\u001b[0;34m\u001b[0m\u001b[0m\n\u001b[0m\u001b[1;32m    431\u001b[0m                 self._initial_weights = [1.0 / len(self._initial_sum_stats)\n\u001b[1;32m    432\u001b[0m                                          for _ in self._initial_sum_stats]\n",
      "\u001b[0;32m~/anaconda3/lib/python3.7/site-packages/pyabc/smc.py\u001b[0m in \u001b[0;36m_sample_from_prior\u001b[0;34m(self, t)\u001b[0m\n\u001b[1;32m    480\u001b[0m         \u001b[0;31m# call sampler\u001b[0m\u001b[0;34m\u001b[0m\u001b[0;34m\u001b[0m\u001b[0m\n\u001b[1;32m    481\u001b[0m         sample = self.sampler.sample_until_n_accepted(\n\u001b[0;32m--> 482\u001b[0;31m             self.population_strategy.nr_particles, simulate_one)\n\u001b[0m\u001b[1;32m    483\u001b[0m \u001b[0;34m\u001b[0m\u001b[0m\n\u001b[1;32m    484\u001b[0m         \u001b[0;31m# return all generated summary statistics\u001b[0m\u001b[0;34m\u001b[0m\u001b[0;34m\u001b[0m\u001b[0m\n",
      "\u001b[0;32m~/anaconda3/lib/python3.7/site-packages/pyabc/sampler/multicore_evaluation_parallel.py\u001b[0m in \u001b[0;36msample_until_n_accepted\u001b[0;34m(self, n, simulate_one)\u001b[0m\n\u001b[1;32m    109\u001b[0m         \u001b[0mn_done\u001b[0m \u001b[0;34m=\u001b[0m \u001b[0;36m0\u001b[0m\u001b[0;34m\u001b[0m\u001b[0m\n\u001b[1;32m    110\u001b[0m         \u001b[0;32mwhile\u001b[0m \u001b[0mn_done\u001b[0m \u001b[0;34m<\u001b[0m \u001b[0mlen\u001b[0m\u001b[0;34m(\u001b[0m\u001b[0mprocesses\u001b[0m\u001b[0;34m)\u001b[0m\u001b[0;34m:\u001b[0m\u001b[0;34m\u001b[0m\u001b[0m\n\u001b[0;32m--> 111\u001b[0;31m             \u001b[0mval\u001b[0m \u001b[0;34m=\u001b[0m \u001b[0mget_if_worker_healthy\u001b[0m\u001b[0;34m(\u001b[0m\u001b[0mprocesses\u001b[0m\u001b[0;34m,\u001b[0m \u001b[0mqueue\u001b[0m\u001b[0;34m)\u001b[0m\u001b[0;34m\u001b[0m\u001b[0m\n\u001b[0m\u001b[1;32m    112\u001b[0m             \u001b[0;32mif\u001b[0m \u001b[0mval\u001b[0m \u001b[0;34m==\u001b[0m \u001b[0mDONE\u001b[0m\u001b[0;34m:\u001b[0m\u001b[0;34m\u001b[0m\u001b[0m\n\u001b[1;32m    113\u001b[0m                 \u001b[0mn_done\u001b[0m \u001b[0;34m+=\u001b[0m \u001b[0;36m1\u001b[0m\u001b[0;34m\u001b[0m\u001b[0m\n",
      "\u001b[0;32m~/anaconda3/lib/python3.7/site-packages/pyabc/sampler/multicorebase.py\u001b[0m in \u001b[0;36mget_if_worker_healthy\u001b[0;34m(workers, queue)\u001b[0m\n\u001b[1;32m     51\u001b[0m     \u001b[0;32mwhile\u001b[0m \u001b[0;32mTrue\u001b[0m\u001b[0;34m:\u001b[0m\u001b[0;34m\u001b[0m\u001b[0m\n\u001b[1;32m     52\u001b[0m         \u001b[0;32mtry\u001b[0m\u001b[0;34m:\u001b[0m\u001b[0;34m\u001b[0m\u001b[0m\n\u001b[0;32m---> 53\u001b[0;31m             \u001b[0mitem\u001b[0m \u001b[0;34m=\u001b[0m \u001b[0mqueue\u001b[0m\u001b[0;34m.\u001b[0m\u001b[0mget\u001b[0m\u001b[0;34m(\u001b[0m\u001b[0;32mTrue\u001b[0m\u001b[0;34m,\u001b[0m \u001b[0;36m5\u001b[0m\u001b[0;34m)\u001b[0m\u001b[0;34m\u001b[0m\u001b[0m\n\u001b[0m\u001b[1;32m     54\u001b[0m             \u001b[0;32mreturn\u001b[0m \u001b[0mitem\u001b[0m\u001b[0;34m\u001b[0m\u001b[0m\n\u001b[1;32m     55\u001b[0m         \u001b[0;32mexcept\u001b[0m \u001b[0mEmpty\u001b[0m\u001b[0;34m:\u001b[0m\u001b[0;34m\u001b[0m\u001b[0m\n",
      "\u001b[0;32m~/anaconda3/lib/python3.7/multiprocessing/queues.py\u001b[0m in \u001b[0;36mget\u001b[0;34m(self, block, timeout)\u001b[0m\n\u001b[1;32m    102\u001b[0m                 \u001b[0;32mif\u001b[0m \u001b[0mblock\u001b[0m\u001b[0;34m:\u001b[0m\u001b[0;34m\u001b[0m\u001b[0m\n\u001b[1;32m    103\u001b[0m                     \u001b[0mtimeout\u001b[0m \u001b[0;34m=\u001b[0m \u001b[0mdeadline\u001b[0m \u001b[0;34m-\u001b[0m \u001b[0mtime\u001b[0m\u001b[0;34m.\u001b[0m\u001b[0mtime\u001b[0m\u001b[0;34m(\u001b[0m\u001b[0;34m)\u001b[0m\u001b[0;34m\u001b[0m\u001b[0m\n\u001b[0;32m--> 104\u001b[0;31m                     \u001b[0;32mif\u001b[0m \u001b[0;32mnot\u001b[0m \u001b[0mself\u001b[0m\u001b[0;34m.\u001b[0m\u001b[0m_poll\u001b[0m\u001b[0;34m(\u001b[0m\u001b[0mtimeout\u001b[0m\u001b[0;34m)\u001b[0m\u001b[0;34m:\u001b[0m\u001b[0;34m\u001b[0m\u001b[0m\n\u001b[0m\u001b[1;32m    105\u001b[0m                         \u001b[0;32mraise\u001b[0m \u001b[0mEmpty\u001b[0m\u001b[0;34m\u001b[0m\u001b[0m\n\u001b[1;32m    106\u001b[0m                 \u001b[0;32melif\u001b[0m \u001b[0;32mnot\u001b[0m \u001b[0mself\u001b[0m\u001b[0;34m.\u001b[0m\u001b[0m_poll\u001b[0m\u001b[0;34m(\u001b[0m\u001b[0;34m)\u001b[0m\u001b[0;34m:\u001b[0m\u001b[0;34m\u001b[0m\u001b[0m\n",
      "\u001b[0;32m~/anaconda3/lib/python3.7/multiprocessing/connection.py\u001b[0m in \u001b[0;36mpoll\u001b[0;34m(self, timeout)\u001b[0m\n\u001b[1;32m    255\u001b[0m         \u001b[0mself\u001b[0m\u001b[0;34m.\u001b[0m\u001b[0m_check_closed\u001b[0m\u001b[0;34m(\u001b[0m\u001b[0;34m)\u001b[0m\u001b[0;34m\u001b[0m\u001b[0m\n\u001b[1;32m    256\u001b[0m         \u001b[0mself\u001b[0m\u001b[0;34m.\u001b[0m\u001b[0m_check_readable\u001b[0m\u001b[0;34m(\u001b[0m\u001b[0;34m)\u001b[0m\u001b[0;34m\u001b[0m\u001b[0m\n\u001b[0;32m--> 257\u001b[0;31m         \u001b[0;32mreturn\u001b[0m \u001b[0mself\u001b[0m\u001b[0;34m.\u001b[0m\u001b[0m_poll\u001b[0m\u001b[0;34m(\u001b[0m\u001b[0mtimeout\u001b[0m\u001b[0;34m)\u001b[0m\u001b[0;34m\u001b[0m\u001b[0m\n\u001b[0m\u001b[1;32m    258\u001b[0m \u001b[0;34m\u001b[0m\u001b[0m\n\u001b[1;32m    259\u001b[0m     \u001b[0;32mdef\u001b[0m \u001b[0m__enter__\u001b[0m\u001b[0;34m(\u001b[0m\u001b[0mself\u001b[0m\u001b[0;34m)\u001b[0m\u001b[0;34m:\u001b[0m\u001b[0;34m\u001b[0m\u001b[0m\n",
      "\u001b[0;32m~/anaconda3/lib/python3.7/multiprocessing/connection.py\u001b[0m in \u001b[0;36m_poll\u001b[0;34m(self, timeout)\u001b[0m\n\u001b[1;32m    412\u001b[0m \u001b[0;34m\u001b[0m\u001b[0m\n\u001b[1;32m    413\u001b[0m     \u001b[0;32mdef\u001b[0m \u001b[0m_poll\u001b[0m\u001b[0;34m(\u001b[0m\u001b[0mself\u001b[0m\u001b[0;34m,\u001b[0m \u001b[0mtimeout\u001b[0m\u001b[0;34m)\u001b[0m\u001b[0;34m:\u001b[0m\u001b[0;34m\u001b[0m\u001b[0m\n\u001b[0;32m--> 414\u001b[0;31m         \u001b[0mr\u001b[0m \u001b[0;34m=\u001b[0m \u001b[0mwait\u001b[0m\u001b[0;34m(\u001b[0m\u001b[0;34m[\u001b[0m\u001b[0mself\u001b[0m\u001b[0;34m]\u001b[0m\u001b[0;34m,\u001b[0m \u001b[0mtimeout\u001b[0m\u001b[0;34m)\u001b[0m\u001b[0;34m\u001b[0m\u001b[0m\n\u001b[0m\u001b[1;32m    415\u001b[0m         \u001b[0;32mreturn\u001b[0m \u001b[0mbool\u001b[0m\u001b[0;34m(\u001b[0m\u001b[0mr\u001b[0m\u001b[0;34m)\u001b[0m\u001b[0;34m\u001b[0m\u001b[0m\n\u001b[1;32m    416\u001b[0m \u001b[0;34m\u001b[0m\u001b[0m\n",
      "\u001b[0;32m~/anaconda3/lib/python3.7/multiprocessing/connection.py\u001b[0m in \u001b[0;36mwait\u001b[0;34m(object_list, timeout)\u001b[0m\n\u001b[1;32m    918\u001b[0m \u001b[0;34m\u001b[0m\u001b[0m\n\u001b[1;32m    919\u001b[0m             \u001b[0;32mwhile\u001b[0m \u001b[0;32mTrue\u001b[0m\u001b[0;34m:\u001b[0m\u001b[0;34m\u001b[0m\u001b[0m\n\u001b[0;32m--> 920\u001b[0;31m                 \u001b[0mready\u001b[0m \u001b[0;34m=\u001b[0m \u001b[0mselector\u001b[0m\u001b[0;34m.\u001b[0m\u001b[0mselect\u001b[0m\u001b[0;34m(\u001b[0m\u001b[0mtimeout\u001b[0m\u001b[0;34m)\u001b[0m\u001b[0;34m\u001b[0m\u001b[0m\n\u001b[0m\u001b[1;32m    921\u001b[0m                 \u001b[0;32mif\u001b[0m \u001b[0mready\u001b[0m\u001b[0;34m:\u001b[0m\u001b[0;34m\u001b[0m\u001b[0m\n\u001b[1;32m    922\u001b[0m                     \u001b[0;32mreturn\u001b[0m \u001b[0;34m[\u001b[0m\u001b[0mkey\u001b[0m\u001b[0;34m.\u001b[0m\u001b[0mfileobj\u001b[0m \u001b[0;32mfor\u001b[0m \u001b[0;34m(\u001b[0m\u001b[0mkey\u001b[0m\u001b[0;34m,\u001b[0m \u001b[0mevents\u001b[0m\u001b[0;34m)\u001b[0m \u001b[0;32min\u001b[0m \u001b[0mready\u001b[0m\u001b[0;34m]\u001b[0m\u001b[0;34m\u001b[0m\u001b[0m\n",
      "\u001b[0;32m~/anaconda3/lib/python3.7/selectors.py\u001b[0m in \u001b[0;36mselect\u001b[0;34m(self, timeout)\u001b[0m\n\u001b[1;32m    413\u001b[0m         \u001b[0mready\u001b[0m \u001b[0;34m=\u001b[0m \u001b[0;34m[\u001b[0m\u001b[0;34m]\u001b[0m\u001b[0;34m\u001b[0m\u001b[0m\n\u001b[1;32m    414\u001b[0m         \u001b[0;32mtry\u001b[0m\u001b[0;34m:\u001b[0m\u001b[0;34m\u001b[0m\u001b[0m\n\u001b[0;32m--> 415\u001b[0;31m             \u001b[0mfd_event_list\u001b[0m \u001b[0;34m=\u001b[0m \u001b[0mself\u001b[0m\u001b[0;34m.\u001b[0m\u001b[0m_selector\u001b[0m\u001b[0;34m.\u001b[0m\u001b[0mpoll\u001b[0m\u001b[0;34m(\u001b[0m\u001b[0mtimeout\u001b[0m\u001b[0;34m)\u001b[0m\u001b[0;34m\u001b[0m\u001b[0m\n\u001b[0m\u001b[1;32m    416\u001b[0m         \u001b[0;32mexcept\u001b[0m \u001b[0mInterruptedError\u001b[0m\u001b[0;34m:\u001b[0m\u001b[0;34m\u001b[0m\u001b[0m\n\u001b[1;32m    417\u001b[0m             \u001b[0;32mreturn\u001b[0m \u001b[0mready\u001b[0m\u001b[0;34m\u001b[0m\u001b[0m\n",
      "\u001b[0;31mKeyboardInterrupt\u001b[0m: "
     ]
    }
   ],
   "source": [
    "abc.new(db_path, target_metrics)"
   ]
  },
  {
   "cell_type": "code",
   "execution_count": null,
   "metadata": {},
   "outputs": [],
   "source": [
    "history = abc.run(minimum_epsilon=0.1, max_nr_populations=10)"
   ]
  },
  {
   "cell_type": "code",
   "execution_count": null,
   "metadata": {},
   "outputs": [],
   "source": [
    "# Visualise results\n",
    "from pyabc.visualization import plot_kde_1d\n",
    "for (k,v) in metrics.items():\n",
    "    fig, ax = plt.subplots()\n",
    "    for t in range(history.max_t, history.max_t+1):\n",
    "        df, w = history.get_distribution(m=0, t=t)\n",
    "        plot_kde_1d(df, w,\n",
    "                    xmin=v[0], xmax=v[1],\n",
    "                    x=k, ax=ax,\n",
    "                    label=\"PDF t={}\".format(t))\n",
    "    ax.legend();"
   ]
  },
  {
   "cell_type": "code",
   "execution_count": null,
   "metadata": {},
   "outputs": [],
   "source": [
    "# Fitting the other one"
   ]
  },
  {
   "cell_type": "code",
   "execution_count": 61,
   "metadata": {},
   "outputs": [],
   "source": [
    "target_metrics = Main.generate_and_analyse('rules_test_2', {})"
   ]
  },
  {
   "cell_type": "code",
   "execution_count": 9,
   "metadata": {},
   "outputs": [],
   "source": [
    "abc = ABCSMC(model, prior, distance)"
   ]
  },
  {
   "cell_type": "code",
   "execution_count": 10,
   "metadata": {},
   "outputs": [],
   "source": [
    "db_path = (\"sqlite:///\" + os.path.join(tempfile.gettempdir(), \"test.db\"))"
   ]
  },
  {
   "cell_type": "code",
   "execution_count": 12,
   "metadata": {},
   "outputs": [
    {
     "name": "stderr",
     "output_type": "stream",
     "text": [
      "INFO:History:Start <ABCSMC(id=6, start_time=2019-04-16 10:32:56.912896, end_time=None)>\n",
      "Process Process-1:\n",
      "Process Process-2:\n",
      "Traceback (most recent call last):\n",
      "  File \"/home/t/anaconda3/lib/python3.7/multiprocessing/process.py\", line 297, in _bootstrap\n",
      "    self.run()\n",
      "  File \"/home/t/anaconda3/lib/python3.7/multiprocessing/process.py\", line 99, in run\n",
      "    self._target(*self._args, **self._kwargs)\n",
      "Traceback (most recent call last):\n",
      "Process Process-3:\n",
      "  File \"/home/t/anaconda3/lib/python3.7/site-packages/pyabc/sampler/multicore_evaluation_parallel.py\", line 24, in work\n",
      "    new_sim = simulate_one()\n",
      "  File \"/home/t/anaconda3/lib/python3.7/multiprocessing/process.py\", line 297, in _bootstrap\n",
      "    self.run()\n",
      "  File \"/home/t/anaconda3/lib/python3.7/site-packages/pyabc/smc.py\", line 453, in simulate_one\n",
      "    t, theta, summary_statistics)\n",
      "Traceback (most recent call last):\n",
      "Process Process-4:\n",
      "  File \"/home/t/anaconda3/lib/python3.7/site-packages/pyabc/model.py\", line 116, in summary_statistics\n",
      "    raw_data = self.sample(pars)\n",
      "  File \"/home/t/anaconda3/lib/python3.7/multiprocessing/process.py\", line 99, in run\n",
      "    self._target(*self._args, **self._kwargs)\n",
      "  File \"/home/t/anaconda3/lib/python3.7/multiprocessing/process.py\", line 297, in _bootstrap\n",
      "    self.run()\n",
      "Traceback (most recent call last):\n",
      "  File \"/home/t/anaconda3/lib/python3.7/multiprocessing/process.py\", line 297, in _bootstrap\n",
      "    self.run()\n",
      "  File \"/home/t/anaconda3/lib/python3.7/site-packages/pyabc/model.py\", line 261, in sample\n",
      "    return self.sample_function(pars)\n",
      "  File \"/home/t/anaconda3/lib/python3.7/multiprocessing/process.py\", line 99, in run\n",
      "    self._target(*self._args, **self._kwargs)\n",
      "  File \"/home/t/anaconda3/lib/python3.7/site-packages/pyabc/sampler/multicore_evaluation_parallel.py\", line 24, in work\n",
      "    new_sim = simulate_one()\n",
      "  File \"<ipython-input-4-fe8d3e4dfdf6>\", line 2, in model\n",
      "    return Main.generate_and_analyse(modelName, params)\n",
      "Process Process-5:\n",
      "  File \"/home/t/anaconda3/lib/python3.7/multiprocessing/process.py\", line 99, in run\n",
      "    self._target(*self._args, **self._kwargs)\n",
      "  File \"/home/t/anaconda3/lib/python3.7/site-packages/pyabc/sampler/multicore_evaluation_parallel.py\", line 24, in work\n",
      "    new_sim = simulate_one()\n",
      "  File \"/home/t/anaconda3/lib/python3.7/site-packages/pyabc/smc.py\", line 453, in simulate_one\n",
      "    t, theta, summary_statistics)\n",
      "  File \"/home/t/anaconda3/lib/python3.7/site-packages/pyabc/sampler/multicore_evaluation_parallel.py\", line 24, in work\n",
      "    new_sim = simulate_one()\n",
      "  File \"/home/t/anaconda3/lib/python3.7/site-packages/pyabc/model.py\", line 116, in summary_statistics\n",
      "    raw_data = self.sample(pars)\n",
      "  File \"/home/t/anaconda3/lib/python3.7/site-packages/pyabc/smc.py\", line 453, in simulate_one\n",
      "    t, theta, summary_statistics)\n",
      "  File \"/home/t/anaconda3/lib/python3.7/site-packages/pyabc/smc.py\", line 453, in simulate_one\n",
      "    t, theta, summary_statistics)\n",
      "  File \"/home/t/anaconda3/lib/python3.7/site-packages/pyabc/model.py\", line 261, in sample\n",
      "    return self.sample_function(pars)\n",
      "  File \"/home/t/anaconda3/lib/python3.7/site-packages/pyabc/model.py\", line 116, in summary_statistics\n",
      "    raw_data = self.sample(pars)\n",
      "  File \"/home/t/Documents/diss/CompiledApproach/treeMod8000/App/Models/Main.py\", line 107, in generate_and_analyse\n",
      "    tree_data = generate_model(filename, overrideParams, return_analysis=True)\n",
      "Traceback (most recent call last):\n",
      "  File \"/home/t/anaconda3/lib/python3.7/site-packages/pyabc/model.py\", line 116, in summary_statistics\n",
      "    raw_data = self.sample(pars)\n",
      "  File \"/home/t/anaconda3/lib/python3.7/site-packages/pyabc/model.py\", line 261, in sample\n",
      "    return self.sample_function(pars)\n",
      "  File \"<ipython-input-4-fe8d3e4dfdf6>\", line 2, in model\n",
      "    return Main.generate_and_analyse(modelName, params)\n",
      "  File \"/home/t/Documents/diss/CompiledApproach/treeMod8000/App/Models/Main.py\", line 107, in generate_and_analyse\n",
      "    tree_data = generate_model(filename, overrideParams, return_analysis=True)\n",
      "  File \"<ipython-input-4-fe8d3e4dfdf6>\", line 2, in model\n",
      "    return Main.generate_and_analyse(modelName, params)\n",
      "  File \"/home/t/anaconda3/lib/python3.7/site-packages/pyabc/model.py\", line 261, in sample\n",
      "    return self.sample_function(pars)\n",
      "Process Process-6:\n",
      "  File \"/home/t/Documents/diss/CompiledApproach/treeMod8000/App/Models/Main.py\", line 6, in generate_model\n",
      "    Specification   = Parser.parse('Specifications/'+filename+'.txt', overrideParams)\n",
      "  File \"/home/t/anaconda3/lib/python3.7/multiprocessing/process.py\", line 297, in _bootstrap\n",
      "    self.run()\n",
      "  File \"<ipython-input-4-fe8d3e4dfdf6>\", line 2, in model\n",
      "    return Main.generate_and_analyse(modelName, params)\n",
      "  File \"/home/t/Documents/diss/CompiledApproach/treeMod8000/App/Models/Main.py\", line 6, in generate_model\n",
      "    Specification   = Parser.parse('Specifications/'+filename+'.txt', overrideParams)\n",
      "  File \"/home/t/Documents/diss/CompiledApproach/treeMod8000/App/Models/Parser.py\", line 208, in parse\n",
      "    Specification['sections'][agent]['rules'][int(id)][1] = [v]\n",
      "Traceback (most recent call last):\n",
      "  File \"/home/t/Documents/diss/CompiledApproach/treeMod8000/App/Models/Main.py\", line 107, in generate_and_analyse\n",
      "    tree_data = generate_model(filename, overrideParams, return_analysis=True)\n",
      "  File \"/home/t/anaconda3/lib/python3.7/multiprocessing/process.py\", line 99, in run\n",
      "    self._target(*self._args, **self._kwargs)\n",
      "  File \"/home/t/Documents/diss/CompiledApproach/treeMod8000/App/Models/Main.py\", line 107, in generate_and_analyse\n",
      "    tree_data = generate_model(filename, overrideParams, return_analysis=True)\n",
      "IndexError: list index out of range\n",
      "  File \"/home/t/Documents/diss/CompiledApproach/treeMod8000/App/Models/Main.py\", line 6, in generate_model\n",
      "    Specification   = Parser.parse('Specifications/'+filename+'.txt', overrideParams)\n",
      "  File \"/home/t/Documents/diss/CompiledApproach/treeMod8000/App/Models/Main.py\", line 6, in generate_model\n",
      "    Specification   = Parser.parse('Specifications/'+filename+'.txt', overrideParams)\n",
      "  File \"/home/t/Documents/diss/CompiledApproach/treeMod8000/App/Models/Parser.py\", line 208, in parse\n",
      "    Specification['sections'][agent]['rules'][int(id)][1] = [v]\n",
      "  File \"/home/t/anaconda3/lib/python3.7/site-packages/pyabc/sampler/multicore_evaluation_parallel.py\", line 24, in work\n",
      "    new_sim = simulate_one()\n",
      "  File \"/home/t/Documents/diss/CompiledApproach/treeMod8000/App/Models/Parser.py\", line 208, in parse\n",
      "    Specification['sections'][agent]['rules'][int(id)][1] = [v]\n",
      "  File \"/home/t/anaconda3/lib/python3.7/multiprocessing/process.py\", line 297, in _bootstrap\n",
      "    self.run()\n",
      "  File \"/home/t/Documents/diss/CompiledApproach/treeMod8000/App/Models/Parser.py\", line 208, in parse\n",
      "    Specification['sections'][agent]['rules'][int(id)][1] = [v]\n",
      "  File \"/home/t/anaconda3/lib/python3.7/multiprocessing/process.py\", line 99, in run\n",
      "    self._target(*self._args, **self._kwargs)\n",
      "  File \"/home/t/anaconda3/lib/python3.7/site-packages/pyabc/smc.py\", line 453, in simulate_one\n",
      "    t, theta, summary_statistics)\n",
      "IndexError: list index out of range\n",
      "IndexError: list index out of range\n",
      "  File \"/home/t/anaconda3/lib/python3.7/site-packages/pyabc/sampler/multicore_evaluation_parallel.py\", line 24, in work\n",
      "    new_sim = simulate_one()\n",
      "IndexError: list index out of range\n",
      "  File \"/home/t/anaconda3/lib/python3.7/site-packages/pyabc/model.py\", line 116, in summary_statistics\n",
      "    raw_data = self.sample(pars)\n",
      "  File \"/home/t/anaconda3/lib/python3.7/site-packages/pyabc/model.py\", line 261, in sample\n",
      "    return self.sample_function(pars)\n",
      "  File \"<ipython-input-4-fe8d3e4dfdf6>\", line 2, in model\n",
      "    return Main.generate_and_analyse(modelName, params)\n",
      "  File \"/home/t/Documents/diss/CompiledApproach/treeMod8000/App/Models/Main.py\", line 107, in generate_and_analyse\n",
      "    tree_data = generate_model(filename, overrideParams, return_analysis=True)\n",
      "  File \"/home/t/Documents/diss/CompiledApproach/treeMod8000/App/Models/Main.py\", line 6, in generate_model\n",
      "    Specification   = Parser.parse('Specifications/'+filename+'.txt', overrideParams)\n",
      "  File \"/home/t/Documents/diss/CompiledApproach/treeMod8000/App/Models/Parser.py\", line 208, in parse\n",
      "    Specification['sections'][agent]['rules'][int(id)][1] = [v]\n",
      "  File \"/home/t/anaconda3/lib/python3.7/site-packages/pyabc/smc.py\", line 453, in simulate_one\n",
      "    t, theta, summary_statistics)\n"
     ]
    },
    {
     "name": "stderr",
     "output_type": "stream",
     "text": [
      "  File \"/home/t/anaconda3/lib/python3.7/site-packages/pyabc/model.py\", line 116, in summary_statistics\n",
      "    raw_data = self.sample(pars)\n",
      "IndexError: list index out of range\n",
      "  File \"/home/t/anaconda3/lib/python3.7/site-packages/pyabc/model.py\", line 261, in sample\n",
      "    return self.sample_function(pars)\n",
      "  File \"<ipython-input-4-fe8d3e4dfdf6>\", line 2, in model\n",
      "    return Main.generate_and_analyse(modelName, params)\n",
      "  File \"/home/t/Documents/diss/CompiledApproach/treeMod8000/App/Models/Main.py\", line 107, in generate_and_analyse\n",
      "    tree_data = generate_model(filename, overrideParams, return_analysis=True)\n",
      "  File \"/home/t/Documents/diss/CompiledApproach/treeMod8000/App/Models/Main.py\", line 6, in generate_model\n",
      "    Specification   = Parser.parse('Specifications/'+filename+'.txt', overrideParams)\n",
      "  File \"/home/t/Documents/diss/CompiledApproach/treeMod8000/App/Models/Parser.py\", line 208, in parse\n",
      "    Specification['sections'][agent]['rules'][int(id)][1] = [v]\n",
      "IndexError: list index out of range\n",
      "Process Process-7:\n",
      "Traceback (most recent call last):\n",
      "  File \"/home/t/anaconda3/lib/python3.7/multiprocessing/process.py\", line 297, in _bootstrap\n",
      "    self.run()\n",
      "  File \"/home/t/anaconda3/lib/python3.7/multiprocessing/process.py\", line 99, in run\n",
      "    self._target(*self._args, **self._kwargs)\n",
      "  File \"/home/t/anaconda3/lib/python3.7/site-packages/pyabc/sampler/multicore_evaluation_parallel.py\", line 24, in work\n",
      "    new_sim = simulate_one()\n",
      "  File \"/home/t/anaconda3/lib/python3.7/site-packages/pyabc/smc.py\", line 453, in simulate_one\n",
      "    t, theta, summary_statistics)\n",
      "Process Process-8:\n",
      "  File \"/home/t/anaconda3/lib/python3.7/site-packages/pyabc/model.py\", line 116, in summary_statistics\n",
      "    raw_data = self.sample(pars)\n",
      "Traceback (most recent call last):\n",
      "  File \"/home/t/anaconda3/lib/python3.7/site-packages/pyabc/model.py\", line 261, in sample\n",
      "    return self.sample_function(pars)\n",
      "  File \"/home/t/anaconda3/lib/python3.7/multiprocessing/process.py\", line 297, in _bootstrap\n",
      "    self.run()\n",
      "  File \"<ipython-input-4-fe8d3e4dfdf6>\", line 2, in model\n",
      "    return Main.generate_and_analyse(modelName, params)\n",
      "  File \"/home/t/anaconda3/lib/python3.7/multiprocessing/process.py\", line 99, in run\n",
      "    self._target(*self._args, **self._kwargs)\n",
      "  File \"/home/t/Documents/diss/CompiledApproach/treeMod8000/App/Models/Main.py\", line 107, in generate_and_analyse\n",
      "    tree_data = generate_model(filename, overrideParams, return_analysis=True)\n",
      "  File \"/home/t/anaconda3/lib/python3.7/site-packages/pyabc/sampler/multicore_evaluation_parallel.py\", line 24, in work\n",
      "    new_sim = simulate_one()\n",
      "  File \"/home/t/Documents/diss/CompiledApproach/treeMod8000/App/Models/Main.py\", line 6, in generate_model\n",
      "    Specification   = Parser.parse('Specifications/'+filename+'.txt', overrideParams)\n",
      "  File \"/home/t/anaconda3/lib/python3.7/site-packages/pyabc/smc.py\", line 453, in simulate_one\n",
      "    t, theta, summary_statistics)\n",
      "  File \"/home/t/Documents/diss/CompiledApproach/treeMod8000/App/Models/Parser.py\", line 208, in parse\n",
      "    Specification['sections'][agent]['rules'][int(id)][1] = [v]\n",
      "IndexError: list index out of range\n",
      "  File \"/home/t/anaconda3/lib/python3.7/site-packages/pyabc/model.py\", line 116, in summary_statistics\n",
      "    raw_data = self.sample(pars)\n",
      "  File \"/home/t/anaconda3/lib/python3.7/site-packages/pyabc/model.py\", line 261, in sample\n",
      "    return self.sample_function(pars)\n",
      "  File \"<ipython-input-4-fe8d3e4dfdf6>\", line 2, in model\n",
      "    return Main.generate_and_analyse(modelName, params)\n",
      "  File \"/home/t/Documents/diss/CompiledApproach/treeMod8000/App/Models/Main.py\", line 107, in generate_and_analyse\n",
      "    tree_data = generate_model(filename, overrideParams, return_analysis=True)\n",
      "  File \"/home/t/Documents/diss/CompiledApproach/treeMod8000/App/Models/Main.py\", line 6, in generate_model\n",
      "    Specification   = Parser.parse('Specifications/'+filename+'.txt', overrideParams)\n",
      "  File \"/home/t/Documents/diss/CompiledApproach/treeMod8000/App/Models/Parser.py\", line 208, in parse\n",
      "    Specification['sections'][agent]['rules'][int(id)][1] = [v]\n",
      "IndexError: list index out of range\n"
     ]
    },
    {
     "ename": "KeyboardInterrupt",
     "evalue": "",
     "output_type": "error",
     "traceback": [
      "\u001b[0;31m---------------------------------------------------------------------------\u001b[0m",
      "\u001b[0;31mKeyboardInterrupt\u001b[0m                         Traceback (most recent call last)",
      "\u001b[0;32m<ipython-input-12-e9a1e6c95e87>\u001b[0m in \u001b[0;36m<module>\u001b[0;34m()\u001b[0m\n\u001b[0;32m----> 1\u001b[0;31m \u001b[0mabc\u001b[0m\u001b[0;34m.\u001b[0m\u001b[0mnew\u001b[0m\u001b[0;34m(\u001b[0m\u001b[0mdb_path\u001b[0m\u001b[0;34m,\u001b[0m \u001b[0mtarget\u001b[0m\u001b[0;34m)\u001b[0m\u001b[0;34m\u001b[0m\u001b[0m\n\u001b[0m",
      "\u001b[0;32m~/anaconda3/lib/python3.7/site-packages/pyabc/smc.py\u001b[0m in \u001b[0;36mnew\u001b[0;34m(self, db, observed_sum_stat, gt_model, gt_par, meta_info)\u001b[0m\n\u001b[1;32m    362\u001b[0m \u001b[0;34m\u001b[0m\u001b[0m\n\u001b[1;32m    363\u001b[0m         \u001b[0;31m# sample from prior to calibrate distance function and epsilon\u001b[0m\u001b[0;34m\u001b[0m\u001b[0;34m\u001b[0m\u001b[0m\n\u001b[0;32m--> 364\u001b[0;31m         \u001b[0mself\u001b[0m\u001b[0;34m.\u001b[0m\u001b[0m_initialize_dist_and_eps\u001b[0m\u001b[0;34m(\u001b[0m\u001b[0mself\u001b[0m\u001b[0;34m.\u001b[0m\u001b[0mhistory\u001b[0m\u001b[0;34m.\u001b[0m\u001b[0mmax_t\u001b[0m \u001b[0;34m+\u001b[0m \u001b[0;36m1\u001b[0m\u001b[0;34m)\u001b[0m\u001b[0;34m\u001b[0m\u001b[0m\n\u001b[0m\u001b[1;32m    365\u001b[0m \u001b[0;34m\u001b[0m\u001b[0m\n\u001b[1;32m    366\u001b[0m         \u001b[0;31m# return id generated in store_initial_data\u001b[0m\u001b[0;34m\u001b[0m\u001b[0;34m\u001b[0m\u001b[0m\n",
      "\u001b[0;32m~/anaconda3/lib/python3.7/site-packages/pyabc/smc.py\u001b[0m in \u001b[0;36m_initialize_dist_and_eps\u001b[0;34m(self, t)\u001b[0m\n\u001b[1;32m    397\u001b[0m \u001b[0;34m\u001b[0m\u001b[0m\n\u001b[1;32m    398\u001b[0m             \u001b[0;31m# create dataframe from weights and new distances\u001b[0m\u001b[0;34m\u001b[0m\u001b[0;34m\u001b[0m\u001b[0m\n\u001b[0;32m--> 399\u001b[0;31m             \u001b[0mweights\u001b[0m\u001b[0;34m,\u001b[0m \u001b[0msum_stats\u001b[0m \u001b[0;34m=\u001b[0m \u001b[0mself\u001b[0m\u001b[0;34m.\u001b[0m\u001b[0m_get_initial_samples\u001b[0m\u001b[0;34m(\u001b[0m\u001b[0mt\u001b[0m\u001b[0;34m)\u001b[0m\u001b[0;34m\u001b[0m\u001b[0m\n\u001b[0m\u001b[1;32m    400\u001b[0m             \u001b[0mrows\u001b[0m \u001b[0;34m=\u001b[0m \u001b[0;34m[\u001b[0m\u001b[0;34m]\u001b[0m\u001b[0;34m\u001b[0m\u001b[0m\n\u001b[1;32m    401\u001b[0m             \u001b[0;32mfor\u001b[0m \u001b[0mi\u001b[0m \u001b[0;32min\u001b[0m \u001b[0mrange\u001b[0m\u001b[0;34m(\u001b[0m\u001b[0mlen\u001b[0m\u001b[0;34m(\u001b[0m\u001b[0mweights\u001b[0m\u001b[0;34m)\u001b[0m\u001b[0;34m)\u001b[0m\u001b[0;34m:\u001b[0m\u001b[0;34m\u001b[0m\u001b[0m\n",
      "\u001b[0;32m~/anaconda3/lib/python3.7/site-packages/pyabc/smc.py\u001b[0m in \u001b[0;36m_get_initial_samples\u001b[0;34m(self, t)\u001b[0m\n\u001b[1;32m    428\u001b[0m                 \u001b[0mself\u001b[0m\u001b[0;34m.\u001b[0m\u001b[0m_initial_sum_stats\u001b[0m \u001b[0;34m=\u001b[0m \u001b[0msum_stats\u001b[0m\u001b[0;34m\u001b[0m\u001b[0m\n\u001b[1;32m    429\u001b[0m             \u001b[0;32melse\u001b[0m\u001b[0;34m:\u001b[0m\u001b[0;34m\u001b[0m\u001b[0m\n\u001b[0;32m--> 430\u001b[0;31m                 \u001b[0mself\u001b[0m\u001b[0;34m.\u001b[0m\u001b[0m_initial_sum_stats\u001b[0m \u001b[0;34m=\u001b[0m \u001b[0mself\u001b[0m\u001b[0;34m.\u001b[0m\u001b[0m_sample_from_prior\u001b[0m\u001b[0;34m(\u001b[0m\u001b[0mt\u001b[0m\u001b[0;34m)\u001b[0m\u001b[0;34m\u001b[0m\u001b[0m\n\u001b[0m\u001b[1;32m    431\u001b[0m                 self._initial_weights = [1.0 / len(self._initial_sum_stats)\n\u001b[1;32m    432\u001b[0m                                          for _ in self._initial_sum_stats]\n",
      "\u001b[0;32m~/anaconda3/lib/python3.7/site-packages/pyabc/smc.py\u001b[0m in \u001b[0;36m_sample_from_prior\u001b[0;34m(self, t)\u001b[0m\n\u001b[1;32m    480\u001b[0m         \u001b[0;31m# call sampler\u001b[0m\u001b[0;34m\u001b[0m\u001b[0;34m\u001b[0m\u001b[0m\n\u001b[1;32m    481\u001b[0m         sample = self.sampler.sample_until_n_accepted(\n\u001b[0;32m--> 482\u001b[0;31m             self.population_strategy.nr_particles, simulate_one)\n\u001b[0m\u001b[1;32m    483\u001b[0m \u001b[0;34m\u001b[0m\u001b[0m\n\u001b[1;32m    484\u001b[0m         \u001b[0;31m# return all generated summary statistics\u001b[0m\u001b[0;34m\u001b[0m\u001b[0;34m\u001b[0m\u001b[0m\n",
      "\u001b[0;32m~/anaconda3/lib/python3.7/site-packages/pyabc/sampler/multicore_evaluation_parallel.py\u001b[0m in \u001b[0;36msample_until_n_accepted\u001b[0;34m(self, n, simulate_one)\u001b[0m\n\u001b[1;32m    109\u001b[0m         \u001b[0mn_done\u001b[0m \u001b[0;34m=\u001b[0m \u001b[0;36m0\u001b[0m\u001b[0;34m\u001b[0m\u001b[0m\n\u001b[1;32m    110\u001b[0m         \u001b[0;32mwhile\u001b[0m \u001b[0mn_done\u001b[0m \u001b[0;34m<\u001b[0m \u001b[0mlen\u001b[0m\u001b[0;34m(\u001b[0m\u001b[0mprocesses\u001b[0m\u001b[0;34m)\u001b[0m\u001b[0;34m:\u001b[0m\u001b[0;34m\u001b[0m\u001b[0m\n\u001b[0;32m--> 111\u001b[0;31m             \u001b[0mval\u001b[0m \u001b[0;34m=\u001b[0m \u001b[0mget_if_worker_healthy\u001b[0m\u001b[0;34m(\u001b[0m\u001b[0mprocesses\u001b[0m\u001b[0;34m,\u001b[0m \u001b[0mqueue\u001b[0m\u001b[0;34m)\u001b[0m\u001b[0;34m\u001b[0m\u001b[0m\n\u001b[0m\u001b[1;32m    112\u001b[0m             \u001b[0;32mif\u001b[0m \u001b[0mval\u001b[0m \u001b[0;34m==\u001b[0m \u001b[0mDONE\u001b[0m\u001b[0;34m:\u001b[0m\u001b[0;34m\u001b[0m\u001b[0m\n\u001b[1;32m    113\u001b[0m                 \u001b[0mn_done\u001b[0m \u001b[0;34m+=\u001b[0m \u001b[0;36m1\u001b[0m\u001b[0;34m\u001b[0m\u001b[0m\n",
      "\u001b[0;32m~/anaconda3/lib/python3.7/site-packages/pyabc/sampler/multicorebase.py\u001b[0m in \u001b[0;36mget_if_worker_healthy\u001b[0;34m(workers, queue)\u001b[0m\n\u001b[1;32m     51\u001b[0m     \u001b[0;32mwhile\u001b[0m \u001b[0;32mTrue\u001b[0m\u001b[0;34m:\u001b[0m\u001b[0;34m\u001b[0m\u001b[0m\n\u001b[1;32m     52\u001b[0m         \u001b[0;32mtry\u001b[0m\u001b[0;34m:\u001b[0m\u001b[0;34m\u001b[0m\u001b[0m\n\u001b[0;32m---> 53\u001b[0;31m             \u001b[0mitem\u001b[0m \u001b[0;34m=\u001b[0m \u001b[0mqueue\u001b[0m\u001b[0;34m.\u001b[0m\u001b[0mget\u001b[0m\u001b[0;34m(\u001b[0m\u001b[0;32mTrue\u001b[0m\u001b[0;34m,\u001b[0m \u001b[0;36m5\u001b[0m\u001b[0;34m)\u001b[0m\u001b[0;34m\u001b[0m\u001b[0m\n\u001b[0m\u001b[1;32m     54\u001b[0m             \u001b[0;32mreturn\u001b[0m \u001b[0mitem\u001b[0m\u001b[0;34m\u001b[0m\u001b[0m\n\u001b[1;32m     55\u001b[0m         \u001b[0;32mexcept\u001b[0m \u001b[0mEmpty\u001b[0m\u001b[0;34m:\u001b[0m\u001b[0;34m\u001b[0m\u001b[0m\n",
      "\u001b[0;32m~/anaconda3/lib/python3.7/multiprocessing/queues.py\u001b[0m in \u001b[0;36mget\u001b[0;34m(self, block, timeout)\u001b[0m\n\u001b[1;32m    102\u001b[0m                 \u001b[0;32mif\u001b[0m \u001b[0mblock\u001b[0m\u001b[0;34m:\u001b[0m\u001b[0;34m\u001b[0m\u001b[0m\n\u001b[1;32m    103\u001b[0m                     \u001b[0mtimeout\u001b[0m \u001b[0;34m=\u001b[0m \u001b[0mdeadline\u001b[0m \u001b[0;34m-\u001b[0m \u001b[0mtime\u001b[0m\u001b[0;34m.\u001b[0m\u001b[0mtime\u001b[0m\u001b[0;34m(\u001b[0m\u001b[0;34m)\u001b[0m\u001b[0;34m\u001b[0m\u001b[0m\n\u001b[0;32m--> 104\u001b[0;31m                     \u001b[0;32mif\u001b[0m \u001b[0;32mnot\u001b[0m \u001b[0mself\u001b[0m\u001b[0;34m.\u001b[0m\u001b[0m_poll\u001b[0m\u001b[0;34m(\u001b[0m\u001b[0mtimeout\u001b[0m\u001b[0;34m)\u001b[0m\u001b[0;34m:\u001b[0m\u001b[0;34m\u001b[0m\u001b[0m\n\u001b[0m\u001b[1;32m    105\u001b[0m                         \u001b[0;32mraise\u001b[0m \u001b[0mEmpty\u001b[0m\u001b[0;34m\u001b[0m\u001b[0m\n\u001b[1;32m    106\u001b[0m                 \u001b[0;32melif\u001b[0m \u001b[0;32mnot\u001b[0m \u001b[0mself\u001b[0m\u001b[0;34m.\u001b[0m\u001b[0m_poll\u001b[0m\u001b[0;34m(\u001b[0m\u001b[0;34m)\u001b[0m\u001b[0;34m:\u001b[0m\u001b[0;34m\u001b[0m\u001b[0m\n",
      "\u001b[0;32m~/anaconda3/lib/python3.7/multiprocessing/connection.py\u001b[0m in \u001b[0;36mpoll\u001b[0;34m(self, timeout)\u001b[0m\n\u001b[1;32m    255\u001b[0m         \u001b[0mself\u001b[0m\u001b[0;34m.\u001b[0m\u001b[0m_check_closed\u001b[0m\u001b[0;34m(\u001b[0m\u001b[0;34m)\u001b[0m\u001b[0;34m\u001b[0m\u001b[0m\n\u001b[1;32m    256\u001b[0m         \u001b[0mself\u001b[0m\u001b[0;34m.\u001b[0m\u001b[0m_check_readable\u001b[0m\u001b[0;34m(\u001b[0m\u001b[0;34m)\u001b[0m\u001b[0;34m\u001b[0m\u001b[0m\n\u001b[0;32m--> 257\u001b[0;31m         \u001b[0;32mreturn\u001b[0m \u001b[0mself\u001b[0m\u001b[0;34m.\u001b[0m\u001b[0m_poll\u001b[0m\u001b[0;34m(\u001b[0m\u001b[0mtimeout\u001b[0m\u001b[0;34m)\u001b[0m\u001b[0;34m\u001b[0m\u001b[0m\n\u001b[0m\u001b[1;32m    258\u001b[0m \u001b[0;34m\u001b[0m\u001b[0m\n\u001b[1;32m    259\u001b[0m     \u001b[0;32mdef\u001b[0m \u001b[0m__enter__\u001b[0m\u001b[0;34m(\u001b[0m\u001b[0mself\u001b[0m\u001b[0;34m)\u001b[0m\u001b[0;34m:\u001b[0m\u001b[0;34m\u001b[0m\u001b[0m\n",
      "\u001b[0;32m~/anaconda3/lib/python3.7/multiprocessing/connection.py\u001b[0m in \u001b[0;36m_poll\u001b[0;34m(self, timeout)\u001b[0m\n\u001b[1;32m    412\u001b[0m \u001b[0;34m\u001b[0m\u001b[0m\n\u001b[1;32m    413\u001b[0m     \u001b[0;32mdef\u001b[0m \u001b[0m_poll\u001b[0m\u001b[0;34m(\u001b[0m\u001b[0mself\u001b[0m\u001b[0;34m,\u001b[0m \u001b[0mtimeout\u001b[0m\u001b[0;34m)\u001b[0m\u001b[0;34m:\u001b[0m\u001b[0;34m\u001b[0m\u001b[0m\n\u001b[0;32m--> 414\u001b[0;31m         \u001b[0mr\u001b[0m \u001b[0;34m=\u001b[0m \u001b[0mwait\u001b[0m\u001b[0;34m(\u001b[0m\u001b[0;34m[\u001b[0m\u001b[0mself\u001b[0m\u001b[0;34m]\u001b[0m\u001b[0;34m,\u001b[0m \u001b[0mtimeout\u001b[0m\u001b[0;34m)\u001b[0m\u001b[0;34m\u001b[0m\u001b[0m\n\u001b[0m\u001b[1;32m    415\u001b[0m         \u001b[0;32mreturn\u001b[0m \u001b[0mbool\u001b[0m\u001b[0;34m(\u001b[0m\u001b[0mr\u001b[0m\u001b[0;34m)\u001b[0m\u001b[0;34m\u001b[0m\u001b[0m\n\u001b[1;32m    416\u001b[0m \u001b[0;34m\u001b[0m\u001b[0m\n",
      "\u001b[0;32m~/anaconda3/lib/python3.7/multiprocessing/connection.py\u001b[0m in \u001b[0;36mwait\u001b[0;34m(object_list, timeout)\u001b[0m\n\u001b[1;32m    918\u001b[0m \u001b[0;34m\u001b[0m\u001b[0m\n\u001b[1;32m    919\u001b[0m             \u001b[0;32mwhile\u001b[0m \u001b[0;32mTrue\u001b[0m\u001b[0;34m:\u001b[0m\u001b[0;34m\u001b[0m\u001b[0m\n\u001b[0;32m--> 920\u001b[0;31m                 \u001b[0mready\u001b[0m \u001b[0;34m=\u001b[0m \u001b[0mselector\u001b[0m\u001b[0;34m.\u001b[0m\u001b[0mselect\u001b[0m\u001b[0;34m(\u001b[0m\u001b[0mtimeout\u001b[0m\u001b[0;34m)\u001b[0m\u001b[0;34m\u001b[0m\u001b[0m\n\u001b[0m\u001b[1;32m    921\u001b[0m                 \u001b[0;32mif\u001b[0m \u001b[0mready\u001b[0m\u001b[0;34m:\u001b[0m\u001b[0;34m\u001b[0m\u001b[0m\n\u001b[1;32m    922\u001b[0m                     \u001b[0;32mreturn\u001b[0m \u001b[0;34m[\u001b[0m\u001b[0mkey\u001b[0m\u001b[0;34m.\u001b[0m\u001b[0mfileobj\u001b[0m \u001b[0;32mfor\u001b[0m \u001b[0;34m(\u001b[0m\u001b[0mkey\u001b[0m\u001b[0;34m,\u001b[0m \u001b[0mevents\u001b[0m\u001b[0;34m)\u001b[0m \u001b[0;32min\u001b[0m \u001b[0mready\u001b[0m\u001b[0;34m]\u001b[0m\u001b[0;34m\u001b[0m\u001b[0m\n",
      "\u001b[0;32m~/anaconda3/lib/python3.7/selectors.py\u001b[0m in \u001b[0;36mselect\u001b[0;34m(self, timeout)\u001b[0m\n\u001b[1;32m    413\u001b[0m         \u001b[0mready\u001b[0m \u001b[0;34m=\u001b[0m \u001b[0;34m[\u001b[0m\u001b[0;34m]\u001b[0m\u001b[0;34m\u001b[0m\u001b[0m\n\u001b[1;32m    414\u001b[0m         \u001b[0;32mtry\u001b[0m\u001b[0;34m:\u001b[0m\u001b[0;34m\u001b[0m\u001b[0m\n\u001b[0;32m--> 415\u001b[0;31m             \u001b[0mfd_event_list\u001b[0m \u001b[0;34m=\u001b[0m \u001b[0mself\u001b[0m\u001b[0;34m.\u001b[0m\u001b[0m_selector\u001b[0m\u001b[0;34m.\u001b[0m\u001b[0mpoll\u001b[0m\u001b[0;34m(\u001b[0m\u001b[0mtimeout\u001b[0m\u001b[0;34m)\u001b[0m\u001b[0;34m\u001b[0m\u001b[0m\n\u001b[0m\u001b[1;32m    416\u001b[0m         \u001b[0;32mexcept\u001b[0m \u001b[0mInterruptedError\u001b[0m\u001b[0;34m:\u001b[0m\u001b[0;34m\u001b[0m\u001b[0m\n\u001b[1;32m    417\u001b[0m             \u001b[0;32mreturn\u001b[0m \u001b[0mready\u001b[0m\u001b[0;34m\u001b[0m\u001b[0m\n",
      "\u001b[0;31mKeyboardInterrupt\u001b[0m: "
     ]
    }
   ],
   "source": [
    "abc.new(db_path, target_metrics)"
   ]
  },
  {
   "cell_type": "code",
   "execution_count": null,
   "metadata": {},
   "outputs": [],
   "source": [
    "history = abc.run(minimum_epsilon=0.1, max_nr_populations=10)"
   ]
  },
  {
   "cell_type": "code",
   "execution_count": 62,
   "metadata": {},
   "outputs": [
    {
     "ename": "NameError",
     "evalue": "name 'history' is not defined",
     "output_type": "error",
     "traceback": [
      "\u001b[0;31m---------------------------------------------------------------------------\u001b[0m",
      "\u001b[0;31mNameError\u001b[0m                                 Traceback (most recent call last)",
      "\u001b[0;32m<ipython-input-62-8d33fe16e950>\u001b[0m in \u001b[0;36m<module>\u001b[0;34m()\u001b[0m\n\u001b[1;32m      3\u001b[0m \u001b[0;32mfor\u001b[0m \u001b[0;34m(\u001b[0m\u001b[0mk\u001b[0m\u001b[0;34m,\u001b[0m\u001b[0mv\u001b[0m\u001b[0;34m)\u001b[0m \u001b[0;32min\u001b[0m \u001b[0mmetrics\u001b[0m\u001b[0;34m.\u001b[0m\u001b[0mitems\u001b[0m\u001b[0;34m(\u001b[0m\u001b[0;34m)\u001b[0m\u001b[0;34m:\u001b[0m\u001b[0;34m\u001b[0m\u001b[0m\n\u001b[1;32m      4\u001b[0m     \u001b[0mfig\u001b[0m\u001b[0;34m,\u001b[0m \u001b[0max\u001b[0m \u001b[0;34m=\u001b[0m \u001b[0mplt\u001b[0m\u001b[0;34m.\u001b[0m\u001b[0msubplots\u001b[0m\u001b[0;34m(\u001b[0m\u001b[0;34m)\u001b[0m\u001b[0;34m\u001b[0m\u001b[0m\n\u001b[0;32m----> 5\u001b[0;31m     \u001b[0;32mfor\u001b[0m \u001b[0mt\u001b[0m \u001b[0;32min\u001b[0m \u001b[0mrange\u001b[0m\u001b[0;34m(\u001b[0m\u001b[0mhistory\u001b[0m\u001b[0;34m.\u001b[0m\u001b[0mmax_t\u001b[0m\u001b[0;34m,\u001b[0m \u001b[0mhistory\u001b[0m\u001b[0;34m.\u001b[0m\u001b[0mmax_t\u001b[0m\u001b[0;34m+\u001b[0m\u001b[0;36m1\u001b[0m\u001b[0;34m)\u001b[0m\u001b[0;34m:\u001b[0m\u001b[0;34m\u001b[0m\u001b[0m\n\u001b[0m\u001b[1;32m      6\u001b[0m         \u001b[0mdf\u001b[0m\u001b[0;34m,\u001b[0m \u001b[0mw\u001b[0m \u001b[0;34m=\u001b[0m \u001b[0mhistory\u001b[0m\u001b[0;34m.\u001b[0m\u001b[0mget_distribution\u001b[0m\u001b[0;34m(\u001b[0m\u001b[0mm\u001b[0m\u001b[0;34m=\u001b[0m\u001b[0;36m0\u001b[0m\u001b[0;34m,\u001b[0m \u001b[0mt\u001b[0m\u001b[0;34m=\u001b[0m\u001b[0mt\u001b[0m\u001b[0;34m)\u001b[0m\u001b[0;34m\u001b[0m\u001b[0m\n\u001b[1;32m      7\u001b[0m         plot_kde_1d(df, w,\n",
      "\u001b[0;31mNameError\u001b[0m: name 'history' is not defined"
     ]
    },
    {
     "data": {
      "image/png": "[encoded data removed]",
      "text/plain": [
       "<Figure size 432x288 with 1 Axes>"
      ]
     },
     "metadata": {
      "needs_background": "light"
     },
     "output_type": "display_data"
    }
   ],
   "source": [
    "# Visualise results\n",
    "from pyabc.visualization import plot_kde_1d\n",
    "for (k,v) in metrics.items():\n",
    "    fig, ax = plt.subplots()\n",
    "    for t in range(history.max_t, history.max_t+1):\n",
    "        df, w = history.get_distribution(m=0, t=t)\n",
    "        plot_kde_1d(df, w,\n",
    "                    xmin=v[0], xmax=v[1],\n",
    "                    x=k, ax=ax,\n",
    "                    label=\"PDF t={}\".format(t))\n",
    "    ax.legend();"
   ]
  }
 ],
 "metadata": {
  "kernelspec": {
   "display_name": "Python 3",
   "language": "python",
   "name": "python3"
  },
  "language_info": {
   "codemirror_mode": {
    "name": "ipython",
    "version": 3
   },
   "file_extension": ".py",
   "mimetype": "text/x-python",
   "name": "python",
   "nbconvert_exporter": "python",
   "pygments_lexer": "ipython3",
   "version": "3.7.0"
  }
 },
 "nbformat": 4,
 "nbformat_minor": 2
}
