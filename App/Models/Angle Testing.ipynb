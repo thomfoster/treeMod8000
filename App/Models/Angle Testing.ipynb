{
 "cells": [
  {
   "cell_type": "code",
   "execution_count": 1,
   "metadata": {},
   "outputs": [],
   "source": [
    "import Main"
   ]
  },
  {
   "cell_type": "code",
   "execution_count": 2,
   "metadata": {},
   "outputs": [],
   "source": [
    "import Parser, Analyser, Deriver, Interpreter"
   ]
  },
  {
   "cell_type": "code",
   "execution_count": 3,
   "metadata": {},
   "outputs": [],
   "source": [
    "Spec = Parser.parse(\"Specifications/dereffye.txt\", {})"
   ]
  },
  {
   "cell_type": "code",
   "execution_count": 4,
   "metadata": {},
   "outputs": [],
   "source": [
    "t1 = Main.generate_and_analyse('dereffye', {})"
   ]
  },
  {
   "cell_type": "code",
   "execution_count": 5,
   "metadata": {},
   "outputs": [
    {
     "data": {
      "text/plain": [
       "{'parentAngle_mean': 21.04582451961608,\n",
       " 'parentAngle_variance': 21.802346524587552,\n",
       " 'length_mean': 0.40177397956178673,\n",
       " 'length_variance': 0.3406647796430229,\n",
       " 'verticalOrientation_mean': 63.94589286991141,\n",
       " 'verticalOrientation_variance': 33.23925946863364,\n",
       " 'horizontalOrientation_mean': 162.7201831871492,\n",
       " 'horizontalOrientation_variance': 102.07345457594393,\n",
       " 'q1_xyz': (4.4, 18.324723121016504, 8.097330904744634),\n",
       " 'q2_xyz': (28.44446288357348, 17.655525799415347, 34.56986526546127),\n",
       " 'q3_xyz': (29.54292645163006, 18.257976830146205, 37.229426541077544),\n",
       " 'xyz': (30.18561990495226, 56.34223590495414, 42.475772313370335),\n",
       " 'trunk_length': 10.0,\n",
       " 'totalBiomass': 616.4483076295205}"
      ]
     },
     "execution_count": 5,
     "metadata": {},
     "output_type": "execute_result"
    }
   ],
   "source": [
    "t1"
   ]
  },
  {
   "cell_type": "code",
   "execution_count": 6,
   "metadata": {},
   "outputs": [],
   "source": [
    "ax = Spec['axiom']"
   ]
  },
  {
   "cell_type": "code",
   "execution_count": 7,
   "metadata": {},
   "outputs": [],
   "source": [
    "n = 5"
   ]
  },
  {
   "cell_type": "code",
   "execution_count": 8,
   "metadata": {},
   "outputs": [],
   "source": [
    "tree = [ax]"
   ]
  },
  {
   "cell_type": "code",
   "execution_count": 9,
   "metadata": {},
   "outputs": [
    {
     "data": {
      "text/plain": [
       "[<Cell.Sig at 0x7f4f60533470>,\n",
       " '[',\n",
       " '>',\n",
       " '+',\n",
       " <Cell.Sig at 0x7f4f601206d8>,\n",
       " ']',\n",
       " '+',\n",
       " <Cell.Sig at 0x7f4f60120710>,\n",
       " '[',\n",
       " '>',\n",
       " '+',\n",
       " <Cell.Sig at 0x7f4f60120748>,\n",
       " ']',\n",
       " '+',\n",
       " '[',\n",
       " '>',\n",
       " '+',\n",
       " <Cell.Sig at 0x7f4f60120780>,\n",
       " ']',\n",
       " '+',\n",
       " <Cell.Sig at 0x7f4f60120828>]"
      ]
     },
     "execution_count": 9,
     "metadata": {},
     "output_type": "execute_result"
    }
   ],
   "source": [
    "tree = Deriver.derive(tree, 1)\n",
    "tree"
   ]
  },
  {
   "cell_type": "code",
   "execution_count": 10,
   "metadata": {},
   "outputs": [],
   "source": [
    "vxs = Interpreter.interpret(tree, True)"
   ]
  },
  {
   "cell_type": "code",
   "execution_count": null,
   "metadata": {},
   "outputs": [],
   "source": []
  }
 ],
 "metadata": {
  "kernelspec": {
   "display_name": "Python 3",
   "language": "python",
   "name": "python3"
  },
  "language_info": {
   "codemirror_mode": {
    "name": "ipython",
    "version": 3
   },
   "file_extension": ".py",
   "mimetype": "text/x-python",
   "name": "python",
   "nbconvert_exporter": "python",
   "pygments_lexer": "ipython3",
   "version": "3.7.0"
  }
 },
 "nbformat": 4,
 "nbformat_minor": 2
}
